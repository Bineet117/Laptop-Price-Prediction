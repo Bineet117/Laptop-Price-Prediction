{
 "cells": [
  {
   "cell_type": "markdown",
   "id": "bec8aa05",
   "metadata": {},
   "source": [
    "<table align=\"center\" width=110%>\n",
    "    <tr>\n",
    "        <td>\n",
    "            <div align=\"center\">\n",
    "                <font color=\"#21618C\" size=6px>\n",
    "                    <b>\n",
    "                        LAPTOP PRICE PREDICTION\n",
    "        <br>\n",
    "                    </b>\n",
    "                </font>\n",
    "            </div>\n",
    "        </td>\n",
    "    </tr>\n",
    "</table>"
   ]
  },
  {
   "cell_type": "markdown",
   "id": "8bb18277",
   "metadata": {},
   "source": [
    "# Abstract\n",
    "In today's dynamic market, accurately predicting laptop prices is crucial for both consumers and sellers. This study aims to develop a data-driven approach utilizing machine learning algorithms to forecast laptop prices effectively. By analyzing various attributes such as brand, specifications, market trends, and technological advancements, the proposed model seeks to provide reliable price predictions. The objective is to empower stakeholders with actionable insights for decision-making, including purchasing, pricing strategies, inventory management, and product development."
   ]
  },
  {
   "cell_type": "markdown",
   "id": "2c34c4aa",
   "metadata": {},
   "source": [
    "# Problem Statement\n",
    "The laptop market is characterized by a multitude of factors influencing prices, including brand reputation, hardware specifications, market demand, and technological advancements. However, accurately forecasting laptop prices remains challenging due to the complexity and variability of these factors. Traditional pricing methods often lack precision and fail to adapt to evolving market dynamics. Therefore, there is a critical need for a data-driven approach leveraging machine learning algorithms to develop a robust predictive model capable of generating accurate price forecasts for laptops."
   ]
  },
  {
   "cell_type": "markdown",
   "id": "8d2458d3",
   "metadata": {},
   "source": [
    "# Dataset Description\n",
    "\n",
    "1. Company : Name of the Company\n",
    "\n",
    "2. TypeName : Type of laptop('Notebook', 'Gaming', 'Ultrabook', '2 in 1 Convertible', 'Workstation',\n",
    "       'Netbook')\n",
    "\n",
    "3. Inches : Size of the laptop(floating value)\n",
    "\n",
    "4. ScreenResolution : The resolution of the laptop screen.\n",
    "\n",
    "5. Cpu : The processor (CPU) specifications of the laptop.\n",
    "\n",
    "6. Ram : The amount of RAM (random-access memory) in the laptop.\n",
    "\n",
    "7. Memory : The storage capacity or type of memory (e.g., SSD, HDD) in the laptop.\n",
    "\n",
    "8. Gpu : The graphics processor (GPU) specifications of the laptop.\n",
    "\n",
    "9. OpSys : The operating system installed on the laptop.\n",
    "\n",
    "10. Weight : The weight of the laptop, usually in kilograms or pounds.\n",
    "\n",
    "11. Price : The price of the laptop, which is the target variable for prediction."
   ]
  },
  {
   "cell_type": "markdown",
   "id": "afa38dcf",
   "metadata": {},
   "source": [
    "# Libraries"
   ]
  },
  {
   "cell_type": "code",
   "execution_count": 1,
   "id": "c1678876",
   "metadata": {},
   "outputs": [],
   "source": [
    "# import 'Pandas' \n",
    "import pandas as pd \n",
    "\n",
    "# import 'Numpy' \n",
    "import numpy as np\n",
    "\n",
    "# import 'math'\n",
    "import math\n",
    "\n",
    "# import subpackage of 'Matplotlib'\n",
    "import matplotlib.pyplot as plt\n",
    "%matplotlib inline\n",
    "from matplotlib.colors import ListedColormap\n",
    "\n",
    "# import 'Seaborn' \n",
    "import seaborn as sns\n",
    "\n",
    "# to suppress warnings \n",
    "from warnings import filterwarnings\n",
    "filterwarnings('ignore')\n",
    "\n",
    "# display all columns of the dataframe\n",
    "pd.options.display.max_columns = None\n",
    "\n",
    "# display all rows of the dataframe\n",
    "pd.options.display.max_rows = None"
   ]
  },
  {
   "cell_type": "markdown",
   "id": "dd166b39",
   "metadata": {},
   "source": [
    "# Load Dataset"
   ]
  },
  {
   "cell_type": "code",
   "execution_count": 2,
   "id": "130a8d57",
   "metadata": {},
   "outputs": [],
   "source": [
    "data = pd.read_csv(\"laptop_data.csv\")"
   ]
  },
  {
   "cell_type": "code",
   "execution_count": 3,
   "id": "4a1203fe",
   "metadata": {},
   "outputs": [
    {
     "data": {
      "text/html": [
       "<div>\n",
       "<style scoped>\n",
       "    .dataframe tbody tr th:only-of-type {\n",
       "        vertical-align: middle;\n",
       "    }\n",
       "\n",
       "    .dataframe tbody tr th {\n",
       "        vertical-align: top;\n",
       "    }\n",
       "\n",
       "    .dataframe thead th {\n",
       "        text-align: right;\n",
       "    }\n",
       "</style>\n",
       "<table border=\"1\" class=\"dataframe\">\n",
       "  <thead>\n",
       "    <tr style=\"text-align: right;\">\n",
       "      <th></th>\n",
       "      <th>Unnamed: 0</th>\n",
       "      <th>Company</th>\n",
       "      <th>TypeName</th>\n",
       "      <th>Inches</th>\n",
       "      <th>ScreenResolution</th>\n",
       "      <th>Cpu</th>\n",
       "      <th>Ram</th>\n",
       "      <th>Memory</th>\n",
       "      <th>Gpu</th>\n",
       "      <th>OpSys</th>\n",
       "      <th>Weight</th>\n",
       "      <th>Price</th>\n",
       "    </tr>\n",
       "  </thead>\n",
       "  <tbody>\n",
       "    <tr>\n",
       "      <th>0</th>\n",
       "      <td>0</td>\n",
       "      <td>Apple</td>\n",
       "      <td>Ultrabook</td>\n",
       "      <td>13.3</td>\n",
       "      <td>IPS Panel Retina Display 2560x1600</td>\n",
       "      <td>Intel Core i5 2.3GHz</td>\n",
       "      <td>8GB</td>\n",
       "      <td>128GB SSD</td>\n",
       "      <td>Intel Iris Plus Graphics 640</td>\n",
       "      <td>macOS</td>\n",
       "      <td>1.37kg</td>\n",
       "      <td>71378.6832</td>\n",
       "    </tr>\n",
       "    <tr>\n",
       "      <th>1</th>\n",
       "      <td>1</td>\n",
       "      <td>Apple</td>\n",
       "      <td>Ultrabook</td>\n",
       "      <td>13.3</td>\n",
       "      <td>1440x900</td>\n",
       "      <td>Intel Core i5 1.8GHz</td>\n",
       "      <td>8GB</td>\n",
       "      <td>128GB Flash Storage</td>\n",
       "      <td>Intel HD Graphics 6000</td>\n",
       "      <td>macOS</td>\n",
       "      <td>1.34kg</td>\n",
       "      <td>47895.5232</td>\n",
       "    </tr>\n",
       "    <tr>\n",
       "      <th>2</th>\n",
       "      <td>2</td>\n",
       "      <td>HP</td>\n",
       "      <td>Notebook</td>\n",
       "      <td>15.6</td>\n",
       "      <td>Full HD 1920x1080</td>\n",
       "      <td>Intel Core i5 7200U 2.5GHz</td>\n",
       "      <td>8GB</td>\n",
       "      <td>256GB SSD</td>\n",
       "      <td>Intel HD Graphics 620</td>\n",
       "      <td>No OS</td>\n",
       "      <td>1.86kg</td>\n",
       "      <td>30636.0000</td>\n",
       "    </tr>\n",
       "    <tr>\n",
       "      <th>3</th>\n",
       "      <td>3</td>\n",
       "      <td>Apple</td>\n",
       "      <td>Ultrabook</td>\n",
       "      <td>15.4</td>\n",
       "      <td>IPS Panel Retina Display 2880x1800</td>\n",
       "      <td>Intel Core i7 2.7GHz</td>\n",
       "      <td>16GB</td>\n",
       "      <td>512GB SSD</td>\n",
       "      <td>AMD Radeon Pro 455</td>\n",
       "      <td>macOS</td>\n",
       "      <td>1.83kg</td>\n",
       "      <td>135195.3360</td>\n",
       "    </tr>\n",
       "    <tr>\n",
       "      <th>4</th>\n",
       "      <td>4</td>\n",
       "      <td>Apple</td>\n",
       "      <td>Ultrabook</td>\n",
       "      <td>13.3</td>\n",
       "      <td>IPS Panel Retina Display 2560x1600</td>\n",
       "      <td>Intel Core i5 3.1GHz</td>\n",
       "      <td>8GB</td>\n",
       "      <td>256GB SSD</td>\n",
       "      <td>Intel Iris Plus Graphics 650</td>\n",
       "      <td>macOS</td>\n",
       "      <td>1.37kg</td>\n",
       "      <td>96095.8080</td>\n",
       "    </tr>\n",
       "  </tbody>\n",
       "</table>\n",
       "</div>"
      ],
      "text/plain": [
       "   Unnamed: 0 Company   TypeName  Inches                    ScreenResolution  \\\n",
       "0           0   Apple  Ultrabook    13.3  IPS Panel Retina Display 2560x1600   \n",
       "1           1   Apple  Ultrabook    13.3                            1440x900   \n",
       "2           2      HP   Notebook    15.6                   Full HD 1920x1080   \n",
       "3           3   Apple  Ultrabook    15.4  IPS Panel Retina Display 2880x1800   \n",
       "4           4   Apple  Ultrabook    13.3  IPS Panel Retina Display 2560x1600   \n",
       "\n",
       "                          Cpu   Ram               Memory  \\\n",
       "0        Intel Core i5 2.3GHz   8GB            128GB SSD   \n",
       "1        Intel Core i5 1.8GHz   8GB  128GB Flash Storage   \n",
       "2  Intel Core i5 7200U 2.5GHz   8GB            256GB SSD   \n",
       "3        Intel Core i7 2.7GHz  16GB            512GB SSD   \n",
       "4        Intel Core i5 3.1GHz   8GB            256GB SSD   \n",
       "\n",
       "                            Gpu  OpSys  Weight        Price  \n",
       "0  Intel Iris Plus Graphics 640  macOS  1.37kg   71378.6832  \n",
       "1        Intel HD Graphics 6000  macOS  1.34kg   47895.5232  \n",
       "2         Intel HD Graphics 620  No OS  1.86kg   30636.0000  \n",
       "3            AMD Radeon Pro 455  macOS  1.83kg  135195.3360  \n",
       "4  Intel Iris Plus Graphics 650  macOS  1.37kg   96095.8080  "
      ]
     },
     "execution_count": 3,
     "metadata": {},
     "output_type": "execute_result"
    }
   ],
   "source": [
    "data.head()"
   ]
  },
  {
   "cell_type": "markdown",
   "id": "5e0397eb",
   "metadata": {},
   "source": [
    "# Data Preprocessing"
   ]
  },
  {
   "cell_type": "markdown",
   "id": "a47e8307",
   "metadata": {},
   "source": [
    "## Check the Dataset and Null Values"
   ]
  },
  {
   "cell_type": "code",
   "execution_count": 4,
   "id": "b6800f1a",
   "metadata": {},
   "outputs": [
    {
     "name": "stdout",
     "output_type": "stream",
     "text": [
      "<class 'pandas.core.frame.DataFrame'>\n",
      "RangeIndex: 1303 entries, 0 to 1302\n",
      "Data columns (total 12 columns):\n",
      " #   Column            Non-Null Count  Dtype  \n",
      "---  ------            --------------  -----  \n",
      " 0   Unnamed: 0        1303 non-null   int64  \n",
      " 1   Company           1303 non-null   object \n",
      " 2   TypeName          1303 non-null   object \n",
      " 3   Inches            1303 non-null   float64\n",
      " 4   ScreenResolution  1303 non-null   object \n",
      " 5   Cpu               1303 non-null   object \n",
      " 6   Ram               1303 non-null   object \n",
      " 7   Memory            1303 non-null   object \n",
      " 8   Gpu               1303 non-null   object \n",
      " 9   OpSys             1303 non-null   object \n",
      " 10  Weight            1303 non-null   object \n",
      " 11  Price             1303 non-null   float64\n",
      "dtypes: float64(2), int64(1), object(9)\n",
      "memory usage: 122.3+ KB\n"
     ]
    }
   ],
   "source": [
    "data.info()"
   ]
  },
  {
   "cell_type": "markdown",
   "id": "3153f4c4",
   "metadata": {},
   "source": [
    "#### Shape of the Dataset"
   ]
  },
  {
   "cell_type": "code",
   "execution_count": 5,
   "id": "6742ae69",
   "metadata": {},
   "outputs": [
    {
     "data": {
      "text/plain": [
       "(1303, 12)"
      ]
     },
     "execution_count": 5,
     "metadata": {},
     "output_type": "execute_result"
    }
   ],
   "source": [
    "data.shape"
   ]
  },
  {
   "cell_type": "markdown",
   "id": "ba0a3458",
   "metadata": {},
   "source": [
    "#### Checking Null values"
   ]
  },
  {
   "cell_type": "code",
   "execution_count": 6,
   "id": "3f0ccaae",
   "metadata": {},
   "outputs": [
    {
     "name": "stdout",
     "output_type": "stream",
     "text": [
      "Unnamed: 0          0\n",
      "Company             0\n",
      "TypeName            0\n",
      "Inches              0\n",
      "ScreenResolution    0\n",
      "Cpu                 0\n",
      "Ram                 0\n",
      "Memory              0\n",
      "Gpu                 0\n",
      "OpSys               0\n",
      "Weight              0\n",
      "Price               0\n",
      "dtype: int64\n",
      "--------------------------------------------------\n"
     ]
    }
   ],
   "source": [
    "print(data.isnull().sum())\n",
    "print(\"-\"*50)"
   ]
  },
  {
   "cell_type": "markdown",
   "id": "514e1820",
   "metadata": {},
   "source": [
    "**Observation:-** \\\n",
    "There is no null values in the dataset"
   ]
  },
  {
   "cell_type": "markdown",
   "id": "72f3db84",
   "metadata": {},
   "source": [
    "#### Checking duplicate values "
   ]
  },
  {
   "cell_type": "code",
   "execution_count": 7,
   "id": "da86c826",
   "metadata": {},
   "outputs": [
    {
     "name": "stdout",
     "output_type": "stream",
     "text": [
      "0\n",
      "--------------------------------------------------\n"
     ]
    }
   ],
   "source": [
    "print(data.duplicated().sum())\n",
    "print(\"-\"*50)"
   ]
  },
  {
   "cell_type": "markdown",
   "id": "8debf1c8",
   "metadata": {},
   "source": [
    "**Observation:-** \\\n",
    "There is no duplicate values in the dataset"
   ]
  },
  {
   "cell_type": "markdown",
   "id": "1b559c26",
   "metadata": {},
   "source": [
    "#### Unique Values "
   ]
  },
  {
   "cell_type": "code",
   "execution_count": 8,
   "id": "a7115c5d",
   "metadata": {},
   "outputs": [
    {
     "data": {
      "text/plain": [
       "Unnamed: 0          1303\n",
       "Company               19\n",
       "TypeName               6\n",
       "Inches                18\n",
       "ScreenResolution      40\n",
       "Cpu                  118\n",
       "Ram                    9\n",
       "Memory                39\n",
       "Gpu                  110\n",
       "OpSys                  9\n",
       "Weight               179\n",
       "Price                791\n",
       "dtype: int64"
      ]
     },
     "execution_count": 8,
     "metadata": {},
     "output_type": "execute_result"
    }
   ],
   "source": [
    "data.nunique()"
   ]
  },
  {
   "cell_type": "markdown",
   "id": "2eea9f4b",
   "metadata": {},
   "source": [
    "`Unnamed` is unnecessary column which we gonna drop  "
   ]
  },
  {
   "cell_type": "markdown",
   "id": "17e4bf12",
   "metadata": {},
   "source": [
    "**Dropping `Unnamed` column**"
   ]
  },
  {
   "cell_type": "code",
   "execution_count": 9,
   "id": "7c2dc7d5",
   "metadata": {},
   "outputs": [],
   "source": [
    "data.drop(\"Unnamed: 0\" , axis = 1, inplace = True)"
   ]
  },
  {
   "cell_type": "markdown",
   "id": "1546d885",
   "metadata": {},
   "source": [
    "**Checking Number of unique values and value_counts**"
   ]
  },
  {
   "cell_type": "code",
   "execution_count": 10,
   "id": "fae30aab",
   "metadata": {
    "scrolled": true
   },
   "outputs": [
    {
     "name": "stdout",
     "output_type": "stream",
     "text": [
      "Number of unique Values in Company are - 19 \n",
      "\n",
      "Counts of each value in Company -\n",
      " Dell         297\n",
      "Lenovo       297\n",
      "HP           274\n",
      "Asus         158\n",
      "Acer         103\n",
      "MSI           54\n",
      "Toshiba       48\n",
      "Apple         21\n",
      "Samsung        9\n",
      "Razer          7\n",
      "Mediacom       7\n",
      "Microsoft      6\n",
      "Xiaomi         4\n",
      "Vero           4\n",
      "Chuwi          3\n",
      "Google         3\n",
      "Fujitsu        3\n",
      "LG             3\n",
      "Huawei         2\n",
      "Name: Company, dtype: int64 \n",
      "\n",
      " -------------------------------------------------- \n",
      " -------------------------------------------------- \n",
      "\n",
      "\n",
      "Number of unique Values in TypeName are - 6 \n",
      "\n",
      "Counts of each value in TypeName -\n",
      " Notebook              727\n",
      "Gaming                205\n",
      "Ultrabook             196\n",
      "2 in 1 Convertible    121\n",
      "Workstation            29\n",
      "Netbook                25\n",
      "Name: TypeName, dtype: int64 \n",
      "\n",
      " -------------------------------------------------- \n",
      " -------------------------------------------------- \n",
      "\n",
      "\n",
      "Number of unique Values in Inches are - 18 \n",
      "\n",
      "Counts of each value in Inches -\n",
      " 15.6    665\n",
      "14.0    197\n",
      "13.3    164\n",
      "17.3    164\n",
      "12.5     39\n",
      "11.6     33\n",
      "12.0      6\n",
      "13.5      6\n",
      "13.9      6\n",
      "12.3      5\n",
      "10.1      4\n",
      "15.4      4\n",
      "15.0      4\n",
      "13.0      2\n",
      "18.4      1\n",
      "17.0      1\n",
      "14.1      1\n",
      "11.3      1\n",
      "Name: Inches, dtype: int64 \n",
      "\n",
      " -------------------------------------------------- \n",
      " -------------------------------------------------- \n",
      "\n",
      "\n",
      "Number of unique Values in ScreenResolution are - 40 \n",
      "\n",
      "Counts of each value in ScreenResolution -\n",
      " Full HD 1920x1080                                507\n",
      "1366x768                                         281\n",
      "IPS Panel Full HD 1920x1080                      230\n",
      "IPS Panel Full HD / Touchscreen 1920x1080         53\n",
      "Full HD / Touchscreen 1920x1080                   47\n",
      "1600x900                                          23\n",
      "Touchscreen 1366x768                              16\n",
      "Quad HD+ / Touchscreen 3200x1800                  15\n",
      "IPS Panel 4K Ultra HD 3840x2160                   12\n",
      "IPS Panel 4K Ultra HD / Touchscreen 3840x2160     11\n",
      "4K Ultra HD / Touchscreen 3840x2160               10\n",
      "4K Ultra HD 3840x2160                              7\n",
      "Touchscreen 2560x1440                              7\n",
      "IPS Panel 1366x768                                 7\n",
      "IPS Panel Quad HD+ / Touchscreen 3200x1800         6\n",
      "IPS Panel Retina Display 2560x1600                 6\n",
      "IPS Panel Retina Display 2304x1440                 6\n",
      "Touchscreen 2256x1504                              6\n",
      "IPS Panel Touchscreen 2560x1440                    5\n",
      "IPS Panel Retina Display 2880x1800                 4\n",
      "IPS Panel Touchscreen 1920x1200                    4\n",
      "1440x900                                           4\n",
      "IPS Panel 2560x1440                                4\n",
      "IPS Panel Quad HD+ 2560x1440                       3\n",
      "Quad HD+ 3200x1800                                 3\n",
      "1920x1080                                          3\n",
      "Touchscreen 2400x1600                              3\n",
      "2560x1440                                          3\n",
      "IPS Panel Touchscreen 1366x768                     3\n",
      "IPS Panel Touchscreen / 4K Ultra HD 3840x2160      2\n",
      "IPS Panel Full HD 2160x1440                        2\n",
      "IPS Panel Quad HD+ 3200x1800                       2\n",
      "IPS Panel Retina Display 2736x1824                 1\n",
      "IPS Panel Full HD 1920x1200                        1\n",
      "IPS Panel Full HD 2560x1440                        1\n",
      "IPS Panel Full HD 1366x768                         1\n",
      "Touchscreen / Full HD 1920x1080                    1\n",
      "Touchscreen / Quad HD+ 3200x1800                   1\n",
      "Touchscreen / 4K Ultra HD 3840x2160                1\n",
      "IPS Panel Touchscreen 2400x1600                    1\n",
      "Name: ScreenResolution, dtype: int64 \n",
      "\n",
      " -------------------------------------------------- \n",
      " -------------------------------------------------- \n",
      "\n",
      "\n",
      "Number of unique Values in Cpu are - 118 \n",
      "\n",
      "Counts of each value in Cpu -\n",
      " Intel Core i5 7200U 2.5GHz               190\n",
      "Intel Core i7 7700HQ 2.8GHz              146\n",
      "Intel Core i7 7500U 2.7GHz               134\n",
      "Intel Core i7 8550U 1.8GHz                73\n",
      "Intel Core i5 8250U 1.6GHz                72\n",
      "Intel Core i5 6200U 2.3GHz                68\n",
      "Intel Core i3 6006U 2GHz                  64\n",
      "Intel Core i7 6500U 2.5GHz                49\n",
      "Intel Core i7 6700HQ 2.6GHz               43\n",
      "Intel Core i3 7100U 2.4GHz                37\n",
      "Intel Core i5 7300HQ 2.5GHz               33\n",
      "Intel Celeron Dual Core N3350 1.1GHz      30\n",
      "Intel Celeron Dual Core N3060 1.6GHz      28\n",
      "Intel Core i7 6600U 2.6GHz                18\n",
      "Intel Core i3 6006U 2.0GHz                16\n",
      "Intel Pentium Quad Core N4200 1.1GHz      14\n",
      "Intel Core i5 7300U 2.6GHz                14\n",
      "Intel Core i7 7600U 2.8GHz                13\n",
      "Intel Pentium Quad Core N3710 1.6GHz      11\n",
      "AMD A9-Series 9420 3GHz                   11\n",
      "Intel Core i5 6300U 2.4GHz                11\n",
      "Intel Celeron Dual Core N3050 1.6GHz      11\n",
      "Intel Core i7 6820HK 2.7GHz               10\n",
      "Intel Core i3 6100U 2.3GHz                 9\n",
      "Intel Core i3 7130U 2.7GHz                 8\n",
      "Intel Core i7 6820HQ 2.7GHz                7\n",
      "Intel Core i5 6300HQ 2.3GHz                7\n",
      "Intel Core i7 7820HK 2.9GHz                7\n",
      "AMD A6-Series 9220 2.5GHz                  7\n",
      "Intel Core i7 7820HQ 2.9GHz                5\n",
      "Intel Core M 6Y75 1.2GHz                   5\n",
      "Intel Atom x5-Z8350 1.44GHz                5\n",
      "AMD A12-Series 9720P 3.6GHz                5\n",
      "Intel Celeron Quad Core N3450 1.1GHz       5\n",
      "Intel Core i7 7Y75 1.3GHz                  5\n",
      "Intel Core i5 7440HQ 2.8GHz                5\n",
      "AMD A8-Series 7410 2.2GHz                  4\n",
      "Intel Celeron Dual Core 3205U 1.5GHz       4\n",
      "Intel Atom x5-Z8550 1.44GHz                4\n",
      "Intel Celeron Dual Core 3855U 1.6GHz       3\n",
      "Intel Core i7 7660U 2.5GHz                 3\n",
      "Intel Core M 6Y30 0.9GHz                   3\n",
      "AMD A9-Series 9410 2.9GHz                  3\n",
      "AMD Ryzen 1700 3GHz                        3\n",
      "Intel Core i5 1.6GHz                       3\n",
      "Intel Core i5 7Y54 1.2GHz                  3\n",
      "Intel Core i7 8650U 1.9GHz                 2\n",
      "Intel Core i5 7Y57 1.2GHz                  2\n",
      "AMD E-Series E2-9000e 1.5GHz               2\n",
      "AMD A10-Series 9620P 2.5GHz                2\n",
      "AMD E-Series 7110 1.8GHz                   2\n",
      "AMD A9-Series A9-9420 3GHz                 2\n",
      "Intel Xeon E3-1505M V6 3GHz                2\n",
      "Intel Core i5 3.1GHz                       2\n",
      "Intel Core M 1.2GHz                        2\n",
      "Intel Atom X5-Z8350 1.44GHz                2\n",
      "Intel Core M 1.1GHz                        2\n",
      "Intel Pentium Quad Core N3700 1.6GHz       2\n",
      "Intel Core i7 6500U 2.50GHz                2\n",
      "Intel Celeron Dual Core N3350 2GHz         2\n",
      "Intel Celeron Quad Core N3160 1.6GHz       2\n",
      "Intel Core i5 2.3GHz                       2\n",
      "Intel Core i7 7560U 2.4GHz                 2\n",
      "Intel Core i5 1.8GHz                       2\n",
      "AMD A10-Series A10-9620P 2.5GHz            2\n",
      "AMD A10-Series 9600P 2.4GHz                2\n",
      "AMD A12-Series 9720P 2.7GHz                2\n",
      "AMD A6-Series A6-9220 2.5GHz               2\n",
      "Intel Celeron Dual Core N3060 1.60GHz      1\n",
      "AMD A4-Series 7210 2.2GHz                  1\n",
      "AMD FX 8800P 2.1GHz                        1\n",
      "Intel Core M m7-6Y75 1.2GHz                1\n",
      "Intel Core i7 6560U 2.2GHz                 1\n",
      "Intel Pentium Dual Core 4405U 2.1GHz       1\n",
      "Intel Core i7 7500U 2.5GHz                 1\n",
      "AMD A12-Series 9700P 2.5GHz                1\n",
      "AMD A6-Series 9220 2.9GHz                  1\n",
      "Intel Celeron Quad Core N3710 1.6GHz       1\n",
      "Intel Core M M7-6Y75 1.2GHz                1\n",
      "Intel Core i7 6920HQ 2.9GHz                1\n",
      "Intel Core i5 7200U 2.50GHz                1\n",
      "Intel Core i5 7200U 2.70GHz                1\n",
      "Intel Core i5 6260U 1.8GHz                 1\n",
      "Intel Core i5 7200U 2.7GHz                 1\n",
      "Intel Core i5 2.9GHz                       1\n",
      "Intel Pentium Dual Core 4405Y 1.5GHz       1\n",
      "Intel Core M 6Y54 1.1GHz                   1\n",
      "AMD E-Series 9000e 1.5GHz                  1\n",
      "Samsung Cortex A72&A53 2.0GHz              1\n",
      "AMD E-Series 9000 2.2GHz                   1\n",
      "Intel Core i7 2.7GHz                       1\n",
      "Intel Pentium Dual Core N4200 1.1GHz       1\n",
      "Intel Atom Z8350 1.92GHz                   1\n",
      "Intel Xeon E3-1535M v5 2.9GHz              1\n",
      "AMD E-Series 6110 1.5GHz                   1\n",
      "AMD E-Series E2-6110 1.5GHz                1\n",
      "AMD Ryzen 1600 3.2GHz                      1\n",
      "Intel Atom x5-Z8300 1.44GHz                1\n",
      "Intel Core i5 2.0GHz                       1\n",
      "Intel Core i7 7700HQ 2.7GHz                1\n",
      "Intel Core M m3-7Y30 2.2GHz                1\n",
      "Intel Core i5 1.3GHz                       1\n",
      "Intel Core i7 2.9GHz                       1\n",
      "AMD FX 9830P 3GHz                          1\n",
      "Intel Celeron Dual Core N3350 2.0GHz       1\n",
      "Intel Core M m3 1.2GHz                     1\n",
      "Intel Core i5 6440HQ 2.6GHz                1\n",
      "Intel Core M 7Y30 1.0GHz                   1\n",
      "Intel Core i5 7500U 2.7GHz                 1\n",
      "Intel Core i7 2.8GHz                       1\n",
      "Intel Core i3 6100U 2.1GHz                 1\n",
      "AMD E-Series E2-9000 2.2GHz                1\n",
      "Intel Core i7 2.2GHz                       1\n",
      "Intel Core M M3-6Y30 0.9GHz                1\n",
      "AMD A9-Series 9420 2.9GHz                  1\n",
      "Intel Core i3 6006U 2.2GHz                 1\n",
      "AMD A6-Series 7310 2GHz                    1\n",
      "Intel Xeon E3-1535M v6 3.1GHz              1\n",
      "Name: Cpu, dtype: int64 \n",
      "\n",
      " -------------------------------------------------- \n",
      " -------------------------------------------------- \n",
      "\n",
      "\n",
      "Number of unique Values in Ram are - 9 \n",
      "\n",
      "Counts of each value in Ram -\n",
      " 8GB     619\n",
      "4GB     375\n",
      "16GB    200\n",
      "6GB      41\n",
      "12GB     25\n",
      "2GB      22\n",
      "32GB     17\n",
      "24GB      3\n",
      "64GB      1\n",
      "Name: Ram, dtype: int64 \n",
      "\n",
      " -------------------------------------------------- \n",
      " -------------------------------------------------- \n",
      "\n",
      "\n",
      "Number of unique Values in Memory are - 39 \n",
      "\n",
      "Counts of each value in Memory -\n",
      " 256GB SSD                        412\n",
      "1TB HDD                          223\n",
      "500GB HDD                        132\n",
      "512GB SSD                        118\n",
      "128GB SSD +  1TB HDD              94\n",
      "128GB SSD                         76\n",
      "256GB SSD +  1TB HDD              73\n",
      "32GB Flash Storage                38\n",
      "2TB HDD                           16\n",
      "64GB Flash Storage                15\n",
      "512GB SSD +  1TB HDD              14\n",
      "1TB SSD                           14\n",
      "256GB SSD +  2TB HDD              10\n",
      "1.0TB Hybrid                       9\n",
      "256GB Flash Storage                8\n",
      "16GB Flash Storage                 7\n",
      "32GB SSD                           6\n",
      "180GB SSD                          5\n",
      "128GB Flash Storage                4\n",
      "512GB SSD +  2TB HDD               3\n",
      "16GB SSD                           3\n",
      "512GB Flash Storage                2\n",
      "1TB SSD +  1TB HDD                 2\n",
      "256GB SSD +  500GB HDD             2\n",
      "128GB SSD +  2TB HDD               2\n",
      "256GB SSD +  256GB SSD             2\n",
      "512GB SSD +  256GB SSD             1\n",
      "512GB SSD +  512GB SSD             1\n",
      "64GB Flash Storage +  1TB HDD      1\n",
      "1TB HDD +  1TB HDD                 1\n",
      "32GB HDD                           1\n",
      "64GB SSD                           1\n",
      "128GB HDD                          1\n",
      "240GB SSD                          1\n",
      "8GB SSD                            1\n",
      "508GB Hybrid                       1\n",
      "1.0TB HDD                          1\n",
      "512GB SSD +  1.0TB Hybrid          1\n",
      "256GB SSD +  1.0TB Hybrid          1\n",
      "Name: Memory, dtype: int64 \n",
      "\n",
      " -------------------------------------------------- \n",
      " -------------------------------------------------- \n",
      "\n",
      "\n",
      "Number of unique Values in Gpu are - 110 \n",
      "\n",
      "Counts of each value in Gpu -\n",
      " Intel HD Graphics 620             281\n",
      "Intel HD Graphics 520             185\n",
      "Intel UHD Graphics 620             68\n",
      "Nvidia GeForce GTX 1050            66\n",
      "Nvidia GeForce GTX 1060            48\n",
      "Nvidia GeForce 940MX               43\n",
      "AMD Radeon 530                     41\n",
      "Intel HD Graphics 500              39\n",
      "Intel HD Graphics 400              37\n",
      "Nvidia GeForce GTX 1070            30\n",
      "Intel HD Graphics                  29\n",
      "Nvidia GeForce GTX 1050 Ti         28\n",
      "AMD Radeon R5 M430                 22\n",
      "Nvidia GeForce 930MX               20\n",
      "AMD Radeon 520                     17\n",
      "Nvidia GeForce MX150               15\n",
      "Intel HD Graphics 515              15\n",
      "Intel HD Graphics 615              14\n",
      "AMD Radeon R7 M445                 14\n",
      "Nvidia GeForce GTX 960M            14\n",
      "Nvidia GeForce 920MX               13\n",
      "Intel HD Graphics 505              12\n",
      "AMD Radeon R5                      11\n",
      "Nvidia GeForce GTX 980M            10\n",
      "Intel HD Graphics 405               9\n",
      "Nvidia Quadro M1200                 9\n",
      "AMD Radeon R5 M420                  8\n",
      "Intel Iris Plus Graphics 640        8\n",
      "Nvidia GeForce GTX 950M             7\n",
      "AMD Radeon R5 M330                  7\n",
      "Nvidia GeForce 920M                 6\n",
      "Nvidia GeForce GTX 1080             6\n",
      "Nvidia GeForce 930M                 6\n",
      "Nvidia GeForce MX130                6\n",
      "Nvidia GeForce 930MX                5\n",
      "Nvidia Quadro M620                  5\n",
      "Intel HD Graphics 6000              5\n",
      "AMD Radeon R7 M440                  5\n",
      "Nvidia GeForce 920MX                5\n",
      "Nvidia GeForce GTX 970M             5\n",
      "AMD Radeon R2                       5\n",
      "AMD Radeon RX 580                   5\n",
      "Nvidia GeForce GT 940MX             5\n",
      "AMD Radeon R4 Graphics              5\n",
      "Nvidia GeForce GTX 965M             4\n",
      "Nvidia GeForce GTX 940MX            4\n",
      "Intel HD Graphics 630               4\n",
      "AMD Radeon R2 Graphics              4\n",
      "AMD Radeon RX 550                   4\n",
      "Intel HD Graphics 510               4\n",
      "Nvidia Quadro M1000M                4\n",
      "Nvidia Quadro M2200M                3\n",
      "AMD Radeon R4                       3\n",
      "AMD Radeon R5 M420X                 3\n",
      "Nvidia GeForce GTX 1050M            3\n",
      "Nvidia GeForce 150MX                3\n",
      "AMD Radeon R7 M460                  2\n",
      "Nvidia GeForce GTX 960              2\n",
      "Intel Iris Plus Graphics 650        2\n",
      "Nvidia Quadro M520M                 2\n",
      "Nvidia GeForce GTX 1050Ti           2\n",
      "Nvidia Quadro M2200                 2\n",
      "Nvidia Quadro M2000M                2\n",
      "Nvidia GeForce GTX 960<U+039C>      2\n",
      "Intel Iris Graphics 540             2\n",
      "AMD Radeon RX 540                   2\n",
      "Intel HD Graphics 5300              2\n",
      "AMD FirePro W4190M                  2\n",
      "Nvidia GeForce 920                  1\n",
      "Nvidia GeForce 960M                 1\n",
      "AMD Radeon R7 Graphics              1\n",
      "Nvidia GeForce 940M                 1\n",
      "Nvidia GeForce GTX 930MX            1\n",
      "Nvidia Quadro 3000M                 1\n",
      "AMD Radeon R7 M360                  1\n",
      "AMD Radeon R7 M465                  1\n",
      "Nvidia Quadro M3000M                1\n",
      "AMD Radeon R3                       1\n",
      "Nvidia GeForce GTX 980              1\n",
      "Nvidia Quadro M500M                 1\n",
      "AMD Radeon R7 M365X                 1\n",
      "AMD Radeon R9 M385                  1\n",
      "AMD Radeon R5 M315                  1\n",
      "AMD FirePro W6150M                  1\n",
      "Intel HD Graphics 620               1\n",
      "AMD FirePro W4190M                  1\n",
      "Nvidia GeForce GTX 940M             1\n",
      "Nvidia GeForce GTX1060              1\n",
      "AMD Radeon R5 430                   1\n",
      "AMD Radeon Pro 455                  1\n",
      "Intel Iris Pro Graphics             1\n",
      "AMD Radeon Pro 555                  1\n",
      "AMD Radeon Pro 560                  1\n",
      "AMD R4 Graphics                     1\n",
      "AMD Radeon RX 560                   1\n",
      "Nvidia GTX 980 SLI                  1\n",
      "AMD R17M-M1-70                      1\n",
      "Intel Iris Graphics 550             1\n",
      "AMD FirePro W5130M                  1\n",
      "Nvidia GeForce GTX 1070M            1\n",
      "Intel HD Graphics 530               1\n",
      "Nvidia GeForce GTX1080              1\n",
      "Nvidia GeForce GTX1050 Ti           1\n",
      "Nvidia Quadro M620M                 1\n",
      "Intel Graphics 620                  1\n",
      "AMD Radeon R5 520                   1\n",
      "AMD Radeon R7                       1\n",
      "Intel HD Graphics 540               1\n",
      "AMD Radeon 540                      1\n",
      "ARM Mali T860 MP4                   1\n",
      "Name: Gpu, dtype: int64 \n",
      "\n",
      " -------------------------------------------------- \n",
      " -------------------------------------------------- \n",
      "\n",
      "\n",
      "Number of unique Values in OpSys are - 9 \n",
      "\n",
      "Counts of each value in OpSys -\n",
      " Windows 10      1072\n",
      "No OS             66\n",
      "Linux             62\n",
      "Windows 7         45\n",
      "Chrome OS         27\n",
      "macOS             13\n",
      "Mac OS X           8\n",
      "Windows 10 S       8\n",
      "Android            2\n",
      "Name: OpSys, dtype: int64 \n",
      "\n",
      " -------------------------------------------------- \n",
      " -------------------------------------------------- \n",
      "\n",
      "\n",
      "Number of unique Values in Weight are - 179 \n",
      "\n",
      "Counts of each value in Weight -\n",
      " 2.2kg      121\n",
      "2.1kg       58\n",
      "2.4kg       44\n",
      "2.3kg       41\n",
      "2.5kg       38\n",
      "2kg         35\n",
      "2.8kg       28\n",
      "1.2kg       26\n",
      "1.86kg      25\n",
      "1.4kg       24\n",
      "2.04kg      24\n",
      "2.18kg      23\n",
      "1.5kg       21\n",
      "1.9kg       21\n",
      "1.6kg       20\n",
      "1.7kg       18\n",
      "1.95kg      18\n",
      "1.3kg       17\n",
      "1.8kg       17\n",
      "1.1kg       16\n",
      "1.26kg      15\n",
      "1.91kg      14\n",
      "3kg         14\n",
      "1.36kg      14\n",
      "1.37kg      13\n",
      "2.62kg      12\n",
      "2.7kg       12\n",
      "1.25kg      12\n",
      "2.6kg       12\n",
      "4.42kg      11\n",
      "1.29kg      11\n",
      "1.63kg      11\n",
      "2.06kg      10\n",
      "2.23kg      10\n",
      "1.48kg      10\n",
      "1.84kg      10\n",
      "2.0kg       10\n",
      "1.49kg      10\n",
      "2.65kg       9\n",
      "2.9kg        9\n",
      "1.44kg       9\n",
      "1.64kg       9\n",
      "2.31kg       8\n",
      "1.54kg       8\n",
      "2.36kg       8\n",
      "1.45kg       7\n",
      "1.42kg       7\n",
      "3.2kg        7\n",
      "1.65kg       7\n",
      "2.02kg       7\n",
      "1.05kg       7\n",
      "1.23kg       7\n",
      "1.32kg       7\n",
      "1.34kg       6\n",
      "1.75kg       6\n",
      "1.88kg       6\n",
      "1.62kg       6\n",
      "2.25kg       6\n",
      "2.19kg       6\n",
      "1.28kg       6\n",
      "1.43kg       6\n",
      "1.13kg       5\n",
      "2.32kg       5\n",
      "1.16kg       5\n",
      "1.93kg       5\n",
      "1.47kg       5\n",
      "3.78kg       5\n",
      "2.20kg       5\n",
      "1.17kg       5\n",
      "2.24kg       5\n",
      "1.35kg       5\n",
      "1.96kg       5\n",
      "2.05kg       5\n",
      "1.21kg       5\n",
      "2.08kg       4\n",
      "4.3kg        4\n",
      "1.85kg       4\n",
      "2.63kg       4\n",
      "0.69kg       4\n",
      "1.24kg       4\n",
      "4.6kg        4\n",
      "1.252kg      4\n",
      "2.59kg       4\n",
      "1.68kg       4\n",
      "1.38kg       4\n",
      "2.43kg       4\n",
      "2.37kg       4\n",
      "4.36kg       4\n",
      "2.56kg       4\n",
      "1.22kg       4\n",
      "3.35kg       4\n",
      "0.920kg      4\n",
      "1.83kg       4\n",
      "2.09kg       4\n",
      "2.17kg       3\n",
      "2.77kg       3\n",
      "1.90kg       3\n",
      "2.73kg       3\n",
      "2.71kg       3\n",
      "1.99kg       3\n",
      "3.14kg       3\n",
      "3.21kg       3\n",
      "1.98kg       3\n",
      "4.2kg        3\n",
      "1.15kg       3\n",
      "1.87kg       3\n",
      "1.56kg       3\n",
      "3.49kg       3\n",
      "4.14kg       3\n",
      "1.58kg       3\n",
      "2.33kg       3\n",
      "2.67kg       3\n",
      "2.07kg       2\n",
      "1.74kg       2\n",
      "1.71kg       2\n",
      "0.81kg       2\n",
      "2.69kg       2\n",
      "1.11kg       2\n",
      "3.58kg       2\n",
      "1.08kg       2\n",
      "1.09kg       2\n",
      "0.92kg       2\n",
      "3.31kg       2\n",
      "2.94kg       2\n",
      "2.29kg       2\n",
      "1.39kg       2\n",
      "1.76kg       2\n",
      "0.98kg       2\n",
      "0.97kg       2\n",
      "2.14kg       2\n",
      "3.0kg        2\n",
      "1.78kg       2\n",
      "1.27kg       2\n",
      "3.3kg        2\n",
      "2.13kg       2\n",
      "2.45kg       2\n",
      "1.89kg       2\n",
      "2.15kg       2\n",
      "2.16kg       2\n",
      "2.75kg       1\n",
      "4kg          1\n",
      "2.99kg       1\n",
      "2.34kg       1\n",
      "2.83kg       1\n",
      "2.191kg      1\n",
      "2.03kg       1\n",
      "1.70kg       1\n",
      "1.12kg       1\n",
      "2.21kg       1\n",
      "2.591kg      1\n",
      "2.38kg       1\n",
      "3.74kg       1\n",
      "3.52kg       1\n",
      "0.99kg       1\n",
      "1.59kg       1\n",
      "1.19kg       1\n",
      "1.31kg       1\n",
      "3.4kg        1\n",
      "1.10kg       1\n",
      "2.26kg       1\n",
      "2.79kg       1\n",
      "3.42kg       1\n",
      "2.54kg       1\n",
      "1.79kg       1\n",
      "0.91kg       1\n",
      "4.33kg       1\n",
      "4.4kg        1\n",
      "1.94kg       1\n",
      "2.72kg       1\n",
      "4.5kg        1\n",
      "1.41kg       1\n",
      "1.14kg       1\n",
      "3.8kg        1\n",
      "3.6kg        1\n",
      "3.25kg       1\n",
      "4.7kg        1\n",
      "1.55kg       1\n",
      "1.18kg       1\n",
      "4.0kg        1\n",
      "Name: Weight, dtype: int64 \n",
      "\n",
      " -------------------------------------------------- \n",
      " -------------------------------------------------- \n",
      "\n",
      "\n",
      "Number of unique Values in Price are - 791 \n",
      "\n",
      "Counts of each value in Price -\n",
      " 79866.7200     14\n",
      "58554.7200     14\n",
      "95850.7200     14\n",
      "47898.7200     11\n",
      "63882.7200     11\n",
      "69210.7200     11\n",
      "26586.7200     11\n",
      "53226.7200     10\n",
      "71874.7200      9\n",
      "74538.7200      9\n",
      "18594.7200      8\n",
      "50562.7200      8\n",
      "19660.3200      8\n",
      "35111.5200      8\n",
      "29250.7200      7\n",
      "52161.1200      7\n",
      "93186.7200      7\n",
      "61218.7200      7\n",
      "37242.7200      7\n",
      "24455.5200      7\n",
      "85194.7200      7\n",
      "101178.7200     7\n",
      "42570.7200      6\n",
      "34578.7200      6\n",
      "23922.7200      6\n",
      "30849.1200      6\n",
      "24988.3200      6\n",
      "33513.1200      6\n",
      "122490.7200     6\n",
      "20725.9200      6\n",
      "31914.7200      5\n",
      "44701.9200      5\n",
      "39373.9200      5\n",
      "15930.7200      5\n",
      "26053.9200      5\n",
      "20193.1200      5\n",
      "55890.7200      5\n",
      "47365.9200      5\n",
      "36709.9200      5\n",
      "133146.7200     5\n",
      "43636.3200      5\n",
      "90522.7200      5\n",
      "25521.1200      4\n",
      "12201.1200      4\n",
      "63669.6000      4\n",
      "21258.7200      4\n",
      "130482.7200     4\n",
      "16463.5200      4\n",
      "38308.3200      4\n",
      "149130.7200     4\n",
      "31381.9200      4\n",
      "51095.5200      4\n",
      "29783.5200      4\n",
      "23389.9200      4\n",
      "62817.1200      4\n",
      "13266.7200      4\n",
      "46833.1200      4\n",
      "87858.7200      4\n",
      "41505.1200      4\n",
      "111834.7200     4\n",
      "11135.5200      4\n",
      "60153.1200      3\n",
      "87912.0000      3\n",
      "61751.5200      3\n",
      "45767.5200      3\n",
      "21258.1872      3\n",
      "25840.8000      3\n",
      "68145.1200      3\n",
      "84129.1200      3\n",
      "59620.3200      3\n",
      "52693.9200      3\n",
      "30316.3200      3\n",
      "73473.1200      3\n",
      "117162.7200     3\n",
      "36496.8000      3\n",
      "39906.7200      3\n",
      "63349.9200      3\n",
      "32980.3200      3\n",
      "77202.7200      3\n",
      "105228.0000     3\n",
      "98514.7200      3\n",
      "40705.9200      3\n",
      "29303.4672      3\n",
      "34045.9200      3\n",
      "15397.9200      3\n",
      "58021.9200      3\n",
      "101232.0000     3\n",
      "35644.3200      3\n",
      "39693.6000      3\n",
      "27652.3200      3\n",
      "38378.6496      3\n",
      "52054.5600      3\n",
      "28717.9200      3\n",
      "42943.1472      3\n",
      "38841.1200      3\n",
      "33992.6400      3\n",
      "15877.4400      3\n",
      "62284.3200      3\n",
      "79653.6000      2\n",
      "99580.3200      2\n",
      "71341.9200      2\n",
      "63499.1040      2\n",
      "62071.2000      2\n",
      "19980.0000      2\n",
      "31808.1600      2\n",
      "103842.7200     2\n",
      "53173.4400      2\n",
      "68198.4000      2\n",
      "51841.4400      2\n",
      "39533.7600      2\n",
      "90043.2000      2\n",
      "40972.3200      2\n",
      "49816.8000      2\n",
      "37775.5200      2\n",
      "154458.7200     2\n",
      "57808.8000      2\n",
      "15824.1600      2\n",
      "138474.7200     2\n",
      "48964.3200      2\n",
      "76030.5600      2\n",
      "22857.1200      2\n",
      "50349.6000      2\n",
      "23176.8000      2\n",
      "21791.5200      2\n",
      "67612.3200      2\n",
      "48058.5600      2\n",
      "78215.0400      2\n",
      "67399.2000      2\n",
      "32767.2000      2\n",
      "103896.0000     2\n",
      "48484.8000      2\n",
      "38681.2800      2\n",
      "44169.1200      2\n",
      "118761.1200     2\n",
      "45234.7200      2\n",
      "22324.3200      2\n",
      "14119.2000      2\n",
      "65481.1200      2\n",
      "30103.2000      2\n",
      "58288.3200      2\n",
      "58075.2000      2\n",
      "10602.7200      2\n",
      "84715.2000      2\n",
      "158135.0400     2\n",
      "42624.0000      2\n",
      "68464.8000      2\n",
      "35964.0000      2\n",
      "159786.7200     2\n",
      "60472.8000      2\n",
      "52480.8000      2\n",
      "58607.4672      2\n",
      "61005.6000      2\n",
      "45074.8800      2\n",
      "67559.0400      2\n",
      "31168.8000      2\n",
      "23976.0000      2\n",
      "17582.4000      2\n",
      "82530.7200      2\n",
      "43956.0000      2\n",
      "86793.1200      2\n",
      "31861.4400      2\n",
      "30636.0000      2\n",
      "81784.8000      2\n",
      "109170.7200     2\n",
      "43263.3600      2\n",
      "17529.1200      2\n",
      "18061.9200      2\n",
      "88924.3200      2\n",
      "42037.9200      2\n",
      "128884.3200     2\n",
      "30049.9200      2\n",
      "51148.8000      2\n",
      "34632.0000      2\n",
      "19127.5200      2\n",
      "38468.1600      2\n",
      "49976.6400      2\n",
      "50882.4000      2\n",
      "64202.4000      2\n",
      "67239.3600      2\n",
      "58341.6000      2\n",
      "74005.9200      2\n",
      "71395.2000      2\n",
      "81465.1200      2\n",
      "28238.4000      2\n",
      "66546.7200      2\n",
      "24935.0400      2\n",
      "26101.8720      2\n",
      "45128.1600      2\n",
      "45820.8000      2\n",
      "119826.7200     2\n",
      "28185.1200      2\n",
      "49443.8400      2\n",
      "27119.5200      2\n",
      "32447.5200      2\n",
      "99047.5200      2\n",
      "54825.1200      2\n",
      "34898.4000      2\n",
      "57489.1200      2\n",
      "127818.7200     2\n",
      "63456.4800      2\n",
      "14332.3200      2\n",
      "26533.4400      2\n",
      "79813.4400      2\n",
      "106506.7200     2\n",
      "18328.3200      2\n",
      "23816.1600      2\n",
      "72940.3200      2\n",
      "21205.4400      2\n",
      "83063.5200      2\n",
      "46300.3200      2\n",
      "18541.4400      2\n",
      "26373.6000      1\n",
      "36486.1440      1\n",
      "78588.0000      1\n",
      "24279.6960      1\n",
      "54291.7872      1\n",
      "46939.6800      1\n",
      "72988.2720      1\n",
      "54665.2800      1\n",
      "109277.2800     1\n",
      "53168.1120      1\n",
      "49497.1200      1\n",
      "46087.2000      1\n",
      "121318.5600     1\n",
      "73952.6400      1\n",
      "101391.8400     1\n",
      "165168.0000     1\n",
      "56210.4000      1\n",
      "94731.8400      1\n",
      "119347.2000     1\n",
      "39160.8000      1\n",
      "141138.7200     1\n",
      "54185.7600      1\n",
      "104588.1072     1\n",
      "79014.2400      1\n",
      "107257.9680     1\n",
      "45323.1648      1\n",
      "136343.5200     1\n",
      "32713.9200      1\n",
      "47952.0000      1\n",
      "48618.0000      1\n",
      "90576.0000      1\n",
      "41931.3600      1\n",
      "194972.8320     1\n",
      "99633.6000      1\n",
      "62938.0656      1\n",
      "45282.6720      1\n",
      "83170.0800      1\n",
      "152859.7872     1\n",
      "55837.4400      1\n",
      "98834.4000      1\n",
      "25059.7152      1\n",
      "42357.6000      1\n",
      "31003.6320      1\n",
      "33110.8560      1\n",
      "59668.8048      1\n",
      "54345.6000      1\n",
      "66280.3200      1\n",
      "100006.5600     1\n",
      "126273.6000     1\n",
      "34898.9328      1\n",
      "58394.8800      1\n",
      "25308.0000      1\n",
      "233845.9200     1\n",
      "60031.1088      1\n",
      "175770.7200     1\n",
      "35431.2000      1\n",
      "64308.9600      1\n",
      "21887.4240      1\n",
      "111593.8944     1\n",
      "76012.4448      1\n",
      "45664.6896      1\n",
      "103096.8000     1\n",
      "31409.6256      1\n",
      "63936.0000      1\n",
      "89864.1792      1\n",
      "71847.0144      1\n",
      "33886.0800      1\n",
      "191211.2640     1\n",
      "38041.3872      1\n",
      "292986.7200     1\n",
      "40226.4000      1\n",
      "16943.0400      1\n",
      "29073.2976      1\n",
      "99900.0000      1\n",
      "72354.2400      1\n",
      "18914.4000      1\n",
      "63190.0800      1\n",
      "125208.0000     1\n",
      "147832.2864     1\n",
      "32639.8608      1\n",
      "17316.0000      1\n",
      "31435.2000      1\n",
      "163723.5792     1\n",
      "149916.6000     1\n",
      "133467.4656     1\n",
      "20512.8000      1\n",
      "101657.7072     1\n",
      "42081.0768      1\n",
      "137995.2000     1\n",
      "44574.0480      1\n",
      "128671.2000     1\n",
      "89457.1200      1\n",
      "41558.4000      1\n",
      "39640.3200      1\n",
      "110017.8720     1\n",
      "43156.8000      1\n",
      "124142.4000     1\n",
      "104961.6000     1\n",
      "10810.5120      1\n",
      "100752.4800     1\n",
      "93985.9200      1\n",
      "51202.0800      1\n",
      "86526.7200      1\n",
      "36496.2672      1\n",
      "14811.8400      1\n",
      "32820.4800      1\n",
      "210424.0320     1\n",
      "41771.5200      1\n",
      "115709.2416     1\n",
      "130003.2000     1\n",
      "60888.3840      1\n",
      "122381.4960     1\n",
      "53807.4720      1\n",
      "124621.9200     1\n",
      "119916.2304     1\n",
      "25515.2592      1\n",
      "79536.3840      1\n",
      "42010.7472      1\n",
      "108744.4800     1\n",
      "94252.3200      1\n",
      "25414.0272      1\n",
      "74059.2000      1\n",
      "40066.5600      1\n",
      "109244.2464     1\n",
      "69530.4000      1\n",
      "100965.6000     1\n",
      "18434.3472      1\n",
      "43601.6880      1\n",
      "34035.2640      1\n",
      "26640.0000      1\n",
      "60480.7920      1\n",
      "62176.1616      1\n",
      "75289.9680      1\n",
      "80516.2032      1\n",
      "46193.7600      1\n",
      "40980.3120      1\n",
      "104908.3200     1\n",
      "146519.4672     1\n",
      "118601.2800     1\n",
      "69929.4672      1\n",
      "10442.8800      1\n",
      "80612.6400      1\n",
      "27899.0064      1\n",
      "36177.1200      1\n",
      "114731.5536     1\n",
      "69103.6272      1\n",
      "186426.7200     1\n",
      "85141.4400      1\n",
      "25467.8400      1\n",
      "117119.5632     1\n",
      "39267.3600      1\n",
      "31838.5296      1\n",
      "19276.7040      1\n",
      "85248.0000      1\n",
      "46620.0000      1\n",
      "123876.0000     1\n",
      "30529.4400      1\n",
      "96596.6400      1\n",
      "17262.7200      1\n",
      "57116.1600      1\n",
      "23655.7872      1\n",
      "26107.2000      1\n",
      "47685.6000      1\n",
      "44382.7728      1\n",
      "24988.8528      1\n",
      "27804.7008      1\n",
      "87219.3600      1\n",
      "78694.5600      1\n",
      "44275.6800      1\n",
      "47686.1328      1\n",
      "17742.2400      1\n",
      "48431.5200      1\n",
      "36816.4800      1\n",
      "61964.6400      1\n",
      "70702.5600      1\n",
      "19607.0400      1\n",
      "114552.0000     1\n",
      "14492.1600      1\n",
      "109165.3920     1\n",
      "142790.4000     1\n",
      "103842.1872     1\n",
      "9270.7200       1\n",
      "67772.1600      1\n",
      "78647.1408      1\n",
      "91288.3536      1\n",
      "20965.1472      1\n",
      "20619.3600      1\n",
      "54931.1472      1\n",
      "167778.7200     1\n",
      "104587.5744     1\n",
      "149184.0000     1\n",
      "62870.4000      1\n",
      "109218.6720     1\n",
      "53386.5600      1\n",
      "48751.2000      1\n",
      "42943.6800      1\n",
      "101658.2400     1\n",
      "14418.6336      1\n",
      "61272.0000      1\n",
      "20246.4000      1\n",
      "111301.9200     1\n",
      "67132.8000      1\n",
      "29144.1600      1\n",
      "55904.5728      1\n",
      "36443.5200      1\n",
      "81997.9200      1\n",
      "37029.6000      1\n",
      "24808.2336      1\n",
      "39960.0000      1\n",
      "45101.5200      1\n",
      "97236.0000      1\n",
      "38889.0720      1\n",
      "37725.4368      1\n",
      "15392.5920      1\n",
      "58874.4000      1\n",
      "29762.2080      1\n",
      "87325.9200      1\n",
      "146946.2400     1\n",
      "78438.8160      1\n",
      "94572.0000      1\n",
      "77788.8000      1\n",
      "79333.3872      1\n",
      "168045.1200     1\n",
      "41292.0000      1\n",
      "93772.8000      1\n",
      "53759.5200      1\n",
      "95371.2000      1\n",
      "100550.5488     1\n",
      "64468.8000      1\n",
      "41025.0672      1\n",
      "79387.2000      1\n",
      "120093.1200     1\n",
      "37570.3920      1\n",
      "96916.3200      1\n",
      "57009.6000      1\n",
      "52746.6672      1\n",
      "102777.1200     1\n",
      "77682.2400      1\n",
      "211788.0000     1\n",
      "42517.9728      1\n",
      "70809.1200      1\n",
      "69264.0000      1\n",
      "25679.8944      1\n",
      "91294.7472      1\n",
      "28771.2000      1\n",
      "50083.2000      1\n",
      "172627.2000     1\n",
      "34433.2656      1\n",
      "139593.6000     1\n",
      "15339.3120      1\n",
      "122010.6672     1\n",
      "91908.0000      1\n",
      "42410.3472      1\n",
      "63159.7104      1\n",
      "55754.3232      1\n",
      "56476.8000      1\n",
      "55091.5200      1\n",
      "57542.4000      1\n",
      "65480.5872      1\n",
      "56633.9760      1\n",
      "82351.6992      1\n",
      "53839.9728      1\n",
      "11231.4240      1\n",
      "75924.0000      1\n",
      "55922.6880      1\n",
      "53280.0000      1\n",
      "112065.9552     1\n",
      "78268.3200      1\n",
      "68944.3200      1\n",
      "71378.6832      1\n",
      "43580.3760      1\n",
      "47472.4800      1\n",
      "54931.6800      1\n",
      "36089.2080      1\n",
      "72620.6400      1\n",
      "42304.3200      1\n",
      "130873.7952     1\n",
      "44328.9600      1\n",
      "45768.0528      1\n",
      "20779.2000      1\n",
      "24881.7600      1\n",
      "207259.2000     1\n",
      "108691.2000     1\n",
      "37402.5600      1\n",
      "23757.5520      1\n",
      "56423.5200      1\n",
      "60845.7600      1\n",
      "23656.3200      1\n",
      "49650.5664      1\n",
      "74964.9600      1\n",
      "74485.4400      1\n",
      "162770.4000     1\n",
      "45501.1200      1\n",
      "40173.1200      1\n",
      "49177.4400      1\n",
      "43316.6400      1\n",
      "42251.0400      1\n",
      "127712.1600     1\n",
      "150462.7200     1\n",
      "13852.8000      1\n",
      "53274.6720      1\n",
      "37189.4400      1\n",
      "48697.9200      1\n",
      "324954.7200     1\n",
      "55677.6000      1\n",
      "98301.6000      1\n",
      "26267.0400      1\n",
      "35004.9600      1\n",
      "54239.0400      1\n",
      "19367.8128      1\n",
      "60885.7200      1\n",
      "55938.6720      1\n",
      "71128.8000      1\n",
      "140605.9200     1\n",
      "50243.0400      1\n",
      "71075.5200      1\n",
      "60952.3200      1\n",
      "14651.4672      1\n",
      "14646.6720      1\n",
      "46886.4000      1\n",
      "38148.4800      1\n",
      "14865.1200      1\n",
      "85672.1088      1\n",
      "35324.6400      1\n",
      "108020.9376     1\n",
      "69477.1200      1\n",
      "75071.5200      1\n",
      "15557.7600      1\n",
      "68837.7600      1\n",
      "52214.4000      1\n",
      "24503.4720      1\n",
      "104370.1920     1\n",
      "39164.5296      1\n",
      "37992.3696      1\n",
      "22803.8400      1\n",
      "50669.2800      1\n",
      "58448.1600      1\n",
      "35112.0528      1\n",
      "63243.3600      1\n",
      "97449.1200      1\n",
      "153705.3408     1\n",
      "113060.1600     1\n",
      "19180.2672      1\n",
      "55571.0400      1\n",
      "14652.0000      1\n",
      "44968.3200      1\n",
      "56502.9072      1\n",
      "38787.8400      1\n",
      "99519.0480      1\n",
      "44808.4800      1\n",
      "19553.7600      1\n",
      "26037.4032      1\n",
      "27864.9072      1\n",
      "36336.9600      1\n",
      "75604.3200      1\n",
      "24828.4800      1\n",
      "16996.3200      1\n",
      "21231.5472      1\n",
      "23373.4032      1\n",
      "58767.8400      1\n",
      "20459.5200      1\n",
      "40908.3840      1\n",
      "31232.2032      1\n",
      "22111.2000      1\n",
      "50136.4800      1\n",
      "36763.2000      1\n",
      "13053.0672      1\n",
      "47738.8800      1\n",
      "69157.4400      1\n",
      "22305.1392      1\n",
      "135195.3360     1\n",
      "96095.8080      1\n",
      "21312.0000      1\n",
      "114017.6016     1\n",
      "61735.5360      1\n",
      "41025.6000      1\n",
      "20986.9920      1\n",
      "18381.0672      1\n",
      "130001.6016     1\n",
      "26581.3920      1\n",
      "67260.6720      1\n",
      "80908.3440      1\n",
      "152274.2400     1\n",
      "10224.4320      1\n",
      "13746.2400      1\n",
      "105654.2400     1\n",
      "46353.6000      1\n",
      "42890.4000      1\n",
      "59461.5456      1\n",
      "14811.3072      1\n",
      "74378.8800      1\n",
      "34045.3872      1\n",
      "47099.5200      1\n",
      "30476.1600      1\n",
      "52640.6400      1\n",
      "13445.7408      1\n",
      "32074.5600      1\n",
      "45554.4000      1\n",
      "107305.9200     1\n",
      "108105.1200     1\n",
      "66560.5728      1\n",
      "100699.2000     1\n",
      "57648.9600      1\n",
      "70063.2000      1\n",
      "21471.8400      1\n",
      "13799.5200      1\n",
      "24029.2800      1\n",
      "67718.8800      1\n",
      "119427.1200     1\n",
      "58403.4048      1\n",
      "80452.8000      1\n",
      "21045.6000      1\n",
      "31914.1872      1\n",
      "63776.1600      1\n",
      "31962.6720      1\n",
      "30742.5600      1\n",
      "34472.1600      1\n",
      "22105.8720      1\n",
      "63563.0400      1\n",
      "78854.4000      1\n",
      "74538.1872      1\n",
      "57755.5200      1\n",
      "60223.9824      1\n",
      "59567.0400      1\n",
      "92615.0256      1\n",
      "74751.8400      1\n",
      "51729.5520      1\n",
      "99367.2000      1\n",
      "30310.9920      1\n",
      "32921.7120      1\n",
      "33566.4000      1\n",
      "104695.2000     1\n",
      "52747.2000      1\n",
      "99153.5472      1\n",
      "44222.4000      1\n",
      "141884.6400     1\n",
      "32127.8400      1\n",
      "145401.1200     1\n",
      "39907.2528      1\n",
      "53733.9456      1\n",
      "81912.1392      1\n",
      "15717.6000      1\n",
      "125154.7200     1\n",
      "89137.4400      1\n",
      "13586.4000      1\n",
      "11934.7200      1\n",
      "28992.3120      1\n",
      "47895.5232      1\n",
      "13053.6000      1\n",
      "27783.9216      1\n",
      "80133.1200      1\n",
      "68184.0144      1\n",
      "73366.5600      1\n",
      "160520.3856     1\n",
      "42486.0048      1\n",
      "39207.1536      1\n",
      "42517.4400      1\n",
      "37589.0400      1\n",
      "41824.8000      1\n",
      "24634.0080      1\n",
      "21152.1600      1\n",
      "92121.1200      1\n",
      "59513.2272      1\n",
      "94305.6000      1\n",
      "107892.0000     1\n",
      "17155.6272      1\n",
      "77250.6720      1\n",
      "93635.3376      1\n",
      "59087.5200      1\n",
      "27753.5520      1\n",
      "130536.0000     1\n",
      "14598.7200      1\n",
      "64628.6400      1\n",
      "84395.5200      1\n",
      "19441.8720      1\n",
      "78534.7200      1\n",
      "56689.9200      1\n",
      "63722.8800      1\n",
      "167691.8736     1\n",
      "28504.8000      1\n",
      "79215.1056      1\n",
      "67026.2400      1\n",
      "21951.3600      1\n",
      "48304.7136      1\n",
      "78801.1200      1\n",
      "96969.6000      1\n",
      "34046.4528      1\n",
      "88977.6000      1\n",
      "93932.6400      1\n",
      "64948.3200      1\n",
      "35616.6144      1\n",
      "24775.2000      1\n",
      "261018.7200     1\n",
      "46833.6528      1\n",
      "23650.9920      1\n",
      "62231.0400      1\n",
      "120831.5808     1\n",
      "59886.7200      1\n",
      "78055.2000      1\n",
      "41345.2800      1\n",
      "49656.9600      1\n",
      "12733.9200      1\n",
      "74589.3360      1\n",
      "64961.1072      1\n",
      "44542.0800      1\n",
      "16221.0960      1\n",
      "144495.3600     1\n",
      "139860.0000     1\n",
      "16303.6800      1\n",
      "60978.9600      1\n",
      "99793.4400      1\n",
      "93080.1600      1\n",
      "89510.4000      1\n",
      "102564.0000     1\n",
      "70489.4400      1\n",
      "103523.0400     1\n",
      "42038.4528      1\n",
      "31909.3920      1\n",
      "79920.0000      1\n",
      "28768.5360      1\n",
      "64755.4464      1\n",
      "60867.0720      1\n",
      "65510.9568      1\n",
      "41498.1936      1\n",
      "36975.7872      1\n",
      "84768.4800      1\n",
      "29696.6736      1\n",
      "43103.5200      1\n",
      "93240.0000      1\n",
      "22697.2800      1\n",
      "46300.8528      1\n",
      "26053.3872      1\n",
      "29463.8400      1\n",
      "15238.0800      1\n",
      "21498.4800      1\n",
      "88178.4000      1\n",
      "93181.3920      1\n",
      "121584.9600     1\n",
      "113752.8000     1\n",
      "133679.5200     1\n",
      "55357.9200      1\n",
      "53812.8000      1\n",
      "130269.6000     1\n",
      "90309.6000      1\n",
      "98133.7680      1\n",
      "128298.2400     1\n",
      "72673.9200      1\n",
      "89084.1600      1\n",
      "31254.0480      1\n",
      "13261.3920      1\n",
      "124568.6400     1\n",
      "95797.4400      1\n",
      "53918.8272      1\n",
      "71928.0000      1\n",
      "47893.3920      1\n",
      "48538.0800      1\n",
      "18115.2000      1\n",
      "32979.7872      1\n",
      "65214.7200      1\n",
      "32660.6400      1\n",
      "39427.2000      1\n",
      "67932.0000      1\n",
      "18488.1600      1\n",
      "61485.1200      1\n",
      "126912.9600     1\n",
      "76137.1200      1\n",
      "23539.1040      1\n",
      "106187.0400     1\n",
      "54757.9872      1\n",
      "137941.9200     1\n",
      "81731.5200      1\n",
      "71661.6000      1\n",
      "109010.8800     1\n",
      "34093.8720      1\n",
      "28984.3200      1\n",
      "111355.2000     1\n",
      "16197.1200      1\n",
      "40439.5200      1\n",
      "98994.2400      1\n",
      "143802.7200     1\n",
      "Name: Price, dtype: int64 \n",
      "\n",
      " -------------------------------------------------- \n",
      " -------------------------------------------------- \n",
      "\n",
      "\n"
     ]
    }
   ],
   "source": [
    "for i in data.columns:\n",
    "    print('Number of unique Values in',i,'are -',data[i].nunique(),'\\n')\n",
    "    print('Counts of each value in',i,'-\\n' , data[i].value_counts() , '\\n\\n','-'*50,'\\n','-'*50,'\\n\\n' )"
   ]
  },
  {
   "cell_type": "markdown",
   "id": "6172e022",
   "metadata": {},
   "source": [
    "**Removing `GB` from Ram column** \\\n",
    "**Removing `kg` from Weight column** "
   ]
  },
  {
   "cell_type": "code",
   "execution_count": 11,
   "id": "f6dc4c5d",
   "metadata": {},
   "outputs": [],
   "source": [
    "data[\"Ram\"] = data[\"Ram\"].str.replace(\"GB\",\"\")\n",
    "data[\"Weight\"] = data[\"Weight\"].str.replace(\"kg\",\"\")"
   ]
  },
  {
   "cell_type": "code",
   "execution_count": 12,
   "id": "b69bd01d",
   "metadata": {},
   "outputs": [
    {
     "data": {
      "text/html": [
       "<div>\n",
       "<style scoped>\n",
       "    .dataframe tbody tr th:only-of-type {\n",
       "        vertical-align: middle;\n",
       "    }\n",
       "\n",
       "    .dataframe tbody tr th {\n",
       "        vertical-align: top;\n",
       "    }\n",
       "\n",
       "    .dataframe thead th {\n",
       "        text-align: right;\n",
       "    }\n",
       "</style>\n",
       "<table border=\"1\" class=\"dataframe\">\n",
       "  <thead>\n",
       "    <tr style=\"text-align: right;\">\n",
       "      <th></th>\n",
       "      <th>Company</th>\n",
       "      <th>TypeName</th>\n",
       "      <th>Inches</th>\n",
       "      <th>ScreenResolution</th>\n",
       "      <th>Cpu</th>\n",
       "      <th>Ram</th>\n",
       "      <th>Memory</th>\n",
       "      <th>Gpu</th>\n",
       "      <th>OpSys</th>\n",
       "      <th>Weight</th>\n",
       "      <th>Price</th>\n",
       "    </tr>\n",
       "  </thead>\n",
       "  <tbody>\n",
       "    <tr>\n",
       "      <th>0</th>\n",
       "      <td>Apple</td>\n",
       "      <td>Ultrabook</td>\n",
       "      <td>13.3</td>\n",
       "      <td>IPS Panel Retina Display 2560x1600</td>\n",
       "      <td>Intel Core i5 2.3GHz</td>\n",
       "      <td>8</td>\n",
       "      <td>128GB SSD</td>\n",
       "      <td>Intel Iris Plus Graphics 640</td>\n",
       "      <td>macOS</td>\n",
       "      <td>1.37</td>\n",
       "      <td>71378.6832</td>\n",
       "    </tr>\n",
       "    <tr>\n",
       "      <th>1</th>\n",
       "      <td>Apple</td>\n",
       "      <td>Ultrabook</td>\n",
       "      <td>13.3</td>\n",
       "      <td>1440x900</td>\n",
       "      <td>Intel Core i5 1.8GHz</td>\n",
       "      <td>8</td>\n",
       "      <td>128GB Flash Storage</td>\n",
       "      <td>Intel HD Graphics 6000</td>\n",
       "      <td>macOS</td>\n",
       "      <td>1.34</td>\n",
       "      <td>47895.5232</td>\n",
       "    </tr>\n",
       "  </tbody>\n",
       "</table>\n",
       "</div>"
      ],
      "text/plain": [
       "  Company   TypeName  Inches                    ScreenResolution  \\\n",
       "0   Apple  Ultrabook    13.3  IPS Panel Retina Display 2560x1600   \n",
       "1   Apple  Ultrabook    13.3                            1440x900   \n",
       "\n",
       "                    Cpu Ram               Memory  \\\n",
       "0  Intel Core i5 2.3GHz   8            128GB SSD   \n",
       "1  Intel Core i5 1.8GHz   8  128GB Flash Storage   \n",
       "\n",
       "                            Gpu  OpSys Weight       Price  \n",
       "0  Intel Iris Plus Graphics 640  macOS   1.37  71378.6832  \n",
       "1        Intel HD Graphics 6000  macOS   1.34  47895.5232  "
      ]
     },
     "execution_count": 12,
     "metadata": {},
     "output_type": "execute_result"
    }
   ],
   "source": [
    "data.head(2)"
   ]
  },
  {
   "cell_type": "markdown",
   "id": "9dfac87f",
   "metadata": {},
   "source": [
    "**Changing Datatype of `Ram` & `Weight` column**"
   ]
  },
  {
   "cell_type": "code",
   "execution_count": 13,
   "id": "72bcd52d",
   "metadata": {},
   "outputs": [],
   "source": [
    "data[\"Ram\"] = data[\"Ram\"].astype(\"int32\")\n",
    "data[\"Weight\"] = data[\"Weight\"].astype(\"float64\")"
   ]
  },
  {
   "cell_type": "code",
   "execution_count": 14,
   "id": "d83c2068",
   "metadata": {},
   "outputs": [
    {
     "data": {
      "text/plain": [
       "Company              object\n",
       "TypeName             object\n",
       "Inches              float64\n",
       "ScreenResolution     object\n",
       "Cpu                  object\n",
       "Ram                   int32\n",
       "Memory               object\n",
       "Gpu                  object\n",
       "OpSys                object\n",
       "Weight              float64\n",
       "Price               float64\n",
       "dtype: object"
      ]
     },
     "execution_count": 14,
     "metadata": {},
     "output_type": "execute_result"
    }
   ],
   "source": [
    "data.dtypes"
   ]
  },
  {
   "cell_type": "markdown",
   "id": "85cb0bba",
   "metadata": {},
   "source": [
    "# EDA (Expolatory Data Analysis)"
   ]
  },
  {
   "cell_type": "markdown",
   "id": "d27dabcf",
   "metadata": {},
   "source": [
    "## Company (Categorical column)"
   ]
  },
  {
   "cell_type": "code",
   "execution_count": 15,
   "id": "e9c33ca5",
   "metadata": {},
   "outputs": [
    {
     "data": {
      "text/plain": [
       "Dell       297\n",
       "Lenovo     297\n",
       "HP         274\n",
       "Asus       158\n",
       "Acer       103\n",
       "MSI         54\n",
       "Toshiba     48\n",
       "Apple       21\n",
       "Samsung      9\n",
       "Razer        7\n",
       "Name: Company, dtype: int64"
      ]
     },
     "execution_count": 15,
     "metadata": {},
     "output_type": "execute_result"
    }
   ],
   "source": [
    "# Top 10 companies with highest counts of laptop\n",
    "data[\"Company\"].value_counts().nlargest(10)"
   ]
  },
  {
   "cell_type": "code",
   "execution_count": 16,
   "id": "08bec3bf",
   "metadata": {},
   "outputs": [
    {
     "data": {
      "image/png": "[encoded data removed]",
      "text/plain": [
       "<Figure size 1000x400 with 2 Axes>"
      ]
     },
     "metadata": {},
     "output_type": "display_data"
    }
   ],
   "source": [
    "fig, axes = plt.subplots(nrows=1, ncols=2, figsize=(10, 4))\n",
    "\n",
    "# Plot data on the first subplot\n",
    "a = sns.countplot(x = \"Company\", data = data, ax=axes[0], palette='plasma')\n",
    "axes[0].tick_params(axis='x', rotation=90)\n",
    "axes[0].bar_label(a.containers[0], fontsize=8);\n",
    "axes[0].set_title('')\n",
    "axes[0].set_xlabel('Company')\n",
    "axes[0].set_ylabel('Count')\n",
    "\n",
    "# Plot data on the second subplot\n",
    "a = data[\"Company\"].value_counts().plot(kind= \"bar\", ax=axes[1])\n",
    "axes[1].bar_label(a.containers[0], fontsize=8);\n",
    "axes[1].set_title('Sorted according to count')\n",
    "axes[1].set_xlabel('Company')\n",
    "axes[1].set_ylabel('Count')\n",
    "\n",
    "# Adjust layout\n",
    "plt.tight_layout()"
   ]
  },
  {
   "cell_type": "markdown",
   "id": "cca87f3e",
   "metadata": {},
   "source": [
    "**Observations:-**\n",
    "- Dell, Lenovo & HP has the most number of laptop (around 300)"
   ]
  },
  {
   "cell_type": "markdown",
   "id": "a7ba0538",
   "metadata": {},
   "source": [
    "**`Company` vs. `Price`**"
   ]
  },
  {
   "cell_type": "code",
   "execution_count": 17,
   "id": "4d872a0b",
   "metadata": {},
   "outputs": [
    {
     "data": {
      "image/png": "[encoded data removed]",
      "text/plain": [
       "<Figure size 1200x500 with 2 Axes>"
      ]
     },
     "metadata": {},
     "output_type": "display_data"
    }
   ],
   "source": [
    "fig, axes = plt.subplots(nrows=1, ncols=2, figsize=(12, 5))\n",
    "\n",
    "# Plot data on the first subplot\n",
    "a = sns.scatterplot(x= \"Company\", y= \"Price\", data = data, ax=axes[0])\n",
    "axes[0].tick_params(axis='x', rotation=90)\n",
    "axes[0].set_title('Scatterplot')\n",
    "axes[0].set_xlabel('Company')\n",
    "axes[0].set_ylabel('Price')\n",
    "\n",
    "# Plot data on the second subplot\n",
    "a = sns.barplot(x= \"Company\", y= \"Price\", data = data, ax=axes[1])\n",
    "# axes[1].bar_label(a.containers[0], fontsize=8)\n",
    "axes[1].tick_params(axis='x', rotation=90)\n",
    "axes[1].set_title('Barplot')\n",
    "axes[1].set_xlabel('Company')\n",
    "axes[1].set_ylabel('Price')\n",
    "\n",
    "# Adjust layout\n",
    "plt.tight_layout()"
   ]
  },
  {
   "cell_type": "markdown",
   "id": "22cc4754",
   "metadata": {},
   "source": [
    "**Observations:-**  \n",
    "- By the above Scatterplot and Barplot we can clearly see that `Razer` Company has the highest price of the laptop\n",
    "- Price of the laptop expect Razer company are below 1,20,000 "
   ]
  },
  {
   "cell_type": "markdown",
   "id": "30c453c3",
   "metadata": {},
   "source": [
    "## TypeName (Categorical column)"
   ]
  },
  {
   "cell_type": "code",
   "execution_count": 18,
   "id": "cac3117c",
   "metadata": {},
   "outputs": [
    {
     "data": {
      "text/plain": [
       "Notebook              727\n",
       "Gaming                205\n",
       "Ultrabook             196\n",
       "2 in 1 Convertible    121\n",
       "Workstation            29\n",
       "Netbook                25\n",
       "Name: TypeName, dtype: int64"
      ]
     },
     "execution_count": 18,
     "metadata": {},
     "output_type": "execute_result"
    }
   ],
   "source": [
    "data[\"TypeName\"].value_counts()"
   ]
  },
  {
   "cell_type": "code",
   "execution_count": 19,
   "id": "6e24178d",
   "metadata": {},
   "outputs": [
    {
     "data": {
      "image/png": "[encoded data removed]",
      "text/plain": [
       "<Figure size 400x400 with 1 Axes>"
      ]
     },
     "metadata": {},
     "output_type": "display_data"
    }
   ],
   "source": [
    "# Creating pie chart\n",
    "plt.figure(figsize=(4, 4))\n",
    "plt.pie(data[\"TypeName\"].value_counts().values, labels=data[\"TypeName\"].value_counts().index, textprops = {\"fontsize\":8}, autopct='%1.1f%%', startangle = 20)\n",
    "plt.axis('equal')  # Equal aspect ratio ensures that pie is drawn as a circle.\n",
    "plt.title('TypeName \\n\\n', fontdict={'fontsize': 13});"
   ]
  },
  {
   "cell_type": "markdown",
   "id": "8cdf365e",
   "metadata": {},
   "source": [
    "**Observations:-**\n",
    "- Most choosen laptop is `Notebook` around 55.8%"
   ]
  },
  {
   "cell_type": "markdown",
   "id": "1c1637a1",
   "metadata": {},
   "source": [
    "**`TypeName` vs. `Price`**"
   ]
  },
  {
   "cell_type": "code",
   "execution_count": 20,
   "id": "443e6aba",
   "metadata": {},
   "outputs": [
    {
     "data": {
      "image/png": "[encoded data removed]",
      "text/plain": [
       "<Figure size 640x480 with 1 Axes>"
      ]
     },
     "metadata": {},
     "output_type": "display_data"
    }
   ],
   "source": [
    "sns.scatterplot(x= data[\"TypeName\"], y = data[\"Price\"])\n",
    "plt.xticks(rotation = 90);"
   ]
  },
  {
   "cell_type": "markdown",
   "id": "364a808f",
   "metadata": {},
   "source": [
    "**Obseravation:-**\n",
    "- The price of Notebook is less compared to other types of laptop, might be the reason people purchase more Notebook  \n",
    "- Some of the gaming laptop has a price around 3 lakhs "
   ]
  },
  {
   "cell_type": "markdown",
   "id": "00886964",
   "metadata": {},
   "source": [
    "## Inches"
   ]
  },
  {
   "cell_type": "code",
   "execution_count": 21,
   "id": "82c77783",
   "metadata": {},
   "outputs": [
    {
     "data": {
      "text/plain": [
       "15.6    665\n",
       "14.0    197\n",
       "13.3    164\n",
       "17.3    164\n",
       "12.5     39\n",
       "11.6     33\n",
       "12.0      6\n",
       "13.5      6\n",
       "13.9      6\n",
       "12.3      5\n",
       "10.1      4\n",
       "15.4      4\n",
       "15.0      4\n",
       "13.0      2\n",
       "18.4      1\n",
       "17.0      1\n",
       "14.1      1\n",
       "11.3      1\n",
       "Name: Inches, dtype: int64"
      ]
     },
     "execution_count": 21,
     "metadata": {},
     "output_type": "execute_result"
    }
   ],
   "source": [
    "data[\"Inches\"].value_counts()"
   ]
  },
  {
   "cell_type": "markdown",
   "id": "bd37acbe",
   "metadata": {},
   "source": [
    "**`Inches` vs. `Price`**"
   ]
  },
  {
   "cell_type": "code",
   "execution_count": 22,
   "id": "b3935f7f",
   "metadata": {},
   "outputs": [
    {
     "data": {
      "text/plain": [
       "<Axes: xlabel='Inches', ylabel='Price'>"
      ]
     },
     "execution_count": 22,
     "metadata": {},
     "output_type": "execute_result"
    },
    {
     "data": {
      "image/png": "[encoded data removed]",
      "text/plain": [
       "<Figure size 640x480 with 1 Axes>"
      ]
     },
     "metadata": {},
     "output_type": "display_data"
    }
   ],
   "source": [
    "sns.scatterplot(x = data[\"Inches\"] , y =data[\"Price\"])"
   ]
  },
  {
   "cell_type": "markdown",
   "id": "ce1dc710",
   "metadata": {},
   "source": [
    "**Obseravation:-**\n",
    "- As the size of laptop incresing the price is also increasing"
   ]
  },
  {
   "cell_type": "markdown",
   "id": "1e64e784",
   "metadata": {},
   "source": [
    "## ScreenResolution"
   ]
  },
  {
   "cell_type": "code",
   "execution_count": 23,
   "id": "2eed9465",
   "metadata": {
    "scrolled": false
   },
   "outputs": [
    {
     "data": {
      "text/plain": [
       "Full HD 1920x1080                                507\n",
       "1366x768                                         281\n",
       "IPS Panel Full HD 1920x1080                      230\n",
       "IPS Panel Full HD / Touchscreen 1920x1080         53\n",
       "Full HD / Touchscreen 1920x1080                   47\n",
       "1600x900                                          23\n",
       "Touchscreen 1366x768                              16\n",
       "Quad HD+ / Touchscreen 3200x1800                  15\n",
       "IPS Panel 4K Ultra HD 3840x2160                   12\n",
       "IPS Panel 4K Ultra HD / Touchscreen 3840x2160     11\n",
       "4K Ultra HD / Touchscreen 3840x2160               10\n",
       "4K Ultra HD 3840x2160                              7\n",
       "Touchscreen 2560x1440                              7\n",
       "IPS Panel 1366x768                                 7\n",
       "IPS Panel Quad HD+ / Touchscreen 3200x1800         6\n",
       "IPS Panel Retina Display 2560x1600                 6\n",
       "IPS Panel Retina Display 2304x1440                 6\n",
       "Touchscreen 2256x1504                              6\n",
       "IPS Panel Touchscreen 2560x1440                    5\n",
       "IPS Panel Retina Display 2880x1800                 4\n",
       "IPS Panel Touchscreen 1920x1200                    4\n",
       "1440x900                                           4\n",
       "IPS Panel 2560x1440                                4\n",
       "IPS Panel Quad HD+ 2560x1440                       3\n",
       "Quad HD+ 3200x1800                                 3\n",
       "1920x1080                                          3\n",
       "Touchscreen 2400x1600                              3\n",
       "2560x1440                                          3\n",
       "IPS Panel Touchscreen 1366x768                     3\n",
       "IPS Panel Touchscreen / 4K Ultra HD 3840x2160      2\n",
       "IPS Panel Full HD 2160x1440                        2\n",
       "IPS Panel Quad HD+ 3200x1800                       2\n",
       "IPS Panel Retina Display 2736x1824                 1\n",
       "IPS Panel Full HD 1920x1200                        1\n",
       "IPS Panel Full HD 2560x1440                        1\n",
       "IPS Panel Full HD 1366x768                         1\n",
       "Touchscreen / Full HD 1920x1080                    1\n",
       "Touchscreen / Quad HD+ 3200x1800                   1\n",
       "Touchscreen / 4K Ultra HD 3840x2160                1\n",
       "IPS Panel Touchscreen 2400x1600                    1\n",
       "Name: ScreenResolution, dtype: int64"
      ]
     },
     "execution_count": 23,
     "metadata": {},
     "output_type": "execute_result"
    }
   ],
   "source": [
    "data.ScreenResolution.value_counts()"
   ]
  },
  {
   "cell_type": "markdown",
   "id": "e8056196",
   "metadata": {},
   "source": [
    "**Observation:-**\n",
    "- if we notice every category has some common features like(1920x1080, 2560x1440....), we can create a new column out of it\n",
    "- Also for touchscreen \n"
   ]
  },
  {
   "cell_type": "code",
   "execution_count": 24,
   "id": "d58518bf",
   "metadata": {
    "scrolled": false
   },
   "outputs": [],
   "source": [
    "# Extracting resolution from ScreenResolution and assigning those values into new columns\n",
    "data[\"Resolution\"] = data[\"ScreenResolution\"].apply(lambda x:x.split(\" \")[-1])"
   ]
  },
  {
   "cell_type": "code",
   "execution_count": 25,
   "id": "04bd942a",
   "metadata": {
    "scrolled": false
   },
   "outputs": [
    {
     "data": {
      "text/html": [
       "<div>\n",
       "<style scoped>\n",
       "    .dataframe tbody tr th:only-of-type {\n",
       "        vertical-align: middle;\n",
       "    }\n",
       "\n",
       "    .dataframe tbody tr th {\n",
       "        vertical-align: top;\n",
       "    }\n",
       "\n",
       "    .dataframe thead th {\n",
       "        text-align: right;\n",
       "    }\n",
       "</style>\n",
       "<table border=\"1\" class=\"dataframe\">\n",
       "  <thead>\n",
       "    <tr style=\"text-align: right;\">\n",
       "      <th></th>\n",
       "      <th>Company</th>\n",
       "      <th>TypeName</th>\n",
       "      <th>Inches</th>\n",
       "      <th>ScreenResolution</th>\n",
       "      <th>Cpu</th>\n",
       "      <th>Ram</th>\n",
       "      <th>Memory</th>\n",
       "      <th>Gpu</th>\n",
       "      <th>OpSys</th>\n",
       "      <th>Weight</th>\n",
       "      <th>Price</th>\n",
       "      <th>Resolution</th>\n",
       "    </tr>\n",
       "  </thead>\n",
       "  <tbody>\n",
       "    <tr>\n",
       "      <th>0</th>\n",
       "      <td>Apple</td>\n",
       "      <td>Ultrabook</td>\n",
       "      <td>13.3</td>\n",
       "      <td>IPS Panel Retina Display 2560x1600</td>\n",
       "      <td>Intel Core i5 2.3GHz</td>\n",
       "      <td>8</td>\n",
       "      <td>128GB SSD</td>\n",
       "      <td>Intel Iris Plus Graphics 640</td>\n",
       "      <td>macOS</td>\n",
       "      <td>1.37</td>\n",
       "      <td>71378.6832</td>\n",
       "      <td>2560x1600</td>\n",
       "    </tr>\n",
       "    <tr>\n",
       "      <th>1</th>\n",
       "      <td>Apple</td>\n",
       "      <td>Ultrabook</td>\n",
       "      <td>13.3</td>\n",
       "      <td>1440x900</td>\n",
       "      <td>Intel Core i5 1.8GHz</td>\n",
       "      <td>8</td>\n",
       "      <td>128GB Flash Storage</td>\n",
       "      <td>Intel HD Graphics 6000</td>\n",
       "      <td>macOS</td>\n",
       "      <td>1.34</td>\n",
       "      <td>47895.5232</td>\n",
       "      <td>1440x900</td>\n",
       "    </tr>\n",
       "  </tbody>\n",
       "</table>\n",
       "</div>"
      ],
      "text/plain": [
       "  Company   TypeName  Inches                    ScreenResolution  \\\n",
       "0   Apple  Ultrabook    13.3  IPS Panel Retina Display 2560x1600   \n",
       "1   Apple  Ultrabook    13.3                            1440x900   \n",
       "\n",
       "                    Cpu  Ram               Memory  \\\n",
       "0  Intel Core i5 2.3GHz    8            128GB SSD   \n",
       "1  Intel Core i5 1.8GHz    8  128GB Flash Storage   \n",
       "\n",
       "                            Gpu  OpSys  Weight       Price Resolution  \n",
       "0  Intel Iris Plus Graphics 640  macOS    1.37  71378.6832  2560x1600  \n",
       "1        Intel HD Graphics 6000  macOS    1.34  47895.5232   1440x900  "
      ]
     },
     "execution_count": 25,
     "metadata": {},
     "output_type": "execute_result"
    }
   ],
   "source": [
    "data.head(2)"
   ]
  },
  {
   "cell_type": "code",
   "execution_count": 26,
   "id": "f6096b9d",
   "metadata": {},
   "outputs": [],
   "source": [
    "# Creating 2 more columns X_Resolution and Y_Resolution\n",
    "data[\"X_Resolution\"] = data[\"Resolution\"].apply(lambda x:x.split(\"x\")[0]).astype(\"int\")\n",
    "data[\"Y_Resolution\"] = data[\"Resolution\"].apply(lambda x:x.split(\"x\")[1]).astype(\"int\")"
   ]
  },
  {
   "cell_type": "code",
   "execution_count": 27,
   "id": "00144cad",
   "metadata": {},
   "outputs": [
    {
     "data": {
      "text/html": [
       "<div>\n",
       "<style scoped>\n",
       "    .dataframe tbody tr th:only-of-type {\n",
       "        vertical-align: middle;\n",
       "    }\n",
       "\n",
       "    .dataframe tbody tr th {\n",
       "        vertical-align: top;\n",
       "    }\n",
       "\n",
       "    .dataframe thead th {\n",
       "        text-align: right;\n",
       "    }\n",
       "</style>\n",
       "<table border=\"1\" class=\"dataframe\">\n",
       "  <thead>\n",
       "    <tr style=\"text-align: right;\">\n",
       "      <th></th>\n",
       "      <th>Company</th>\n",
       "      <th>TypeName</th>\n",
       "      <th>Inches</th>\n",
       "      <th>ScreenResolution</th>\n",
       "      <th>Cpu</th>\n",
       "      <th>Ram</th>\n",
       "      <th>Memory</th>\n",
       "      <th>Gpu</th>\n",
       "      <th>OpSys</th>\n",
       "      <th>Weight</th>\n",
       "      <th>Price</th>\n",
       "      <th>Resolution</th>\n",
       "      <th>X_Resolution</th>\n",
       "      <th>Y_Resolution</th>\n",
       "    </tr>\n",
       "  </thead>\n",
       "  <tbody>\n",
       "    <tr>\n",
       "      <th>0</th>\n",
       "      <td>Apple</td>\n",
       "      <td>Ultrabook</td>\n",
       "      <td>13.3</td>\n",
       "      <td>IPS Panel Retina Display 2560x1600</td>\n",
       "      <td>Intel Core i5 2.3GHz</td>\n",
       "      <td>8</td>\n",
       "      <td>128GB SSD</td>\n",
       "      <td>Intel Iris Plus Graphics 640</td>\n",
       "      <td>macOS</td>\n",
       "      <td>1.37</td>\n",
       "      <td>71378.6832</td>\n",
       "      <td>2560x1600</td>\n",
       "      <td>2560</td>\n",
       "      <td>1600</td>\n",
       "    </tr>\n",
       "    <tr>\n",
       "      <th>1</th>\n",
       "      <td>Apple</td>\n",
       "      <td>Ultrabook</td>\n",
       "      <td>13.3</td>\n",
       "      <td>1440x900</td>\n",
       "      <td>Intel Core i5 1.8GHz</td>\n",
       "      <td>8</td>\n",
       "      <td>128GB Flash Storage</td>\n",
       "      <td>Intel HD Graphics 6000</td>\n",
       "      <td>macOS</td>\n",
       "      <td>1.34</td>\n",
       "      <td>47895.5232</td>\n",
       "      <td>1440x900</td>\n",
       "      <td>1440</td>\n",
       "      <td>900</td>\n",
       "    </tr>\n",
       "  </tbody>\n",
       "</table>\n",
       "</div>"
      ],
      "text/plain": [
       "  Company   TypeName  Inches                    ScreenResolution  \\\n",
       "0   Apple  Ultrabook    13.3  IPS Panel Retina Display 2560x1600   \n",
       "1   Apple  Ultrabook    13.3                            1440x900   \n",
       "\n",
       "                    Cpu  Ram               Memory  \\\n",
       "0  Intel Core i5 2.3GHz    8            128GB SSD   \n",
       "1  Intel Core i5 1.8GHz    8  128GB Flash Storage   \n",
       "\n",
       "                            Gpu  OpSys  Weight       Price Resolution  \\\n",
       "0  Intel Iris Plus Graphics 640  macOS    1.37  71378.6832  2560x1600   \n",
       "1        Intel HD Graphics 6000  macOS    1.34  47895.5232   1440x900   \n",
       "\n",
       "   X_Resolution  Y_Resolution  \n",
       "0          2560          1600  \n",
       "1          1440           900  "
      ]
     },
     "execution_count": 27,
     "metadata": {},
     "output_type": "execute_result"
    }
   ],
   "source": [
    "data.head(2)"
   ]
  },
  {
   "cell_type": "markdown",
   "id": "16c129d3",
   "metadata": {},
   "source": [
    "**Creating New column PPI**\n",
    "PPI stands for \"Pixels Per Inch.\" It is a measure of the pixel density on a display screen, typically used to describe the clarity and sharpness of an image or text. \n",
    "\n",
    "In the context of a laptop, PPI refers to the number of pixels that can be displayed per inch of the screen. A higher PPI generally indicates a sharper and clearer display, as there are more pixels packed into each inch. This can result in crisper text, more detailed images, and smoother graphics.\n",
    "\n",
    "When comparing laptops, especially those with different screen sizes, PPI can be a useful metric to consider alongside resolution to gauge the quality of the display.\n",
    "To find the Pixels Per Inch (PPI) of a laptop screen, you'll need to know two main pieces of information: the screen resolution and the physical dimensions of the screen. Once you have these details, you can use a simple formula to calculate the PPI.\n",
    "\n",
    "Here's the formula:\n",
    "\n",
    "$$ \\text{PPI} = \\sqrt{\\frac{{\\text{Horizontal Pixels}^2 + \\text{Vertical Pixels}^2}}{{\\text{Diagonal Size}^2}}} $$"
   ]
  },
  {
   "cell_type": "code",
   "execution_count": 28,
   "id": "6c77a45f",
   "metadata": {},
   "outputs": [],
   "source": [
    "data[\"PPI\"] = (((data['X_Resolution']**2) + (data['Y_Resolution']**2))**0.5/data['Inches']).astype('float')"
   ]
  },
  {
   "cell_type": "code",
   "execution_count": 29,
   "id": "0d73a48c",
   "metadata": {
    "scrolled": true
   },
   "outputs": [],
   "source": [
    "#Creating a function to check Touchscreen laptop\n",
    "def CheckScreen(obj):\n",
    "    for i in obj:\n",
    "        if \"Touchscreen\" in obj:\n",
    "            return 1\n",
    "        else:\n",
    "            return 0"
   ]
  },
  {
   "cell_type": "code",
   "execution_count": 30,
   "id": "8d65dd66",
   "metadata": {
    "scrolled": false
   },
   "outputs": [],
   "source": [
    "# Creating a new column `TouchScreen` (1 for Touchscreen and 0 for else)\n",
    "data[\"TouchScreen\"] = data[\"ScreenResolution\"].apply(CheckScreen)"
   ]
  },
  {
   "cell_type": "code",
   "execution_count": 31,
   "id": "c400a220",
   "metadata": {},
   "outputs": [
    {
     "data": {
      "text/html": [
       "<div>\n",
       "<style scoped>\n",
       "    .dataframe tbody tr th:only-of-type {\n",
       "        vertical-align: middle;\n",
       "    }\n",
       "\n",
       "    .dataframe tbody tr th {\n",
       "        vertical-align: top;\n",
       "    }\n",
       "\n",
       "    .dataframe thead th {\n",
       "        text-align: right;\n",
       "    }\n",
       "</style>\n",
       "<table border=\"1\" class=\"dataframe\">\n",
       "  <thead>\n",
       "    <tr style=\"text-align: right;\">\n",
       "      <th></th>\n",
       "      <th>Company</th>\n",
       "      <th>TypeName</th>\n",
       "      <th>Inches</th>\n",
       "      <th>ScreenResolution</th>\n",
       "      <th>Cpu</th>\n",
       "      <th>Ram</th>\n",
       "      <th>Memory</th>\n",
       "      <th>Gpu</th>\n",
       "      <th>OpSys</th>\n",
       "      <th>Weight</th>\n",
       "      <th>Price</th>\n",
       "      <th>Resolution</th>\n",
       "      <th>X_Resolution</th>\n",
       "      <th>Y_Resolution</th>\n",
       "      <th>PPI</th>\n",
       "      <th>TouchScreen</th>\n",
       "    </tr>\n",
       "  </thead>\n",
       "  <tbody>\n",
       "    <tr>\n",
       "      <th>558</th>\n",
       "      <td>HP</td>\n",
       "      <td>Notebook</td>\n",
       "      <td>15.6</td>\n",
       "      <td>IPS Panel Full HD 1920x1080</td>\n",
       "      <td>AMD A10-Series A10-9620P 2.5GHz</td>\n",
       "      <td>6</td>\n",
       "      <td>128GB SSD</td>\n",
       "      <td>AMD Radeon 530</td>\n",
       "      <td>Windows 10</td>\n",
       "      <td>1.91</td>\n",
       "      <td>30310.992</td>\n",
       "      <td>1920x1080</td>\n",
       "      <td>1920</td>\n",
       "      <td>1080</td>\n",
       "      <td>141.211998</td>\n",
       "      <td>0</td>\n",
       "    </tr>\n",
       "    <tr>\n",
       "      <th>1298</th>\n",
       "      <td>Lenovo</td>\n",
       "      <td>2 in 1 Convertible</td>\n",
       "      <td>14.0</td>\n",
       "      <td>IPS Panel Full HD / Touchscreen 1920x1080</td>\n",
       "      <td>Intel Core i7 6500U 2.5GHz</td>\n",
       "      <td>4</td>\n",
       "      <td>128GB SSD</td>\n",
       "      <td>Intel HD Graphics 520</td>\n",
       "      <td>Windows 10</td>\n",
       "      <td>1.80</td>\n",
       "      <td>33992.640</td>\n",
       "      <td>1920x1080</td>\n",
       "      <td>1920</td>\n",
       "      <td>1080</td>\n",
       "      <td>157.350512</td>\n",
       "      <td>1</td>\n",
       "    </tr>\n",
       "  </tbody>\n",
       "</table>\n",
       "</div>"
      ],
      "text/plain": [
       "     Company            TypeName  Inches  \\\n",
       "558       HP            Notebook    15.6   \n",
       "1298  Lenovo  2 in 1 Convertible    14.0   \n",
       "\n",
       "                               ScreenResolution  \\\n",
       "558                 IPS Panel Full HD 1920x1080   \n",
       "1298  IPS Panel Full HD / Touchscreen 1920x1080   \n",
       "\n",
       "                                  Cpu  Ram     Memory                    Gpu  \\\n",
       "558   AMD A10-Series A10-9620P 2.5GHz    6  128GB SSD         AMD Radeon 530   \n",
       "1298       Intel Core i7 6500U 2.5GHz    4  128GB SSD  Intel HD Graphics 520   \n",
       "\n",
       "           OpSys  Weight      Price Resolution  X_Resolution  Y_Resolution  \\\n",
       "558   Windows 10    1.91  30310.992  1920x1080          1920          1080   \n",
       "1298  Windows 10    1.80  33992.640  1920x1080          1920          1080   \n",
       "\n",
       "             PPI  TouchScreen  \n",
       "558   141.211998            0  \n",
       "1298  157.350512            1  "
      ]
     },
     "execution_count": 31,
     "metadata": {},
     "output_type": "execute_result"
    }
   ],
   "source": [
    "data.sample(2)"
   ]
  },
  {
   "cell_type": "code",
   "execution_count": 32,
   "id": "c5bbd334",
   "metadata": {},
   "outputs": [
    {
     "name": "stdout",
     "output_type": "stream",
     "text": [
      "Percentage of Touchscreen Laptop: 14.735226400613968\n",
      "Percentage of Non-Touchscreen Laptop: 85.26477359938603\n",
      "--------------------------------------------------\n"
     ]
    },
    {
     "data": {
      "image/png": "[encoded data removed]",
      "text/plain": [
       "<Figure size 500x400 with 1 Axes>"
      ]
     },
     "metadata": {},
     "output_type": "display_data"
    }
   ],
   "source": [
    "plt.figure(figsize=(5,4))\n",
    "print(f\"Percentage of Touchscreen Laptop: {(((data['TouchScreen'].value_counts())/len(data['TouchScreen']))*100)[1]}\")\n",
    "print(f\"Percentage of Non-Touchscreen Laptop: {(((data['TouchScreen'].value_counts())/len(data['TouchScreen']))*100)[0]}\")\n",
    "print(\"-\"*50)\n",
    "a = sns.countplot(x = \"TouchScreen\", data = data ,  palette='husl')\n",
    "a.bar_label(a.containers[0], fontsize=8);"
   ]
  },
  {
   "cell_type": "code",
   "execution_count": 33,
   "id": "d0fea3bb",
   "metadata": {
    "scrolled": false
   },
   "outputs": [
    {
     "data": {
      "image/png": "[encoded data removed]",
      "text/plain": [
       "<Figure size 500x400 with 1 Axes>"
      ]
     },
     "metadata": {},
     "output_type": "display_data"
    }
   ],
   "source": [
    "plt.figure(figsize=(5,4))\n",
    "sns.barplot(x= \"TouchScreen\", y= \"Price\", data = data,  palette='husl');"
   ]
  },
  {
   "cell_type": "markdown",
   "id": "6a3f46b3",
   "metadata": {},
   "source": [
    "**Observation:-**\n",
    "- From the above barplot we can clearly say that `TouchScreen` laptop has higher price  "
   ]
  },
  {
   "cell_type": "code",
   "execution_count": 34,
   "id": "cc226d67",
   "metadata": {},
   "outputs": [],
   "source": [
    "#Creating a function to check IPS Panel\n",
    "def CheckIPS(obj):\n",
    "    for i in obj:\n",
    "        if \"IPS Panel\" in obj:\n",
    "            return 1\n",
    "        else:\n",
    "            return 0"
   ]
  },
  {
   "cell_type": "code",
   "execution_count": 35,
   "id": "9adcfa74",
   "metadata": {},
   "outputs": [],
   "source": [
    "# Creating a new column `IPS` (1 for IPS Panel and 0 for else)\n",
    "data[\"IPS\"] = data[\"ScreenResolution\"].apply(CheckIPS)"
   ]
  },
  {
   "cell_type": "code",
   "execution_count": 36,
   "id": "e98c1508",
   "metadata": {},
   "outputs": [
    {
     "data": {
      "text/html": [
       "<div>\n",
       "<style scoped>\n",
       "    .dataframe tbody tr th:only-of-type {\n",
       "        vertical-align: middle;\n",
       "    }\n",
       "\n",
       "    .dataframe tbody tr th {\n",
       "        vertical-align: top;\n",
       "    }\n",
       "\n",
       "    .dataframe thead th {\n",
       "        text-align: right;\n",
       "    }\n",
       "</style>\n",
       "<table border=\"1\" class=\"dataframe\">\n",
       "  <thead>\n",
       "    <tr style=\"text-align: right;\">\n",
       "      <th></th>\n",
       "      <th>Company</th>\n",
       "      <th>TypeName</th>\n",
       "      <th>Inches</th>\n",
       "      <th>ScreenResolution</th>\n",
       "      <th>Cpu</th>\n",
       "      <th>Ram</th>\n",
       "      <th>Memory</th>\n",
       "      <th>Gpu</th>\n",
       "      <th>OpSys</th>\n",
       "      <th>Weight</th>\n",
       "      <th>Price</th>\n",
       "      <th>Resolution</th>\n",
       "      <th>X_Resolution</th>\n",
       "      <th>Y_Resolution</th>\n",
       "      <th>PPI</th>\n",
       "      <th>TouchScreen</th>\n",
       "      <th>IPS</th>\n",
       "    </tr>\n",
       "  </thead>\n",
       "  <tbody>\n",
       "    <tr>\n",
       "      <th>0</th>\n",
       "      <td>Apple</td>\n",
       "      <td>Ultrabook</td>\n",
       "      <td>13.3</td>\n",
       "      <td>IPS Panel Retina Display 2560x1600</td>\n",
       "      <td>Intel Core i5 2.3GHz</td>\n",
       "      <td>8</td>\n",
       "      <td>128GB SSD</td>\n",
       "      <td>Intel Iris Plus Graphics 640</td>\n",
       "      <td>macOS</td>\n",
       "      <td>1.37</td>\n",
       "      <td>71378.6832</td>\n",
       "      <td>2560x1600</td>\n",
       "      <td>2560</td>\n",
       "      <td>1600</td>\n",
       "      <td>226.983005</td>\n",
       "      <td>0</td>\n",
       "      <td>1</td>\n",
       "    </tr>\n",
       "    <tr>\n",
       "      <th>1</th>\n",
       "      <td>Apple</td>\n",
       "      <td>Ultrabook</td>\n",
       "      <td>13.3</td>\n",
       "      <td>1440x900</td>\n",
       "      <td>Intel Core i5 1.8GHz</td>\n",
       "      <td>8</td>\n",
       "      <td>128GB Flash Storage</td>\n",
       "      <td>Intel HD Graphics 6000</td>\n",
       "      <td>macOS</td>\n",
       "      <td>1.34</td>\n",
       "      <td>47895.5232</td>\n",
       "      <td>1440x900</td>\n",
       "      <td>1440</td>\n",
       "      <td>900</td>\n",
       "      <td>127.677940</td>\n",
       "      <td>0</td>\n",
       "      <td>0</td>\n",
       "    </tr>\n",
       "  </tbody>\n",
       "</table>\n",
       "</div>"
      ],
      "text/plain": [
       "  Company   TypeName  Inches                    ScreenResolution  \\\n",
       "0   Apple  Ultrabook    13.3  IPS Panel Retina Display 2560x1600   \n",
       "1   Apple  Ultrabook    13.3                            1440x900   \n",
       "\n",
       "                    Cpu  Ram               Memory  \\\n",
       "0  Intel Core i5 2.3GHz    8            128GB SSD   \n",
       "1  Intel Core i5 1.8GHz    8  128GB Flash Storage   \n",
       "\n",
       "                            Gpu  OpSys  Weight       Price Resolution  \\\n",
       "0  Intel Iris Plus Graphics 640  macOS    1.37  71378.6832  2560x1600   \n",
       "1        Intel HD Graphics 6000  macOS    1.34  47895.5232   1440x900   \n",
       "\n",
       "   X_Resolution  Y_Resolution         PPI  TouchScreen  IPS  \n",
       "0          2560          1600  226.983005            0    1  \n",
       "1          1440           900  127.677940            0    0  "
      ]
     },
     "execution_count": 36,
     "metadata": {},
     "output_type": "execute_result"
    }
   ],
   "source": [
    "data.head(2)"
   ]
  },
  {
   "cell_type": "code",
   "execution_count": 37,
   "id": "47bb1322",
   "metadata": {},
   "outputs": [
    {
     "name": "stdout",
     "output_type": "stream",
     "text": [
      "Percentage of IPS Panel Laptop: 28.012279355333845\n",
      "Percentage of Non-IPS Panel Laptop: 71.98772064466615\n",
      "--------------------------------------------------\n"
     ]
    },
    {
     "data": {
      "image/png": "[encoded data removed]",
      "text/plain": [
       "<Figure size 500x400 with 1 Axes>"
      ]
     },
     "metadata": {},
     "output_type": "display_data"
    }
   ],
   "source": [
    "plt.figure(figsize=(5,4))\n",
    "print(f\"Percentage of IPS Panel Laptop: {(((data['IPS'].value_counts())/len(data['IPS']))*100)[1]}\")\n",
    "print(f\"Percentage of Non-IPS Panel Laptop: {(((data['IPS'].value_counts())/len(data['IPS']))*100)[0]}\")\n",
    "print(\"-\"*50)\n",
    "a = sns.countplot(x = \"IPS\", data = data , palette = \"plasma\")\n",
    "a.bar_label(a.containers[0], fontsize=8);"
   ]
  },
  {
   "cell_type": "code",
   "execution_count": 38,
   "id": "be2e1acc",
   "metadata": {},
   "outputs": [
    {
     "data": {
      "image/png": "[encoded data removed]",
      "text/plain": [
       "<Figure size 500x400 with 1 Axes>"
      ]
     },
     "metadata": {},
     "output_type": "display_data"
    }
   ],
   "source": [
    "plt.figure(figsize=(5,4))\n",
    "sns.barplot(x= \"IPS\", y= \"Price\", data = data, palette = \"plasma\");"
   ]
  },
  {
   "cell_type": "markdown",
   "id": "c6e2c166",
   "metadata": {},
   "source": [
    "**Observation:-**\n",
    "- From the above barplot we can clearly say that `IPS Panel` laptop has higher price  "
   ]
  },
  {
   "cell_type": "code",
   "execution_count": 39,
   "id": "228264e8",
   "metadata": {},
   "outputs": [
    {
     "data": {
      "image/png": "[encoded data removed]",
      "text/plain": [
       "<Figure size 500x400 with 1 Axes>"
      ]
     },
     "metadata": {},
     "output_type": "display_data"
    }
   ],
   "source": [
    "# Laptop types which has TouchScreen\n",
    "plt.figure(figsize=(5,4))\n",
    "sns.scatterplot(x= data[\"TypeName\"], y = data[\"Price\"],hue = data[\"TouchScreen\"])\n",
    "plt.xticks(rotation = 90);"
   ]
  },
  {
   "cell_type": "markdown",
   "id": "e28e6a8b",
   "metadata": {},
   "source": [
    "**Observation:-**\n",
    "- From the above scatterplot we can clearly say that `2 in 1 Convertible` laptop types are mostly TouchSccreen\n",
    "- `Ultrabook` contain some laptops which is touchScreen\n",
    "- Rest of the laptop types are mostly Non-TouchScreen"
   ]
  },
  {
   "cell_type": "code",
   "execution_count": 40,
   "id": "5078ae19",
   "metadata": {},
   "outputs": [
    {
     "data": {
      "text/plain": [
       "Inches          0.068197\n",
       "Ram             0.743007\n",
       "Weight          0.210370\n",
       "Price           1.000000\n",
       "X_Resolution    0.556529\n",
       "Y_Resolution    0.552809\n",
       "PPI             0.473487\n",
       "TouchScreen     0.191226\n",
       "IPS             0.252208\n",
       "Name: Price, dtype: float64"
      ]
     },
     "execution_count": 40,
     "metadata": {},
     "output_type": "execute_result"
    }
   ],
   "source": [
    "data.corr()[\"Price\"]"
   ]
  },
  {
   "cell_type": "markdown",
   "id": "a46463d1",
   "metadata": {},
   "source": [
    "**Observation:-**\n",
    "- The correlation between (X_Resolution and Price), (Y_Resolution and Price) & (PPI and Price) are quite impressive \n",
    "- But we have made a new column `PPI` by using Inches, X_Resolution, Y_Resolution so we will drop these columns\n",
    "- we will also drop `ScreenResolution` column , cuzz we have extracted all the info from that column"
   ]
  },
  {
   "cell_type": "code",
   "execution_count": 41,
   "id": "8d4a4595",
   "metadata": {},
   "outputs": [],
   "source": [
    "# Dropping ScreenResolution, Inches, X_Resolution, Y_Resolution\n",
    "data.drop(columns = [\"Inches\",\"ScreenResolution\",\"X_Resolution\",\"Y_Resolution\"] , inplace = True)"
   ]
  },
  {
   "cell_type": "markdown",
   "id": "831c0172",
   "metadata": {},
   "source": [
    "## Cpu"
   ]
  },
  {
   "cell_type": "code",
   "execution_count": 42,
   "id": "dc00e150",
   "metadata": {
    "scrolled": false
   },
   "outputs": [],
   "source": [
    "# Extracting First three words of `Cpu` colummn\n",
    "data[\"CPU Name\"] = data[\"Cpu\"].apply(lambda x:x.split(\" \")[:3])"
   ]
  },
  {
   "cell_type": "code",
   "execution_count": 43,
   "id": "70ba42ef",
   "metadata": {},
   "outputs": [],
   "source": [
    "# converting list to string \n",
    "data[\"CPU Name\"] = data[\"CPU Name\"].apply(lambda x: \" \".join(x))"
   ]
  },
  {
   "cell_type": "code",
   "execution_count": 44,
   "id": "6c395d29",
   "metadata": {},
   "outputs": [],
   "source": [
    "# Creating a function to extract Cpu brand \n",
    "def fetch_processor(obj):\n",
    "    if obj == 'Intel Core i7' or obj == 'Intel Core i5' or obj == 'Intel Core i3':\n",
    "        return obj\n",
    "    else:\n",
    "        if obj.split()[0] == 'Intel':\n",
    "            return 'Other Intel Processor'\n",
    "        else:\n",
    "            return 'AMD Processor'"
   ]
  },
  {
   "cell_type": "code",
   "execution_count": 45,
   "id": "7cd97c11",
   "metadata": {},
   "outputs": [],
   "source": [
    "# Creating new column CPU Brand\n",
    "data[\"CPU Brand\"] = data[\"CPU Name\"].apply(fetch_processor)"
   ]
  },
  {
   "cell_type": "code",
   "execution_count": 46,
   "id": "d9e62338",
   "metadata": {
    "scrolled": false
   },
   "outputs": [],
   "source": [
    "# Creating one more new column by extracting `Cpu GHz`\n",
    "data[\"CPU GHz\"] = data[\"Cpu\"].apply(lambda x:x.split(\" \")[-1])\n",
    "\n",
    "# Removing GHz from the `CPU GHz` column\n",
    "data[\"CPU GHz\"] = (data[\"CPU GHz\"].str.replace(\"GHz\",\"\")).astype(float)"
   ]
  },
  {
   "cell_type": "code",
   "execution_count": 47,
   "id": "90e60c2b",
   "metadata": {},
   "outputs": [],
   "source": [
    "# Dropping Cpu column\n",
    "data.drop(columns = [\"Cpu\", \"CPU Name\"] , inplace = True)"
   ]
  },
  {
   "cell_type": "code",
   "execution_count": 48,
   "id": "2eaef264",
   "metadata": {},
   "outputs": [
    {
     "name": "stdout",
     "output_type": "stream",
     "text": [
      "Percentage of Intel Core i7  Laptop: 40.44512663085188\n",
      "Percentage of Intel Core i5  Laptop: 32.46354566385265\n",
      "Percentage of Other Intel Processor  Laptop: 4.834996162701458\n",
      "Percentage of Intel Core i3  Laptop: 10.437452033768228\n",
      "Percentage of AMD Processor  Laptop: 11.818879508825788\n",
      "--------------------------------------------------\n"
     ]
    },
    {
     "data": {
      "image/png": "[encoded data removed]",
      "text/plain": [
       "<Figure size 500x400 with 1 Axes>"
      ]
     },
     "metadata": {},
     "output_type": "display_data"
    }
   ],
   "source": [
    "plt.figure(figsize=(5,4))\n",
    "print(f\"Percentage of Intel Core i7  Laptop: {(((data['CPU Brand'].value_counts())/len(data['CPU Brand']))*100)[0]}\")\n",
    "print(f\"Percentage of Intel Core i5  Laptop: {(((data['CPU Brand'].value_counts())/len(data['CPU Brand']))*100)[1]}\")\n",
    "print(f\"Percentage of Other Intel Processor  Laptop: {(((data['CPU Brand'].value_counts())/len(data['CPU Brand']))*100)[4]}\")\n",
    "print(f\"Percentage of Intel Core i3  Laptop: {(((data['CPU Brand'].value_counts())/len(data['CPU Brand']))*100)[3]}\")\n",
    "print(f\"Percentage of AMD Processor  Laptop: {(((data['CPU Brand'].value_counts())/len(data['CPU Brand']))*100)[2]}\")\n",
    "print(\"-\"*50)\n",
    "a = sns.countplot(x = \"CPU Brand\", data = data ,  palette='husl')\n",
    "plt.xticks(rotation = 90)\n",
    "a.bar_label(a.containers[0], fontsize=8);"
   ]
  },
  {
   "cell_type": "markdown",
   "id": "d1972d2e",
   "metadata": {},
   "source": [
    "`CPU Brand` vs. `Price`"
   ]
  },
  {
   "cell_type": "code",
   "execution_count": 49,
   "id": "b63f22b3",
   "metadata": {},
   "outputs": [
    {
     "data": {
      "image/png": "[encoded data removed]",
      "text/plain": [
       "<Figure size 500x400 with 1 Axes>"
      ]
     },
     "metadata": {},
     "output_type": "display_data"
    }
   ],
   "source": [
    "plt.figure(figsize=(5,4))\n",
    "sns.barplot(x= \"CPU Brand\", y= \"Price\", data = data,  palette='husl')\n",
    "plt.xticks(rotation = 90);"
   ]
  },
  {
   "cell_type": "markdown",
   "id": "0fd70f00",
   "metadata": {},
   "source": [
    "**Observation:-**\n",
    "- From the above barplot we can clearly say that `Intel Core i7` laptop has the highest price\n",
    "- AMD Processor, Intel Core i3 & Other Intel Processor belongs to similar price range"
   ]
  },
  {
   "cell_type": "markdown",
   "id": "8a7b89a9",
   "metadata": {},
   "source": [
    "## Ram (Numerical column)"
   ]
  },
  {
   "cell_type": "code",
   "execution_count": 50,
   "id": "34c20f0c",
   "metadata": {},
   "outputs": [
    {
     "data": {
      "text/plain": [
       "8     47.505756\n",
       "4     28.779739\n",
       "16    15.349194\n",
       "6      3.146585\n",
       "12     1.918649\n",
       "2      1.688411\n",
       "32     1.304682\n",
       "24     0.230238\n",
       "64     0.076746\n",
       "Name: Ram, dtype: float64"
      ]
     },
     "execution_count": 50,
     "metadata": {},
     "output_type": "execute_result"
    }
   ],
   "source": [
    "(((data[\"Ram\"].value_counts())/len(data[\"Ram\"]))*100)\n"
   ]
  },
  {
   "cell_type": "code",
   "execution_count": 51,
   "id": "7af1ec6b",
   "metadata": {},
   "outputs": [
    {
     "name": "stdout",
     "output_type": "stream",
     "text": [
      "Percentage of 2GB  Laptop: 1.688411358403684\n",
      "Percentage of 4GB  Laptop: 28.779739063699157\n",
      "Percentage of 6GB  Laptop: 3.1465848042977744\n",
      "Percentage of 8GB  Laptop: 47.50575594781274\n",
      "Percentage of 12GB  Laptop: 1.918649270913277\n",
      "Percentage of 16GB  Laptop: 15.349194167306216\n",
      "Percentage of 24GB  Laptop: 0.23023791250959325\n",
      "Percentage of 32GB  Laptop: 1.3046815042210285\n",
      "Percentage of 64GB  Laptop: 0.07674597083653108\n",
      "--------------------------------------------------\n"
     ]
    },
    {
     "data": {
      "image/png": "[encoded data removed]",
      "text/plain": [
       "<Figure size 1200x500 with 2 Axes>"
      ]
     },
     "metadata": {},
     "output_type": "display_data"
    }
   ],
   "source": [
    "fig, axes = plt.subplots(nrows=1, ncols=2, figsize=(12, 5))\n",
    "\n",
    "print(f\"Percentage of 2GB  Laptop: {(((data['Ram'].value_counts())/len(data['Ram']))*100)[2]}\")\n",
    "print(f\"Percentage of 4GB  Laptop: {(((data['Ram'].value_counts())/len(data['Ram']))*100)[4]}\")\n",
    "print(f\"Percentage of 6GB  Laptop: {(((data['Ram'].value_counts())/len(data['Ram']))*100)[6]}\")\n",
    "print(f\"Percentage of 8GB  Laptop: {(((data['Ram'].value_counts())/len(data['Ram']))*100)[8]}\")\n",
    "print(f\"Percentage of 12GB  Laptop: {(((data['Ram'].value_counts())/len(data['Ram']))*100)[12]}\")\n",
    "print(f\"Percentage of 16GB  Laptop: {(((data['Ram'].value_counts())/len(data['Ram']))*100)[16]}\")\n",
    "print(f\"Percentage of 24GB  Laptop: {(((data['Ram'].value_counts())/len(data['Ram']))*100)[24]}\")\n",
    "print(f\"Percentage of 32GB  Laptop: {(((data['Ram'].value_counts())/len(data['Ram']))*100)[32]}\")\n",
    "print(f\"Percentage of 64GB  Laptop: {(((data['Ram'].value_counts())/len(data['Ram']))*100)[64]}\")\n",
    "print(\"-\"*50)\n",
    "# Plot data on the first subplot\n",
    "a = sns.countplot(x= \"Ram\", data = data, ax=axes[0])\n",
    "axes[0].bar_label(a.containers[0], fontsize=8)\n",
    "axes[0].tick_params(axis='x', rotation=90)\n",
    "axes[0].set_title('Countplot')\n",
    "axes[0].set_xlabel('Ram')\n",
    "axes[0].set_ylabel('Price')\n",
    "\n",
    "# Plot data on the second subplot\n",
    "a = sns.barplot(x= \"Ram\", y= \"Price\", data = data, ax=axes[1])\n",
    "# axes[1].bar_label(a.containers[0], fontsize=8)\n",
    "axes[1].tick_params(axis='x', rotation=90)\n",
    "axes[1].set_title('Barplot')\n",
    "axes[1].set_xlabel('Ram')\n",
    "axes[1].set_ylabel('Price')\n",
    "\n",
    "# Adjust layout\n",
    "plt.tight_layout()"
   ]
  },
  {
   "cell_type": "markdown",
   "id": "e4b2ffba",
   "metadata": {},
   "source": [
    "**Observation:-**\n",
    "- Most people prefer buying 8GB laptop \n",
    "- 8GB Ram is budget friendly, might be the reason people prefer buying "
   ]
  },
  {
   "cell_type": "markdown",
   "id": "30a199f3",
   "metadata": {},
   "source": [
    "## Memory"
   ]
  },
  {
   "cell_type": "code",
   "execution_count": 52,
   "id": "e42f441a",
   "metadata": {},
   "outputs": [],
   "source": [
    "# creating function ot extract SSD\n",
    "def fetch_SSD(obj):\n",
    "    for i in obj:\n",
    "        if \"SSD\" in obj:\n",
    "            return obj.split(\" SSD\")[0].replace(\"GB\" ,\"\").replace(\"1TB\",\"1024\")\n",
    "        else:\n",
    "            return 0"
   ]
  },
  {
   "cell_type": "code",
   "execution_count": 53,
   "id": "a731b8fb",
   "metadata": {
    "scrolled": false
   },
   "outputs": [],
   "source": [
    "# Creating new column `SSD`\n",
    "data[\"SSD\"] = data[\"Memory\"].apply(fetch_SSD).astype(int)"
   ]
  },
  {
   "cell_type": "code",
   "execution_count": 54,
   "id": "585b5b09",
   "metadata": {},
   "outputs": [],
   "source": [
    "# creating function to extract HDD\n",
    "def fetch_HDD(obj):\n",
    "    for i in obj:\n",
    "        if \"HDD\" in obj:\n",
    "            a = obj.replace(\"128GB SSD +\" , \" \").replace(\"256GB SSD +\" , \" \").replace(\"512GB SSD +\" , \" \").replace(\"1TB SSD +\" , \" \").replace(\"64GB Flash Storage +\" , \" \")\n",
    "            return a.split(\"HDD\")[0].replace(\"1TB\",\"1024\").replace(\"2TB\",\"2048\").replace(\"GB\",\"\").replace(\"1.0TB\",\"1024\").replace(\" \",\"\")\n",
    "        else:\n",
    "            return 0"
   ]
  },
  {
   "cell_type": "code",
   "execution_count": 55,
   "id": "86002f58",
   "metadata": {},
   "outputs": [],
   "source": [
    "# Creating new column `HDD`\n",
    "data[\"HDD\"] = data[\"Memory\"].apply(fetch_SSD).astype(int)"
   ]
  },
  {
   "cell_type": "code",
   "execution_count": 56,
   "id": "2ade47bf",
   "metadata": {},
   "outputs": [],
   "source": [
    "# creating function to extract Flash Storage\n",
    "def fetch_FlashStorage(obj):\n",
    "    for i in obj:\n",
    "        if \"Flash Storage\" in obj:\n",
    "            return obj.split(\" Flash Storage\")[0].replace(\"GB\",\"\")\n",
    "        else:\n",
    "            return 0"
   ]
  },
  {
   "cell_type": "code",
   "execution_count": 57,
   "id": "3a534e78",
   "metadata": {},
   "outputs": [],
   "source": [
    "# Creating new column `FlashStorage`\n",
    "data[\"FlashStorage\"] = data[\"Memory\"].apply(fetch_FlashStorage).astype(int)"
   ]
  },
  {
   "cell_type": "code",
   "execution_count": 58,
   "id": "8e6f8698",
   "metadata": {},
   "outputs": [],
   "source": [
    "# creating function to extract `Hybrid`\n",
    "def fetch_Hybrid(obj):\n",
    "    for i in obj:\n",
    "        if \"Hybrid\" in obj:\n",
    "            return obj.split(\"Hybrid\")[0].replace(\"TB\",\"\").replace(\"512GB SSD +  \",\"\").replace(\"256GB SSD +  \",\"\").replace(\"GB\",\"\").replace(\"1.0\",\"1024\")\n",
    "        else:\n",
    "            return 0"
   ]
  },
  {
   "cell_type": "code",
   "execution_count": 59,
   "id": "05838640",
   "metadata": {},
   "outputs": [],
   "source": [
    "# Creating new column `Hybrid`\n",
    "data[\"Hybrid\"] = data[\"Memory\"].apply(fetch_Hybrid).astype(int)"
   ]
  },
  {
   "cell_type": "markdown",
   "id": "43438c84",
   "metadata": {},
   "source": [
    "**Dropping `Memory` column**"
   ]
  },
  {
   "cell_type": "code",
   "execution_count": 60,
   "id": "e34aa185",
   "metadata": {},
   "outputs": [],
   "source": [
    "data.drop(\"Memory\" , axis = 1 , inplace = True)"
   ]
  },
  {
   "cell_type": "code",
   "execution_count": 61,
   "id": "8046528d",
   "metadata": {},
   "outputs": [
    {
     "data": {
      "text/html": [
       "<div>\n",
       "<style scoped>\n",
       "    .dataframe tbody tr th:only-of-type {\n",
       "        vertical-align: middle;\n",
       "    }\n",
       "\n",
       "    .dataframe tbody tr th {\n",
       "        vertical-align: top;\n",
       "    }\n",
       "\n",
       "    .dataframe thead th {\n",
       "        text-align: right;\n",
       "    }\n",
       "</style>\n",
       "<table border=\"1\" class=\"dataframe\">\n",
       "  <thead>\n",
       "    <tr style=\"text-align: right;\">\n",
       "      <th></th>\n",
       "      <th>Company</th>\n",
       "      <th>TypeName</th>\n",
       "      <th>Ram</th>\n",
       "      <th>Gpu</th>\n",
       "      <th>OpSys</th>\n",
       "      <th>Weight</th>\n",
       "      <th>Price</th>\n",
       "      <th>Resolution</th>\n",
       "      <th>PPI</th>\n",
       "      <th>TouchScreen</th>\n",
       "      <th>IPS</th>\n",
       "      <th>CPU Brand</th>\n",
       "      <th>CPU GHz</th>\n",
       "      <th>SSD</th>\n",
       "      <th>HDD</th>\n",
       "      <th>FlashStorage</th>\n",
       "      <th>Hybrid</th>\n",
       "    </tr>\n",
       "  </thead>\n",
       "  <tbody>\n",
       "    <tr>\n",
       "      <th>0</th>\n",
       "      <td>Apple</td>\n",
       "      <td>Ultrabook</td>\n",
       "      <td>8</td>\n",
       "      <td>Intel Iris Plus Graphics 640</td>\n",
       "      <td>macOS</td>\n",
       "      <td>1.37</td>\n",
       "      <td>71378.6832</td>\n",
       "      <td>2560x1600</td>\n",
       "      <td>226.983005</td>\n",
       "      <td>0</td>\n",
       "      <td>1</td>\n",
       "      <td>Intel Core i5</td>\n",
       "      <td>2.3</td>\n",
       "      <td>128</td>\n",
       "      <td>128</td>\n",
       "      <td>0</td>\n",
       "      <td>0</td>\n",
       "    </tr>\n",
       "    <tr>\n",
       "      <th>1</th>\n",
       "      <td>Apple</td>\n",
       "      <td>Ultrabook</td>\n",
       "      <td>8</td>\n",
       "      <td>Intel HD Graphics 6000</td>\n",
       "      <td>macOS</td>\n",
       "      <td>1.34</td>\n",
       "      <td>47895.5232</td>\n",
       "      <td>1440x900</td>\n",
       "      <td>127.677940</td>\n",
       "      <td>0</td>\n",
       "      <td>0</td>\n",
       "      <td>Intel Core i5</td>\n",
       "      <td>1.8</td>\n",
       "      <td>0</td>\n",
       "      <td>0</td>\n",
       "      <td>128</td>\n",
       "      <td>0</td>\n",
       "    </tr>\n",
       "  </tbody>\n",
       "</table>\n",
       "</div>"
      ],
      "text/plain": [
       "  Company   TypeName  Ram                           Gpu  OpSys  Weight  \\\n",
       "0   Apple  Ultrabook    8  Intel Iris Plus Graphics 640  macOS    1.37   \n",
       "1   Apple  Ultrabook    8        Intel HD Graphics 6000  macOS    1.34   \n",
       "\n",
       "        Price Resolution         PPI  TouchScreen  IPS      CPU Brand  \\\n",
       "0  71378.6832  2560x1600  226.983005            0    1  Intel Core i5   \n",
       "1  47895.5232   1440x900  127.677940            0    0  Intel Core i5   \n",
       "\n",
       "   CPU GHz  SSD  HDD  FlashStorage  Hybrid  \n",
       "0      2.3  128  128             0       0  \n",
       "1      1.8    0    0           128       0  "
      ]
     },
     "execution_count": 61,
     "metadata": {},
     "output_type": "execute_result"
    }
   ],
   "source": [
    "data.head(2)"
   ]
  },
  {
   "cell_type": "code",
   "execution_count": 62,
   "id": "5df0d025",
   "metadata": {},
   "outputs": [
    {
     "name": "stdout",
     "output_type": "stream",
     "text": [
      "Ram             0.743007\n",
      "Weight          0.210370\n",
      "Price           1.000000\n",
      "PPI             0.473487\n",
      "TouchScreen     0.191226\n",
      "IPS             0.252208\n",
      "CPU GHz         0.430293\n",
      "SSD             0.675986\n",
      "HDD             0.675986\n",
      "FlashStorage   -0.040511\n",
      "Hybrid          0.008011\n",
      "Name: Price, dtype: float64\n"
     ]
    }
   ],
   "source": [
    "# checking correlation \n",
    "print(data.corr()[\"Price\"])"
   ]
  },
  {
   "cell_type": "code",
   "execution_count": 63,
   "id": "e09a7a70",
   "metadata": {},
   "outputs": [],
   "source": [
    "# Dropping `FlashStorage` & `Hybrid` as it doesn't have a good corrrelation with Price\n",
    "data.drop(columns=[\"FlashStorage\" ,\"Hybrid\"], inplace = True)"
   ]
  },
  {
   "cell_type": "code",
   "execution_count": 64,
   "id": "ec7a70b2",
   "metadata": {},
   "outputs": [
    {
     "data": {
      "text/html": [
       "<div>\n",
       "<style scoped>\n",
       "    .dataframe tbody tr th:only-of-type {\n",
       "        vertical-align: middle;\n",
       "    }\n",
       "\n",
       "    .dataframe tbody tr th {\n",
       "        vertical-align: top;\n",
       "    }\n",
       "\n",
       "    .dataframe thead th {\n",
       "        text-align: right;\n",
       "    }\n",
       "</style>\n",
       "<table border=\"1\" class=\"dataframe\">\n",
       "  <thead>\n",
       "    <tr style=\"text-align: right;\">\n",
       "      <th></th>\n",
       "      <th>Company</th>\n",
       "      <th>TypeName</th>\n",
       "      <th>Ram</th>\n",
       "      <th>Gpu</th>\n",
       "      <th>OpSys</th>\n",
       "      <th>Weight</th>\n",
       "      <th>Price</th>\n",
       "      <th>Resolution</th>\n",
       "      <th>PPI</th>\n",
       "      <th>TouchScreen</th>\n",
       "      <th>IPS</th>\n",
       "      <th>CPU Brand</th>\n",
       "      <th>CPU GHz</th>\n",
       "      <th>SSD</th>\n",
       "      <th>HDD</th>\n",
       "    </tr>\n",
       "  </thead>\n",
       "  <tbody>\n",
       "    <tr>\n",
       "      <th>0</th>\n",
       "      <td>Apple</td>\n",
       "      <td>Ultrabook</td>\n",
       "      <td>8</td>\n",
       "      <td>Intel Iris Plus Graphics 640</td>\n",
       "      <td>macOS</td>\n",
       "      <td>1.37</td>\n",
       "      <td>71378.6832</td>\n",
       "      <td>2560x1600</td>\n",
       "      <td>226.983005</td>\n",
       "      <td>0</td>\n",
       "      <td>1</td>\n",
       "      <td>Intel Core i5</td>\n",
       "      <td>2.3</td>\n",
       "      <td>128</td>\n",
       "      <td>128</td>\n",
       "    </tr>\n",
       "    <tr>\n",
       "      <th>1</th>\n",
       "      <td>Apple</td>\n",
       "      <td>Ultrabook</td>\n",
       "      <td>8</td>\n",
       "      <td>Intel HD Graphics 6000</td>\n",
       "      <td>macOS</td>\n",
       "      <td>1.34</td>\n",
       "      <td>47895.5232</td>\n",
       "      <td>1440x900</td>\n",
       "      <td>127.677940</td>\n",
       "      <td>0</td>\n",
       "      <td>0</td>\n",
       "      <td>Intel Core i5</td>\n",
       "      <td>1.8</td>\n",
       "      <td>0</td>\n",
       "      <td>0</td>\n",
       "    </tr>\n",
       "  </tbody>\n",
       "</table>\n",
       "</div>"
      ],
      "text/plain": [
       "  Company   TypeName  Ram                           Gpu  OpSys  Weight  \\\n",
       "0   Apple  Ultrabook    8  Intel Iris Plus Graphics 640  macOS    1.37   \n",
       "1   Apple  Ultrabook    8        Intel HD Graphics 6000  macOS    1.34   \n",
       "\n",
       "        Price Resolution         PPI  TouchScreen  IPS      CPU Brand  \\\n",
       "0  71378.6832  2560x1600  226.983005            0    1  Intel Core i5   \n",
       "1  47895.5232   1440x900  127.677940            0    0  Intel Core i5   \n",
       "\n",
       "   CPU GHz  SSD  HDD  \n",
       "0      2.3  128  128  \n",
       "1      1.8    0    0  "
      ]
     },
     "execution_count": 64,
     "metadata": {},
     "output_type": "execute_result"
    }
   ],
   "source": [
    "data.head(2)"
   ]
  },
  {
   "cell_type": "markdown",
   "id": "1a4ee285",
   "metadata": {},
   "source": [
    "## Gpu"
   ]
  },
  {
   "cell_type": "code",
   "execution_count": 65,
   "id": "b3e8dfd8",
   "metadata": {},
   "outputs": [
    {
     "data": {
      "text/plain": [
       "Intel HD Graphics 620             281\n",
       "Intel HD Graphics 520             185\n",
       "Intel UHD Graphics 620             68\n",
       "Nvidia GeForce GTX 1050            66\n",
       "Nvidia GeForce GTX 1060            48\n",
       "Nvidia GeForce 940MX               43\n",
       "AMD Radeon 530                     41\n",
       "Intel HD Graphics 500              39\n",
       "Intel HD Graphics 400              37\n",
       "Nvidia GeForce GTX 1070            30\n",
       "Intel HD Graphics                  29\n",
       "Nvidia GeForce GTX 1050 Ti         28\n",
       "AMD Radeon R5 M430                 22\n",
       "Nvidia GeForce 930MX               20\n",
       "AMD Radeon 520                     17\n",
       "Nvidia GeForce MX150               15\n",
       "Intel HD Graphics 515              15\n",
       "Intel HD Graphics 615              14\n",
       "AMD Radeon R7 M445                 14\n",
       "Nvidia GeForce GTX 960M            14\n",
       "Nvidia GeForce 920MX               13\n",
       "Intel HD Graphics 505              12\n",
       "AMD Radeon R5                      11\n",
       "Nvidia GeForce GTX 980M            10\n",
       "Intel HD Graphics 405               9\n",
       "Nvidia Quadro M1200                 9\n",
       "AMD Radeon R5 M420                  8\n",
       "Intel Iris Plus Graphics 640        8\n",
       "Nvidia GeForce GTX 950M             7\n",
       "AMD Radeon R5 M330                  7\n",
       "Nvidia GeForce 920M                 6\n",
       "Nvidia GeForce GTX 1080             6\n",
       "Nvidia GeForce 930M                 6\n",
       "Nvidia GeForce MX130                6\n",
       "Nvidia GeForce 930MX                5\n",
       "Nvidia Quadro M620                  5\n",
       "Intel HD Graphics 6000              5\n",
       "AMD Radeon R7 M440                  5\n",
       "Nvidia GeForce 920MX                5\n",
       "Nvidia GeForce GTX 970M             5\n",
       "AMD Radeon R2                       5\n",
       "AMD Radeon RX 580                   5\n",
       "Nvidia GeForce GT 940MX             5\n",
       "AMD Radeon R4 Graphics              5\n",
       "Nvidia GeForce GTX 965M             4\n",
       "Nvidia GeForce GTX 940MX            4\n",
       "Intel HD Graphics 630               4\n",
       "AMD Radeon R2 Graphics              4\n",
       "AMD Radeon RX 550                   4\n",
       "Intel HD Graphics 510               4\n",
       "Nvidia Quadro M1000M                4\n",
       "Nvidia Quadro M2200M                3\n",
       "AMD Radeon R4                       3\n",
       "AMD Radeon R5 M420X                 3\n",
       "Nvidia GeForce GTX 1050M            3\n",
       "Nvidia GeForce 150MX                3\n",
       "AMD Radeon R7 M460                  2\n",
       "Nvidia GeForce GTX 960              2\n",
       "Intel Iris Plus Graphics 650        2\n",
       "Nvidia Quadro M520M                 2\n",
       "Nvidia GeForce GTX 1050Ti           2\n",
       "Nvidia Quadro M2200                 2\n",
       "Nvidia Quadro M2000M                2\n",
       "Nvidia GeForce GTX 960<U+039C>      2\n",
       "Intel Iris Graphics 540             2\n",
       "AMD Radeon RX 540                   2\n",
       "Intel HD Graphics 5300              2\n",
       "AMD FirePro W4190M                  2\n",
       "Nvidia GeForce 920                  1\n",
       "Nvidia GeForce 960M                 1\n",
       "AMD Radeon R7 Graphics              1\n",
       "Nvidia GeForce 940M                 1\n",
       "Nvidia GeForce GTX 930MX            1\n",
       "Nvidia Quadro 3000M                 1\n",
       "AMD Radeon R7 M360                  1\n",
       "AMD Radeon R7 M465                  1\n",
       "Nvidia Quadro M3000M                1\n",
       "AMD Radeon R3                       1\n",
       "Nvidia GeForce GTX 980              1\n",
       "Nvidia Quadro M500M                 1\n",
       "AMD Radeon R7 M365X                 1\n",
       "AMD Radeon R9 M385                  1\n",
       "AMD Radeon R5 M315                  1\n",
       "AMD FirePro W6150M                  1\n",
       "Intel HD Graphics 620               1\n",
       "AMD FirePro W4190M                  1\n",
       "Nvidia GeForce GTX 940M             1\n",
       "Nvidia GeForce GTX1060              1\n",
       "AMD Radeon R5 430                   1\n",
       "AMD Radeon Pro 455                  1\n",
       "Intel Iris Pro Graphics             1\n",
       "AMD Radeon Pro 555                  1\n",
       "AMD Radeon Pro 560                  1\n",
       "AMD R4 Graphics                     1\n",
       "AMD Radeon RX 560                   1\n",
       "Nvidia GTX 980 SLI                  1\n",
       "AMD R17M-M1-70                      1\n",
       "Intel Iris Graphics 550             1\n",
       "AMD FirePro W5130M                  1\n",
       "Nvidia GeForce GTX 1070M            1\n",
       "Intel HD Graphics 530               1\n",
       "Nvidia GeForce GTX1080              1\n",
       "Nvidia GeForce GTX1050 Ti           1\n",
       "Nvidia Quadro M620M                 1\n",
       "Intel Graphics 620                  1\n",
       "AMD Radeon R5 520                   1\n",
       "AMD Radeon R7                       1\n",
       "Intel HD Graphics 540               1\n",
       "AMD Radeon 540                      1\n",
       "ARM Mali T860 MP4                   1\n",
       "Name: Gpu, dtype: int64"
      ]
     },
     "execution_count": 65,
     "metadata": {},
     "output_type": "execute_result"
    }
   ],
   "source": [
    "data['Gpu'].value_counts()"
   ]
  },
  {
   "cell_type": "code",
   "execution_count": 66,
   "id": "a586c171",
   "metadata": {},
   "outputs": [],
   "source": [
    "data['Gpu brand'] = data['Gpu'].apply(lambda x:x.split()[0])"
   ]
  },
  {
   "cell_type": "code",
   "execution_count": 67,
   "id": "ce7cbd48",
   "metadata": {},
   "outputs": [
    {
     "data": {
      "text/html": [
       "<div>\n",
       "<style scoped>\n",
       "    .dataframe tbody tr th:only-of-type {\n",
       "        vertical-align: middle;\n",
       "    }\n",
       "\n",
       "    .dataframe tbody tr th {\n",
       "        vertical-align: top;\n",
       "    }\n",
       "\n",
       "    .dataframe thead th {\n",
       "        text-align: right;\n",
       "    }\n",
       "</style>\n",
       "<table border=\"1\" class=\"dataframe\">\n",
       "  <thead>\n",
       "    <tr style=\"text-align: right;\">\n",
       "      <th></th>\n",
       "      <th>Company</th>\n",
       "      <th>TypeName</th>\n",
       "      <th>Ram</th>\n",
       "      <th>Gpu</th>\n",
       "      <th>OpSys</th>\n",
       "      <th>Weight</th>\n",
       "      <th>Price</th>\n",
       "      <th>Resolution</th>\n",
       "      <th>PPI</th>\n",
       "      <th>TouchScreen</th>\n",
       "      <th>IPS</th>\n",
       "      <th>CPU Brand</th>\n",
       "      <th>CPU GHz</th>\n",
       "      <th>SSD</th>\n",
       "      <th>HDD</th>\n",
       "      <th>Gpu brand</th>\n",
       "    </tr>\n",
       "  </thead>\n",
       "  <tbody>\n",
       "    <tr>\n",
       "      <th>0</th>\n",
       "      <td>Apple</td>\n",
       "      <td>Ultrabook</td>\n",
       "      <td>8</td>\n",
       "      <td>Intel Iris Plus Graphics 640</td>\n",
       "      <td>macOS</td>\n",
       "      <td>1.37</td>\n",
       "      <td>71378.6832</td>\n",
       "      <td>2560x1600</td>\n",
       "      <td>226.983005</td>\n",
       "      <td>0</td>\n",
       "      <td>1</td>\n",
       "      <td>Intel Core i5</td>\n",
       "      <td>2.3</td>\n",
       "      <td>128</td>\n",
       "      <td>128</td>\n",
       "      <td>Intel</td>\n",
       "    </tr>\n",
       "    <tr>\n",
       "      <th>1</th>\n",
       "      <td>Apple</td>\n",
       "      <td>Ultrabook</td>\n",
       "      <td>8</td>\n",
       "      <td>Intel HD Graphics 6000</td>\n",
       "      <td>macOS</td>\n",
       "      <td>1.34</td>\n",
       "      <td>47895.5232</td>\n",
       "      <td>1440x900</td>\n",
       "      <td>127.677940</td>\n",
       "      <td>0</td>\n",
       "      <td>0</td>\n",
       "      <td>Intel Core i5</td>\n",
       "      <td>1.8</td>\n",
       "      <td>0</td>\n",
       "      <td>0</td>\n",
       "      <td>Intel</td>\n",
       "    </tr>\n",
       "    <tr>\n",
       "      <th>2</th>\n",
       "      <td>HP</td>\n",
       "      <td>Notebook</td>\n",
       "      <td>8</td>\n",
       "      <td>Intel HD Graphics 620</td>\n",
       "      <td>No OS</td>\n",
       "      <td>1.86</td>\n",
       "      <td>30636.0000</td>\n",
       "      <td>1920x1080</td>\n",
       "      <td>141.211998</td>\n",
       "      <td>0</td>\n",
       "      <td>0</td>\n",
       "      <td>Intel Core i5</td>\n",
       "      <td>2.5</td>\n",
       "      <td>256</td>\n",
       "      <td>256</td>\n",
       "      <td>Intel</td>\n",
       "    </tr>\n",
       "    <tr>\n",
       "      <th>3</th>\n",
       "      <td>Apple</td>\n",
       "      <td>Ultrabook</td>\n",
       "      <td>16</td>\n",
       "      <td>AMD Radeon Pro 455</td>\n",
       "      <td>macOS</td>\n",
       "      <td>1.83</td>\n",
       "      <td>135195.3360</td>\n",
       "      <td>2880x1800</td>\n",
       "      <td>220.534624</td>\n",
       "      <td>0</td>\n",
       "      <td>1</td>\n",
       "      <td>Intel Core i7</td>\n",
       "      <td>2.7</td>\n",
       "      <td>512</td>\n",
       "      <td>512</td>\n",
       "      <td>AMD</td>\n",
       "    </tr>\n",
       "    <tr>\n",
       "      <th>4</th>\n",
       "      <td>Apple</td>\n",
       "      <td>Ultrabook</td>\n",
       "      <td>8</td>\n",
       "      <td>Intel Iris Plus Graphics 650</td>\n",
       "      <td>macOS</td>\n",
       "      <td>1.37</td>\n",
       "      <td>96095.8080</td>\n",
       "      <td>2560x1600</td>\n",
       "      <td>226.983005</td>\n",
       "      <td>0</td>\n",
       "      <td>1</td>\n",
       "      <td>Intel Core i5</td>\n",
       "      <td>3.1</td>\n",
       "      <td>256</td>\n",
       "      <td>256</td>\n",
       "      <td>Intel</td>\n",
       "    </tr>\n",
       "  </tbody>\n",
       "</table>\n",
       "</div>"
      ],
      "text/plain": [
       "  Company   TypeName  Ram                           Gpu  OpSys  Weight  \\\n",
       "0   Apple  Ultrabook    8  Intel Iris Plus Graphics 640  macOS    1.37   \n",
       "1   Apple  Ultrabook    8        Intel HD Graphics 6000  macOS    1.34   \n",
       "2      HP   Notebook    8         Intel HD Graphics 620  No OS    1.86   \n",
       "3   Apple  Ultrabook   16            AMD Radeon Pro 455  macOS    1.83   \n",
       "4   Apple  Ultrabook    8  Intel Iris Plus Graphics 650  macOS    1.37   \n",
       "\n",
       "         Price Resolution         PPI  TouchScreen  IPS      CPU Brand  \\\n",
       "0   71378.6832  2560x1600  226.983005            0    1  Intel Core i5   \n",
       "1   47895.5232   1440x900  127.677940            0    0  Intel Core i5   \n",
       "2   30636.0000  1920x1080  141.211998            0    0  Intel Core i5   \n",
       "3  135195.3360  2880x1800  220.534624            0    1  Intel Core i7   \n",
       "4   96095.8080  2560x1600  226.983005            0    1  Intel Core i5   \n",
       "\n",
       "   CPU GHz  SSD  HDD Gpu brand  \n",
       "0      2.3  128  128     Intel  \n",
       "1      1.8    0    0     Intel  \n",
       "2      2.5  256  256     Intel  \n",
       "3      2.7  512  512       AMD  \n",
       "4      3.1  256  256     Intel  "
      ]
     },
     "execution_count": 67,
     "metadata": {},
     "output_type": "execute_result"
    }
   ],
   "source": [
    "data.head()"
   ]
  },
  {
   "cell_type": "code",
   "execution_count": 68,
   "id": "146be4a5",
   "metadata": {},
   "outputs": [],
   "source": [
    "data = data[data['Gpu brand'] != 'ARM']"
   ]
  },
  {
   "cell_type": "code",
   "execution_count": 69,
   "id": "693e9664",
   "metadata": {},
   "outputs": [
    {
     "data": {
      "image/png": "[encoded data removed]",
      "text/plain": [
       "<Figure size 500x400 with 1 Axes>"
      ]
     },
     "metadata": {},
     "output_type": "display_data"
    }
   ],
   "source": [
    "plt.figure(figsize=(5,4))\n",
    "a = sns.countplot(x = \"Gpu brand\", data = data ,  palette='husl')\n",
    "plt.xticks(rotation = 90)\n",
    "a.bar_label(a.containers[0], fontsize=8);"
   ]
  },
  {
   "cell_type": "markdown",
   "id": "7bdf0029",
   "metadata": {},
   "source": [
    "**`Gpu brand` vs. `Price`**"
   ]
  },
  {
   "cell_type": "code",
   "execution_count": 70,
   "id": "e7b674ff",
   "metadata": {},
   "outputs": [
    {
     "data": {
      "image/png": "[encoded data removed]",
      "text/plain": [
       "<Figure size 500x400 with 1 Axes>"
      ]
     },
     "metadata": {},
     "output_type": "display_data"
    }
   ],
   "source": [
    "plt.figure(figsize=(5,4))\n",
    "sns.barplot(x= \"Gpu brand\", y= \"Price\", data = data,  palette='husl')\n",
    "plt.xticks(rotation = 90);"
   ]
  },
  {
   "cell_type": "markdown",
   "id": "797e6b13",
   "metadata": {},
   "source": [
    "**Observation:-**\n",
    "- Nvidia processor is expensive "
   ]
  },
  {
   "cell_type": "code",
   "execution_count": 71,
   "id": "429b7ab3",
   "metadata": {},
   "outputs": [],
   "source": [
    "data.drop(columns=[\"Gpu\"], inplace = True)"
   ]
  },
  {
   "cell_type": "markdown",
   "id": "3d5cfbae",
   "metadata": {},
   "source": [
    "## OpSys"
   ]
  },
  {
   "cell_type": "code",
   "execution_count": 72,
   "id": "98e0b55c",
   "metadata": {},
   "outputs": [
    {
     "data": {
      "text/plain": [
       "Windows 10      1072\n",
       "No OS             66\n",
       "Linux             62\n",
       "Windows 7         45\n",
       "Chrome OS         26\n",
       "macOS             13\n",
       "Mac OS X           8\n",
       "Windows 10 S       8\n",
       "Android            2\n",
       "Name: OpSys, dtype: int64"
      ]
     },
     "execution_count": 72,
     "metadata": {},
     "output_type": "execute_result"
    }
   ],
   "source": [
    "data['OpSys'].value_counts()"
   ]
  },
  {
   "cell_type": "code",
   "execution_count": 73,
   "id": "c083f36b",
   "metadata": {},
   "outputs": [],
   "source": [
    "def cat_os(inp):\n",
    "    if inp == 'Windows 10' or inp == 'Windows 7' or inp == 'Windows 10 S':\n",
    "        return 'Windows'\n",
    "    elif inp == 'macOS' or inp == 'Mac OS X':\n",
    "        return 'Mac'\n",
    "    else:\n",
    "        return 'Others/No OS/Linux'"
   ]
  },
  {
   "cell_type": "code",
   "execution_count": 74,
   "id": "11c1081e",
   "metadata": {},
   "outputs": [],
   "source": [
    "# Creating new column os\n",
    "data['os'] = data['OpSys'].apply(cat_os)"
   ]
  },
  {
   "cell_type": "code",
   "execution_count": 75,
   "id": "06f33128",
   "metadata": {},
   "outputs": [],
   "source": [
    "# Dropping OpSys column\n",
    "data.drop(columns=['OpSys'],inplace=True)"
   ]
  },
  {
   "cell_type": "code",
   "execution_count": 76,
   "id": "75e37d72",
   "metadata": {},
   "outputs": [],
   "source": [
    "# Dropping OpSys column\n",
    "data.drop(columns=['Resolution'],inplace=True)"
   ]
  },
  {
   "cell_type": "code",
   "execution_count": 77,
   "id": "4b9acec5",
   "metadata": {},
   "outputs": [
    {
     "data": {
      "image/png": "[encoded data removed]",
      "text/plain": [
       "<Figure size 500x400 with 1 Axes>"
      ]
     },
     "metadata": {},
     "output_type": "display_data"
    }
   ],
   "source": [
    "plt.figure(figsize=(5,4))\n",
    "sns.barplot(x=data['os'],y=data['Price'], palette=\"husl\")\n",
    "plt.xticks(rotation='vertical')\n",
    "plt.show()"
   ]
  },
  {
   "cell_type": "markdown",
   "id": "5f778e6d",
   "metadata": {},
   "source": [
    "## Weight"
   ]
  },
  {
   "cell_type": "code",
   "execution_count": 78,
   "id": "e60efd60",
   "metadata": {},
   "outputs": [
    {
     "data": {
      "text/plain": [
       "<Axes: xlabel='Weight', ylabel='Density'>"
      ]
     },
     "execution_count": 78,
     "metadata": {},
     "output_type": "execute_result"
    },
    {
     "data": {
      "image/png": "[encoded data removed]",
      "text/plain": [
       "<Figure size 500x400 with 1 Axes>"
      ]
     },
     "metadata": {},
     "output_type": "display_data"
    }
   ],
   "source": [
    "# creating distplot\n",
    "plt.figure(figsize=(5,4))\n",
    "sns.distplot(data[\"Weight\"], color='purple')"
   ]
  },
  {
   "cell_type": "code",
   "execution_count": 79,
   "id": "a0fa889a",
   "metadata": {},
   "outputs": [
    {
     "data": {
      "text/plain": [
       "<Axes: xlabel='Weight', ylabel='Price'>"
      ]
     },
     "execution_count": 79,
     "metadata": {},
     "output_type": "execute_result"
    },
    {
     "data": {
      "image/png": "[encoded data removed]",
      "text/plain": [
       "<Figure size 500x400 with 1 Axes>"
      ]
     },
     "metadata": {},
     "output_type": "display_data"
    }
   ],
   "source": [
    "#  Creating scatterplot\n",
    "plt.figure(figsize=(5,4))\n",
    "sns.scatterplot(x=data['Weight'],y=data['Price'])"
   ]
  },
  {
   "cell_type": "code",
   "execution_count": 80,
   "id": "e11f9373",
   "metadata": {},
   "outputs": [
    {
     "data": {
      "text/plain": [
       "Ram            0.742905\n",
       "Weight         0.209867\n",
       "Price          1.000000\n",
       "PPI            0.475368\n",
       "TouchScreen    0.192917\n",
       "IPS            0.253320\n",
       "CPU GHz        0.430122\n",
       "SSD            0.675849\n",
       "HDD            0.675849\n",
       "Name: Price, dtype: float64"
      ]
     },
     "execution_count": 80,
     "metadata": {},
     "output_type": "execute_result"
    }
   ],
   "source": [
    "data.corr()[\"Price\"]"
   ]
  },
  {
   "cell_type": "code",
   "execution_count": 81,
   "id": "66dc5b38",
   "metadata": {},
   "outputs": [
    {
     "data": {
      "text/plain": [
       "<Axes: >"
      ]
     },
     "execution_count": 81,
     "metadata": {},
     "output_type": "execute_result"
    },
    {
     "data": {
      "image/png": "[encoded data removed]",
      "text/plain": [
       "<Figure size 640x480 with 2 Axes>"
      ]
     },
     "metadata": {},
     "output_type": "display_data"
    }
   ],
   "source": [
    "#  Heatmap to see correlation between variables\n",
    "sns.heatmap(data.corr(),annot=True,cmap=\"RdYlGn\")"
   ]
  },
  {
   "cell_type": "markdown",
   "id": "e0310cd2",
   "metadata": {},
   "source": [
    "**Separating Independent Variables(X) and Dependent Variable(y)**  "
   ]
  },
  {
   "cell_type": "code",
   "execution_count": 82,
   "id": "e74edcf9",
   "metadata": {},
   "outputs": [],
   "source": [
    "X = data.drop(columns = [\"Price\"])\n",
    "y = np.log(data[\"Price\"])"
   ]
  },
  {
   "cell_type": "code",
   "execution_count": 83,
   "id": "9189c16c",
   "metadata": {},
   "outputs": [
    {
     "data": {
      "text/html": [
       "<div>\n",
       "<style scoped>\n",
       "    .dataframe tbody tr th:only-of-type {\n",
       "        vertical-align: middle;\n",
       "    }\n",
       "\n",
       "    .dataframe tbody tr th {\n",
       "        vertical-align: top;\n",
       "    }\n",
       "\n",
       "    .dataframe thead th {\n",
       "        text-align: right;\n",
       "    }\n",
       "</style>\n",
       "<table border=\"1\" class=\"dataframe\">\n",
       "  <thead>\n",
       "    <tr style=\"text-align: right;\">\n",
       "      <th></th>\n",
       "      <th>Company</th>\n",
       "      <th>TypeName</th>\n",
       "      <th>Ram</th>\n",
       "      <th>Weight</th>\n",
       "      <th>PPI</th>\n",
       "      <th>TouchScreen</th>\n",
       "      <th>IPS</th>\n",
       "      <th>CPU Brand</th>\n",
       "      <th>CPU GHz</th>\n",
       "      <th>SSD</th>\n",
       "      <th>HDD</th>\n",
       "      <th>Gpu brand</th>\n",
       "      <th>os</th>\n",
       "    </tr>\n",
       "  </thead>\n",
       "  <tbody>\n",
       "    <tr>\n",
       "      <th>0</th>\n",
       "      <td>Apple</td>\n",
       "      <td>Ultrabook</td>\n",
       "      <td>8</td>\n",
       "      <td>1.37</td>\n",
       "      <td>226.983005</td>\n",
       "      <td>0</td>\n",
       "      <td>1</td>\n",
       "      <td>Intel Core i5</td>\n",
       "      <td>2.3</td>\n",
       "      <td>128</td>\n",
       "      <td>128</td>\n",
       "      <td>Intel</td>\n",
       "      <td>Mac</td>\n",
       "    </tr>\n",
       "    <tr>\n",
       "      <th>1</th>\n",
       "      <td>Apple</td>\n",
       "      <td>Ultrabook</td>\n",
       "      <td>8</td>\n",
       "      <td>1.34</td>\n",
       "      <td>127.677940</td>\n",
       "      <td>0</td>\n",
       "      <td>0</td>\n",
       "      <td>Intel Core i5</td>\n",
       "      <td>1.8</td>\n",
       "      <td>0</td>\n",
       "      <td>0</td>\n",
       "      <td>Intel</td>\n",
       "      <td>Mac</td>\n",
       "    </tr>\n",
       "    <tr>\n",
       "      <th>2</th>\n",
       "      <td>HP</td>\n",
       "      <td>Notebook</td>\n",
       "      <td>8</td>\n",
       "      <td>1.86</td>\n",
       "      <td>141.211998</td>\n",
       "      <td>0</td>\n",
       "      <td>0</td>\n",
       "      <td>Intel Core i5</td>\n",
       "      <td>2.5</td>\n",
       "      <td>256</td>\n",
       "      <td>256</td>\n",
       "      <td>Intel</td>\n",
       "      <td>Others/No OS/Linux</td>\n",
       "    </tr>\n",
       "    <tr>\n",
       "      <th>3</th>\n",
       "      <td>Apple</td>\n",
       "      <td>Ultrabook</td>\n",
       "      <td>16</td>\n",
       "      <td>1.83</td>\n",
       "      <td>220.534624</td>\n",
       "      <td>0</td>\n",
       "      <td>1</td>\n",
       "      <td>Intel Core i7</td>\n",
       "      <td>2.7</td>\n",
       "      <td>512</td>\n",
       "      <td>512</td>\n",
       "      <td>AMD</td>\n",
       "      <td>Mac</td>\n",
       "    </tr>\n",
       "    <tr>\n",
       "      <th>4</th>\n",
       "      <td>Apple</td>\n",
       "      <td>Ultrabook</td>\n",
       "      <td>8</td>\n",
       "      <td>1.37</td>\n",
       "      <td>226.983005</td>\n",
       "      <td>0</td>\n",
       "      <td>1</td>\n",
       "      <td>Intel Core i5</td>\n",
       "      <td>3.1</td>\n",
       "      <td>256</td>\n",
       "      <td>256</td>\n",
       "      <td>Intel</td>\n",
       "      <td>Mac</td>\n",
       "    </tr>\n",
       "  </tbody>\n",
       "</table>\n",
       "</div>"
      ],
      "text/plain": [
       "  Company   TypeName  Ram  Weight         PPI  TouchScreen  IPS  \\\n",
       "0   Apple  Ultrabook    8    1.37  226.983005            0    1   \n",
       "1   Apple  Ultrabook    8    1.34  127.677940            0    0   \n",
       "2      HP   Notebook    8    1.86  141.211998            0    0   \n",
       "3   Apple  Ultrabook   16    1.83  220.534624            0    1   \n",
       "4   Apple  Ultrabook    8    1.37  226.983005            0    1   \n",
       "\n",
       "       CPU Brand  CPU GHz  SSD  HDD Gpu brand                  os  \n",
       "0  Intel Core i5      2.3  128  128     Intel                 Mac  \n",
       "1  Intel Core i5      1.8    0    0     Intel                 Mac  \n",
       "2  Intel Core i5      2.5  256  256     Intel  Others/No OS/Linux  \n",
       "3  Intel Core i7      2.7  512  512       AMD                 Mac  \n",
       "4  Intel Core i5      3.1  256  256     Intel                 Mac  "
      ]
     },
     "execution_count": 83,
     "metadata": {},
     "output_type": "execute_result"
    }
   ],
   "source": [
    "X.head()"
   ]
  },
  {
   "cell_type": "code",
   "execution_count": 84,
   "id": "4263b98a",
   "metadata": {},
   "outputs": [],
   "source": [
    "from sklearn.preprocessing import StandardScaler\n",
    "scaler = StandardScaler()"
   ]
  },
  {
   "cell_type": "code",
   "execution_count": 85,
   "id": "8bea4e5d",
   "metadata": {},
   "outputs": [],
   "source": [
    "# Scaling the data\n",
    "X[\"PPI\"] = scaler.fit_transform(X.iloc[: , 4:5])\n",
    "X[\"Weight\"] = scaler.fit_transform(X.iloc[: , 3:4])\n",
    "X[\"CPU GHz\"] = scaler.fit_transform(X.iloc[: , 8:9])"
   ]
  },
  {
   "cell_type": "code",
   "execution_count": 86,
   "id": "fced9c22",
   "metadata": {},
   "outputs": [],
   "source": [
    "from sklearn.preprocessing import LabelEncoder\n",
    "LR = LabelEncoder()"
   ]
  },
  {
   "cell_type": "code",
   "execution_count": 87,
   "id": "b518198d",
   "metadata": {},
   "outputs": [],
   "source": [
    "# using Label Encoding\n",
    "X[\"Ram\"] = LR.fit_transform(X[\"Ram\"])\n",
    "X[\"SSD\"] = LR.fit_transform(X[\"SSD\"])\n",
    "X[\"HDD\"] = LR.fit_transform(X[\"HDD\"])"
   ]
  },
  {
   "cell_type": "code",
   "execution_count": 88,
   "id": "ea178256",
   "metadata": {},
   "outputs": [],
   "source": [
    "# Using OneHotEncoder\n",
    "from sklearn.preprocessing import OneHotEncoder\n",
    "from sklearn.compose import ColumnTransformer\n",
    "\n",
    "col = [\"Company\", \"TypeName\", \"CPU Brand\",\"Gpu brand\",\"os\"]\n",
    "\n",
    "OHE = OneHotEncoder(drop = \"first\")\n",
    "transformer = ColumnTransformer([(\"one_hot\", OHE , col)], remainder = \"passthrough\")\n",
    "transformed_X = transformer.fit_transform(X)"
   ]
  },
  {
   "cell_type": "code",
   "execution_count": 89,
   "id": "37d64522",
   "metadata": {
    "scrolled": true
   },
   "outputs": [],
   "source": [
    "X = pd.DataFrame(transformed_X)"
   ]
  },
  {
   "cell_type": "code",
   "execution_count": 90,
   "id": "0b3b9c5c",
   "metadata": {},
   "outputs": [],
   "source": [
    "#  Importing libraries "
   ]
  },
  {
   "cell_type": "code",
   "execution_count": 99,
   "id": "eda4b5a4",
   "metadata": {},
   "outputs": [],
   "source": [
    "from sklearn.linear_model import LinearRegression,Ridge,Lasso\n",
    "from sklearn.neighbors import KNeighborsRegressor\n",
    "from sklearn.tree import DecisionTreeRegressor\n",
    "from sklearn.ensemble import RandomForestRegressor,GradientBoostingRegressor,AdaBoostRegressor,ExtraTreesRegressor\n",
    "from sklearn.svm import SVR\n",
    "from xgboost import XGBRegressor\n",
    "\n",
    "from sklearn.metrics import mean_absolute_error\n",
    "from sklearn.metrics import mean_squared_error, r2_score\n",
    "\n",
    "from sklearn.model_selection import train_test_split\n",
    "X_train, X_test, y_train, y_test = train_test_split(X,y, test_size=0.20, random_state=42)"
   ]
  },
  {
   "cell_type": "markdown",
   "id": "8c4731f0",
   "metadata": {},
   "source": [
    "## LinearRegression"
   ]
  },
  {
   "cell_type": "code",
   "execution_count": 100,
   "id": "6b1b376c",
   "metadata": {},
   "outputs": [
    {
     "name": "stdout",
     "output_type": "stream",
     "text": [
      "Mean Squared Error: 0.06947918522902582\n",
      "R-squared Score: 0.8196721337444546\n"
     ]
    }
   ],
   "source": [
    "model = LinearRegression()\n",
    "\n",
    "model.fit(X_train, y_train)\n",
    "\n",
    "predictions = model.predict(X_test)\n",
    "\n",
    "mse = mean_squared_error(y_test, predictions)\n",
    "print(\"Mean Squared Error:\", mse)\n",
    "r2 = r2_score(y_test, predictions)\n",
    "print(\"R-squared Score:\", r2)"
   ]
  },
  {
   "cell_type": "markdown",
   "id": "9082a8dd",
   "metadata": {},
   "source": [
    "## Ridge Regression"
   ]
  },
  {
   "cell_type": "code",
   "execution_count": 94,
   "id": "72e3b81e",
   "metadata": {},
   "outputs": [
    {
     "name": "stdout",
     "output_type": "stream",
     "text": [
      "MAE: 0.07325589126455692\n",
      "R2 score: 0.8098699845307467\n"
     ]
    }
   ],
   "source": [
    "model = Ridge(alpha=10)\n",
    "\n",
    "model.fit(X_train,y_train)\n",
    "\n",
    "y_pred = model.predict(X_test)\n",
    "\n",
    "print('MAE:',mean_squared_error(y_test,y_pred))\n",
    "print('R2 score:',r2_score(y_test,y_pred))"
   ]
  },
  {
   "cell_type": "markdown",
   "id": "2611ae5b",
   "metadata": {},
   "source": [
    "## Lasso Regression"
   ]
  },
  {
   "cell_type": "code",
   "execution_count": 102,
   "id": "d260545e",
   "metadata": {},
   "outputs": [
    {
     "name": "stdout",
     "output_type": "stream",
     "text": [
      "MAE: 0.07163444505728411\n",
      "R2 score: 0.8140783230977842\n"
     ]
    }
   ],
   "source": [
    "model = Lasso(alpha=0.001)\n",
    "\n",
    "model.fit(X_train,y_train)\n",
    "\n",
    "y_pred = model.predict(X_test)\n",
    "\n",
    "print('MAE:',mean_squared_error(y_test,y_pred))\n",
    "print('R2 score:',r2_score(y_test,y_pred))"
   ]
  },
  {
   "cell_type": "markdown",
   "id": "6e1bd70d",
   "metadata": {},
   "source": [
    "## KNeighbors Regressor"
   ]
  },
  {
   "cell_type": "code",
   "execution_count": 103,
   "id": "08cc2069",
   "metadata": {},
   "outputs": [
    {
     "name": "stdout",
     "output_type": "stream",
     "text": [
      "R2 score 0.836660639945634\n",
      "MAE 0.18978203384875586\n"
     ]
    }
   ],
   "source": [
    "model = KNeighborsRegressor(n_neighbors=3)\n",
    "\n",
    "model.fit(X_train,y_train)\n",
    "\n",
    "y_pred = model.predict(X_test)\n",
    "\n",
    "print('R2 score',r2_score(y_test,y_pred))\n",
    "print('MAE',mean_absolute_error(y_test,y_pred))"
   ]
  },
  {
   "cell_type": "markdown",
   "id": "b071a6f4",
   "metadata": {},
   "source": [
    "## DecisionTreeRegressor"
   ]
  },
  {
   "cell_type": "code",
   "execution_count": 104,
   "id": "0d1135d8",
   "metadata": {},
   "outputs": [
    {
     "name": "stdout",
     "output_type": "stream",
     "text": [
      "R2 score 0.8244965760162438\n",
      "MAE 0.1977954144039937\n"
     ]
    }
   ],
   "source": [
    "model = DecisionTreeRegressor(max_depth=8)\n",
    "\n",
    "model.fit(X_train,y_train)\n",
    "\n",
    "y_pred = model.predict(X_test)\n",
    "\n",
    "print('R2 score',r2_score(y_test,y_pred))\n",
    "print('MAE',mean_absolute_error(y_test,y_pred))"
   ]
  },
  {
   "cell_type": "markdown",
   "id": "64545404",
   "metadata": {},
   "source": [
    "## RandomForestRegressor"
   ]
  },
  {
   "cell_type": "code",
   "execution_count": 105,
   "id": "c7d219dc",
   "metadata": {},
   "outputs": [
    {
     "name": "stdout",
     "output_type": "stream",
     "text": [
      "R2 score 0.8960647757183295\n",
      "MAE 0.15080043075435748\n"
     ]
    }
   ],
   "source": [
    "model = RandomForestRegressor()\n",
    "\n",
    "model.fit(X_train, y_train)\n",
    "\n",
    "y_pred = model.predict(X_test)\n",
    "\n",
    "print('R2 score',r2_score(y_test,y_pred))\n",
    "print('MAE',mean_absolute_error(y_test,y_pred))"
   ]
  },
  {
   "cell_type": "markdown",
   "id": "e3ea3325",
   "metadata": {},
   "source": [
    "## Ada Boost"
   ]
  },
  {
   "cell_type": "code",
   "execution_count": 106,
   "id": "7e68a94a",
   "metadata": {},
   "outputs": [
    {
     "name": "stdout",
     "output_type": "stream",
     "text": [
      "R2 score 0.8038441357751706\n",
      "MAE 0.22248424669312417\n"
     ]
    }
   ],
   "source": [
    "from sklearn.impute import SimpleImputer\n",
    "\n",
    "imputer = SimpleImputer(strategy='mean')\n",
    "X_train_imputed = imputer.fit_transform(X_train)\n",
    "X_test_imputed = imputer.transform(X_test)\n",
    "\n",
    "# Create AdaBoost regressor\n",
    "ada_reg = AdaBoostRegressor()\n",
    "\n",
    "# Fit AdaBoost regressor to the training data\n",
    "ada_reg.fit(X_train_imputed, y_train)\n",
    "\n",
    "# Make predictions\n",
    "y_pred = ada_reg.predict(X_test_imputed)\n",
    "\n",
    "# Calculate R-squared score\n",
    "print('R2 score',r2_score(y_test,y_pred))\n",
    "print('MAE',mean_absolute_error(y_test,y_pred))"
   ]
  },
  {
   "cell_type": "markdown",
   "id": "3e8dc826",
   "metadata": {},
   "source": [
    "## Xg Boost"
   ]
  },
  {
   "cell_type": "code",
   "execution_count": 109,
   "id": "cb755d1c",
   "metadata": {},
   "outputs": [
    {
     "name": "stdout",
     "output_type": "stream",
     "text": [
      "Mean Squared Error: 0.0377770038174355\n",
      "R-squared Score: 0.9019527003739267\n"
     ]
    }
   ],
   "source": [
    "# Importing necessary libraries\n",
    "import xgboost as xgb\n",
    "\n",
    "dtrain = xgb.DMatrix(X_train, label=y_train)\n",
    "dtest = xgb.DMatrix(X_test, label=y_test)\n",
    "\n",
    "# Setting parameters for XGBoost regression\n",
    "params = {\n",
    "    'objective': 'reg:squarederror',  # objective function for regression\n",
    "    'eta': 0.1,  # learning rate\n",
    "    'max_depth': 5,  # maximum depth of the tree\n",
    "    'min_child_weight': 1,  # minimum sum of instance weight needed in a child\n",
    "    'subsample': 0.7,  # subsample ratio of the training instance\n",
    "    'colsample_bytree': 0.7,  # subsample ratio of columns when constructing each tree\n",
    "    'seed': 42  # random seed\n",
    "}\n",
    "\n",
    "# Training the XGBoost model for regression\n",
    "num_rounds = 100  # number of boosting rounds\n",
    "model1 = xgb.train(params, dtrain, num_rounds)\n",
    "\n",
    "# Making predictions on the testing data\n",
    "y_pred = model1.predict(dtest)\n",
    "\n",
    "# Calculating the mean squared error of the model\n",
    "mse = mean_squared_error(y_test, y_pred)\n",
    "print(\"Mean Squared Error:\", mse)\n",
    "\n",
    "# Calculate R-squared score\n",
    "r2 = r2_score(y_test, y_pred)\n",
    "print(\"R-squared Score:\", r2)"
   ]
  },
  {
   "cell_type": "markdown",
   "id": "7e7f2792",
   "metadata": {},
   "source": [
    "## GradientBoostingRegressor"
   ]
  },
  {
   "cell_type": "code",
   "execution_count": 108,
   "id": "59ea0781",
   "metadata": {},
   "outputs": [
    {
     "name": "stdout",
     "output_type": "stream",
     "text": [
      "Mean Squared Error: 0.04103199184727936\n",
      "R-squared Score: 0.8935046300032933\n"
     ]
    }
   ],
   "source": [
    "from sklearn.ensemble import GradientBoostingRegressor\n",
    "\n",
    "# Creating a Gradient Boosting regressor\n",
    "regressor = GradientBoostingRegressor(n_estimators=100, learning_rate=0.1, max_depth=5, random_state=42)\n",
    "\n",
    "# Training the regressor on the training data\n",
    "regressor.fit(X_train, y_train)\n",
    "\n",
    "# Making predictions on the testing data\n",
    "y_pred = regressor.predict(X_test)\n",
    "\n",
    "# Calculating the mean squared error of the regressor\n",
    "mse = mean_squared_error(y_test, y_pred)\n",
    "print(\"Mean Squared Error:\", mse)\n",
    "\n",
    "# Calculate R-squared score\n",
    "r2 = r2_score(y_test, y_pred)\n",
    "print(\"R-squared Score:\", r2)"
   ]
  },
  {
   "cell_type": "markdown",
   "id": "d65ed16e",
   "metadata": {},
   "source": [
    "## Final Conclusion\n",
    "**I have tried several models in which XGbbost gives the best Accuracy of around 90% \n",
    "so, I will be taking XGboost as my final model as it gives the best result compare to \n",
    "other machine learning models**"
   ]
  },
  {
   "cell_type": "markdown",
   "id": "0677aa86",
   "metadata": {},
   "source": [
    "Expoting the file"
   ]
  },
  {
   "cell_type": "code",
   "execution_count": 111,
   "id": "655cb78a",
   "metadata": {},
   "outputs": [],
   "source": [
    "import pickle"
   ]
  },
  {
   "cell_type": "code",
   "execution_count": 117,
   "id": "d262bbee",
   "metadata": {},
   "outputs": [],
   "source": [
    "pickle.dump(data,open(\"data.pkl\" ,\"wb\") )"
   ]
  },
  {
   "cell_type": "code",
   "execution_count": 119,
   "id": "085a1cf7",
   "metadata": {},
   "outputs": [],
   "source": [
    "pickle.dump(model1,open(\"model1.pkl\" ,\"wb\") )"
   ]
  },
  {
   "cell_type": "code",
   "execution_count": null,
   "id": "19bf0341",
   "metadata": {},
   "outputs": [],
   "source": []
  }
 ],
 "metadata": {
  "kernelspec": {
   "display_name": "Python 3 (ipykernel)",
   "language": "python",
   "name": "python3"
  },
  "language_info": {
   "codemirror_mode": {
    "name": "ipython",
    "version": 3
   },
   "file_extension": ".py",
   "mimetype": "text/x-python",
   "name": "python",
   "nbconvert_exporter": "python",
   "pygments_lexer": "ipython3",
   "version": "3.11.4"
  }
 },
 "nbformat": 4,
 "nbformat_minor": 5
}
