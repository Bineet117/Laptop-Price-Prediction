{
 "cells": [
  {
   "cell_type": "markdown",
   "id": "bec8aa05",
   "metadata": {},
   "source": [
    "<table align=\"center\" width=110%>\n",
    "    <tr>\n",
    "        <td>\n",
    "            <div align=\"center\">\n",
    "                <font color=\"#21618C\" size=6px>\n",
    "                    <b>\n",
    "                        LAPTOP PRICE PREDICTION\n",
    "        <br>\n",
    "                    </b>\n",
    "                </font>\n",
    "            </div>\n",
    "        </td>\n",
    "    </tr>\n",
    "</table>"
   ]
  },
  {
   "cell_type": "markdown",
   "id": "8bb18277",
   "metadata": {},
   "source": [
    "# Abstract\n",
    "In today's dynamic market, accurately predicting laptop prices is crucial for both consumers and sellers. This study aims to develop a data-driven approach utilizing machine learning algorithms to forecast laptop prices effectively. By analyzing various attributes such as brand, specifications, market trends, and technological advancements, the proposed model seeks to provide reliable price predictions. The objective is to empower stakeholders with actionable insights for decision-making, including purchasing, pricing strategies, inventory management, and product development."
   ]
  },
  {
   "cell_type": "markdown",
   "id": "2c34c4aa",
   "metadata": {},
   "source": [
    "# Problem Statement\n",
    "The laptop market is characterized by a multitude of factors influencing prices, including brand reputation, hardware specifications, market demand, and technological advancements. However, accurately forecasting laptop prices remains challenging due to the complexity and variability of these factors. Traditional pricing methods often lack precision and fail to adapt to evolving market dynamics. Therefore, there is a critical need for a data-driven approach leveraging machine learning algorithms to develop a robust predictive model capable of generating accurate price forecasts for laptops."
   ]
  },
  {
   "cell_type": "markdown",
   "id": "8d2458d3",
   "metadata": {},
   "source": [
    "# Dataset Description\n",
    "\n",
    "1. Company : Name of the Company\n",
    "\n",
    "2. TypeName : Type of laptop('Notebook', 'Gaming', 'Ultrabook', '2 in 1 Convertible', 'Workstation',\n",
    "       'Netbook')\n",
    "\n",
    "3. Inches : Size of the laptop(floating value)\n",
    "\n",
    "4. ScreenResolution : The resolution of the laptop screen.\n",
    "\n",
    "5. Cpu : The processor (CPU) specifications of the laptop.\n",
    "\n",
    "6. Ram : The amount of RAM (random-access memory) in the laptop.\n",
    "\n",
    "7. Memory : The storage capacity or type of memory (e.g., SSD, HDD) in the laptop.\n",
    "\n",
    "8. Gpu : The graphics processor (GPU) specifications of the laptop.\n",
    "\n",
    "9. OpSys : The operating system installed on the laptop.\n",
    "\n",
    "10. Weight : The weight of the laptop, usually in kilograms or pounds.\n",
    "\n",
    "11. Price : The price of the laptop, which is the target variable for prediction."
   ]
  },
  {
   "cell_type": "markdown",
   "id": "afa38dcf",
   "metadata": {},
   "source": [
    "# Libraries"
   ]
  },
  {
   "cell_type": "code",
   "execution_count": 137,
   "id": "c1678876",
   "metadata": {},
   "outputs": [],
   "source": [
    "# import 'Pandas' \n",
    "import pandas as pd \n",
    "\n",
    "# import 'Numpy' \n",
    "import numpy as np\n",
    "\n",
    "# import 'math'\n",
    "import math\n",
    "\n",
    "# import subpackage of 'Matplotlib'\n",
    "import matplotlib.pyplot as plt\n",
    "%matplotlib inline\n",
    "from matplotlib.colors import ListedColormap\n",
    "\n",
    "# import 'Seaborn' \n",
    "import seaborn as sns\n",
    "\n",
    "# to suppress warnings \n",
    "from warnings import filterwarnings\n",
    "filterwarnings('ignore')\n",
    "\n",
    "# display all columns of the dataframe\n",
    "pd.options.display.max_columns = None\n",
    "\n",
    "# display all rows of the dataframe\n",
    "pd.options.display.max_rows = None"
   ]
  },
  {
   "cell_type": "markdown",
   "id": "dd166b39",
   "metadata": {},
   "source": [
    "# Load Dataset"
   ]
  },
  {
   "cell_type": "code",
   "execution_count": 2,
   "id": "130a8d57",
   "metadata": {},
   "outputs": [],
   "source": [
    "data = pd.read_csv(\"laptop_data.csv\")"
   ]
  },
  {
   "cell_type": "code",
   "execution_count": 3,
   "id": "4a1203fe",
   "metadata": {},
   "outputs": [
    {
     "data": {
      "text/html": [
       "<div>\n",
       "<style scoped>\n",
       "    .dataframe tbody tr th:only-of-type {\n",
       "        vertical-align: middle;\n",
       "    }\n",
       "\n",
       "    .dataframe tbody tr th {\n",
       "        vertical-align: top;\n",
       "    }\n",
       "\n",
       "    .dataframe thead th {\n",
       "        text-align: right;\n",
       "    }\n",
       "</style>\n",
       "<table border=\"1\" class=\"dataframe\">\n",
       "  <thead>\n",
       "    <tr style=\"text-align: right;\">\n",
       "      <th></th>\n",
       "      <th>Unnamed: 0</th>\n",
       "      <th>Company</th>\n",
       "      <th>TypeName</th>\n",
       "      <th>Inches</th>\n",
       "      <th>ScreenResolution</th>\n",
       "      <th>Cpu</th>\n",
       "      <th>Ram</th>\n",
       "      <th>Memory</th>\n",
       "      <th>Gpu</th>\n",
       "      <th>OpSys</th>\n",
       "      <th>Weight</th>\n",
       "      <th>Price</th>\n",
       "    </tr>\n",
       "  </thead>\n",
       "  <tbody>\n",
       "    <tr>\n",
       "      <th>0</th>\n",
       "      <td>0</td>\n",
       "      <td>Apple</td>\n",
       "      <td>Ultrabook</td>\n",
       "      <td>13.3</td>\n",
       "      <td>IPS Panel Retina Display 2560x1600</td>\n",
       "      <td>Intel Core i5 2.3GHz</td>\n",
       "      <td>8GB</td>\n",
       "      <td>128GB SSD</td>\n",
       "      <td>Intel Iris Plus Graphics 640</td>\n",
       "      <td>macOS</td>\n",
       "      <td>1.37kg</td>\n",
       "      <td>71378.6832</td>\n",
       "    </tr>\n",
       "    <tr>\n",
       "      <th>1</th>\n",
       "      <td>1</td>\n",
       "      <td>Apple</td>\n",
       "      <td>Ultrabook</td>\n",
       "      <td>13.3</td>\n",
       "      <td>1440x900</td>\n",
       "      <td>Intel Core i5 1.8GHz</td>\n",
       "      <td>8GB</td>\n",
       "      <td>128GB Flash Storage</td>\n",
       "      <td>Intel HD Graphics 6000</td>\n",
       "      <td>macOS</td>\n",
       "      <td>1.34kg</td>\n",
       "      <td>47895.5232</td>\n",
       "    </tr>\n",
       "    <tr>\n",
       "      <th>2</th>\n",
       "      <td>2</td>\n",
       "      <td>HP</td>\n",
       "      <td>Notebook</td>\n",
       "      <td>15.6</td>\n",
       "      <td>Full HD 1920x1080</td>\n",
       "      <td>Intel Core i5 7200U 2.5GHz</td>\n",
       "      <td>8GB</td>\n",
       "      <td>256GB SSD</td>\n",
       "      <td>Intel HD Graphics 620</td>\n",
       "      <td>No OS</td>\n",
       "      <td>1.86kg</td>\n",
       "      <td>30636.0000</td>\n",
       "    </tr>\n",
       "    <tr>\n",
       "      <th>3</th>\n",
       "      <td>3</td>\n",
       "      <td>Apple</td>\n",
       "      <td>Ultrabook</td>\n",
       "      <td>15.4</td>\n",
       "      <td>IPS Panel Retina Display 2880x1800</td>\n",
       "      <td>Intel Core i7 2.7GHz</td>\n",
       "      <td>16GB</td>\n",
       "      <td>512GB SSD</td>\n",
       "      <td>AMD Radeon Pro 455</td>\n",
       "      <td>macOS</td>\n",
       "      <td>1.83kg</td>\n",
       "      <td>135195.3360</td>\n",
       "    </tr>\n",
       "    <tr>\n",
       "      <th>4</th>\n",
       "      <td>4</td>\n",
       "      <td>Apple</td>\n",
       "      <td>Ultrabook</td>\n",
       "      <td>13.3</td>\n",
       "      <td>IPS Panel Retina Display 2560x1600</td>\n",
       "      <td>Intel Core i5 3.1GHz</td>\n",
       "      <td>8GB</td>\n",
       "      <td>256GB SSD</td>\n",
       "      <td>Intel Iris Plus Graphics 650</td>\n",
       "      <td>macOS</td>\n",
       "      <td>1.37kg</td>\n",
       "      <td>96095.8080</td>\n",
       "    </tr>\n",
       "  </tbody>\n",
       "</table>\n",
       "</div>"
      ],
      "text/plain": [
       "   Unnamed: 0 Company   TypeName  Inches                    ScreenResolution  \\\n",
       "0           0   Apple  Ultrabook    13.3  IPS Panel Retina Display 2560x1600   \n",
       "1           1   Apple  Ultrabook    13.3                            1440x900   \n",
       "2           2      HP   Notebook    15.6                   Full HD 1920x1080   \n",
       "3           3   Apple  Ultrabook    15.4  IPS Panel Retina Display 2880x1800   \n",
       "4           4   Apple  Ultrabook    13.3  IPS Panel Retina Display 2560x1600   \n",
       "\n",
       "                          Cpu   Ram               Memory  \\\n",
       "0        Intel Core i5 2.3GHz   8GB            128GB SSD   \n",
       "1        Intel Core i5 1.8GHz   8GB  128GB Flash Storage   \n",
       "2  Intel Core i5 7200U 2.5GHz   8GB            256GB SSD   \n",
       "3        Intel Core i7 2.7GHz  16GB            512GB SSD   \n",
       "4        Intel Core i5 3.1GHz   8GB            256GB SSD   \n",
       "\n",
       "                            Gpu  OpSys  Weight        Price  \n",
       "0  Intel Iris Plus Graphics 640  macOS  1.37kg   71378.6832  \n",
       "1        Intel HD Graphics 6000  macOS  1.34kg   47895.5232  \n",
       "2         Intel HD Graphics 620  No OS  1.86kg   30636.0000  \n",
       "3            AMD Radeon Pro 455  macOS  1.83kg  135195.3360  \n",
       "4  Intel Iris Plus Graphics 650  macOS  1.37kg   96095.8080  "
      ]
     },
     "execution_count": 3,
     "metadata": {},
     "output_type": "execute_result"
    }
   ],
   "source": [
    "data.head()"
   ]
  },
  {
   "cell_type": "markdown",
   "id": "5e0397eb",
   "metadata": {},
   "source": [
    "# Data Preprocessing"
   ]
  },
  {
   "cell_type": "markdown",
   "id": "a47e8307",
   "metadata": {},
   "source": [
    "## Check the Dataset and Null Values"
   ]
  },
  {
   "cell_type": "code",
   "execution_count": 4,
   "id": "b6800f1a",
   "metadata": {},
   "outputs": [
    {
     "name": "stdout",
     "output_type": "stream",
     "text": [
      "<class 'pandas.core.frame.DataFrame'>\n",
      "RangeIndex: 1303 entries, 0 to 1302\n",
      "Data columns (total 12 columns):\n",
      " #   Column            Non-Null Count  Dtype  \n",
      "---  ------            --------------  -----  \n",
      " 0   Unnamed: 0        1303 non-null   int64  \n",
      " 1   Company           1303 non-null   object \n",
      " 2   TypeName          1303 non-null   object \n",
      " 3   Inches            1303 non-null   float64\n",
      " 4   ScreenResolution  1303 non-null   object \n",
      " 5   Cpu               1303 non-null   object \n",
      " 6   Ram               1303 non-null   object \n",
      " 7   Memory            1303 non-null   object \n",
      " 8   Gpu               1303 non-null   object \n",
      " 9   OpSys             1303 non-null   object \n",
      " 10  Weight            1303 non-null   object \n",
      " 11  Price             1303 non-null   float64\n",
      "dtypes: float64(2), int64(1), object(9)\n",
      "memory usage: 122.3+ KB\n"
     ]
    }
   ],
   "source": [
    "data.info()"
   ]
  },
  {
   "cell_type": "markdown",
   "id": "3153f4c4",
   "metadata": {},
   "source": [
    "#### Shape of the Dataset"
   ]
  },
  {
   "cell_type": "code",
   "execution_count": 5,
   "id": "6742ae69",
   "metadata": {},
   "outputs": [
    {
     "data": {
      "text/plain": [
       "(1303, 12)"
      ]
     },
     "execution_count": 5,
     "metadata": {},
     "output_type": "execute_result"
    }
   ],
   "source": [
    "data.shape"
   ]
  },
  {
   "cell_type": "markdown",
   "id": "ba0a3458",
   "metadata": {},
   "source": [
    "#### Checking Null values"
   ]
  },
  {
   "cell_type": "code",
   "execution_count": 6,
   "id": "3f0ccaae",
   "metadata": {},
   "outputs": [
    {
     "name": "stdout",
     "output_type": "stream",
     "text": [
      "Unnamed: 0          0\n",
      "Company             0\n",
      "TypeName            0\n",
      "Inches              0\n",
      "ScreenResolution    0\n",
      "Cpu                 0\n",
      "Ram                 0\n",
      "Memory              0\n",
      "Gpu                 0\n",
      "OpSys               0\n",
      "Weight              0\n",
      "Price               0\n",
      "dtype: int64\n",
      "--------------------------------------------------\n"
     ]
    }
   ],
   "source": [
    "print(data.isnull().sum())\n",
    "print(\"-\"*50)"
   ]
  },
  {
   "cell_type": "markdown",
   "id": "514e1820",
   "metadata": {},
   "source": [
    "**Observation:-** \\\n",
    "There is no null values in the dataset"
   ]
  },
  {
   "cell_type": "markdown",
   "id": "72f3db84",
   "metadata": {},
   "source": [
    "#### Checking duplicate values "
   ]
  },
  {
   "cell_type": "code",
   "execution_count": 7,
   "id": "da86c826",
   "metadata": {},
   "outputs": [
    {
     "name": "stdout",
     "output_type": "stream",
     "text": [
      "0\n",
      "--------------------------------------------------\n"
     ]
    }
   ],
   "source": [
    "print(data.duplicated().sum())\n",
    "print(\"-\"*50)"
   ]
  },
  {
   "cell_type": "markdown",
   "id": "8debf1c8",
   "metadata": {},
   "source": [
    "**Observation:-** \\\n",
    "There is no duplicate values in the dataset"
   ]
  },
  {
   "cell_type": "markdown",
   "id": "1b559c26",
   "metadata": {},
   "source": [
    "#### Unique Values "
   ]
  },
  {
   "cell_type": "code",
   "execution_count": 8,
   "id": "a7115c5d",
   "metadata": {},
   "outputs": [
    {
     "data": {
      "text/plain": [
       "Unnamed: 0          1303\n",
       "Company               19\n",
       "TypeName               6\n",
       "Inches                18\n",
       "ScreenResolution      40\n",
       "Cpu                  118\n",
       "Ram                    9\n",
       "Memory                39\n",
       "Gpu                  110\n",
       "OpSys                  9\n",
       "Weight               179\n",
       "Price                791\n",
       "dtype: int64"
      ]
     },
     "execution_count": 8,
     "metadata": {},
     "output_type": "execute_result"
    }
   ],
   "source": [
    "data.nunique()"
   ]
  },
  {
   "cell_type": "markdown",
   "id": "2eea9f4b",
   "metadata": {},
   "source": [
    "`Unnamed` is unnecessary column which we gonna drop  "
   ]
  },
  {
   "cell_type": "markdown",
   "id": "17e4bf12",
   "metadata": {},
   "source": [
    "**Dropping `Unnamed` column**"
   ]
  },
  {
   "cell_type": "code",
   "execution_count": 9,
   "id": "7c2dc7d5",
   "metadata": {},
   "outputs": [],
   "source": [
    "data.drop(\"Unnamed: 0\" , axis = 1, inplace = True)"
   ]
  },
  {
   "cell_type": "markdown",
   "id": "1546d885",
   "metadata": {},
   "source": [
    "**Checking Number of unique values and value_counts**"
   ]
  },
  {
   "cell_type": "code",
   "execution_count": 10,
   "id": "fae30aab",
   "metadata": {
    "scrolled": true
   },
   "outputs": [
    {
     "name": "stdout",
     "output_type": "stream",
     "text": [
      "Number of unique Values in Company are - 19 \n",
      "\n",
      "Counts of each value in Company -\n",
      " Dell         297\n",
      "Lenovo       297\n",
      "HP           274\n",
      "Asus         158\n",
      "Acer         103\n",
      "MSI           54\n",
      "Toshiba       48\n",
      "Apple         21\n",
      "Samsung        9\n",
      "Razer          7\n",
      "Mediacom       7\n",
      "Microsoft      6\n",
      "Xiaomi         4\n",
      "Vero           4\n",
      "Chuwi          3\n",
      "Google         3\n",
      "Fujitsu        3\n",
      "LG             3\n",
      "Huawei         2\n",
      "Name: Company, dtype: int64 \n",
      "\n",
      " -------------------------------------------------- \n",
      " -------------------------------------------------- \n",
      "\n",
      "\n",
      "Number of unique Values in TypeName are - 6 \n",
      "\n",
      "Counts of each value in TypeName -\n",
      " Notebook              727\n",
      "Gaming                205\n",
      "Ultrabook             196\n",
      "2 in 1 Convertible    121\n",
      "Workstation            29\n",
      "Netbook                25\n",
      "Name: TypeName, dtype: int64 \n",
      "\n",
      " -------------------------------------------------- \n",
      " -------------------------------------------------- \n",
      "\n",
      "\n",
      "Number of unique Values in Inches are - 18 \n",
      "\n",
      "Counts of each value in Inches -\n",
      " 15.6    665\n",
      "14.0    197\n",
      "13.3    164\n",
      "17.3    164\n",
      "12.5     39\n",
      "11.6     33\n",
      "12.0      6\n",
      "13.5      6\n",
      "13.9      6\n",
      "12.3      5\n",
      "10.1      4\n",
      "15.4      4\n",
      "15.0      4\n",
      "13.0      2\n",
      "18.4      1\n",
      "17.0      1\n",
      "14.1      1\n",
      "11.3      1\n",
      "Name: Inches, dtype: int64 \n",
      "\n",
      " -------------------------------------------------- \n",
      " -------------------------------------------------- \n",
      "\n",
      "\n",
      "Number of unique Values in ScreenResolution are - 40 \n",
      "\n",
      "Counts of each value in ScreenResolution -\n",
      " Full HD 1920x1080                                507\n",
      "1366x768                                         281\n",
      "IPS Panel Full HD 1920x1080                      230\n",
      "IPS Panel Full HD / Touchscreen 1920x1080         53\n",
      "Full HD / Touchscreen 1920x1080                   47\n",
      "1600x900                                          23\n",
      "Touchscreen 1366x768                              16\n",
      "Quad HD+ / Touchscreen 3200x1800                  15\n",
      "IPS Panel 4K Ultra HD 3840x2160                   12\n",
      "IPS Panel 4K Ultra HD / Touchscreen 3840x2160     11\n",
      "4K Ultra HD / Touchscreen 3840x2160               10\n",
      "4K Ultra HD 3840x2160                              7\n",
      "Touchscreen 2560x1440                              7\n",
      "IPS Panel 1366x768                                 7\n",
      "IPS Panel Quad HD+ / Touchscreen 3200x1800         6\n",
      "IPS Panel Retina Display 2560x1600                 6\n",
      "IPS Panel Retina Display 2304x1440                 6\n",
      "Touchscreen 2256x1504                              6\n",
      "IPS Panel Touchscreen 2560x1440                    5\n",
      "IPS Panel Retina Display 2880x1800                 4\n",
      "IPS Panel Touchscreen 1920x1200                    4\n",
      "1440x900                                           4\n",
      "IPS Panel 2560x1440                                4\n",
      "IPS Panel Quad HD+ 2560x1440                       3\n",
      "Quad HD+ 3200x1800                                 3\n",
      "1920x1080                                          3\n",
      "Touchscreen 2400x1600                              3\n",
      "2560x1440                                          3\n",
      "IPS Panel Touchscreen 1366x768                     3\n",
      "IPS Panel Touchscreen / 4K Ultra HD 3840x2160      2\n",
      "IPS Panel Full HD 2160x1440                        2\n",
      "IPS Panel Quad HD+ 3200x1800                       2\n",
      "IPS Panel Retina Display 2736x1824                 1\n",
      "IPS Panel Full HD 1920x1200                        1\n",
      "IPS Panel Full HD 2560x1440                        1\n",
      "IPS Panel Full HD 1366x768                         1\n",
      "Touchscreen / Full HD 1920x1080                    1\n",
      "Touchscreen / Quad HD+ 3200x1800                   1\n",
      "Touchscreen / 4K Ultra HD 3840x2160                1\n",
      "IPS Panel Touchscreen 2400x1600                    1\n",
      "Name: ScreenResolution, dtype: int64 \n",
      "\n",
      " -------------------------------------------------- \n",
      " -------------------------------------------------- \n",
      "\n",
      "\n",
      "Number of unique Values in Cpu are - 118 \n",
      "\n",
      "Counts of each value in Cpu -\n",
      " Intel Core i5 7200U 2.5GHz       190\n",
      "Intel Core i7 7700HQ 2.8GHz      146\n",
      "Intel Core i7 7500U 2.7GHz       134\n",
      "Intel Core i7 8550U 1.8GHz        73\n",
      "Intel Core i5 8250U 1.6GHz        72\n",
      "                                ... \n",
      "Intel Core M M3-6Y30 0.9GHz        1\n",
      "AMD A9-Series 9420 2.9GHz          1\n",
      "Intel Core i3 6006U 2.2GHz         1\n",
      "AMD A6-Series 7310 2GHz            1\n",
      "Intel Xeon E3-1535M v6 3.1GHz      1\n",
      "Name: Cpu, Length: 118, dtype: int64 \n",
      "\n",
      " -------------------------------------------------- \n",
      " -------------------------------------------------- \n",
      "\n",
      "\n",
      "Number of unique Values in Ram are - 9 \n",
      "\n",
      "Counts of each value in Ram -\n",
      " 8GB     619\n",
      "4GB     375\n",
      "16GB    200\n",
      "6GB      41\n",
      "12GB     25\n",
      "2GB      22\n",
      "32GB     17\n",
      "24GB      3\n",
      "64GB      1\n",
      "Name: Ram, dtype: int64 \n",
      "\n",
      " -------------------------------------------------- \n",
      " -------------------------------------------------- \n",
      "\n",
      "\n",
      "Number of unique Values in Memory are - 39 \n",
      "\n",
      "Counts of each value in Memory -\n",
      " 256GB SSD                        412\n",
      "1TB HDD                          223\n",
      "500GB HDD                        132\n",
      "512GB SSD                        118\n",
      "128GB SSD +  1TB HDD              94\n",
      "128GB SSD                         76\n",
      "256GB SSD +  1TB HDD              73\n",
      "32GB Flash Storage                38\n",
      "2TB HDD                           16\n",
      "64GB Flash Storage                15\n",
      "512GB SSD +  1TB HDD              14\n",
      "1TB SSD                           14\n",
      "256GB SSD +  2TB HDD              10\n",
      "1.0TB Hybrid                       9\n",
      "256GB Flash Storage                8\n",
      "16GB Flash Storage                 7\n",
      "32GB SSD                           6\n",
      "180GB SSD                          5\n",
      "128GB Flash Storage                4\n",
      "512GB SSD +  2TB HDD               3\n",
      "16GB SSD                           3\n",
      "512GB Flash Storage                2\n",
      "1TB SSD +  1TB HDD                 2\n",
      "256GB SSD +  500GB HDD             2\n",
      "128GB SSD +  2TB HDD               2\n",
      "256GB SSD +  256GB SSD             2\n",
      "512GB SSD +  256GB SSD             1\n",
      "512GB SSD +  512GB SSD             1\n",
      "64GB Flash Storage +  1TB HDD      1\n",
      "1TB HDD +  1TB HDD                 1\n",
      "32GB HDD                           1\n",
      "64GB SSD                           1\n",
      "128GB HDD                          1\n",
      "240GB SSD                          1\n",
      "8GB SSD                            1\n",
      "508GB Hybrid                       1\n",
      "1.0TB HDD                          1\n",
      "512GB SSD +  1.0TB Hybrid          1\n",
      "256GB SSD +  1.0TB Hybrid          1\n",
      "Name: Memory, dtype: int64 \n",
      "\n",
      " -------------------------------------------------- \n",
      " -------------------------------------------------- \n",
      "\n",
      "\n",
      "Number of unique Values in Gpu are - 110 \n",
      "\n",
      "Counts of each value in Gpu -\n",
      " Intel HD Graphics 620      281\n",
      "Intel HD Graphics 520      185\n",
      "Intel UHD Graphics 620      68\n",
      "Nvidia GeForce GTX 1050     66\n",
      "Nvidia GeForce GTX 1060     48\n",
      "                          ... \n",
      "AMD Radeon R5 520            1\n",
      "AMD Radeon R7                1\n",
      "Intel HD Graphics 540        1\n",
      "AMD Radeon 540               1\n",
      "ARM Mali T860 MP4            1\n",
      "Name: Gpu, Length: 110, dtype: int64 \n",
      "\n",
      " -------------------------------------------------- \n",
      " -------------------------------------------------- \n",
      "\n",
      "\n",
      "Number of unique Values in OpSys are - 9 \n",
      "\n",
      "Counts of each value in OpSys -\n",
      " Windows 10      1072\n",
      "No OS             66\n",
      "Linux             62\n",
      "Windows 7         45\n",
      "Chrome OS         27\n",
      "macOS             13\n",
      "Mac OS X           8\n",
      "Windows 10 S       8\n",
      "Android            2\n",
      "Name: OpSys, dtype: int64 \n",
      "\n",
      " -------------------------------------------------- \n",
      " -------------------------------------------------- \n",
      "\n",
      "\n",
      "Number of unique Values in Weight are - 179 \n",
      "\n",
      "Counts of each value in Weight -\n",
      " 2.2kg     121\n",
      "2.1kg      58\n",
      "2.4kg      44\n",
      "2.3kg      41\n",
      "2.5kg      38\n",
      "         ... \n",
      "3.25kg      1\n",
      "4.7kg       1\n",
      "1.55kg      1\n",
      "1.18kg      1\n",
      "4.0kg       1\n",
      "Name: Weight, Length: 179, dtype: int64 \n",
      "\n",
      " -------------------------------------------------- \n",
      " -------------------------------------------------- \n",
      "\n",
      "\n",
      "Number of unique Values in Price are - 791 \n",
      "\n",
      "Counts of each value in Price -\n",
      " 79866.72     14\n",
      "58554.72     14\n",
      "95850.72     14\n",
      "47898.72     11\n",
      "63882.72     11\n",
      "             ..\n",
      "111355.20     1\n",
      "16197.12      1\n",
      "40439.52      1\n",
      "98994.24      1\n",
      "143802.72     1\n",
      "Name: Price, Length: 791, dtype: int64 \n",
      "\n",
      " -------------------------------------------------- \n",
      " -------------------------------------------------- \n",
      "\n",
      "\n"
     ]
    }
   ],
   "source": [
    "for i in data.columns:\n",
    "    print('Number of unique Values in',i,'are -',data[i].nunique(),'\\n')\n",
    "    print('Counts of each value in',i,'-\\n' , data[i].value_counts() , '\\n\\n','-'*50,'\\n','-'*50,'\\n\\n' )"
   ]
  },
  {
   "cell_type": "markdown",
   "id": "6172e022",
   "metadata": {},
   "source": [
    "**Removing `GB` from Ram column** \\\n",
    "**Removing `kg` from Weight column** "
   ]
  },
  {
   "cell_type": "code",
   "execution_count": 11,
   "id": "f6dc4c5d",
   "metadata": {},
   "outputs": [],
   "source": [
    "data[\"Ram\"] = data[\"Ram\"].str.replace(\"GB\",\"\")\n",
    "data[\"Weight\"] = data[\"Weight\"].str.replace(\"kg\",\"\")"
   ]
  },
  {
   "cell_type": "code",
   "execution_count": 12,
   "id": "b69bd01d",
   "metadata": {},
   "outputs": [
    {
     "data": {
      "text/html": [
       "<div>\n",
       "<style scoped>\n",
       "    .dataframe tbody tr th:only-of-type {\n",
       "        vertical-align: middle;\n",
       "    }\n",
       "\n",
       "    .dataframe tbody tr th {\n",
       "        vertical-align: top;\n",
       "    }\n",
       "\n",
       "    .dataframe thead th {\n",
       "        text-align: right;\n",
       "    }\n",
       "</style>\n",
       "<table border=\"1\" class=\"dataframe\">\n",
       "  <thead>\n",
       "    <tr style=\"text-align: right;\">\n",
       "      <th></th>\n",
       "      <th>Company</th>\n",
       "      <th>TypeName</th>\n",
       "      <th>Inches</th>\n",
       "      <th>ScreenResolution</th>\n",
       "      <th>Cpu</th>\n",
       "      <th>Ram</th>\n",
       "      <th>Memory</th>\n",
       "      <th>Gpu</th>\n",
       "      <th>OpSys</th>\n",
       "      <th>Weight</th>\n",
       "      <th>Price</th>\n",
       "    </tr>\n",
       "  </thead>\n",
       "  <tbody>\n",
       "    <tr>\n",
       "      <th>0</th>\n",
       "      <td>Apple</td>\n",
       "      <td>Ultrabook</td>\n",
       "      <td>13.3</td>\n",
       "      <td>IPS Panel Retina Display 2560x1600</td>\n",
       "      <td>Intel Core i5 2.3GHz</td>\n",
       "      <td>8</td>\n",
       "      <td>128GB SSD</td>\n",
       "      <td>Intel Iris Plus Graphics 640</td>\n",
       "      <td>macOS</td>\n",
       "      <td>1.37</td>\n",
       "      <td>71378.6832</td>\n",
       "    </tr>\n",
       "    <tr>\n",
       "      <th>1</th>\n",
       "      <td>Apple</td>\n",
       "      <td>Ultrabook</td>\n",
       "      <td>13.3</td>\n",
       "      <td>1440x900</td>\n",
       "      <td>Intel Core i5 1.8GHz</td>\n",
       "      <td>8</td>\n",
       "      <td>128GB Flash Storage</td>\n",
       "      <td>Intel HD Graphics 6000</td>\n",
       "      <td>macOS</td>\n",
       "      <td>1.34</td>\n",
       "      <td>47895.5232</td>\n",
       "    </tr>\n",
       "  </tbody>\n",
       "</table>\n",
       "</div>"
      ],
      "text/plain": [
       "  Company   TypeName  Inches                    ScreenResolution  \\\n",
       "0   Apple  Ultrabook    13.3  IPS Panel Retina Display 2560x1600   \n",
       "1   Apple  Ultrabook    13.3                            1440x900   \n",
       "\n",
       "                    Cpu Ram               Memory  \\\n",
       "0  Intel Core i5 2.3GHz   8            128GB SSD   \n",
       "1  Intel Core i5 1.8GHz   8  128GB Flash Storage   \n",
       "\n",
       "                            Gpu  OpSys Weight       Price  \n",
       "0  Intel Iris Plus Graphics 640  macOS   1.37  71378.6832  \n",
       "1        Intel HD Graphics 6000  macOS   1.34  47895.5232  "
      ]
     },
     "execution_count": 12,
     "metadata": {},
     "output_type": "execute_result"
    }
   ],
   "source": [
    "data.head(2)"
   ]
  },
  {
   "cell_type": "markdown",
   "id": "9dfac87f",
   "metadata": {},
   "source": [
    "**Changing Datatype of `Ram` & `Weight` column**"
   ]
  },
  {
   "cell_type": "code",
   "execution_count": 13,
   "id": "72bcd52d",
   "metadata": {},
   "outputs": [],
   "source": [
    "data[\"Ram\"] = data[\"Ram\"].astype(\"int32\")\n",
    "data[\"Weight\"] = data[\"Weight\"].astype(\"float64\")"
   ]
  },
  {
   "cell_type": "code",
   "execution_count": 14,
   "id": "d83c2068",
   "metadata": {},
   "outputs": [
    {
     "data": {
      "text/plain": [
       "Company              object\n",
       "TypeName             object\n",
       "Inches              float64\n",
       "ScreenResolution     object\n",
       "Cpu                  object\n",
       "Ram                   int32\n",
       "Memory               object\n",
       "Gpu                  object\n",
       "OpSys                object\n",
       "Weight              float64\n",
       "Price               float64\n",
       "dtype: object"
      ]
     },
     "execution_count": 14,
     "metadata": {},
     "output_type": "execute_result"
    }
   ],
   "source": [
    "data.dtypes"
   ]
  },
  {
   "cell_type": "markdown",
   "id": "85cb0bba",
   "metadata": {},
   "source": [
    "# EDA (Expolatory Data Analysis)"
   ]
  },
  {
   "cell_type": "markdown",
   "id": "d27dabcf",
   "metadata": {},
   "source": [
    "## Company (Categorical column)"
   ]
  },
  {
   "cell_type": "code",
   "execution_count": 15,
   "id": "e9c33ca5",
   "metadata": {},
   "outputs": [
    {
     "data": {
      "text/plain": [
       "Dell       297\n",
       "Lenovo     297\n",
       "HP         274\n",
       "Asus       158\n",
       "Acer       103\n",
       "MSI         54\n",
       "Toshiba     48\n",
       "Apple       21\n",
       "Samsung      9\n",
       "Razer        7\n",
       "Name: Company, dtype: int64"
      ]
     },
     "execution_count": 15,
     "metadata": {},
     "output_type": "execute_result"
    }
   ],
   "source": [
    "# Top 10 companies with highest counts of laptop\n",
    "data[\"Company\"].value_counts().nlargest(10)"
   ]
  },
  {
   "cell_type": "code",
   "execution_count": 16,
   "id": "08bec3bf",
   "metadata": {},
   "outputs": [
    {
     "data": {
      "image/png": "[encoded data removed]",
      "text/plain": [
       "<Figure size 1000x400 with 2 Axes>"
      ]
     },
     "metadata": {},
     "output_type": "display_data"
    }
   ],
   "source": [
    "fig, axes = plt.subplots(nrows=1, ncols=2, figsize=(10, 4))\n",
    "\n",
    "# Plot data on the first subplot\n",
    "a = sns.countplot(x = \"Company\", data = data, ax=axes[0], palette='plasma')\n",
    "axes[0].tick_params(axis='x', rotation=90)\n",
    "axes[0].bar_label(a.containers[0], fontsize=8);\n",
    "axes[0].set_title('')\n",
    "axes[0].set_xlabel('Company')\n",
    "axes[0].set_ylabel('Count')\n",
    "\n",
    "# Plot data on the second subplot\n",
    "a = data[\"Company\"].value_counts().plot(kind= \"bar\", ax=axes[1])\n",
    "axes[1].bar_label(a.containers[0], fontsize=8);\n",
    "axes[1].set_title('Sorted according to count')\n",
    "axes[1].set_xlabel('Company')\n",
    "axes[1].set_ylabel('Count')\n",
    "\n",
    "# Adjust layout\n",
    "plt.tight_layout()"
   ]
  },
  {
   "cell_type": "markdown",
   "id": "cca87f3e",
   "metadata": {},
   "source": [
    "**Observations:-**\n",
    "- Dell, Lenovo & HP has the most number of laptop (around 300)"
   ]
  },
  {
   "cell_type": "markdown",
   "id": "a7ba0538",
   "metadata": {},
   "source": [
    "**`Company` vs. `Price`**"
   ]
  },
  {
   "cell_type": "code",
   "execution_count": 17,
   "id": "4d872a0b",
   "metadata": {},
   "outputs": [
    {
     "data": {
      "image/png": "[encoded data removed]",
      "text/plain": [
       "<Figure size 1200x500 with 2 Axes>"
      ]
     },
     "metadata": {},
     "output_type": "display_data"
    }
   ],
   "source": [
    "fig, axes = plt.subplots(nrows=1, ncols=2, figsize=(12, 5))\n",
    "\n",
    "# Plot data on the first subplot\n",
    "a = sns.scatterplot(x= \"Company\", y= \"Price\", data = data, ax=axes[0])\n",
    "axes[0].tick_params(axis='x', rotation=90)\n",
    "axes[0].set_title('Scatterplot')\n",
    "axes[0].set_xlabel('Company')\n",
    "axes[0].set_ylabel('Price')\n",
    "\n",
    "# Plot data on the second subplot\n",
    "a = sns.barplot(x= \"Company\", y= \"Price\", data = data, ax=axes[1])\n",
    "# axes[1].bar_label(a.containers[0], fontsize=8)\n",
    "axes[1].tick_params(axis='x', rotation=90)\n",
    "axes[1].set_title('Barplot')\n",
    "axes[1].set_xlabel('Company')\n",
    "axes[1].set_ylabel('Price')\n",
    "\n",
    "# Adjust layout\n",
    "plt.tight_layout()"
   ]
  },
  {
   "cell_type": "markdown",
   "id": "22cc4754",
   "metadata": {},
   "source": [
    "**Observations:-**  \n",
    "- By the above Scatterplot and Barplot we can clearly see that `Razer` Company has the highest price of the laptop\n",
    "- Price of the laptop expect Razer company are below 1,20,000 "
   ]
  },
  {
   "cell_type": "markdown",
   "id": "30c453c3",
   "metadata": {},
   "source": [
    "## TypeName (Categorical column)"
   ]
  },
  {
   "cell_type": "code",
   "execution_count": 18,
   "id": "cac3117c",
   "metadata": {},
   "outputs": [
    {
     "data": {
      "text/plain": [
       "Notebook              727\n",
       "Gaming                205\n",
       "Ultrabook             196\n",
       "2 in 1 Convertible    121\n",
       "Workstation            29\n",
       "Netbook                25\n",
       "Name: TypeName, dtype: int64"
      ]
     },
     "execution_count": 18,
     "metadata": {},
     "output_type": "execute_result"
    }
   ],
   "source": [
    "data[\"TypeName\"].value_counts()"
   ]
  },
  {
   "cell_type": "code",
   "execution_count": 19,
   "id": "6e24178d",
   "metadata": {},
   "outputs": [
    {
     "data": {
      "image/png": "[encoded data removed]",
      "text/plain": [
       "<Figure size 400x400 with 1 Axes>"
      ]
     },
     "metadata": {},
     "output_type": "display_data"
    }
   ],
   "source": [
    "# Creating pie chart\n",
    "plt.figure(figsize=(4, 4))\n",
    "plt.pie(data[\"TypeName\"].value_counts().values, labels=data[\"TypeName\"].value_counts().index, textprops = {\"fontsize\":8}, autopct='%1.1f%%', startangle = 20)\n",
    "plt.axis('equal')  # Equal aspect ratio ensures that pie is drawn as a circle.\n",
    "plt.title('TypeName \\n\\n', fontdict={'fontsize': 13});"
   ]
  },
  {
   "cell_type": "markdown",
   "id": "8cdf365e",
   "metadata": {},
   "source": [
    "**Observations:-**\n",
    "- Most choosen laptop is `Notebook` around 55.8%"
   ]
  },
  {
   "cell_type": "markdown",
   "id": "1c1637a1",
   "metadata": {},
   "source": [
    "**`TypeName` vs. `Price`**"
   ]
  },
  {
   "cell_type": "code",
   "execution_count": 20,
   "id": "443e6aba",
   "metadata": {},
   "outputs": [
    {
     "data": {
      "image/png": "[encoded data removed]",
      "text/plain": [
       "<Figure size 640x480 with 1 Axes>"
      ]
     },
     "metadata": {},
     "output_type": "display_data"
    }
   ],
   "source": [
    "sns.scatterplot(x= data[\"TypeName\"], y = data[\"Price\"])\n",
    "plt.xticks(rotation = 90);"
   ]
  },
  {
   "cell_type": "markdown",
   "id": "364a808f",
   "metadata": {},
   "source": [
    "**Obseravation:-**\n",
    "- The price of Notebook is less compared to other types of laptop, might be the reason people purchase more Notebook  \n",
    "- Some of the gaming laptop has a price around 3 lakhs "
   ]
  },
  {
   "cell_type": "markdown",
   "id": "00886964",
   "metadata": {},
   "source": [
    "## Inches"
   ]
  },
  {
   "cell_type": "code",
   "execution_count": 21,
   "id": "82c77783",
   "metadata": {},
   "outputs": [
    {
     "data": {
      "text/plain": [
       "15.6    665\n",
       "14.0    197\n",
       "13.3    164\n",
       "17.3    164\n",
       "12.5     39\n",
       "11.6     33\n",
       "12.0      6\n",
       "13.5      6\n",
       "13.9      6\n",
       "12.3      5\n",
       "10.1      4\n",
       "15.4      4\n",
       "15.0      4\n",
       "13.0      2\n",
       "18.4      1\n",
       "17.0      1\n",
       "14.1      1\n",
       "11.3      1\n",
       "Name: Inches, dtype: int64"
      ]
     },
     "execution_count": 21,
     "metadata": {},
     "output_type": "execute_result"
    }
   ],
   "source": [
    "data[\"Inches\"].value_counts()"
   ]
  },
  {
   "cell_type": "markdown",
   "id": "bd37acbe",
   "metadata": {},
   "source": [
    "**`Inches` vs. `Price`**"
   ]
  },
  {
   "cell_type": "code",
   "execution_count": 22,
   "id": "b3935f7f",
   "metadata": {},
   "outputs": [
    {
     "data": {
      "text/plain": [
       "<Axes: xlabel='Inches', ylabel='Price'>"
      ]
     },
     "execution_count": 22,
     "metadata": {},
     "output_type": "execute_result"
    },
    {
     "data": {
      "image/png": "[encoded data removed]",
      "text/plain": [
       "<Figure size 640x480 with 1 Axes>"
      ]
     },
     "metadata": {},
     "output_type": "display_data"
    }
   ],
   "source": [
    "sns.scatterplot(x = data[\"Inches\"] , y =data[\"Price\"])"
   ]
  },
  {
   "cell_type": "markdown",
   "id": "ce1dc710",
   "metadata": {},
   "source": [
    "**Obseravation:-**\n",
    "- As the size of laptop incresing the price is also increasing"
   ]
  },
  {
   "cell_type": "markdown",
   "id": "1e64e784",
   "metadata": {},
   "source": [
    "## ScreenResolution"
   ]
  },
  {
   "cell_type": "code",
   "execution_count": 23,
   "id": "2eed9465",
   "metadata": {
    "scrolled": false
   },
   "outputs": [
    {
     "data": {
      "text/plain": [
       "Full HD 1920x1080                                507\n",
       "1366x768                                         281\n",
       "IPS Panel Full HD 1920x1080                      230\n",
       "IPS Panel Full HD / Touchscreen 1920x1080         53\n",
       "Full HD / Touchscreen 1920x1080                   47\n",
       "1600x900                                          23\n",
       "Touchscreen 1366x768                              16\n",
       "Quad HD+ / Touchscreen 3200x1800                  15\n",
       "IPS Panel 4K Ultra HD 3840x2160                   12\n",
       "IPS Panel 4K Ultra HD / Touchscreen 3840x2160     11\n",
       "4K Ultra HD / Touchscreen 3840x2160               10\n",
       "4K Ultra HD 3840x2160                              7\n",
       "Touchscreen 2560x1440                              7\n",
       "IPS Panel 1366x768                                 7\n",
       "IPS Panel Quad HD+ / Touchscreen 3200x1800         6\n",
       "IPS Panel Retina Display 2560x1600                 6\n",
       "IPS Panel Retina Display 2304x1440                 6\n",
       "Touchscreen 2256x1504                              6\n",
       "IPS Panel Touchscreen 2560x1440                    5\n",
       "IPS Panel Retina Display 2880x1800                 4\n",
       "IPS Panel Touchscreen 1920x1200                    4\n",
       "1440x900                                           4\n",
       "IPS Panel 2560x1440                                4\n",
       "IPS Panel Quad HD+ 2560x1440                       3\n",
       "Quad HD+ 3200x1800                                 3\n",
       "1920x1080                                          3\n",
       "Touchscreen 2400x1600                              3\n",
       "2560x1440                                          3\n",
       "IPS Panel Touchscreen 1366x768                     3\n",
       "IPS Panel Touchscreen / 4K Ultra HD 3840x2160      2\n",
       "IPS Panel Full HD 2160x1440                        2\n",
       "IPS Panel Quad HD+ 3200x1800                       2\n",
       "IPS Panel Retina Display 2736x1824                 1\n",
       "IPS Panel Full HD 1920x1200                        1\n",
       "IPS Panel Full HD 2560x1440                        1\n",
       "IPS Panel Full HD 1366x768                         1\n",
       "Touchscreen / Full HD 1920x1080                    1\n",
       "Touchscreen / Quad HD+ 3200x1800                   1\n",
       "Touchscreen / 4K Ultra HD 3840x2160                1\n",
       "IPS Panel Touchscreen 2400x1600                    1\n",
       "Name: ScreenResolution, dtype: int64"
      ]
     },
     "execution_count": 23,
     "metadata": {},
     "output_type": "execute_result"
    }
   ],
   "source": [
    "data.ScreenResolution.value_counts()"
   ]
  },
  {
   "cell_type": "markdown",
   "id": "e8056196",
   "metadata": {},
   "source": [
    "**Observation:-**\n",
    "- if we notice every category has some common features like(1920x1080, 2560x1440....), we can create a new column out of it\n",
    "- Also for touchscreen \n"
   ]
  },
  {
   "cell_type": "code",
   "execution_count": 24,
   "id": "d58518bf",
   "metadata": {
    "scrolled": false
   },
   "outputs": [],
   "source": [
    "# Extracting resolution from ScreenResolution and assigning those values into new columns\n",
    "data[\"Resolution\"] = data[\"ScreenResolution\"].apply(lambda x:x.split(\" \")[-1])"
   ]
  },
  {
   "cell_type": "code",
   "execution_count": 25,
   "id": "04bd942a",
   "metadata": {
    "scrolled": false
   },
   "outputs": [
    {
     "data": {
      "text/html": [
       "<div>\n",
       "<style scoped>\n",
       "    .dataframe tbody tr th:only-of-type {\n",
       "        vertical-align: middle;\n",
       "    }\n",
       "\n",
       "    .dataframe tbody tr th {\n",
       "        vertical-align: top;\n",
       "    }\n",
       "\n",
       "    .dataframe thead th {\n",
       "        text-align: right;\n",
       "    }\n",
       "</style>\n",
       "<table border=\"1\" class=\"dataframe\">\n",
       "  <thead>\n",
       "    <tr style=\"text-align: right;\">\n",
       "      <th></th>\n",
       "      <th>Company</th>\n",
       "      <th>TypeName</th>\n",
       "      <th>Inches</th>\n",
       "      <th>ScreenResolution</th>\n",
       "      <th>Cpu</th>\n",
       "      <th>Ram</th>\n",
       "      <th>Memory</th>\n",
       "      <th>Gpu</th>\n",
       "      <th>OpSys</th>\n",
       "      <th>Weight</th>\n",
       "      <th>Price</th>\n",
       "      <th>Resolution</th>\n",
       "    </tr>\n",
       "  </thead>\n",
       "  <tbody>\n",
       "    <tr>\n",
       "      <th>0</th>\n",
       "      <td>Apple</td>\n",
       "      <td>Ultrabook</td>\n",
       "      <td>13.3</td>\n",
       "      <td>IPS Panel Retina Display 2560x1600</td>\n",
       "      <td>Intel Core i5 2.3GHz</td>\n",
       "      <td>8</td>\n",
       "      <td>128GB SSD</td>\n",
       "      <td>Intel Iris Plus Graphics 640</td>\n",
       "      <td>macOS</td>\n",
       "      <td>1.37</td>\n",
       "      <td>71378.6832</td>\n",
       "      <td>2560x1600</td>\n",
       "    </tr>\n",
       "    <tr>\n",
       "      <th>1</th>\n",
       "      <td>Apple</td>\n",
       "      <td>Ultrabook</td>\n",
       "      <td>13.3</td>\n",
       "      <td>1440x900</td>\n",
       "      <td>Intel Core i5 1.8GHz</td>\n",
       "      <td>8</td>\n",
       "      <td>128GB Flash Storage</td>\n",
       "      <td>Intel HD Graphics 6000</td>\n",
       "      <td>macOS</td>\n",
       "      <td>1.34</td>\n",
       "      <td>47895.5232</td>\n",
       "      <td>1440x900</td>\n",
       "    </tr>\n",
       "  </tbody>\n",
       "</table>\n",
       "</div>"
      ],
      "text/plain": [
       "  Company   TypeName  Inches                    ScreenResolution  \\\n",
       "0   Apple  Ultrabook    13.3  IPS Panel Retina Display 2560x1600   \n",
       "1   Apple  Ultrabook    13.3                            1440x900   \n",
       "\n",
       "                    Cpu  Ram               Memory  \\\n",
       "0  Intel Core i5 2.3GHz    8            128GB SSD   \n",
       "1  Intel Core i5 1.8GHz    8  128GB Flash Storage   \n",
       "\n",
       "                            Gpu  OpSys  Weight       Price Resolution  \n",
       "0  Intel Iris Plus Graphics 640  macOS    1.37  71378.6832  2560x1600  \n",
       "1        Intel HD Graphics 6000  macOS    1.34  47895.5232   1440x900  "
      ]
     },
     "execution_count": 25,
     "metadata": {},
     "output_type": "execute_result"
    }
   ],
   "source": [
    "data.head(2)"
   ]
  },
  {
   "cell_type": "code",
   "execution_count": 26,
   "id": "f6096b9d",
   "metadata": {},
   "outputs": [],
   "source": [
    "# Creating 2 more columns X_Resolution and Y_Resolution\n",
    "data[\"X_Resolution\"] = data[\"Resolution\"].apply(lambda x:x.split(\"x\")[0]).astype(\"int\")\n",
    "data[\"Y_Resolution\"] = data[\"Resolution\"].apply(lambda x:x.split(\"x\")[1]).astype(\"int\")"
   ]
  },
  {
   "cell_type": "code",
   "execution_count": 27,
   "id": "00144cad",
   "metadata": {},
   "outputs": [
    {
     "data": {
      "text/html": [
       "<div>\n",
       "<style scoped>\n",
       "    .dataframe tbody tr th:only-of-type {\n",
       "        vertical-align: middle;\n",
       "    }\n",
       "\n",
       "    .dataframe tbody tr th {\n",
       "        vertical-align: top;\n",
       "    }\n",
       "\n",
       "    .dataframe thead th {\n",
       "        text-align: right;\n",
       "    }\n",
       "</style>\n",
       "<table border=\"1\" class=\"dataframe\">\n",
       "  <thead>\n",
       "    <tr style=\"text-align: right;\">\n",
       "      <th></th>\n",
       "      <th>Company</th>\n",
       "      <th>TypeName</th>\n",
       "      <th>Inches</th>\n",
       "      <th>ScreenResolution</th>\n",
       "      <th>Cpu</th>\n",
       "      <th>Ram</th>\n",
       "      <th>Memory</th>\n",
       "      <th>Gpu</th>\n",
       "      <th>OpSys</th>\n",
       "      <th>Weight</th>\n",
       "      <th>Price</th>\n",
       "      <th>Resolution</th>\n",
       "      <th>X_Resolution</th>\n",
       "      <th>Y_Resolution</th>\n",
       "    </tr>\n",
       "  </thead>\n",
       "  <tbody>\n",
       "    <tr>\n",
       "      <th>0</th>\n",
       "      <td>Apple</td>\n",
       "      <td>Ultrabook</td>\n",
       "      <td>13.3</td>\n",
       "      <td>IPS Panel Retina Display 2560x1600</td>\n",
       "      <td>Intel Core i5 2.3GHz</td>\n",
       "      <td>8</td>\n",
       "      <td>128GB SSD</td>\n",
       "      <td>Intel Iris Plus Graphics 640</td>\n",
       "      <td>macOS</td>\n",
       "      <td>1.37</td>\n",
       "      <td>71378.6832</td>\n",
       "      <td>2560x1600</td>\n",
       "      <td>2560</td>\n",
       "      <td>1600</td>\n",
       "    </tr>\n",
       "    <tr>\n",
       "      <th>1</th>\n",
       "      <td>Apple</td>\n",
       "      <td>Ultrabook</td>\n",
       "      <td>13.3</td>\n",
       "      <td>1440x900</td>\n",
       "      <td>Intel Core i5 1.8GHz</td>\n",
       "      <td>8</td>\n",
       "      <td>128GB Flash Storage</td>\n",
       "      <td>Intel HD Graphics 6000</td>\n",
       "      <td>macOS</td>\n",
       "      <td>1.34</td>\n",
       "      <td>47895.5232</td>\n",
       "      <td>1440x900</td>\n",
       "      <td>1440</td>\n",
       "      <td>900</td>\n",
       "    </tr>\n",
       "  </tbody>\n",
       "</table>\n",
       "</div>"
      ],
      "text/plain": [
       "  Company   TypeName  Inches                    ScreenResolution  \\\n",
       "0   Apple  Ultrabook    13.3  IPS Panel Retina Display 2560x1600   \n",
       "1   Apple  Ultrabook    13.3                            1440x900   \n",
       "\n",
       "                    Cpu  Ram               Memory  \\\n",
       "0  Intel Core i5 2.3GHz    8            128GB SSD   \n",
       "1  Intel Core i5 1.8GHz    8  128GB Flash Storage   \n",
       "\n",
       "                            Gpu  OpSys  Weight       Price Resolution  \\\n",
       "0  Intel Iris Plus Graphics 640  macOS    1.37  71378.6832  2560x1600   \n",
       "1        Intel HD Graphics 6000  macOS    1.34  47895.5232   1440x900   \n",
       "\n",
       "   X_Resolution  Y_Resolution  \n",
       "0          2560          1600  \n",
       "1          1440           900  "
      ]
     },
     "execution_count": 27,
     "metadata": {},
     "output_type": "execute_result"
    }
   ],
   "source": [
    "data.head(2)"
   ]
  },
  {
   "cell_type": "markdown",
   "id": "16c129d3",
   "metadata": {},
   "source": [
    "**Creating New column PPI**\n",
    "PPI stands for \"Pixels Per Inch.\" It is a measure of the pixel density on a display screen, typically used to describe the clarity and sharpness of an image or text. \n",
    "\n",
    "In the context of a laptop, PPI refers to the number of pixels that can be displayed per inch of the screen. A higher PPI generally indicates a sharper and clearer display, as there are more pixels packed into each inch. This can result in crisper text, more detailed images, and smoother graphics.\n",
    "\n",
    "When comparing laptops, especially those with different screen sizes, PPI can be a useful metric to consider alongside resolution to gauge the quality of the display.\n",
    "To find the Pixels Per Inch (PPI) of a laptop screen, you'll need to know two main pieces of information: the screen resolution and the physical dimensions of the screen. Once you have these details, you can use a simple formula to calculate the PPI.\n",
    "\n",
    "Here's the formula:\n",
    "\n",
    "$$ \\text{PPI} = \\sqrt{\\frac{{\\text{Horizontal Pixels}^2 + \\text{Vertical Pixels}^2}}{{\\text{Diagonal Size}^2}}} $$"
   ]
  },
  {
   "cell_type": "code",
   "execution_count": 28,
   "id": "6c77a45f",
   "metadata": {},
   "outputs": [],
   "source": [
    "data[\"PPI\"] = (((data['X_Resolution']**2) + (data['Y_Resolution']**2))**0.5/data['Inches']).astype('float')"
   ]
  },
  {
   "cell_type": "code",
   "execution_count": 29,
   "id": "0d73a48c",
   "metadata": {
    "scrolled": true
   },
   "outputs": [],
   "source": [
    "#Creating a function to check Touchscreen laptop\n",
    "def CheckScreen(obj):\n",
    "    for i in obj:\n",
    "        if \"Touchscreen\" in obj:\n",
    "            return 1\n",
    "        else:\n",
    "            return 0"
   ]
  },
  {
   "cell_type": "code",
   "execution_count": 30,
   "id": "8d65dd66",
   "metadata": {
    "scrolled": false
   },
   "outputs": [],
   "source": [
    "# Creating a new column `TouchScreen` (1 for Touchscreen and 0 for else)\n",
    "data[\"TouchScreen\"] = data[\"ScreenResolution\"].apply(CheckScreen)"
   ]
  },
  {
   "cell_type": "code",
   "execution_count": 31,
   "id": "c400a220",
   "metadata": {},
   "outputs": [
    {
     "data": {
      "text/html": [
       "<div>\n",
       "<style scoped>\n",
       "    .dataframe tbody tr th:only-of-type {\n",
       "        vertical-align: middle;\n",
       "    }\n",
       "\n",
       "    .dataframe tbody tr th {\n",
       "        vertical-align: top;\n",
       "    }\n",
       "\n",
       "    .dataframe thead th {\n",
       "        text-align: right;\n",
       "    }\n",
       "</style>\n",
       "<table border=\"1\" class=\"dataframe\">\n",
       "  <thead>\n",
       "    <tr style=\"text-align: right;\">\n",
       "      <th></th>\n",
       "      <th>Company</th>\n",
       "      <th>TypeName</th>\n",
       "      <th>Inches</th>\n",
       "      <th>ScreenResolution</th>\n",
       "      <th>Cpu</th>\n",
       "      <th>Ram</th>\n",
       "      <th>Memory</th>\n",
       "      <th>Gpu</th>\n",
       "      <th>OpSys</th>\n",
       "      <th>Weight</th>\n",
       "      <th>Price</th>\n",
       "      <th>Resolution</th>\n",
       "      <th>X_Resolution</th>\n",
       "      <th>Y_Resolution</th>\n",
       "      <th>PPI</th>\n",
       "      <th>TouchScreen</th>\n",
       "    </tr>\n",
       "  </thead>\n",
       "  <tbody>\n",
       "    <tr>\n",
       "      <th>891</th>\n",
       "      <td>HP</td>\n",
       "      <td>2 in 1 Convertible</td>\n",
       "      <td>13.3</td>\n",
       "      <td>Quad HD+ / Touchscreen 3200x1800</td>\n",
       "      <td>Intel Core i7 7500U 2.7GHz</td>\n",
       "      <td>16</td>\n",
       "      <td>256GB SSD</td>\n",
       "      <td>Intel HD Graphics 620</td>\n",
       "      <td>Windows 10</td>\n",
       "      <td>1.42</td>\n",
       "      <td>74538.72</td>\n",
       "      <td>3200x1800</td>\n",
       "      <td>3200</td>\n",
       "      <td>1800</td>\n",
       "      <td>276.053530</td>\n",
       "      <td>1</td>\n",
       "    </tr>\n",
       "    <tr>\n",
       "      <th>293</th>\n",
       "      <td>Dell</td>\n",
       "      <td>Notebook</td>\n",
       "      <td>15.6</td>\n",
       "      <td>Full HD 1920x1080</td>\n",
       "      <td>Intel Core i7 7700HQ 2.8GHz</td>\n",
       "      <td>8</td>\n",
       "      <td>256GB SSD</td>\n",
       "      <td>Nvidia GeForce GTX 1050</td>\n",
       "      <td>Windows 10</td>\n",
       "      <td>2.00</td>\n",
       "      <td>97449.12</td>\n",
       "      <td>1920x1080</td>\n",
       "      <td>1920</td>\n",
       "      <td>1080</td>\n",
       "      <td>141.211998</td>\n",
       "      <td>0</td>\n",
       "    </tr>\n",
       "  </tbody>\n",
       "</table>\n",
       "</div>"
      ],
      "text/plain": [
       "    Company            TypeName  Inches                  ScreenResolution  \\\n",
       "891      HP  2 in 1 Convertible    13.3  Quad HD+ / Touchscreen 3200x1800   \n",
       "293    Dell            Notebook    15.6                 Full HD 1920x1080   \n",
       "\n",
       "                             Cpu  Ram     Memory                      Gpu  \\\n",
       "891   Intel Core i7 7500U 2.7GHz   16  256GB SSD    Intel HD Graphics 620   \n",
       "293  Intel Core i7 7700HQ 2.8GHz    8  256GB SSD  Nvidia GeForce GTX 1050   \n",
       "\n",
       "          OpSys  Weight     Price Resolution  X_Resolution  Y_Resolution  \\\n",
       "891  Windows 10    1.42  74538.72  3200x1800          3200          1800   \n",
       "293  Windows 10    2.00  97449.12  1920x1080          1920          1080   \n",
       "\n",
       "            PPI  TouchScreen  \n",
       "891  276.053530            1  \n",
       "293  141.211998            0  "
      ]
     },
     "execution_count": 31,
     "metadata": {},
     "output_type": "execute_result"
    }
   ],
   "source": [
    "data.sample(2)"
   ]
  },
  {
   "cell_type": "code",
   "execution_count": 32,
   "id": "c5bbd334",
   "metadata": {},
   "outputs": [
    {
     "name": "stdout",
     "output_type": "stream",
     "text": [
      "Percentage of Touchscreen Laptop: 14.735226400613968\n",
      "Percentage of Non-Touchscreen Laptop: 85.26477359938603\n",
      "--------------------------------------------------\n"
     ]
    },
    {
     "data": {
      "image/png": "[encoded data removed]",
      "text/plain": [
       "<Figure size 500x400 with 1 Axes>"
      ]
     },
     "metadata": {},
     "output_type": "display_data"
    }
   ],
   "source": [
    "plt.figure(figsize=(5,4))\n",
    "print(f\"Percentage of Touchscreen Laptop: {(((data['TouchScreen'].value_counts())/len(data['TouchScreen']))*100)[1]}\")\n",
    "print(f\"Percentage of Non-Touchscreen Laptop: {(((data['TouchScreen'].value_counts())/len(data['TouchScreen']))*100)[0]}\")\n",
    "print(\"-\"*50)\n",
    "a = sns.countplot(x = \"TouchScreen\", data = data ,  palette='husl')\n",
    "a.bar_label(a.containers[0], fontsize=8);"
   ]
  },
  {
   "cell_type": "code",
   "execution_count": 33,
   "id": "d0fea3bb",
   "metadata": {
    "scrolled": false
   },
   "outputs": [
    {
     "data": {
      "image/png": "[encoded data removed]",
      "text/plain": [
       "<Figure size 500x400 with 1 Axes>"
      ]
     },
     "metadata": {},
     "output_type": "display_data"
    }
   ],
   "source": [
    "plt.figure(figsize=(5,4))\n",
    "sns.barplot(x= \"TouchScreen\", y= \"Price\", data = data,  palette='husl');"
   ]
  },
  {
   "cell_type": "markdown",
   "id": "6a3f46b3",
   "metadata": {},
   "source": [
    "**Observation:-**\n",
    "- From the above barplot we can clearly say that `TouchScreen` laptop has higher price  "
   ]
  },
  {
   "cell_type": "code",
   "execution_count": 34,
   "id": "cc226d67",
   "metadata": {},
   "outputs": [],
   "source": [
    "#Creating a function to check IPS Panel\n",
    "def CheckIPS(obj):\n",
    "    for i in obj:\n",
    "        if \"IPS Panel\" in obj:\n",
    "            return 1\n",
    "        else:\n",
    "            return 0"
   ]
  },
  {
   "cell_type": "code",
   "execution_count": 35,
   "id": "9adcfa74",
   "metadata": {},
   "outputs": [],
   "source": [
    "# Creating a new column `IPS` (1 for IPS Panel and 0 for else)\n",
    "data[\"IPS\"] = data[\"ScreenResolution\"].apply(CheckIPS)"
   ]
  },
  {
   "cell_type": "code",
   "execution_count": 36,
   "id": "e98c1508",
   "metadata": {},
   "outputs": [
    {
     "data": {
      "text/html": [
       "<div>\n",
       "<style scoped>\n",
       "    .dataframe tbody tr th:only-of-type {\n",
       "        vertical-align: middle;\n",
       "    }\n",
       "\n",
       "    .dataframe tbody tr th {\n",
       "        vertical-align: top;\n",
       "    }\n",
       "\n",
       "    .dataframe thead th {\n",
       "        text-align: right;\n",
       "    }\n",
       "</style>\n",
       "<table border=\"1\" class=\"dataframe\">\n",
       "  <thead>\n",
       "    <tr style=\"text-align: right;\">\n",
       "      <th></th>\n",
       "      <th>Company</th>\n",
       "      <th>TypeName</th>\n",
       "      <th>Inches</th>\n",
       "      <th>ScreenResolution</th>\n",
       "      <th>Cpu</th>\n",
       "      <th>Ram</th>\n",
       "      <th>Memory</th>\n",
       "      <th>Gpu</th>\n",
       "      <th>OpSys</th>\n",
       "      <th>Weight</th>\n",
       "      <th>Price</th>\n",
       "      <th>Resolution</th>\n",
       "      <th>X_Resolution</th>\n",
       "      <th>Y_Resolution</th>\n",
       "      <th>PPI</th>\n",
       "      <th>TouchScreen</th>\n",
       "      <th>IPS</th>\n",
       "    </tr>\n",
       "  </thead>\n",
       "  <tbody>\n",
       "    <tr>\n",
       "      <th>0</th>\n",
       "      <td>Apple</td>\n",
       "      <td>Ultrabook</td>\n",
       "      <td>13.3</td>\n",
       "      <td>IPS Panel Retina Display 2560x1600</td>\n",
       "      <td>Intel Core i5 2.3GHz</td>\n",
       "      <td>8</td>\n",
       "      <td>128GB SSD</td>\n",
       "      <td>Intel Iris Plus Graphics 640</td>\n",
       "      <td>macOS</td>\n",
       "      <td>1.37</td>\n",
       "      <td>71378.6832</td>\n",
       "      <td>2560x1600</td>\n",
       "      <td>2560</td>\n",
       "      <td>1600</td>\n",
       "      <td>226.983005</td>\n",
       "      <td>0</td>\n",
       "      <td>1</td>\n",
       "    </tr>\n",
       "    <tr>\n",
       "      <th>1</th>\n",
       "      <td>Apple</td>\n",
       "      <td>Ultrabook</td>\n",
       "      <td>13.3</td>\n",
       "      <td>1440x900</td>\n",
       "      <td>Intel Core i5 1.8GHz</td>\n",
       "      <td>8</td>\n",
       "      <td>128GB Flash Storage</td>\n",
       "      <td>Intel HD Graphics 6000</td>\n",
       "      <td>macOS</td>\n",
       "      <td>1.34</td>\n",
       "      <td>47895.5232</td>\n",
       "      <td>1440x900</td>\n",
       "      <td>1440</td>\n",
       "      <td>900</td>\n",
       "      <td>127.677940</td>\n",
       "      <td>0</td>\n",
       "      <td>0</td>\n",
       "    </tr>\n",
       "  </tbody>\n",
       "</table>\n",
       "</div>"
      ],
      "text/plain": [
       "  Company   TypeName  Inches                    ScreenResolution  \\\n",
       "0   Apple  Ultrabook    13.3  IPS Panel Retina Display 2560x1600   \n",
       "1   Apple  Ultrabook    13.3                            1440x900   \n",
       "\n",
       "                    Cpu  Ram               Memory  \\\n",
       "0  Intel Core i5 2.3GHz    8            128GB SSD   \n",
       "1  Intel Core i5 1.8GHz    8  128GB Flash Storage   \n",
       "\n",
       "                            Gpu  OpSys  Weight       Price Resolution  \\\n",
       "0  Intel Iris Plus Graphics 640  macOS    1.37  71378.6832  2560x1600   \n",
       "1        Intel HD Graphics 6000  macOS    1.34  47895.5232   1440x900   \n",
       "\n",
       "   X_Resolution  Y_Resolution         PPI  TouchScreen  IPS  \n",
       "0          2560          1600  226.983005            0    1  \n",
       "1          1440           900  127.677940            0    0  "
      ]
     },
     "execution_count": 36,
     "metadata": {},
     "output_type": "execute_result"
    }
   ],
   "source": [
    "data.head(2)"
   ]
  },
  {
   "cell_type": "code",
   "execution_count": 37,
   "id": "47bb1322",
   "metadata": {},
   "outputs": [
    {
     "name": "stdout",
     "output_type": "stream",
     "text": [
      "Percentage of IPS Panel Laptop: 28.012279355333845\n",
      "Percentage of Non-IPS Panel Laptop: 71.98772064466615\n",
      "--------------------------------------------------\n"
     ]
    },
    {
     "data": {
      "image/png": "[encoded data removed]",
      "text/plain": [
       "<Figure size 500x400 with 1 Axes>"
      ]
     },
     "metadata": {},
     "output_type": "display_data"
    }
   ],
   "source": [
    "plt.figure(figsize=(5,4))\n",
    "print(f\"Percentage of IPS Panel Laptop: {(((data['IPS'].value_counts())/len(data['IPS']))*100)[1]}\")\n",
    "print(f\"Percentage of Non-IPS Panel Laptop: {(((data['IPS'].value_counts())/len(data['IPS']))*100)[0]}\")\n",
    "print(\"-\"*50)\n",
    "a = sns.countplot(x = \"IPS\", data = data , palette = \"plasma\")\n",
    "a.bar_label(a.containers[0], fontsize=8);"
   ]
  },
  {
   "cell_type": "code",
   "execution_count": 38,
   "id": "be2e1acc",
   "metadata": {},
   "outputs": [
    {
     "data": {
      "image/png": "[encoded data removed]",
      "text/plain": [
       "<Figure size 500x400 with 1 Axes>"
      ]
     },
     "metadata": {},
     "output_type": "display_data"
    }
   ],
   "source": [
    "plt.figure(figsize=(5,4))\n",
    "sns.barplot(x= \"IPS\", y= \"Price\", data = data, palette = \"plasma\");"
   ]
  },
  {
   "cell_type": "markdown",
   "id": "c6e2c166",
   "metadata": {},
   "source": [
    "**Observation:-**\n",
    "- From the above barplot we can clearly say that `IPS Panel` laptop has higher price  "
   ]
  },
  {
   "cell_type": "code",
   "execution_count": 39,
   "id": "228264e8",
   "metadata": {},
   "outputs": [
    {
     "data": {
      "image/png": "[encoded data removed]",
      "text/plain": [
       "<Figure size 500x400 with 1 Axes>"
      ]
     },
     "metadata": {},
     "output_type": "display_data"
    }
   ],
   "source": [
    "# Laptop types which has TouchScreen\n",
    "plt.figure(figsize=(5,4))\n",
    "sns.scatterplot(x= data[\"TypeName\"], y = data[\"Price\"],hue = data[\"TouchScreen\"])\n",
    "plt.xticks(rotation = 90);"
   ]
  },
  {
   "cell_type": "markdown",
   "id": "e28e6a8b",
   "metadata": {},
   "source": [
    "**Observation:-**\n",
    "- From the above scatterplot we can clearly say that `2 in 1 Convertible` laptop types are mostly TouchSccreen\n",
    "- `Ultrabook` contain some laptops which is touchScreen\n",
    "- Rest of the laptop types are mostly Non-TouchScreen"
   ]
  },
  {
   "cell_type": "code",
   "execution_count": 40,
   "id": "5078ae19",
   "metadata": {},
   "outputs": [
    {
     "data": {
      "text/plain": [
       "Inches          0.068197\n",
       "Ram             0.743007\n",
       "Weight          0.210370\n",
       "Price           1.000000\n",
       "X_Resolution    0.556529\n",
       "Y_Resolution    0.552809\n",
       "PPI             0.473487\n",
       "TouchScreen     0.191226\n",
       "IPS             0.252208\n",
       "Name: Price, dtype: float64"
      ]
     },
     "execution_count": 40,
     "metadata": {},
     "output_type": "execute_result"
    }
   ],
   "source": [
    "data.corr()[\"Price\"]"
   ]
  },
  {
   "cell_type": "markdown",
   "id": "a46463d1",
   "metadata": {},
   "source": [
    "**Observation:-**\n",
    "- The correlation between (X_Resolution and Price), (Y_Resolution and Price) & (PPI and Price) are quite impressive \n",
    "- But we have made a new column `PPI` by using Inches, X_Resolution, Y_Resolution so we will drop these columns\n",
    "- we will also drop `ScreenResolution` column , cuzz we have extracted all the info from that column"
   ]
  },
  {
   "cell_type": "code",
   "execution_count": 41,
   "id": "8d4a4595",
   "metadata": {},
   "outputs": [],
   "source": [
    "# Dropping ScreenResolution, Inches, X_Resolution, Y_Resolution\n",
    "data.drop(columns = [\"Inches\",\"ScreenResolution\",\"X_Resolution\",\"Y_Resolution\"] , inplace = True)"
   ]
  },
  {
   "cell_type": "markdown",
   "id": "831c0172",
   "metadata": {},
   "source": [
    "## Cpu"
   ]
  },
  {
   "cell_type": "code",
   "execution_count": 42,
   "id": "dc00e150",
   "metadata": {
    "scrolled": false
   },
   "outputs": [],
   "source": [
    "# Extracting First three words of `Cpu` colummn\n",
    "data[\"CPU Name\"] = data[\"Cpu\"].apply(lambda x:x.split(\" \")[:3])"
   ]
  },
  {
   "cell_type": "code",
   "execution_count": 43,
   "id": "70ba42ef",
   "metadata": {},
   "outputs": [],
   "source": [
    "# converting list to string \n",
    "data[\"CPU Name\"] = data[\"CPU Name\"].apply(lambda x: \" \".join(x))"
   ]
  },
  {
   "cell_type": "code",
   "execution_count": 44,
   "id": "6c395d29",
   "metadata": {},
   "outputs": [],
   "source": [
    "# Creating a function to extract Cpu brand \n",
    "def fetch_processor(obj):\n",
    "    if obj == 'Intel Core i7' or obj == 'Intel Core i5' or obj == 'Intel Core i3':\n",
    "        return obj\n",
    "    else:\n",
    "        if obj.split()[0] == 'Intel':\n",
    "            return 'Other Intel Processor'\n",
    "        else:\n",
    "            return 'AMD Processor'"
   ]
  },
  {
   "cell_type": "code",
   "execution_count": 45,
   "id": "7cd97c11",
   "metadata": {},
   "outputs": [],
   "source": [
    "# Creating new column CPU Brand\n",
    "data[\"CPU Brand\"] = data[\"CPU Name\"].apply(fetch_processor)"
   ]
  },
  {
   "cell_type": "code",
   "execution_count": 46,
   "id": "d9e62338",
   "metadata": {
    "scrolled": false
   },
   "outputs": [],
   "source": [
    "# Creating one more new column by extracting `Cpu GHz`\n",
    "data[\"CPU GHz\"] = data[\"Cpu\"].apply(lambda x:x.split(\" \")[-1])\n",
    "\n",
    "# Removing GHz from the `CPU GHz` column\n",
    "data[\"CPU GHz\"] = (data[\"CPU GHz\"].str.replace(\"GHz\",\"\")).astype(float)"
   ]
  },
  {
   "cell_type": "code",
   "execution_count": 47,
   "id": "90e60c2b",
   "metadata": {},
   "outputs": [],
   "source": [
    "# Dropping Cpu column\n",
    "data.drop(columns = [\"Cpu\", \"CPU Name\"] , inplace = True)"
   ]
  },
  {
   "cell_type": "code",
   "execution_count": 48,
   "id": "2eaef264",
   "metadata": {},
   "outputs": [
    {
     "name": "stdout",
     "output_type": "stream",
     "text": [
      "Percentage of Intel Core i7  Laptop: 40.44512663085188\n",
      "Percentage of Intel Core i5  Laptop: 32.46354566385265\n",
      "Percentage of Other Intel Processor  Laptop: 4.834996162701458\n",
      "Percentage of Intel Core i3  Laptop: 10.437452033768228\n",
      "Percentage of AMD Processor  Laptop: 11.818879508825788\n",
      "--------------------------------------------------\n"
     ]
    },
    {
     "data": {
      "image/png": "[encoded data removed]",
      "text/plain": [
       "<Figure size 500x400 with 1 Axes>"
      ]
     },
     "metadata": {},
     "output_type": "display_data"
    }
   ],
   "source": [
    "plt.figure(figsize=(5,4))\n",
    "print(f\"Percentage of Intel Core i7  Laptop: {(((data['CPU Brand'].value_counts())/len(data['CPU Brand']))*100)[0]}\")\n",
    "print(f\"Percentage of Intel Core i5  Laptop: {(((data['CPU Brand'].value_counts())/len(data['CPU Brand']))*100)[1]}\")\n",
    "print(f\"Percentage of Other Intel Processor  Laptop: {(((data['CPU Brand'].value_counts())/len(data['CPU Brand']))*100)[4]}\")\n",
    "print(f\"Percentage of Intel Core i3  Laptop: {(((data['CPU Brand'].value_counts())/len(data['CPU Brand']))*100)[3]}\")\n",
    "print(f\"Percentage of AMD Processor  Laptop: {(((data['CPU Brand'].value_counts())/len(data['CPU Brand']))*100)[2]}\")\n",
    "print(\"-\"*50)\n",
    "a = sns.countplot(x = \"CPU Brand\", data = data ,  palette='husl')\n",
    "plt.xticks(rotation = 90)\n",
    "a.bar_label(a.containers[0], fontsize=8);"
   ]
  },
  {
   "cell_type": "markdown",
   "id": "d1972d2e",
   "metadata": {},
   "source": [
    "`CPU Brand` vs. `Price`"
   ]
  },
  {
   "cell_type": "code",
   "execution_count": 49,
   "id": "b63f22b3",
   "metadata": {},
   "outputs": [
    {
     "data": {
      "image/png": "[encoded data removed]",
      "text/plain": [
       "<Figure size 500x400 with 1 Axes>"
      ]
     },
     "metadata": {},
     "output_type": "display_data"
    }
   ],
   "source": [
    "plt.figure(figsize=(5,4))\n",
    "sns.barplot(x= \"CPU Brand\", y= \"Price\", data = data,  palette='husl')\n",
    "plt.xticks(rotation = 90);"
   ]
  },
  {
   "cell_type": "markdown",
   "id": "0fd70f00",
   "metadata": {},
   "source": [
    "**Observation:-**\n",
    "- From the above barplot we can clearly say that `Intel Core i7` laptop has the highest price\n",
    "- AMD Processor, Intel Core i3 & Other Intel Processor belongs to similar price range"
   ]
  },
  {
   "cell_type": "markdown",
   "id": "8a7b89a9",
   "metadata": {},
   "source": [
    "## Ram (Numerical column)"
   ]
  },
  {
   "cell_type": "code",
   "execution_count": 50,
   "id": "34c20f0c",
   "metadata": {},
   "outputs": [
    {
     "data": {
      "text/plain": [
       "8     47.505756\n",
       "4     28.779739\n",
       "16    15.349194\n",
       "6      3.146585\n",
       "12     1.918649\n",
       "2      1.688411\n",
       "32     1.304682\n",
       "24     0.230238\n",
       "64     0.076746\n",
       "Name: Ram, dtype: float64"
      ]
     },
     "execution_count": 50,
     "metadata": {},
     "output_type": "execute_result"
    }
   ],
   "source": [
    "(((data[\"Ram\"].value_counts())/len(data[\"Ram\"]))*100)\n"
   ]
  },
  {
   "cell_type": "code",
   "execution_count": 51,
   "id": "7af1ec6b",
   "metadata": {},
   "outputs": [
    {
     "name": "stdout",
     "output_type": "stream",
     "text": [
      "Percentage of 2GB  Laptop: 1.688411358403684\n",
      "Percentage of 4GB  Laptop: 28.779739063699157\n",
      "Percentage of 6GB  Laptop: 3.1465848042977744\n",
      "Percentage of 8GB  Laptop: 47.50575594781274\n",
      "Percentage of 12GB  Laptop: 1.918649270913277\n",
      "Percentage of 16GB  Laptop: 15.349194167306216\n",
      "Percentage of 24GB  Laptop: 0.23023791250959325\n",
      "Percentage of 32GB  Laptop: 1.3046815042210285\n",
      "Percentage of 64GB  Laptop: 0.07674597083653108\n",
      "--------------------------------------------------\n"
     ]
    },
    {
     "data": {
      "image/png": "[encoded data removed]",
      "text/plain": [
       "<Figure size 1200x500 with 2 Axes>"
      ]
     },
     "metadata": {},
     "output_type": "display_data"
    }
   ],
   "source": [
    "fig, axes = plt.subplots(nrows=1, ncols=2, figsize=(12, 5))\n",
    "\n",
    "print(f\"Percentage of 2GB  Laptop: {(((data['Ram'].value_counts())/len(data['Ram']))*100)[2]}\")\n",
    "print(f\"Percentage of 4GB  Laptop: {(((data['Ram'].value_counts())/len(data['Ram']))*100)[4]}\")\n",
    "print(f\"Percentage of 6GB  Laptop: {(((data['Ram'].value_counts())/len(data['Ram']))*100)[6]}\")\n",
    "print(f\"Percentage of 8GB  Laptop: {(((data['Ram'].value_counts())/len(data['Ram']))*100)[8]}\")\n",
    "print(f\"Percentage of 12GB  Laptop: {(((data['Ram'].value_counts())/len(data['Ram']))*100)[12]}\")\n",
    "print(f\"Percentage of 16GB  Laptop: {(((data['Ram'].value_counts())/len(data['Ram']))*100)[16]}\")\n",
    "print(f\"Percentage of 24GB  Laptop: {(((data['Ram'].value_counts())/len(data['Ram']))*100)[24]}\")\n",
    "print(f\"Percentage of 32GB  Laptop: {(((data['Ram'].value_counts())/len(data['Ram']))*100)[32]}\")\n",
    "print(f\"Percentage of 64GB  Laptop: {(((data['Ram'].value_counts())/len(data['Ram']))*100)[64]}\")\n",
    "print(\"-\"*50)\n",
    "# Plot data on the first subplot\n",
    "a = sns.countplot(x= \"Ram\", data = data, ax=axes[0])\n",
    "axes[0].bar_label(a.containers[0], fontsize=8)\n",
    "axes[0].tick_params(axis='x', rotation=90)\n",
    "axes[0].set_title('Countplot')\n",
    "axes[0].set_xlabel('Ram')\n",
    "axes[0].set_ylabel('Price')\n",
    "\n",
    "# Plot data on the second subplot\n",
    "a = sns.barplot(x= \"Ram\", y= \"Price\", data = data, ax=axes[1])\n",
    "# axes[1].bar_label(a.containers[0], fontsize=8)\n",
    "axes[1].tick_params(axis='x', rotation=90)\n",
    "axes[1].set_title('Barplot')\n",
    "axes[1].set_xlabel('Ram')\n",
    "axes[1].set_ylabel('Price')\n",
    "\n",
    "# Adjust layout\n",
    "plt.tight_layout()"
   ]
  },
  {
   "cell_type": "markdown",
   "id": "e4b2ffba",
   "metadata": {},
   "source": [
    "**Observation:-**\n",
    "- Most people prefer buying 8GB laptop \n",
    "- 8GB Ram is budget friendly, might be the reason people prefer buying "
   ]
  },
  {
   "cell_type": "markdown",
   "id": "30a199f3",
   "metadata": {},
   "source": [
    "## Memory"
   ]
  },
  {
   "cell_type": "code",
   "execution_count": 52,
   "id": "e42f441a",
   "metadata": {},
   "outputs": [],
   "source": [
    "# creating function ot extract SSD\n",
    "def fetch_SSD(obj):\n",
    "    for i in obj:\n",
    "        if \"SSD\" in obj:\n",
    "            return obj.split(\" SSD\")[0].replace(\"GB\" ,\"\").replace(\"1TB\",\"1024\")\n",
    "        else:\n",
    "            return 0"
   ]
  },
  {
   "cell_type": "code",
   "execution_count": 53,
   "id": "a731b8fb",
   "metadata": {
    "scrolled": false
   },
   "outputs": [],
   "source": [
    "# Creating new column `SSD`\n",
    "data[\"SSD\"] = data[\"Memory\"].apply(fetch_SSD).astype(int)"
   ]
  },
  {
   "cell_type": "code",
   "execution_count": 54,
   "id": "585b5b09",
   "metadata": {},
   "outputs": [],
   "source": [
    "# creating function to extract HDD\n",
    "def fetch_HDD(obj):\n",
    "    for i in obj:\n",
    "        if \"HDD\" in obj:\n",
    "            a = obj.replace(\"128GB SSD +\" , \" \").replace(\"256GB SSD +\" , \" \").replace(\"512GB SSD +\" , \" \").replace(\"1TB SSD +\" , \" \").replace(\"64GB Flash Storage +\" , \" \")\n",
    "            return a.split(\"HDD\")[0].replace(\"1TB\",\"1024\").replace(\"2TB\",\"2048\").replace(\"GB\",\"\").replace(\"1.0TB\",\"1024\").replace(\" \",\"\")\n",
    "        else:\n",
    "            return 0"
   ]
  },
  {
   "cell_type": "code",
   "execution_count": 55,
   "id": "86002f58",
   "metadata": {},
   "outputs": [],
   "source": [
    "# Creating new column `HDD`\n",
    "data[\"HDD\"] = data[\"Memory\"].apply(fetch_SSD).astype(int)"
   ]
  },
  {
   "cell_type": "code",
   "execution_count": 56,
   "id": "2ade47bf",
   "metadata": {},
   "outputs": [],
   "source": [
    "# creating function to extract Flash Storage\n",
    "def fetch_FlashStorage(obj):\n",
    "    for i in obj:\n",
    "        if \"Flash Storage\" in obj:\n",
    "            return obj.split(\" Flash Storage\")[0].replace(\"GB\",\"\")\n",
    "        else:\n",
    "            return 0"
   ]
  },
  {
   "cell_type": "code",
   "execution_count": 57,
   "id": "3a534e78",
   "metadata": {},
   "outputs": [],
   "source": [
    "# Creating new column `FlashStorage`\n",
    "data[\"FlashStorage\"] = data[\"Memory\"].apply(fetch_FlashStorage).astype(int)"
   ]
  },
  {
   "cell_type": "code",
   "execution_count": 58,
   "id": "8e6f8698",
   "metadata": {},
   "outputs": [],
   "source": [
    "# creating function to extract `Hybrid`\n",
    "def fetch_Hybrid(obj):\n",
    "    for i in obj:\n",
    "        if \"Hybrid\" in obj:\n",
    "            return obj.split(\"Hybrid\")[0].replace(\"TB\",\"\").replace(\"512GB SSD +  \",\"\").replace(\"256GB SSD +  \",\"\").replace(\"GB\",\"\").replace(\"1.0\",\"1024\")\n",
    "        else:\n",
    "            return 0"
   ]
  },
  {
   "cell_type": "code",
   "execution_count": 59,
   "id": "05838640",
   "metadata": {},
   "outputs": [],
   "source": [
    "# Creating new column `Hybrid`\n",
    "data[\"Hybrid\"] = data[\"Memory\"].apply(fetch_Hybrid).astype(int)"
   ]
  },
  {
   "cell_type": "markdown",
   "id": "43438c84",
   "metadata": {},
   "source": [
    "**Dropping `Memory` column**"
   ]
  },
  {
   "cell_type": "code",
   "execution_count": 60,
   "id": "e34aa185",
   "metadata": {},
   "outputs": [],
   "source": [
    "data.drop(\"Memory\" , axis = 1 , inplace = True)"
   ]
  },
  {
   "cell_type": "code",
   "execution_count": 61,
   "id": "8046528d",
   "metadata": {},
   "outputs": [
    {
     "data": {
      "text/html": [
       "<div>\n",
       "<style scoped>\n",
       "    .dataframe tbody tr th:only-of-type {\n",
       "        vertical-align: middle;\n",
       "    }\n",
       "\n",
       "    .dataframe tbody tr th {\n",
       "        vertical-align: top;\n",
       "    }\n",
       "\n",
       "    .dataframe thead th {\n",
       "        text-align: right;\n",
       "    }\n",
       "</style>\n",
       "<table border=\"1\" class=\"dataframe\">\n",
       "  <thead>\n",
       "    <tr style=\"text-align: right;\">\n",
       "      <th></th>\n",
       "      <th>Company</th>\n",
       "      <th>TypeName</th>\n",
       "      <th>Ram</th>\n",
       "      <th>Gpu</th>\n",
       "      <th>OpSys</th>\n",
       "      <th>Weight</th>\n",
       "      <th>Price</th>\n",
       "      <th>Resolution</th>\n",
       "      <th>PPI</th>\n",
       "      <th>TouchScreen</th>\n",
       "      <th>IPS</th>\n",
       "      <th>CPU Brand</th>\n",
       "      <th>CPU GHz</th>\n",
       "      <th>SSD</th>\n",
       "      <th>HDD</th>\n",
       "      <th>FlashStorage</th>\n",
       "      <th>Hybrid</th>\n",
       "    </tr>\n",
       "  </thead>\n",
       "  <tbody>\n",
       "    <tr>\n",
       "      <th>0</th>\n",
       "      <td>Apple</td>\n",
       "      <td>Ultrabook</td>\n",
       "      <td>8</td>\n",
       "      <td>Intel Iris Plus Graphics 640</td>\n",
       "      <td>macOS</td>\n",
       "      <td>1.37</td>\n",
       "      <td>71378.6832</td>\n",
       "      <td>2560x1600</td>\n",
       "      <td>226.983005</td>\n",
       "      <td>0</td>\n",
       "      <td>1</td>\n",
       "      <td>Intel Core i5</td>\n",
       "      <td>2.3</td>\n",
       "      <td>128</td>\n",
       "      <td>128</td>\n",
       "      <td>0</td>\n",
       "      <td>0</td>\n",
       "    </tr>\n",
       "    <tr>\n",
       "      <th>1</th>\n",
       "      <td>Apple</td>\n",
       "      <td>Ultrabook</td>\n",
       "      <td>8</td>\n",
       "      <td>Intel HD Graphics 6000</td>\n",
       "      <td>macOS</td>\n",
       "      <td>1.34</td>\n",
       "      <td>47895.5232</td>\n",
       "      <td>1440x900</td>\n",
       "      <td>127.677940</td>\n",
       "      <td>0</td>\n",
       "      <td>0</td>\n",
       "      <td>Intel Core i5</td>\n",
       "      <td>1.8</td>\n",
       "      <td>0</td>\n",
       "      <td>0</td>\n",
       "      <td>128</td>\n",
       "      <td>0</td>\n",
       "    </tr>\n",
       "  </tbody>\n",
       "</table>\n",
       "</div>"
      ],
      "text/plain": [
       "  Company   TypeName  Ram                           Gpu  OpSys  Weight  \\\n",
       "0   Apple  Ultrabook    8  Intel Iris Plus Graphics 640  macOS    1.37   \n",
       "1   Apple  Ultrabook    8        Intel HD Graphics 6000  macOS    1.34   \n",
       "\n",
       "        Price Resolution         PPI  TouchScreen  IPS      CPU Brand  \\\n",
       "0  71378.6832  2560x1600  226.983005            0    1  Intel Core i5   \n",
       "1  47895.5232   1440x900  127.677940            0    0  Intel Core i5   \n",
       "\n",
       "   CPU GHz  SSD  HDD  FlashStorage  Hybrid  \n",
       "0      2.3  128  128             0       0  \n",
       "1      1.8    0    0           128       0  "
      ]
     },
     "execution_count": 61,
     "metadata": {},
     "output_type": "execute_result"
    }
   ],
   "source": [
    "data.head(2)"
   ]
  },
  {
   "cell_type": "code",
   "execution_count": 62,
   "id": "5df0d025",
   "metadata": {},
   "outputs": [
    {
     "name": "stdout",
     "output_type": "stream",
     "text": [
      "Ram             0.743007\n",
      "Weight          0.210370\n",
      "Price           1.000000\n",
      "PPI             0.473487\n",
      "TouchScreen     0.191226\n",
      "IPS             0.252208\n",
      "CPU GHz         0.430293\n",
      "SSD             0.675986\n",
      "HDD             0.675986\n",
      "FlashStorage   -0.040511\n",
      "Hybrid          0.008011\n",
      "Name: Price, dtype: float64\n"
     ]
    }
   ],
   "source": [
    "# checking correlation \n",
    "print(data.corr()[\"Price\"])"
   ]
  },
  {
   "cell_type": "code",
   "execution_count": 63,
   "id": "e09a7a70",
   "metadata": {},
   "outputs": [],
   "source": [
    "# Dropping `FlashStorage` & `Hybrid` as it doesn't have a good corrrelation with Price\n",
    "data.drop(columns=[\"FlashStorage\" ,\"Hybrid\"], inplace = True)"
   ]
  },
  {
   "cell_type": "code",
   "execution_count": 64,
   "id": "ec7a70b2",
   "metadata": {},
   "outputs": [
    {
     "data": {
      "text/html": [
       "<div>\n",
       "<style scoped>\n",
       "    .dataframe tbody tr th:only-of-type {\n",
       "        vertical-align: middle;\n",
       "    }\n",
       "\n",
       "    .dataframe tbody tr th {\n",
       "        vertical-align: top;\n",
       "    }\n",
       "\n",
       "    .dataframe thead th {\n",
       "        text-align: right;\n",
       "    }\n",
       "</style>\n",
       "<table border=\"1\" class=\"dataframe\">\n",
       "  <thead>\n",
       "    <tr style=\"text-align: right;\">\n",
       "      <th></th>\n",
       "      <th>Company</th>\n",
       "      <th>TypeName</th>\n",
       "      <th>Ram</th>\n",
       "      <th>Gpu</th>\n",
       "      <th>OpSys</th>\n",
       "      <th>Weight</th>\n",
       "      <th>Price</th>\n",
       "      <th>Resolution</th>\n",
       "      <th>PPI</th>\n",
       "      <th>TouchScreen</th>\n",
       "      <th>IPS</th>\n",
       "      <th>CPU Brand</th>\n",
       "      <th>CPU GHz</th>\n",
       "      <th>SSD</th>\n",
       "      <th>HDD</th>\n",
       "    </tr>\n",
       "  </thead>\n",
       "  <tbody>\n",
       "    <tr>\n",
       "      <th>0</th>\n",
       "      <td>Apple</td>\n",
       "      <td>Ultrabook</td>\n",
       "      <td>8</td>\n",
       "      <td>Intel Iris Plus Graphics 640</td>\n",
       "      <td>macOS</td>\n",
       "      <td>1.37</td>\n",
       "      <td>71378.6832</td>\n",
       "      <td>2560x1600</td>\n",
       "      <td>226.983005</td>\n",
       "      <td>0</td>\n",
       "      <td>1</td>\n",
       "      <td>Intel Core i5</td>\n",
       "      <td>2.3</td>\n",
       "      <td>128</td>\n",
       "      <td>128</td>\n",
       "    </tr>\n",
       "    <tr>\n",
       "      <th>1</th>\n",
       "      <td>Apple</td>\n",
       "      <td>Ultrabook</td>\n",
       "      <td>8</td>\n",
       "      <td>Intel HD Graphics 6000</td>\n",
       "      <td>macOS</td>\n",
       "      <td>1.34</td>\n",
       "      <td>47895.5232</td>\n",
       "      <td>1440x900</td>\n",
       "      <td>127.677940</td>\n",
       "      <td>0</td>\n",
       "      <td>0</td>\n",
       "      <td>Intel Core i5</td>\n",
       "      <td>1.8</td>\n",
       "      <td>0</td>\n",
       "      <td>0</td>\n",
       "    </tr>\n",
       "  </tbody>\n",
       "</table>\n",
       "</div>"
      ],
      "text/plain": [
       "  Company   TypeName  Ram                           Gpu  OpSys  Weight  \\\n",
       "0   Apple  Ultrabook    8  Intel Iris Plus Graphics 640  macOS    1.37   \n",
       "1   Apple  Ultrabook    8        Intel HD Graphics 6000  macOS    1.34   \n",
       "\n",
       "        Price Resolution         PPI  TouchScreen  IPS      CPU Brand  \\\n",
       "0  71378.6832  2560x1600  226.983005            0    1  Intel Core i5   \n",
       "1  47895.5232   1440x900  127.677940            0    0  Intel Core i5   \n",
       "\n",
       "   CPU GHz  SSD  HDD  \n",
       "0      2.3  128  128  \n",
       "1      1.8    0    0  "
      ]
     },
     "execution_count": 64,
     "metadata": {},
     "output_type": "execute_result"
    }
   ],
   "source": [
    "data.head(2)"
   ]
  },
  {
   "cell_type": "markdown",
   "id": "1a4ee285",
   "metadata": {},
   "source": [
    "## Gpu"
   ]
  },
  {
   "cell_type": "code",
   "execution_count": 65,
   "id": "b3e8dfd8",
   "metadata": {},
   "outputs": [
    {
     "data": {
      "text/plain": [
       "Intel HD Graphics 620      281\n",
       "Intel HD Graphics 520      185\n",
       "Intel UHD Graphics 620      68\n",
       "Nvidia GeForce GTX 1050     66\n",
       "Nvidia GeForce GTX 1060     48\n",
       "                          ... \n",
       "AMD Radeon R5 520            1\n",
       "AMD Radeon R7                1\n",
       "Intel HD Graphics 540        1\n",
       "AMD Radeon 540               1\n",
       "ARM Mali T860 MP4            1\n",
       "Name: Gpu, Length: 110, dtype: int64"
      ]
     },
     "execution_count": 65,
     "metadata": {},
     "output_type": "execute_result"
    }
   ],
   "source": [
    "data['Gpu'].value_counts()"
   ]
  },
  {
   "cell_type": "code",
   "execution_count": 66,
   "id": "a586c171",
   "metadata": {},
   "outputs": [],
   "source": [
    "data['Gpu brand'] = data['Gpu'].apply(lambda x:x.split()[0])"
   ]
  },
  {
   "cell_type": "code",
   "execution_count": 67,
   "id": "ce7cbd48",
   "metadata": {},
   "outputs": [
    {
     "data": {
      "text/html": [
       "<div>\n",
       "<style scoped>\n",
       "    .dataframe tbody tr th:only-of-type {\n",
       "        vertical-align: middle;\n",
       "    }\n",
       "\n",
       "    .dataframe tbody tr th {\n",
       "        vertical-align: top;\n",
       "    }\n",
       "\n",
       "    .dataframe thead th {\n",
       "        text-align: right;\n",
       "    }\n",
       "</style>\n",
       "<table border=\"1\" class=\"dataframe\">\n",
       "  <thead>\n",
       "    <tr style=\"text-align: right;\">\n",
       "      <th></th>\n",
       "      <th>Company</th>\n",
       "      <th>TypeName</th>\n",
       "      <th>Ram</th>\n",
       "      <th>Gpu</th>\n",
       "      <th>OpSys</th>\n",
       "      <th>Weight</th>\n",
       "      <th>Price</th>\n",
       "      <th>Resolution</th>\n",
       "      <th>PPI</th>\n",
       "      <th>TouchScreen</th>\n",
       "      <th>IPS</th>\n",
       "      <th>CPU Brand</th>\n",
       "      <th>CPU GHz</th>\n",
       "      <th>SSD</th>\n",
       "      <th>HDD</th>\n",
       "      <th>Gpu brand</th>\n",
       "    </tr>\n",
       "  </thead>\n",
       "  <tbody>\n",
       "    <tr>\n",
       "      <th>0</th>\n",
       "      <td>Apple</td>\n",
       "      <td>Ultrabook</td>\n",
       "      <td>8</td>\n",
       "      <td>Intel Iris Plus Graphics 640</td>\n",
       "      <td>macOS</td>\n",
       "      <td>1.37</td>\n",
       "      <td>71378.6832</td>\n",
       "      <td>2560x1600</td>\n",
       "      <td>226.983005</td>\n",
       "      <td>0</td>\n",
       "      <td>1</td>\n",
       "      <td>Intel Core i5</td>\n",
       "      <td>2.3</td>\n",
       "      <td>128</td>\n",
       "      <td>128</td>\n",
       "      <td>Intel</td>\n",
       "    </tr>\n",
       "    <tr>\n",
       "      <th>1</th>\n",
       "      <td>Apple</td>\n",
       "      <td>Ultrabook</td>\n",
       "      <td>8</td>\n",
       "      <td>Intel HD Graphics 6000</td>\n",
       "      <td>macOS</td>\n",
       "      <td>1.34</td>\n",
       "      <td>47895.5232</td>\n",
       "      <td>1440x900</td>\n",
       "      <td>127.677940</td>\n",
       "      <td>0</td>\n",
       "      <td>0</td>\n",
       "      <td>Intel Core i5</td>\n",
       "      <td>1.8</td>\n",
       "      <td>0</td>\n",
       "      <td>0</td>\n",
       "      <td>Intel</td>\n",
       "    </tr>\n",
       "    <tr>\n",
       "      <th>2</th>\n",
       "      <td>HP</td>\n",
       "      <td>Notebook</td>\n",
       "      <td>8</td>\n",
       "      <td>Intel HD Graphics 620</td>\n",
       "      <td>No OS</td>\n",
       "      <td>1.86</td>\n",
       "      <td>30636.0000</td>\n",
       "      <td>1920x1080</td>\n",
       "      <td>141.211998</td>\n",
       "      <td>0</td>\n",
       "      <td>0</td>\n",
       "      <td>Intel Core i5</td>\n",
       "      <td>2.5</td>\n",
       "      <td>256</td>\n",
       "      <td>256</td>\n",
       "      <td>Intel</td>\n",
       "    </tr>\n",
       "    <tr>\n",
       "      <th>3</th>\n",
       "      <td>Apple</td>\n",
       "      <td>Ultrabook</td>\n",
       "      <td>16</td>\n",
       "      <td>AMD Radeon Pro 455</td>\n",
       "      <td>macOS</td>\n",
       "      <td>1.83</td>\n",
       "      <td>135195.3360</td>\n",
       "      <td>2880x1800</td>\n",
       "      <td>220.534624</td>\n",
       "      <td>0</td>\n",
       "      <td>1</td>\n",
       "      <td>Intel Core i7</td>\n",
       "      <td>2.7</td>\n",
       "      <td>512</td>\n",
       "      <td>512</td>\n",
       "      <td>AMD</td>\n",
       "    </tr>\n",
       "    <tr>\n",
       "      <th>4</th>\n",
       "      <td>Apple</td>\n",
       "      <td>Ultrabook</td>\n",
       "      <td>8</td>\n",
       "      <td>Intel Iris Plus Graphics 650</td>\n",
       "      <td>macOS</td>\n",
       "      <td>1.37</td>\n",
       "      <td>96095.8080</td>\n",
       "      <td>2560x1600</td>\n",
       "      <td>226.983005</td>\n",
       "      <td>0</td>\n",
       "      <td>1</td>\n",
       "      <td>Intel Core i5</td>\n",
       "      <td>3.1</td>\n",
       "      <td>256</td>\n",
       "      <td>256</td>\n",
       "      <td>Intel</td>\n",
       "    </tr>\n",
       "  </tbody>\n",
       "</table>\n",
       "</div>"
      ],
      "text/plain": [
       "  Company   TypeName  Ram                           Gpu  OpSys  Weight  \\\n",
       "0   Apple  Ultrabook    8  Intel Iris Plus Graphics 640  macOS    1.37   \n",
       "1   Apple  Ultrabook    8        Intel HD Graphics 6000  macOS    1.34   \n",
       "2      HP   Notebook    8         Intel HD Graphics 620  No OS    1.86   \n",
       "3   Apple  Ultrabook   16            AMD Radeon Pro 455  macOS    1.83   \n",
       "4   Apple  Ultrabook    8  Intel Iris Plus Graphics 650  macOS    1.37   \n",
       "\n",
       "         Price Resolution         PPI  TouchScreen  IPS      CPU Brand  \\\n",
       "0   71378.6832  2560x1600  226.983005            0    1  Intel Core i5   \n",
       "1   47895.5232   1440x900  127.677940            0    0  Intel Core i5   \n",
       "2   30636.0000  1920x1080  141.211998            0    0  Intel Core i5   \n",
       "3  135195.3360  2880x1800  220.534624            0    1  Intel Core i7   \n",
       "4   96095.8080  2560x1600  226.983005            0    1  Intel Core i5   \n",
       "\n",
       "   CPU GHz  SSD  HDD Gpu brand  \n",
       "0      2.3  128  128     Intel  \n",
       "1      1.8    0    0     Intel  \n",
       "2      2.5  256  256     Intel  \n",
       "3      2.7  512  512       AMD  \n",
       "4      3.1  256  256     Intel  "
      ]
     },
     "execution_count": 67,
     "metadata": {},
     "output_type": "execute_result"
    }
   ],
   "source": [
    "data.head()"
   ]
  },
  {
   "cell_type": "code",
   "execution_count": 68,
   "id": "146be4a5",
   "metadata": {},
   "outputs": [],
   "source": [
    "data = data[data['Gpu brand'] != 'ARM']"
   ]
  },
  {
   "cell_type": "code",
   "execution_count": 69,
   "id": "693e9664",
   "metadata": {},
   "outputs": [
    {
     "data": {
      "image/png": "[encoded data removed]",
      "text/plain": [
       "<Figure size 500x400 with 1 Axes>"
      ]
     },
     "metadata": {},
     "output_type": "display_data"
    }
   ],
   "source": [
    "plt.figure(figsize=(5,4))\n",
    "a = sns.countplot(x = \"Gpu brand\", data = data ,  palette='husl')\n",
    "plt.xticks(rotation = 90)\n",
    "a.bar_label(a.containers[0], fontsize=8);"
   ]
  },
  {
   "cell_type": "markdown",
   "id": "7bdf0029",
   "metadata": {},
   "source": [
    "**`Gpu brand` vs. `Price`**"
   ]
  },
  {
   "cell_type": "code",
   "execution_count": 70,
   "id": "e7b674ff",
   "metadata": {},
   "outputs": [
    {
     "data": {
      "image/png": "[encoded data removed]",
      "text/plain": [
       "<Figure size 500x400 with 1 Axes>"
      ]
     },
     "metadata": {},
     "output_type": "display_data"
    }
   ],
   "source": [
    "plt.figure(figsize=(5,4))\n",
    "sns.barplot(x= \"Gpu brand\", y= \"Price\", data = data,  palette='husl')\n",
    "plt.xticks(rotation = 90);"
   ]
  },
  {
   "cell_type": "markdown",
   "id": "797e6b13",
   "metadata": {},
   "source": [
    "**Observation:-**\n",
    "- Nvidia processor is expensive "
   ]
  },
  {
   "cell_type": "code",
   "execution_count": 71,
   "id": "429b7ab3",
   "metadata": {},
   "outputs": [],
   "source": [
    "data.drop(columns=[\"Gpu\"], inplace = True)"
   ]
  },
  {
   "cell_type": "markdown",
   "id": "3d5cfbae",
   "metadata": {},
   "source": [
    "## OpSys"
   ]
  },
  {
   "cell_type": "code",
   "execution_count": 72,
   "id": "98e0b55c",
   "metadata": {},
   "outputs": [
    {
     "data": {
      "text/plain": [
       "Windows 10      1072\n",
       "No OS             66\n",
       "Linux             62\n",
       "Windows 7         45\n",
       "Chrome OS         26\n",
       "macOS             13\n",
       "Mac OS X           8\n",
       "Windows 10 S       8\n",
       "Android            2\n",
       "Name: OpSys, dtype: int64"
      ]
     },
     "execution_count": 72,
     "metadata": {},
     "output_type": "execute_result"
    }
   ],
   "source": [
    "data['OpSys'].value_counts()"
   ]
  },
  {
   "cell_type": "code",
   "execution_count": 73,
   "id": "c083f36b",
   "metadata": {},
   "outputs": [],
   "source": [
    "def cat_os(inp):\n",
    "    if inp == 'Windows 10' or inp == 'Windows 7' or inp == 'Windows 10 S':\n",
    "        return 'Windows'\n",
    "    elif inp == 'macOS' or inp == 'Mac OS X':\n",
    "        return 'Mac'\n",
    "    else:\n",
    "        return 'Others/No OS/Linux'"
   ]
  },
  {
   "cell_type": "code",
   "execution_count": 74,
   "id": "11c1081e",
   "metadata": {},
   "outputs": [],
   "source": [
    "# Creating new column os\n",
    "data['os'] = data['OpSys'].apply(cat_os)"
   ]
  },
  {
   "cell_type": "code",
   "execution_count": 75,
   "id": "06f33128",
   "metadata": {},
   "outputs": [],
   "source": [
    "# Dropping OpSys column\n",
    "data.drop(columns=['OpSys'],inplace=True)"
   ]
  },
  {
   "cell_type": "code",
   "execution_count": 147,
   "id": "75e37d72",
   "metadata": {},
   "outputs": [],
   "source": [
    "# Dropping OpSys column\n",
    "data.drop(columns=['Resolution'],inplace=True)"
   ]
  },
  {
   "cell_type": "code",
   "execution_count": 76,
   "id": "4b9acec5",
   "metadata": {},
   "outputs": [
    {
     "data": {
      "image/png": "[encoded data removed]",
      "text/plain": [
       "<Figure size 500x400 with 1 Axes>"
      ]
     },
     "metadata": {},
     "output_type": "display_data"
    }
   ],
   "source": [
    "plt.figure(figsize=(5,4))\n",
    "sns.barplot(x=data['os'],y=data['Price'], palette=\"husl\")\n",
    "plt.xticks(rotation='vertical')\n",
    "plt.show()"
   ]
  },
  {
   "cell_type": "markdown",
   "id": "5f778e6d",
   "metadata": {},
   "source": [
    "## Weight"
   ]
  },
  {
   "cell_type": "code",
   "execution_count": 77,
   "id": "e60efd60",
   "metadata": {},
   "outputs": [
    {
     "data": {
      "text/plain": [
       "<Axes: xlabel='Weight', ylabel='Density'>"
      ]
     },
     "execution_count": 77,
     "metadata": {},
     "output_type": "execute_result"
    },
    {
     "data": {
      "image/png": "[encoded data removed]",
      "text/plain": [
       "<Figure size 500x400 with 1 Axes>"
      ]
     },
     "metadata": {},
     "output_type": "display_data"
    }
   ],
   "source": [
    "# creating distplot\n",
    "plt.figure(figsize=(5,4))\n",
    "sns.distplot(data[\"Weight\"], color='purple')"
   ]
  },
  {
   "cell_type": "code",
   "execution_count": 78,
   "id": "a0fa889a",
   "metadata": {},
   "outputs": [
    {
     "data": {
      "text/plain": [
       "<Axes: xlabel='Weight', ylabel='Price'>"
      ]
     },
     "execution_count": 78,
     "metadata": {},
     "output_type": "execute_result"
    },
    {
     "data": {
      "image/png": "[encoded data removed]",
      "text/plain": [
       "<Figure size 500x400 with 1 Axes>"
      ]
     },
     "metadata": {},
     "output_type": "display_data"
    }
   ],
   "source": [
    "#  Creating scatterplot\n",
    "plt.figure(figsize=(5,4))\n",
    "sns.scatterplot(x=data['Weight'],y=data['Price'])"
   ]
  },
  {
   "cell_type": "code",
   "execution_count": 79,
   "id": "e11f9373",
   "metadata": {},
   "outputs": [
    {
     "data": {
      "text/plain": [
       "Ram            0.742905\n",
       "Weight         0.209867\n",
       "Price          1.000000\n",
       "PPI            0.475368\n",
       "TouchScreen    0.192917\n",
       "IPS            0.253320\n",
       "CPU GHz        0.430122\n",
       "SSD            0.675849\n",
       "HDD            0.675849\n",
       "Name: Price, dtype: float64"
      ]
     },
     "execution_count": 79,
     "metadata": {},
     "output_type": "execute_result"
    }
   ],
   "source": [
    "data.corr()[\"Price\"]"
   ]
  },
  {
   "cell_type": "code",
   "execution_count": 80,
   "id": "66dc5b38",
   "metadata": {},
   "outputs": [
    {
     "data": {
      "text/plain": [
       "<Axes: >"
      ]
     },
     "execution_count": 80,
     "metadata": {},
     "output_type": "execute_result"
    },
    {
     "data": {
      "image/png": "[encoded data removed]",
      "text/plain": [
       "<Figure size 640x480 with 2 Axes>"
      ]
     },
     "metadata": {},
     "output_type": "display_data"
    }
   ],
   "source": [
    "#  Heatmap to see correlation between variables\n",
    "sns.heatmap(data.corr(),annot=True,cmap=\"RdYlGn\")"
   ]
  },
  {
   "cell_type": "markdown",
   "id": "e0310cd2",
   "metadata": {},
   "source": [
    "**Separating Independent Variables(X) and Dependent Variable(y)**  "
   ]
  },
  {
   "cell_type": "code",
   "execution_count": 163,
   "id": "e74edcf9",
   "metadata": {},
   "outputs": [],
   "source": [
    "X = data.drop(columns = [\"Price\"])\n",
    "y = np.log(data[\"Price\"])"
   ]
  },
  {
   "cell_type": "code",
   "execution_count": 164,
   "id": "9189c16c",
   "metadata": {},
   "outputs": [
    {
     "data": {
      "text/html": [
       "<div>\n",
       "<style scoped>\n",
       "    .dataframe tbody tr th:only-of-type {\n",
       "        vertical-align: middle;\n",
       "    }\n",
       "\n",
       "    .dataframe tbody tr th {\n",
       "        vertical-align: top;\n",
       "    }\n",
       "\n",
       "    .dataframe thead th {\n",
       "        text-align: right;\n",
       "    }\n",
       "</style>\n",
       "<table border=\"1\" class=\"dataframe\">\n",
       "  <thead>\n",
       "    <tr style=\"text-align: right;\">\n",
       "      <th></th>\n",
       "      <th>Company</th>\n",
       "      <th>TypeName</th>\n",
       "      <th>Ram</th>\n",
       "      <th>Weight</th>\n",
       "      <th>PPI</th>\n",
       "      <th>TouchScreen</th>\n",
       "      <th>IPS</th>\n",
       "      <th>CPU Brand</th>\n",
       "      <th>CPU GHz</th>\n",
       "      <th>SSD</th>\n",
       "      <th>HDD</th>\n",
       "      <th>Gpu brand</th>\n",
       "      <th>os</th>\n",
       "    </tr>\n",
       "  </thead>\n",
       "  <tbody>\n",
       "    <tr>\n",
       "      <th>0</th>\n",
       "      <td>Apple</td>\n",
       "      <td>Ultrabook</td>\n",
       "      <td>8</td>\n",
       "      <td>1.37</td>\n",
       "      <td>226.983005</td>\n",
       "      <td>0</td>\n",
       "      <td>1</td>\n",
       "      <td>Intel Core i5</td>\n",
       "      <td>2.3</td>\n",
       "      <td>128</td>\n",
       "      <td>128</td>\n",
       "      <td>Intel</td>\n",
       "      <td>Mac</td>\n",
       "    </tr>\n",
       "    <tr>\n",
       "      <th>1</th>\n",
       "      <td>Apple</td>\n",
       "      <td>Ultrabook</td>\n",
       "      <td>8</td>\n",
       "      <td>1.34</td>\n",
       "      <td>127.677940</td>\n",
       "      <td>0</td>\n",
       "      <td>0</td>\n",
       "      <td>Intel Core i5</td>\n",
       "      <td>1.8</td>\n",
       "      <td>0</td>\n",
       "      <td>0</td>\n",
       "      <td>Intel</td>\n",
       "      <td>Mac</td>\n",
       "    </tr>\n",
       "    <tr>\n",
       "      <th>2</th>\n",
       "      <td>HP</td>\n",
       "      <td>Notebook</td>\n",
       "      <td>8</td>\n",
       "      <td>1.86</td>\n",
       "      <td>141.211998</td>\n",
       "      <td>0</td>\n",
       "      <td>0</td>\n",
       "      <td>Intel Core i5</td>\n",
       "      <td>2.5</td>\n",
       "      <td>256</td>\n",
       "      <td>256</td>\n",
       "      <td>Intel</td>\n",
       "      <td>Others/No OS/Linux</td>\n",
       "    </tr>\n",
       "    <tr>\n",
       "      <th>3</th>\n",
       "      <td>Apple</td>\n",
       "      <td>Ultrabook</td>\n",
       "      <td>16</td>\n",
       "      <td>1.83</td>\n",
       "      <td>220.534624</td>\n",
       "      <td>0</td>\n",
       "      <td>1</td>\n",
       "      <td>Intel Core i7</td>\n",
       "      <td>2.7</td>\n",
       "      <td>512</td>\n",
       "      <td>512</td>\n",
       "      <td>AMD</td>\n",
       "      <td>Mac</td>\n",
       "    </tr>\n",
       "    <tr>\n",
       "      <th>4</th>\n",
       "      <td>Apple</td>\n",
       "      <td>Ultrabook</td>\n",
       "      <td>8</td>\n",
       "      <td>1.37</td>\n",
       "      <td>226.983005</td>\n",
       "      <td>0</td>\n",
       "      <td>1</td>\n",
       "      <td>Intel Core i5</td>\n",
       "      <td>3.1</td>\n",
       "      <td>256</td>\n",
       "      <td>256</td>\n",
       "      <td>Intel</td>\n",
       "      <td>Mac</td>\n",
       "    </tr>\n",
       "  </tbody>\n",
       "</table>\n",
       "</div>"
      ],
      "text/plain": [
       "  Company   TypeName  Ram  Weight         PPI  TouchScreen  IPS  \\\n",
       "0   Apple  Ultrabook    8    1.37  226.983005            0    1   \n",
       "1   Apple  Ultrabook    8    1.34  127.677940            0    0   \n",
       "2      HP   Notebook    8    1.86  141.211998            0    0   \n",
       "3   Apple  Ultrabook   16    1.83  220.534624            0    1   \n",
       "4   Apple  Ultrabook    8    1.37  226.983005            0    1   \n",
       "\n",
       "       CPU Brand  CPU GHz  SSD  HDD Gpu brand                  os  \n",
       "0  Intel Core i5      2.3  128  128     Intel                 Mac  \n",
       "1  Intel Core i5      1.8    0    0     Intel                 Mac  \n",
       "2  Intel Core i5      2.5  256  256     Intel  Others/No OS/Linux  \n",
       "3  Intel Core i7      2.7  512  512       AMD                 Mac  \n",
       "4  Intel Core i5      3.1  256  256     Intel                 Mac  "
      ]
     },
     "execution_count": 164,
     "metadata": {},
     "output_type": "execute_result"
    }
   ],
   "source": [
    "X.head()"
   ]
  },
  {
   "cell_type": "code",
   "execution_count": 165,
   "id": "4263b98a",
   "metadata": {},
   "outputs": [],
   "source": [
    "from sklearn.preprocessing import StandardScaler\n",
    "scaler = StandardScaler()"
   ]
  },
  {
   "cell_type": "code",
   "execution_count": 175,
   "id": "8bea4e5d",
   "metadata": {},
   "outputs": [],
   "source": [
    "X[\"PPI\"] = scaler.fit_transform(X.iloc[: , 4:5])\n",
    "X[\"Weight\"] = scaler.fit_transform(X.iloc[: , 3:4])\n",
    "X[\"CPU GHz\"] = scaler.fit_transform(X.iloc[: , 8:9])"
   ]
  },
  {
   "cell_type": "code",
   "execution_count": null,
   "id": "0bd1022e",
   "metadata": {},
   "outputs": [],
   "source": []
  },
  {
   "cell_type": "code",
   "execution_count": 176,
   "id": "fced9c22",
   "metadata": {},
   "outputs": [],
   "source": [
    "from sklearn.preprocessing import LabelEncoder\n",
    "LR = LabelEncoder()"
   ]
  },
  {
   "cell_type": "code",
   "execution_count": 177,
   "id": "b518198d",
   "metadata": {},
   "outputs": [],
   "source": [
    "X[\"Ram\"] = LR.fit_transform(X[\"Ram\"])\n",
    "X[\"SSD\"] = LR.fit_transform(X[\"SSD\"])\n",
    "X[\"HDD\"] = LR.fit_transform(X[\"HDD\"])"
   ]
  },
  {
   "cell_type": "code",
   "execution_count": 178,
   "id": "ea178256",
   "metadata": {},
   "outputs": [],
   "source": [
    "from sklearn.preprocessing import OneHotEncoder\n",
    "from sklearn.compose import ColumnTransformer\n",
    "\n",
    "col = [\"Company\", \"TypeName\", \"CPU Brand\",\"Gpu brand\",\"os\"]\n",
    "\n",
    "OHE = OneHotEncoder(drop = \"first\")\n",
    "transformer = ColumnTransformer([(\"one_hot\", OHE , col)], remainder = \"passthrough\")\n",
    "transformed_X = transformer.fit_transform(X)"
   ]
  },
  {
   "cell_type": "code",
   "execution_count": 179,
   "id": "37d64522",
   "metadata": {
    "scrolled": true
   },
   "outputs": [],
   "source": [
    "X = pd.DataFrame(transformed_X)"
   ]
  },
  {
   "cell_type": "code",
   "execution_count": 180,
   "id": "0b3b9c5c",
   "metadata": {},
   "outputs": [],
   "source": [
    "from sklearn.model_selection import train_test_split\n",
    "X_train, X_test, y_train, y_test = train_test_split(X,y, test_size=0.15, random_state=2)"
   ]
  },
  {
   "cell_type": "code",
   "execution_count": 181,
   "id": "6b1b376c",
   "metadata": {},
   "outputs": [
    {
     "name": "stdout",
     "output_type": "stream",
     "text": [
      "Mean Squared Error: 0.06698016958868505\n"
     ]
    }
   ],
   "source": [
    "from sklearn.linear_model import LinearRegression\n",
    "\n",
    "# Create an instance of the Linear Regression model\n",
    "model = LinearRegression()\n",
    "\n",
    "# Your data preparation steps would come here\n",
    "# For example, preparing your features and target variables\n",
    "\n",
    "# Fit the model to your data\n",
    "model.fit(X_train, y_train)\n",
    "\n",
    "# Once the model is trained, you can use it to make predictions\n",
    "predictions = model.predict(X_test)\n",
    "\n",
    "# Evaluate the model using appropriate metrics\n",
    "# For example, you can use mean squared error (MSE), R-squared, etc.\n",
    "\n",
    "# Example of calculating mean squared error\n",
    "from sklearn.metrics import mean_squared_error\n",
    "mse = mean_squared_error(y_test, predictions)\n",
    "print(\"Mean Squared Error:\", mse)"
   ]
  },
  {
   "cell_type": "code",
   "execution_count": 182,
   "id": "2c26fe67",
   "metadata": {},
   "outputs": [
    {
     "name": "stdout",
     "output_type": "stream",
     "text": [
      "R-squared Score: 0.824911845410034\n"
     ]
    }
   ],
   "source": [
    "from sklearn.metrics import r2_score\n",
    "\n",
    "# Calculate R-squared score\n",
    "r2 = r2_score(y_test, predictions)\n",
    "print(\"R-squared Score:\", r2)\n"
   ]
  },
  {
   "cell_type": "code",
   "execution_count": 183,
   "id": "c7d219dc",
   "metadata": {},
   "outputs": [
    {
     "name": "stdout",
     "output_type": "stream",
     "text": [
      "Mean Squared Error: 0.041957609136288335\n",
      "R-squared Score: 0.8903215623401344\n"
     ]
    }
   ],
   "source": [
    "from sklearn.ensemble import RandomForestRegressor\n",
    "from sklearn.metrics import mean_squared_error, r2_score\n",
    "\n",
    "# Create an instance of the Random Forest Regressor model\n",
    "model = RandomForestRegressor()\n",
    "\n",
    "# Fit the model to your data\n",
    "model.fit(X_train, y_train)\n",
    "\n",
    "# Make predictions\n",
    "predictions = model.predict(X_test)\n",
    "\n",
    "# Evaluate the model using mean squared error (MSE)\n",
    "mse = mean_squared_error(y_test, predictions)\n",
    "print(\"Mean Squared Error:\", mse)\n",
    "\n",
    "# Calculate R-squared score\n",
    "r2 = r2_score(y_test, predictions)\n",
    "print(\"R-squared Score:\", r2)\n"
   ]
  },
  {
   "cell_type": "code",
   "execution_count": 185,
   "id": "7e68a94a",
   "metadata": {},
   "outputs": [
    {
     "name": "stdout",
     "output_type": "stream",
     "text": [
      "R-squared Score: 0.8094129359283578\n"
     ]
    }
   ],
   "source": [
    "# from sklearn.datasets import load_boston\n",
    "from sklearn.model_selection import train_test_split\n",
    "from sklearn.ensemble import AdaBoostRegressor\n",
    "from sklearn.impute import SimpleImputer\n",
    "from sklearn.metrics import r2_score\n",
    "\n",
    "# Load Boston housing dataset with missing values\n",
    "\n",
    "imputer = SimpleImputer(strategy='mean')\n",
    "X_train_imputed = imputer.fit_transform(X_train)\n",
    "X_test_imputed = imputer.transform(X_test)\n",
    "\n",
    "# Create AdaBoost regressor\n",
    "ada_reg = AdaBoostRegressor()\n",
    "\n",
    "# Fit AdaBoost regressor to the training data\n",
    "ada_reg.fit(X_train_imputed, y_train)\n",
    "\n",
    "# Make predictions\n",
    "predictions = ada_reg.predict(X_test_imputed)\n",
    "\n",
    "# Calculate R-squared score\n",
    "r2 = r2_score(y_test, predictions)\n",
    "print(\"R-squared Score:\", r2)\n"
   ]
  },
  {
   "cell_type": "code",
   "execution_count": null,
   "id": "29775143",
   "metadata": {},
   "outputs": [],
   "source": []
  },
  {
   "cell_type": "code",
   "execution_count": null,
   "id": "7f3344cc",
   "metadata": {},
   "outputs": [],
   "source": []
  },
  {
   "cell_type": "code",
   "execution_count": null,
   "id": "96a1d411",
   "metadata": {},
   "outputs": [],
   "source": []
  },
  {
   "cell_type": "code",
   "execution_count": null,
   "id": "cb755d1c",
   "metadata": {},
   "outputs": [],
   "source": []
  },
  {
   "cell_type": "code",
   "execution_count": null,
   "id": "59ea0781",
   "metadata": {},
   "outputs": [],
   "source": []
  },
  {
   "cell_type": "code",
   "execution_count": null,
   "id": "7746c211",
   "metadata": {},
   "outputs": [],
   "source": []
  },
  {
   "cell_type": "code",
   "execution_count": null,
   "id": "1ab652be",
   "metadata": {},
   "outputs": [],
   "source": []
  },
  {
   "cell_type": "code",
   "execution_count": null,
   "id": "b104caba",
   "metadata": {},
   "outputs": [],
   "source": []
  },
  {
   "cell_type": "code",
   "execution_count": null,
   "id": "635bb488",
   "metadata": {},
   "outputs": [],
   "source": []
  },
  {
   "cell_type": "code",
   "execution_count": null,
   "id": "ed33914e",
   "metadata": {},
   "outputs": [],
   "source": []
  },
  {
   "cell_type": "code",
   "execution_count": null,
   "id": "f620e44b",
   "metadata": {},
   "outputs": [],
   "source": []
  },
  {
   "cell_type": "code",
   "execution_count": null,
   "id": "17028b1c",
   "metadata": {},
   "outputs": [],
   "source": []
  },
  {
   "cell_type": "code",
   "execution_count": null,
   "id": "b5598455",
   "metadata": {},
   "outputs": [],
   "source": []
  },
  {
   "cell_type": "code",
   "execution_count": null,
   "id": "cc39535d",
   "metadata": {},
   "outputs": [],
   "source": []
  },
  {
   "cell_type": "code",
   "execution_count": null,
   "id": "db775d61",
   "metadata": {},
   "outputs": [],
   "source": []
  },
  {
   "cell_type": "code",
   "execution_count": null,
   "id": "a18d35e1",
   "metadata": {},
   "outputs": [],
   "source": []
  },
  {
   "cell_type": "code",
   "execution_count": null,
   "id": "88451927",
   "metadata": {},
   "outputs": [],
   "source": []
  },
  {
   "cell_type": "code",
   "execution_count": null,
   "id": "b8349926",
   "metadata": {},
   "outputs": [],
   "source": []
  },
  {
   "cell_type": "code",
   "execution_count": null,
   "id": "1346f976",
   "metadata": {},
   "outputs": [],
   "source": []
  },
  {
   "cell_type": "code",
   "execution_count": null,
   "id": "106b994b",
   "metadata": {},
   "outputs": [],
   "source": []
  },
  {
   "cell_type": "code",
   "execution_count": null,
   "id": "3a060e7a",
   "metadata": {},
   "outputs": [],
   "source": []
  },
  {
   "cell_type": "code",
   "execution_count": null,
   "id": "8f4b1612",
   "metadata": {},
   "outputs": [],
   "source": []
  },
  {
   "cell_type": "code",
   "execution_count": null,
   "id": "12a0fa29",
   "metadata": {},
   "outputs": [],
   "source": []
  },
  {
   "cell_type": "code",
   "execution_count": null,
   "id": "991c437c",
   "metadata": {},
   "outputs": [],
   "source": []
  },
  {
   "cell_type": "code",
   "execution_count": null,
   "id": "3d10ce09",
   "metadata": {},
   "outputs": [],
   "source": []
  },
  {
   "cell_type": "code",
   "execution_count": null,
   "id": "82f745e7",
   "metadata": {},
   "outputs": [],
   "source": []
  },
  {
   "cell_type": "code",
   "execution_count": null,
   "id": "423119c3",
   "metadata": {},
   "outputs": [],
   "source": []
  },
  {
   "cell_type": "code",
   "execution_count": null,
   "id": "c8727daf",
   "metadata": {},
   "outputs": [],
   "source": []
  },
  {
   "cell_type": "code",
   "execution_count": null,
   "id": "47e12a56",
   "metadata": {},
   "outputs": [],
   "source": []
  },
  {
   "cell_type": "code",
   "execution_count": null,
   "id": "c32fe726",
   "metadata": {},
   "outputs": [],
   "source": []
  },
  {
   "cell_type": "code",
   "execution_count": null,
   "id": "23dcf7e6",
   "metadata": {},
   "outputs": [],
   "source": []
  },
  {
   "cell_type": "code",
   "execution_count": null,
   "id": "e4479e34",
   "metadata": {},
   "outputs": [],
   "source": []
  },
  {
   "cell_type": "code",
   "execution_count": null,
   "id": "9aaa896c",
   "metadata": {},
   "outputs": [],
   "source": []
  },
  {
   "cell_type": "code",
   "execution_count": null,
   "id": "a7664968",
   "metadata": {},
   "outputs": [],
   "source": []
  },
  {
   "cell_type": "code",
   "execution_count": null,
   "id": "4e75b9f8",
   "metadata": {},
   "outputs": [],
   "source": []
  },
  {
   "cell_type": "code",
   "execution_count": null,
   "id": "14668bf0",
   "metadata": {},
   "outputs": [],
   "source": []
  },
  {
   "cell_type": "code",
   "execution_count": null,
   "id": "fa212bbd",
   "metadata": {},
   "outputs": [],
   "source": []
  },
  {
   "cell_type": "code",
   "execution_count": null,
   "id": "c859fd2a",
   "metadata": {},
   "outputs": [],
   "source": []
  },
  {
   "cell_type": "code",
   "execution_count": null,
   "id": "e2bbb1e6",
   "metadata": {},
   "outputs": [],
   "source": []
  },
  {
   "cell_type": "code",
   "execution_count": null,
   "id": "64432b07",
   "metadata": {},
   "outputs": [],
   "source": []
  },
  {
   "cell_type": "code",
   "execution_count": null,
   "id": "c0db3655",
   "metadata": {},
   "outputs": [],
   "source": []
  },
  {
   "cell_type": "code",
   "execution_count": null,
   "id": "43cde876",
   "metadata": {},
   "outputs": [],
   "source": []
  },
  {
   "cell_type": "code",
   "execution_count": null,
   "id": "a7bca8e1",
   "metadata": {},
   "outputs": [],
   "source": []
  },
  {
   "cell_type": "code",
   "execution_count": null,
   "id": "34a2e19f",
   "metadata": {},
   "outputs": [],
   "source": []
  },
  {
   "cell_type": "code",
   "execution_count": null,
   "id": "48f595d3",
   "metadata": {},
   "outputs": [],
   "source": []
  },
  {
   "cell_type": "code",
   "execution_count": null,
   "id": "7c7873b2",
   "metadata": {},
   "outputs": [],
   "source": []
  },
  {
   "cell_type": "code",
   "execution_count": null,
   "id": "0e60d782",
   "metadata": {},
   "outputs": [],
   "source": []
  },
  {
   "cell_type": "code",
   "execution_count": null,
   "id": "4da7f158",
   "metadata": {},
   "outputs": [],
   "source": []
  },
  {
   "cell_type": "code",
   "execution_count": 84,
   "id": "9b1ac11d",
   "metadata": {},
   "outputs": [],
   "source": []
  },
  {
   "cell_type": "code",
   "execution_count": 90,
   "id": "e8927cbc",
   "metadata": {},
   "outputs": [],
   "source": []
  },
  {
   "cell_type": "code",
   "execution_count": 91,
   "id": "487f5aa3",
   "metadata": {},
   "outputs": [
    {
     "data": {
      "text/html": [
       "<div>\n",
       "<style scoped>\n",
       "    .dataframe tbody tr th:only-of-type {\n",
       "        vertical-align: middle;\n",
       "    }\n",
       "\n",
       "    .dataframe tbody tr th {\n",
       "        vertical-align: top;\n",
       "    }\n",
       "\n",
       "    .dataframe thead th {\n",
       "        text-align: right;\n",
       "    }\n",
       "</style>\n",
       "<table border=\"1\" class=\"dataframe\">\n",
       "  <thead>\n",
       "    <tr style=\"text-align: right;\">\n",
       "      <th></th>\n",
       "      <th>Company</th>\n",
       "      <th>TypeName</th>\n",
       "      <th>Ram</th>\n",
       "      <th>Weight</th>\n",
       "      <th>Resolution</th>\n",
       "      <th>PPI</th>\n",
       "      <th>TouchScreen</th>\n",
       "      <th>IPS</th>\n",
       "      <th>CPU Brand</th>\n",
       "      <th>CPU GHz</th>\n",
       "      <th>SSD</th>\n",
       "      <th>HDD</th>\n",
       "      <th>Gpu brand</th>\n",
       "      <th>os</th>\n",
       "    </tr>\n",
       "  </thead>\n",
       "  <tbody>\n",
       "    <tr>\n",
       "      <th>183</th>\n",
       "      <td>Toshiba</td>\n",
       "      <td>Notebook</td>\n",
       "      <td>3</td>\n",
       "      <td>2.00</td>\n",
       "      <td>1366x768</td>\n",
       "      <td>100.454670</td>\n",
       "      <td>0</td>\n",
       "      <td>0</td>\n",
       "      <td>Intel Core i5</td>\n",
       "      <td>2.5</td>\n",
       "      <td>128</td>\n",
       "      <td>128</td>\n",
       "      <td>Intel</td>\n",
       "      <td>Windows</td>\n",
       "    </tr>\n",
       "    <tr>\n",
       "      <th>1141</th>\n",
       "      <td>MSI</td>\n",
       "      <td>Gaming</td>\n",
       "      <td>3</td>\n",
       "      <td>2.40</td>\n",
       "      <td>1920x1080</td>\n",
       "      <td>141.211998</td>\n",
       "      <td>0</td>\n",
       "      <td>0</td>\n",
       "      <td>Intel Core i7</td>\n",
       "      <td>2.8</td>\n",
       "      <td>128</td>\n",
       "      <td>128</td>\n",
       "      <td>Nvidia</td>\n",
       "      <td>Windows</td>\n",
       "    </tr>\n",
       "    <tr>\n",
       "      <th>1049</th>\n",
       "      <td>Asus</td>\n",
       "      <td>Netbook</td>\n",
       "      <td>1</td>\n",
       "      <td>1.20</td>\n",
       "      <td>1366x768</td>\n",
       "      <td>135.094211</td>\n",
       "      <td>0</td>\n",
       "      <td>0</td>\n",
       "      <td>Other Intel Processor</td>\n",
       "      <td>1.6</td>\n",
       "      <td>0</td>\n",
       "      <td>0</td>\n",
       "      <td>Intel</td>\n",
       "      <td>Others/No OS/Linux</td>\n",
       "    </tr>\n",
       "    <tr>\n",
       "      <th>1020</th>\n",
       "      <td>Dell</td>\n",
       "      <td>2 in 1 Convertible</td>\n",
       "      <td>1</td>\n",
       "      <td>2.08</td>\n",
       "      <td>1920x1080</td>\n",
       "      <td>141.211998</td>\n",
       "      <td>1</td>\n",
       "      <td>1</td>\n",
       "      <td>Intel Core i3</td>\n",
       "      <td>2.3</td>\n",
       "      <td>0</td>\n",
       "      <td>0</td>\n",
       "      <td>Intel</td>\n",
       "      <td>Windows</td>\n",
       "    </tr>\n",
       "    <tr>\n",
       "      <th>878</th>\n",
       "      <td>Dell</td>\n",
       "      <td>Notebook</td>\n",
       "      <td>1</td>\n",
       "      <td>2.18</td>\n",
       "      <td>1920x1080</td>\n",
       "      <td>141.211998</td>\n",
       "      <td>0</td>\n",
       "      <td>0</td>\n",
       "      <td>Intel Core i5</td>\n",
       "      <td>2.5</td>\n",
       "      <td>128</td>\n",
       "      <td>128</td>\n",
       "      <td>Nvidia</td>\n",
       "      <td>Windows</td>\n",
       "    </tr>\n",
       "  </tbody>\n",
       "</table>\n",
       "</div>"
      ],
      "text/plain": [
       "      Company            TypeName  Ram  Weight Resolution         PPI  \\\n",
       "183   Toshiba            Notebook    3    2.00   1366x768  100.454670   \n",
       "1141      MSI              Gaming    3    2.40  1920x1080  141.211998   \n",
       "1049     Asus             Netbook    1    1.20   1366x768  135.094211   \n",
       "1020     Dell  2 in 1 Convertible    1    2.08  1920x1080  141.211998   \n",
       "878      Dell            Notebook    1    2.18  1920x1080  141.211998   \n",
       "\n",
       "      TouchScreen  IPS              CPU Brand  CPU GHz  SSD  HDD Gpu brand  \\\n",
       "183             0    0          Intel Core i5      2.5  128  128     Intel   \n",
       "1141            0    0          Intel Core i7      2.8  128  128    Nvidia   \n",
       "1049            0    0  Other Intel Processor      1.6    0    0     Intel   \n",
       "1020            1    1          Intel Core i3      2.3    0    0     Intel   \n",
       "878             0    0          Intel Core i5      2.5  128  128    Nvidia   \n",
       "\n",
       "                      os  \n",
       "183              Windows  \n",
       "1141             Windows  \n",
       "1049  Others/No OS/Linux  \n",
       "1020             Windows  \n",
       "878              Windows  "
      ]
     },
     "execution_count": 91,
     "metadata": {},
     "output_type": "execute_result"
    }
   ],
   "source": [
    "X_train.head()"
   ]
  },
  {
   "cell_type": "code",
   "execution_count": null,
   "id": "fd07ca80",
   "metadata": {},
   "outputs": [],
   "source": [
    "from sklearn.preprocessing import OneHotEncoder\n"
   ]
  },
  {
   "cell_type": "code",
   "execution_count": 88,
   "id": "797e620e",
   "metadata": {},
   "outputs": [
    {
     "data": {
      "text/plain": [
       "<Axes: xlabel='Price', ylabel='Density'>"
      ]
     },
     "execution_count": 88,
     "metadata": {},
     "output_type": "execute_result"
    },
    {
     "data": {
      "image/png": "[encoded data removed]",
      "text/plain": [
       "<Figure size 640x480 with 1 Axes>"
      ]
     },
     "metadata": {},
     "output_type": "display_data"
    }
   ],
   "source": [
    "sns.distplot(data[\"Price\"], color='purple')"
   ]
  },
  {
   "cell_type": "code",
   "execution_count": null,
   "id": "b73d7fc5",
   "metadata": {},
   "outputs": [],
   "source": []
  },
  {
   "cell_type": "code",
   "execution_count": null,
   "id": "443f3b34",
   "metadata": {},
   "outputs": [],
   "source": []
  },
  {
   "cell_type": "code",
   "execution_count": null,
   "id": "3b74afc9",
   "metadata": {},
   "outputs": [],
   "source": []
  },
  {
   "cell_type": "code",
   "execution_count": null,
   "id": "3162e270",
   "metadata": {},
   "outputs": [],
   "source": []
  },
  {
   "cell_type": "code",
   "execution_count": null,
   "id": "8265e0df",
   "metadata": {},
   "outputs": [],
   "source": []
  },
  {
   "cell_type": "code",
   "execution_count": null,
   "id": "b454f3c3",
   "metadata": {},
   "outputs": [],
   "source": []
  }
 ],
 "metadata": {
  "kernelspec": {
   "display_name": "Python 3 (ipykernel)",
   "language": "python",
   "name": "python3"
  },
  "language_info": {
   "codemirror_mode": {
    "name": "ipython",
    "version": 3
   },
   "file_extension": ".py",
   "mimetype": "text/x-python",
   "name": "python",
   "nbconvert_exporter": "python",
   "pygments_lexer": "ipython3",
   "version": "3.11.4"
  }
 },
 "nbformat": 4,
 "nbformat_minor": 5
}
