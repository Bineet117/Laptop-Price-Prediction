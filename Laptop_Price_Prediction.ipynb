{
 "cells": [
  {
   "cell_type": "markdown",
   "id": "bec8aa05",
   "metadata": {},
   "source": [
    "<table align=\"center\" width=110%>\n",
    "    <tr>\n",
    "        <td>\n",
    "            <div align=\"center\">\n",
    "                <font color=\"#21618C\" size=6px>\n",
    "                    <b>\n",
    "                        LAPTOP PRICE PREDICTION\n",
    "        <br>\n",
    "                    </b>\n",
    "                </font>\n",
    "            </div>\n",
    "        </td>\n",
    "    </tr>\n",
    "</table>"
   ]
  },
  {
   "cell_type": "markdown",
   "id": "8bb18277",
   "metadata": {},
   "source": [
    "# Abstract\n",
    "In today's dynamic market, accurately predicting laptop prices is crucial for both consumers and sellers. This study aims to develop a data-driven approach utilizing machine learning algorithms to forecast laptop prices effectively. By analyzing various attributes such as brand, specifications, market trends, and technological advancements, the proposed model seeks to provide reliable price predictions. The objective is to empower stakeholders with actionable insights for decision-making, including purchasing, pricing strategies, inventory management, and product development."
   ]
  },
  {
   "cell_type": "markdown",
   "id": "2c34c4aa",
   "metadata": {},
   "source": [
    "# Problem Statement\n",
    "The laptop market is characterized by a multitude of factors influencing prices, including brand reputation, hardware specifications, market demand, and technological advancements. However, accurately forecasting laptop prices remains challenging due to the complexity and variability of these factors. Traditional pricing methods often lack precision and fail to adapt to evolving market dynamics. Therefore, there is a critical need for a data-driven approach leveraging machine learning algorithms to develop a robust predictive model capable of generating accurate price forecasts for laptops."
   ]
  },
  {
   "cell_type": "markdown",
   "id": "8d2458d3",
   "metadata": {},
   "source": [
    "# Dataset Description\n",
    "\n",
    "1. Company : Name of the Company\n",
    "\n",
    "2. TypeName : Type of laptop('Notebook', 'Gaming', 'Ultrabook', '2 in 1 Convertible', 'Workstation',\n",
    "       'Netbook')\n",
    "\n",
    "3. Inches : Size of the laptop(floating value)\n",
    "\n",
    "4. ScreenResolution : The resolution of the laptop screen.\n",
    "\n",
    "5. Cpu : The processor (CPU) specifications of the laptop.\n",
    "\n",
    "6. Ram : The amount of RAM (random-access memory) in the laptop.\n",
    "\n",
    "7. Memory : The storage capacity or type of memory (e.g., SSD, HDD) in the laptop.\n",
    "\n",
    "8. Gpu : The graphics processor (GPU) specifications of the laptop.\n",
    "\n",
    "9. OpSys : The operating system installed on the laptop.\n",
    "\n",
    "10. Weight : The weight of the laptop, usually in kilograms or pounds.\n",
    "\n",
    "11. Price : The price of the laptop, which is the target variable for prediction."
   ]
  },
  {
   "cell_type": "markdown",
   "id": "afa38dcf",
   "metadata": {},
   "source": [
    "# Libraries"
   ]
  },
  {
   "cell_type": "code",
   "execution_count": 1,
   "id": "c1678876",
   "metadata": {},
   "outputs": [],
   "source": [
    "# import 'Pandas' \n",
    "import pandas as pd \n",
    "\n",
    "# import 'Numpy' \n",
    "import numpy as np\n",
    "\n",
    "# import 'math'\n",
    "import math\n",
    "\n",
    "# import subpackage of 'Matplotlib'\n",
    "import matplotlib.pyplot as plt\n",
    "%matplotlib inline\n",
    "from matplotlib.colors import ListedColormap\n",
    "\n",
    "# import 'Seaborn' \n",
    "import seaborn as sns\n",
    "\n",
    "# to suppress warnings \n",
    "from warnings import filterwarnings\n",
    "filterwarnings('ignore')\n",
    "\n",
    "# display all columns of the dataframe\n",
    "pd.options.display.max_columns = None\n",
    "\n",
    "# # display all rows of the dataframe\n",
    "# pd.options.display.max_rows = None"
   ]
  },
  {
   "cell_type": "markdown",
   "id": "dd166b39",
   "metadata": {},
   "source": [
    "# Load Dataset"
   ]
  },
  {
   "cell_type": "code",
   "execution_count": 2,
   "id": "130a8d57",
   "metadata": {},
   "outputs": [],
   "source": [
    "data = pd.read_csv(\"laptop_data.csv\")"
   ]
  },
  {
   "cell_type": "code",
   "execution_count": 3,
   "id": "4a1203fe",
   "metadata": {},
   "outputs": [
    {
     "data": {
      "text/html": [
       "<div>\n",
       "<style scoped>\n",
       "    .dataframe tbody tr th:only-of-type {\n",
       "        vertical-align: middle;\n",
       "    }\n",
       "\n",
       "    .dataframe tbody tr th {\n",
       "        vertical-align: top;\n",
       "    }\n",
       "\n",
       "    .dataframe thead th {\n",
       "        text-align: right;\n",
       "    }\n",
       "</style>\n",
       "<table border=\"1\" class=\"dataframe\">\n",
       "  <thead>\n",
       "    <tr style=\"text-align: right;\">\n",
       "      <th></th>\n",
       "      <th>Unnamed: 0</th>\n",
       "      <th>Company</th>\n",
       "      <th>TypeName</th>\n",
       "      <th>Inches</th>\n",
       "      <th>ScreenResolution</th>\n",
       "      <th>Cpu</th>\n",
       "      <th>Ram</th>\n",
       "      <th>Memory</th>\n",
       "      <th>Gpu</th>\n",
       "      <th>OpSys</th>\n",
       "      <th>Weight</th>\n",
       "      <th>Price</th>\n",
       "    </tr>\n",
       "  </thead>\n",
       "  <tbody>\n",
       "    <tr>\n",
       "      <th>0</th>\n",
       "      <td>0</td>\n",
       "      <td>Apple</td>\n",
       "      <td>Ultrabook</td>\n",
       "      <td>13.3</td>\n",
       "      <td>IPS Panel Retina Display 2560x1600</td>\n",
       "      <td>Intel Core i5 2.3GHz</td>\n",
       "      <td>8GB</td>\n",
       "      <td>128GB SSD</td>\n",
       "      <td>Intel Iris Plus Graphics 640</td>\n",
       "      <td>macOS</td>\n",
       "      <td>1.37kg</td>\n",
       "      <td>71378.6832</td>\n",
       "    </tr>\n",
       "    <tr>\n",
       "      <th>1</th>\n",
       "      <td>1</td>\n",
       "      <td>Apple</td>\n",
       "      <td>Ultrabook</td>\n",
       "      <td>13.3</td>\n",
       "      <td>1440x900</td>\n",
       "      <td>Intel Core i5 1.8GHz</td>\n",
       "      <td>8GB</td>\n",
       "      <td>128GB Flash Storage</td>\n",
       "      <td>Intel HD Graphics 6000</td>\n",
       "      <td>macOS</td>\n",
       "      <td>1.34kg</td>\n",
       "      <td>47895.5232</td>\n",
       "    </tr>\n",
       "    <tr>\n",
       "      <th>2</th>\n",
       "      <td>2</td>\n",
       "      <td>HP</td>\n",
       "      <td>Notebook</td>\n",
       "      <td>15.6</td>\n",
       "      <td>Full HD 1920x1080</td>\n",
       "      <td>Intel Core i5 7200U 2.5GHz</td>\n",
       "      <td>8GB</td>\n",
       "      <td>256GB SSD</td>\n",
       "      <td>Intel HD Graphics 620</td>\n",
       "      <td>No OS</td>\n",
       "      <td>1.86kg</td>\n",
       "      <td>30636.0000</td>\n",
       "    </tr>\n",
       "    <tr>\n",
       "      <th>3</th>\n",
       "      <td>3</td>\n",
       "      <td>Apple</td>\n",
       "      <td>Ultrabook</td>\n",
       "      <td>15.4</td>\n",
       "      <td>IPS Panel Retina Display 2880x1800</td>\n",
       "      <td>Intel Core i7 2.7GHz</td>\n",
       "      <td>16GB</td>\n",
       "      <td>512GB SSD</td>\n",
       "      <td>AMD Radeon Pro 455</td>\n",
       "      <td>macOS</td>\n",
       "      <td>1.83kg</td>\n",
       "      <td>135195.3360</td>\n",
       "    </tr>\n",
       "    <tr>\n",
       "      <th>4</th>\n",
       "      <td>4</td>\n",
       "      <td>Apple</td>\n",
       "      <td>Ultrabook</td>\n",
       "      <td>13.3</td>\n",
       "      <td>IPS Panel Retina Display 2560x1600</td>\n",
       "      <td>Intel Core i5 3.1GHz</td>\n",
       "      <td>8GB</td>\n",
       "      <td>256GB SSD</td>\n",
       "      <td>Intel Iris Plus Graphics 650</td>\n",
       "      <td>macOS</td>\n",
       "      <td>1.37kg</td>\n",
       "      <td>96095.8080</td>\n",
       "    </tr>\n",
       "  </tbody>\n",
       "</table>\n",
       "</div>"
      ],
      "text/plain": [
       "   Unnamed: 0 Company   TypeName  Inches                    ScreenResolution  \\\n",
       "0           0   Apple  Ultrabook    13.3  IPS Panel Retina Display 2560x1600   \n",
       "1           1   Apple  Ultrabook    13.3                            1440x900   \n",
       "2           2      HP   Notebook    15.6                   Full HD 1920x1080   \n",
       "3           3   Apple  Ultrabook    15.4  IPS Panel Retina Display 2880x1800   \n",
       "4           4   Apple  Ultrabook    13.3  IPS Panel Retina Display 2560x1600   \n",
       "\n",
       "                          Cpu   Ram               Memory  \\\n",
       "0        Intel Core i5 2.3GHz   8GB            128GB SSD   \n",
       "1        Intel Core i5 1.8GHz   8GB  128GB Flash Storage   \n",
       "2  Intel Core i5 7200U 2.5GHz   8GB            256GB SSD   \n",
       "3        Intel Core i7 2.7GHz  16GB            512GB SSD   \n",
       "4        Intel Core i5 3.1GHz   8GB            256GB SSD   \n",
       "\n",
       "                            Gpu  OpSys  Weight        Price  \n",
       "0  Intel Iris Plus Graphics 640  macOS  1.37kg   71378.6832  \n",
       "1        Intel HD Graphics 6000  macOS  1.34kg   47895.5232  \n",
       "2         Intel HD Graphics 620  No OS  1.86kg   30636.0000  \n",
       "3            AMD Radeon Pro 455  macOS  1.83kg  135195.3360  \n",
       "4  Intel Iris Plus Graphics 650  macOS  1.37kg   96095.8080  "
      ]
     },
     "execution_count": 3,
     "metadata": {},
     "output_type": "execute_result"
    }
   ],
   "source": [
    "data.head()"
   ]
  },
  {
   "cell_type": "markdown",
   "id": "5e0397eb",
   "metadata": {},
   "source": [
    "# Data Preprocessing"
   ]
  },
  {
   "cell_type": "markdown",
   "id": "a47e8307",
   "metadata": {},
   "source": [
    "## Check the Dataset and Null Values"
   ]
  },
  {
   "cell_type": "code",
   "execution_count": 4,
   "id": "b6800f1a",
   "metadata": {},
   "outputs": [
    {
     "name": "stdout",
     "output_type": "stream",
     "text": [
      "<class 'pandas.core.frame.DataFrame'>\n",
      "RangeIndex: 1303 entries, 0 to 1302\n",
      "Data columns (total 12 columns):\n",
      " #   Column            Non-Null Count  Dtype  \n",
      "---  ------            --------------  -----  \n",
      " 0   Unnamed: 0        1303 non-null   int64  \n",
      " 1   Company           1303 non-null   object \n",
      " 2   TypeName          1303 non-null   object \n",
      " 3   Inches            1303 non-null   float64\n",
      " 4   ScreenResolution  1303 non-null   object \n",
      " 5   Cpu               1303 non-null   object \n",
      " 6   Ram               1303 non-null   object \n",
      " 7   Memory            1303 non-null   object \n",
      " 8   Gpu               1303 non-null   object \n",
      " 9   OpSys             1303 non-null   object \n",
      " 10  Weight            1303 non-null   object \n",
      " 11  Price             1303 non-null   float64\n",
      "dtypes: float64(2), int64(1), object(9)\n",
      "memory usage: 122.3+ KB\n"
     ]
    }
   ],
   "source": [
    "data.info()"
   ]
  },
  {
   "cell_type": "markdown",
   "id": "3153f4c4",
   "metadata": {},
   "source": [
    "#### Shape of the Dataset"
   ]
  },
  {
   "cell_type": "code",
   "execution_count": 5,
   "id": "6742ae69",
   "metadata": {},
   "outputs": [
    {
     "data": {
      "text/plain": [
       "(1303, 12)"
      ]
     },
     "execution_count": 5,
     "metadata": {},
     "output_type": "execute_result"
    }
   ],
   "source": [
    "data.shape"
   ]
  },
  {
   "cell_type": "markdown",
   "id": "ba0a3458",
   "metadata": {},
   "source": [
    "#### Checking Null values"
   ]
  },
  {
   "cell_type": "code",
   "execution_count": 6,
   "id": "3f0ccaae",
   "metadata": {},
   "outputs": [
    {
     "name": "stdout",
     "output_type": "stream",
     "text": [
      "Unnamed: 0          0\n",
      "Company             0\n",
      "TypeName            0\n",
      "Inches              0\n",
      "ScreenResolution    0\n",
      "Cpu                 0\n",
      "Ram                 0\n",
      "Memory              0\n",
      "Gpu                 0\n",
      "OpSys               0\n",
      "Weight              0\n",
      "Price               0\n",
      "dtype: int64\n",
      "--------------------------------------------------\n"
     ]
    }
   ],
   "source": [
    "print(data.isnull().sum())\n",
    "print(\"-\"*50)"
   ]
  },
  {
   "cell_type": "markdown",
   "id": "514e1820",
   "metadata": {},
   "source": [
    "**Observation:-** \\\n",
    "There is no null values in the dataset"
   ]
  },
  {
   "cell_type": "markdown",
   "id": "72f3db84",
   "metadata": {},
   "source": [
    "#### Checking duplicate values "
   ]
  },
  {
   "cell_type": "code",
   "execution_count": 7,
   "id": "da86c826",
   "metadata": {},
   "outputs": [
    {
     "name": "stdout",
     "output_type": "stream",
     "text": [
      "0\n",
      "--------------------------------------------------\n"
     ]
    }
   ],
   "source": [
    "print(data.duplicated().sum())\n",
    "print(\"-\"*50)"
   ]
  },
  {
   "cell_type": "markdown",
   "id": "8debf1c8",
   "metadata": {},
   "source": [
    "**Observation:-** \\\n",
    "There is no duplicate values in the dataset"
   ]
  },
  {
   "cell_type": "markdown",
   "id": "1b559c26",
   "metadata": {},
   "source": [
    "#### Unique Values "
   ]
  },
  {
   "cell_type": "code",
   "execution_count": 8,
   "id": "a7115c5d",
   "metadata": {},
   "outputs": [
    {
     "data": {
      "text/plain": [
       "Unnamed: 0          1303\n",
       "Company               19\n",
       "TypeName               6\n",
       "Inches                18\n",
       "ScreenResolution      40\n",
       "Cpu                  118\n",
       "Ram                    9\n",
       "Memory                39\n",
       "Gpu                  110\n",
       "OpSys                  9\n",
       "Weight               179\n",
       "Price                791\n",
       "dtype: int64"
      ]
     },
     "execution_count": 8,
     "metadata": {},
     "output_type": "execute_result"
    }
   ],
   "source": [
    "data.nunique()"
   ]
  },
  {
   "cell_type": "markdown",
   "id": "2eea9f4b",
   "metadata": {},
   "source": [
    "`Unnamed` is unnecessary column which we gonna drop  "
   ]
  },
  {
   "cell_type": "markdown",
   "id": "17e4bf12",
   "metadata": {},
   "source": [
    "**Dropping `Unnamed` column**"
   ]
  },
  {
   "cell_type": "code",
   "execution_count": 9,
   "id": "7c2dc7d5",
   "metadata": {},
   "outputs": [],
   "source": [
    "data.drop(\"Unnamed: 0\" , axis = 1, inplace = True)"
   ]
  },
  {
   "cell_type": "markdown",
   "id": "1546d885",
   "metadata": {},
   "source": [
    "**Checking Number of unique values and value_counts**"
   ]
  },
  {
   "cell_type": "code",
   "execution_count": 10,
   "id": "fae30aab",
   "metadata": {
    "scrolled": true
   },
   "outputs": [
    {
     "name": "stdout",
     "output_type": "stream",
     "text": [
      "Number of unique Values in Company are - 19 \n",
      "\n",
      "Counts of each value in Company -\n",
      " Company\n",
      "Dell         297\n",
      "Lenovo       297\n",
      "HP           274\n",
      "Asus         158\n",
      "Acer         103\n",
      "MSI           54\n",
      "Toshiba       48\n",
      "Apple         21\n",
      "Samsung        9\n",
      "Mediacom       7\n",
      "Razer          7\n",
      "Microsoft      6\n",
      "Vero           4\n",
      "Xiaomi         4\n",
      "Chuwi          3\n",
      "Fujitsu        3\n",
      "Google         3\n",
      "LG             3\n",
      "Huawei         2\n",
      "Name: count, dtype: int64 \n",
      "\n",
      " -------------------------------------------------- \n",
      " -------------------------------------------------- \n",
      "\n",
      "\n",
      "Number of unique Values in TypeName are - 6 \n",
      "\n",
      "Counts of each value in TypeName -\n",
      " TypeName\n",
      "Notebook              727\n",
      "Gaming                205\n",
      "Ultrabook             196\n",
      "2 in 1 Convertible    121\n",
      "Workstation            29\n",
      "Netbook                25\n",
      "Name: count, dtype: int64 \n",
      "\n",
      " -------------------------------------------------- \n",
      " -------------------------------------------------- \n",
      "\n",
      "\n",
      "Number of unique Values in Inches are - 18 \n",
      "\n",
      "Counts of each value in Inches -\n",
      " Inches\n",
      "15.6    665\n",
      "14.0    197\n",
      "13.3    164\n",
      "17.3    164\n",
      "12.5     39\n",
      "11.6     33\n",
      "13.5      6\n",
      "12.0      6\n",
      "13.9      6\n",
      "12.3      5\n",
      "10.1      4\n",
      "15.4      4\n",
      "15.0      4\n",
      "13.0      2\n",
      "18.4      1\n",
      "17.0      1\n",
      "14.1      1\n",
      "11.3      1\n",
      "Name: count, dtype: int64 \n",
      "\n",
      " -------------------------------------------------- \n",
      " -------------------------------------------------- \n",
      "\n",
      "\n",
      "Number of unique Values in ScreenResolution are - 40 \n",
      "\n",
      "Counts of each value in ScreenResolution -\n",
      " ScreenResolution\n",
      "Full HD 1920x1080                                507\n",
      "1366x768                                         281\n",
      "IPS Panel Full HD 1920x1080                      230\n",
      "IPS Panel Full HD / Touchscreen 1920x1080         53\n",
      "Full HD / Touchscreen 1920x1080                   47\n",
      "1600x900                                          23\n",
      "Touchscreen 1366x768                              16\n",
      "Quad HD+ / Touchscreen 3200x1800                  15\n",
      "IPS Panel 4K Ultra HD 3840x2160                   12\n",
      "IPS Panel 4K Ultra HD / Touchscreen 3840x2160     11\n",
      "4K Ultra HD / Touchscreen 3840x2160               10\n",
      "IPS Panel 1366x768                                 7\n",
      "Touchscreen 2560x1440                              7\n",
      "4K Ultra HD 3840x2160                              7\n",
      "IPS Panel Retina Display 2304x1440                 6\n",
      "IPS Panel Retina Display 2560x1600                 6\n",
      "Touchscreen 2256x1504                              6\n",
      "IPS Panel Quad HD+ / Touchscreen 3200x1800         6\n",
      "IPS Panel Touchscreen 2560x1440                    5\n",
      "IPS Panel Retina Display 2880x1800                 4\n",
      "1440x900                                           4\n",
      "IPS Panel Touchscreen 1920x1200                    4\n",
      "IPS Panel 2560x1440                                4\n",
      "IPS Panel Quad HD+ 2560x1440                       3\n",
      "IPS Panel Touchscreen 1366x768                     3\n",
      "Quad HD+ 3200x1800                                 3\n",
      "1920x1080                                          3\n",
      "2560x1440                                          3\n",
      "Touchscreen 2400x1600                              3\n",
      "IPS Panel Quad HD+ 3200x1800                       2\n",
      "IPS Panel Full HD 2160x1440                        2\n",
      "IPS Panel Touchscreen / 4K Ultra HD 3840x2160      2\n",
      "IPS Panel Full HD 1366x768                         1\n",
      "Touchscreen / Quad HD+ 3200x1800                   1\n",
      "IPS Panel Retina Display 2736x1824                 1\n",
      "IPS Panel Full HD 2560x1440                        1\n",
      "IPS Panel Full HD 1920x1200                        1\n",
      "Touchscreen / Full HD 1920x1080                    1\n",
      "Touchscreen / 4K Ultra HD 3840x2160                1\n",
      "IPS Panel Touchscreen 2400x1600                    1\n",
      "Name: count, dtype: int64 \n",
      "\n",
      " -------------------------------------------------- \n",
      " -------------------------------------------------- \n",
      "\n",
      "\n",
      "Number of unique Values in Cpu are - 118 \n",
      "\n",
      "Counts of each value in Cpu -\n",
      " Cpu\n",
      "Intel Core i5 7200U 2.5GHz       190\n",
      "Intel Core i7 7700HQ 2.8GHz      146\n",
      "Intel Core i7 7500U 2.7GHz       134\n",
      "Intel Core i7 8550U 1.8GHz        73\n",
      "Intel Core i5 8250U 1.6GHz        72\n",
      "                                ... \n",
      "Intel Core i5 7200U 2.70GHz        1\n",
      "Intel Core M M7-6Y75 1.2GHz        1\n",
      "Intel Core M 6Y54 1.1GHz           1\n",
      "AMD E-Series 9000 2.2GHz           1\n",
      "Samsung Cortex A72&A53 2.0GHz      1\n",
      "Name: count, Length: 118, dtype: int64 \n",
      "\n",
      " -------------------------------------------------- \n",
      " -------------------------------------------------- \n",
      "\n",
      "\n",
      "Number of unique Values in Ram are - 9 \n",
      "\n",
      "Counts of each value in Ram -\n",
      " Ram\n",
      "8GB     619\n",
      "4GB     375\n",
      "16GB    200\n",
      "6GB      41\n",
      "12GB     25\n",
      "2GB      22\n",
      "32GB     17\n",
      "24GB      3\n",
      "64GB      1\n",
      "Name: count, dtype: int64 \n",
      "\n",
      " -------------------------------------------------- \n",
      " -------------------------------------------------- \n",
      "\n",
      "\n",
      "Number of unique Values in Memory are - 39 \n",
      "\n",
      "Counts of each value in Memory -\n",
      " Memory\n",
      "256GB SSD                        412\n",
      "1TB HDD                          223\n",
      "500GB HDD                        132\n",
      "512GB SSD                        118\n",
      "128GB SSD +  1TB HDD              94\n",
      "128GB SSD                         76\n",
      "256GB SSD +  1TB HDD              73\n",
      "32GB Flash Storage                38\n",
      "2TB HDD                           16\n",
      "64GB Flash Storage                15\n",
      "1TB SSD                           14\n",
      "512GB SSD +  1TB HDD              14\n",
      "256GB SSD +  2TB HDD              10\n",
      "1.0TB Hybrid                       9\n",
      "256GB Flash Storage                8\n",
      "16GB Flash Storage                 7\n",
      "32GB SSD                           6\n",
      "180GB SSD                          5\n",
      "128GB Flash Storage                4\n",
      "16GB SSD                           3\n",
      "512GB SSD +  2TB HDD               3\n",
      "128GB SSD +  2TB HDD               2\n",
      "256GB SSD +  256GB SSD             2\n",
      "512GB Flash Storage                2\n",
      "1TB SSD +  1TB HDD                 2\n",
      "256GB SSD +  500GB HDD             2\n",
      "64GB SSD                           1\n",
      "512GB SSD +  512GB SSD             1\n",
      "64GB Flash Storage +  1TB HDD      1\n",
      "1TB HDD +  1TB HDD                 1\n",
      "512GB SSD +  256GB SSD             1\n",
      "32GB HDD                           1\n",
      "128GB HDD                          1\n",
      "240GB SSD                          1\n",
      "8GB SSD                            1\n",
      "508GB Hybrid                       1\n",
      "1.0TB HDD                          1\n",
      "512GB SSD +  1.0TB Hybrid          1\n",
      "256GB SSD +  1.0TB Hybrid          1\n",
      "Name: count, dtype: int64 \n",
      "\n",
      " -------------------------------------------------- \n",
      " -------------------------------------------------- \n",
      "\n",
      "\n",
      "Number of unique Values in Gpu are - 110 \n",
      "\n",
      "Counts of each value in Gpu -\n",
      " Gpu\n",
      "Intel HD Graphics 620      281\n",
      "Intel HD Graphics 520      185\n",
      "Intel UHD Graphics 620      68\n",
      "Nvidia GeForce GTX 1050     66\n",
      "Nvidia GeForce GTX 1060     48\n",
      "                          ... \n",
      "Nvidia Quadro M500M          1\n",
      "AMD Radeon R7 M360           1\n",
      "Nvidia Quadro M3000M         1\n",
      "Nvidia GeForce 960M          1\n",
      "ARM Mali T860 MP4            1\n",
      "Name: count, Length: 110, dtype: int64 \n",
      "\n",
      " -------------------------------------------------- \n",
      " -------------------------------------------------- \n",
      "\n",
      "\n",
      "Number of unique Values in OpSys are - 9 \n",
      "\n",
      "Counts of each value in OpSys -\n",
      " OpSys\n",
      "Windows 10      1072\n",
      "No OS             66\n",
      "Linux             62\n",
      "Windows 7         45\n",
      "Chrome OS         27\n",
      "macOS             13\n",
      "Mac OS X           8\n",
      "Windows 10 S       8\n",
      "Android            2\n",
      "Name: count, dtype: int64 \n",
      "\n",
      " -------------------------------------------------- \n",
      " -------------------------------------------------- \n",
      "\n",
      "\n",
      "Number of unique Values in Weight are - 179 \n",
      "\n",
      "Counts of each value in Weight -\n",
      " Weight\n",
      "2.2kg      121\n",
      "2.1kg       58\n",
      "2.4kg       44\n",
      "2.3kg       41\n",
      "2.5kg       38\n",
      "          ... \n",
      "3.52kg       1\n",
      "2.21kg       1\n",
      "2.191kg      1\n",
      "2.34kg       1\n",
      "4.0kg        1\n",
      "Name: count, Length: 179, dtype: int64 \n",
      "\n",
      " -------------------------------------------------- \n",
      " -------------------------------------------------- \n",
      "\n",
      "\n",
      "Number of unique Values in Price are - 791 \n",
      "\n",
      "Counts of each value in Price -\n",
      " Price\n",
      "58554.7200    14\n",
      "95850.7200    14\n",
      "79866.7200    14\n",
      "26586.7200    11\n",
      "47898.7200    11\n",
      "              ..\n",
      "47099.5200     1\n",
      "30476.1600     1\n",
      "52640.6400     1\n",
      "13445.7408     1\n",
      "20986.9920     1\n",
      "Name: count, Length: 791, dtype: int64 \n",
      "\n",
      " -------------------------------------------------- \n",
      " -------------------------------------------------- \n",
      "\n",
      "\n"
     ]
    }
   ],
   "source": [
    "for i in data.columns:\n",
    "    print('Number of unique Values in',i,'are -',data[i].nunique(),'\\n')\n",
    "    print('Counts of each value in',i,'-\\n' , data[i].value_counts() , '\\n\\n','-'*50,'\\n','-'*50,'\\n\\n' )"
   ]
  },
  {
   "cell_type": "markdown",
   "id": "6172e022",
   "metadata": {},
   "source": [
    "**Removing `GB` from Ram column** \\\n",
    "**Removing `kg` from Weight column** "
   ]
  },
  {
   "cell_type": "code",
   "execution_count": 11,
   "id": "f6dc4c5d",
   "metadata": {},
   "outputs": [],
   "source": [
    "data[\"Ram\"] = data[\"Ram\"].str.replace(\"GB\",\"\")\n",
    "data[\"Weight\"] = data[\"Weight\"].str.replace(\"kg\",\"\")"
   ]
  },
  {
   "cell_type": "code",
   "execution_count": 12,
   "id": "b69bd01d",
   "metadata": {},
   "outputs": [
    {
     "data": {
      "text/html": [
       "<div>\n",
       "<style scoped>\n",
       "    .dataframe tbody tr th:only-of-type {\n",
       "        vertical-align: middle;\n",
       "    }\n",
       "\n",
       "    .dataframe tbody tr th {\n",
       "        vertical-align: top;\n",
       "    }\n",
       "\n",
       "    .dataframe thead th {\n",
       "        text-align: right;\n",
       "    }\n",
       "</style>\n",
       "<table border=\"1\" class=\"dataframe\">\n",
       "  <thead>\n",
       "    <tr style=\"text-align: right;\">\n",
       "      <th></th>\n",
       "      <th>Company</th>\n",
       "      <th>TypeName</th>\n",
       "      <th>Inches</th>\n",
       "      <th>ScreenResolution</th>\n",
       "      <th>Cpu</th>\n",
       "      <th>Ram</th>\n",
       "      <th>Memory</th>\n",
       "      <th>Gpu</th>\n",
       "      <th>OpSys</th>\n",
       "      <th>Weight</th>\n",
       "      <th>Price</th>\n",
       "    </tr>\n",
       "  </thead>\n",
       "  <tbody>\n",
       "    <tr>\n",
       "      <th>0</th>\n",
       "      <td>Apple</td>\n",
       "      <td>Ultrabook</td>\n",
       "      <td>13.3</td>\n",
       "      <td>IPS Panel Retina Display 2560x1600</td>\n",
       "      <td>Intel Core i5 2.3GHz</td>\n",
       "      <td>8</td>\n",
       "      <td>128GB SSD</td>\n",
       "      <td>Intel Iris Plus Graphics 640</td>\n",
       "      <td>macOS</td>\n",
       "      <td>1.37</td>\n",
       "      <td>71378.6832</td>\n",
       "    </tr>\n",
       "    <tr>\n",
       "      <th>1</th>\n",
       "      <td>Apple</td>\n",
       "      <td>Ultrabook</td>\n",
       "      <td>13.3</td>\n",
       "      <td>1440x900</td>\n",
       "      <td>Intel Core i5 1.8GHz</td>\n",
       "      <td>8</td>\n",
       "      <td>128GB Flash Storage</td>\n",
       "      <td>Intel HD Graphics 6000</td>\n",
       "      <td>macOS</td>\n",
       "      <td>1.34</td>\n",
       "      <td>47895.5232</td>\n",
       "    </tr>\n",
       "  </tbody>\n",
       "</table>\n",
       "</div>"
      ],
      "text/plain": [
       "  Company   TypeName  Inches                    ScreenResolution  \\\n",
       "0   Apple  Ultrabook    13.3  IPS Panel Retina Display 2560x1600   \n",
       "1   Apple  Ultrabook    13.3                            1440x900   \n",
       "\n",
       "                    Cpu Ram               Memory  \\\n",
       "0  Intel Core i5 2.3GHz   8            128GB SSD   \n",
       "1  Intel Core i5 1.8GHz   8  128GB Flash Storage   \n",
       "\n",
       "                            Gpu  OpSys Weight       Price  \n",
       "0  Intel Iris Plus Graphics 640  macOS   1.37  71378.6832  \n",
       "1        Intel HD Graphics 6000  macOS   1.34  47895.5232  "
      ]
     },
     "execution_count": 12,
     "metadata": {},
     "output_type": "execute_result"
    }
   ],
   "source": [
    "data.head(2)"
   ]
  },
  {
   "cell_type": "markdown",
   "id": "9dfac87f",
   "metadata": {},
   "source": [
    "**Changing Datatype of `Ram` & `Weight` column**"
   ]
  },
  {
   "cell_type": "code",
   "execution_count": 13,
   "id": "72bcd52d",
   "metadata": {},
   "outputs": [],
   "source": [
    "data[\"Ram\"] = data[\"Ram\"].astype(\"int32\")\n",
    "data[\"Weight\"] = data[\"Weight\"].astype(\"float64\")"
   ]
  },
  {
   "cell_type": "code",
   "execution_count": 14,
   "id": "d83c2068",
   "metadata": {},
   "outputs": [
    {
     "data": {
      "text/plain": [
       "Company              object\n",
       "TypeName             object\n",
       "Inches              float64\n",
       "ScreenResolution     object\n",
       "Cpu                  object\n",
       "Ram                   int32\n",
       "Memory               object\n",
       "Gpu                  object\n",
       "OpSys                object\n",
       "Weight              float64\n",
       "Price               float64\n",
       "dtype: object"
      ]
     },
     "execution_count": 14,
     "metadata": {},
     "output_type": "execute_result"
    }
   ],
   "source": [
    "data.dtypes"
   ]
  },
  {
   "cell_type": "markdown",
   "id": "85cb0bba",
   "metadata": {},
   "source": [
    "# EDA (Expolatory Data Analysis)"
   ]
  },
  {
   "cell_type": "markdown",
   "id": "d27dabcf",
   "metadata": {},
   "source": [
    "## Company (Categorical column)"
   ]
  },
  {
   "cell_type": "code",
   "execution_count": 15,
   "id": "e9c33ca5",
   "metadata": {},
   "outputs": [
    {
     "data": {
      "text/plain": [
       "Company\n",
       "Dell        297\n",
       "Lenovo      297\n",
       "HP          274\n",
       "Asus        158\n",
       "Acer        103\n",
       "MSI          54\n",
       "Toshiba      48\n",
       "Apple        21\n",
       "Samsung       9\n",
       "Mediacom      7\n",
       "Name: count, dtype: int64"
      ]
     },
     "execution_count": 15,
     "metadata": {},
     "output_type": "execute_result"
    }
   ],
   "source": [
    "# Top 10 companies with highest counts of laptop\n",
    "data[\"Company\"].value_counts().nlargest(10)"
   ]
  },
  {
   "cell_type": "code",
   "execution_count": 16,
   "id": "08bec3bf",
   "metadata": {},
   "outputs": [
    {
     "data": {
      "image/png": "[encoded data removed]",
      "text/plain": [
       "<Figure size 1000x400 with 2 Axes>"
      ]
     },
     "metadata": {},
     "output_type": "display_data"
    }
   ],
   "source": [
    "fig, axes = plt.subplots(nrows=1, ncols=2, figsize=(10, 4))\n",
    "\n",
    "# Plot data on the first subplot\n",
    "a = sns.countplot(x = \"Company\", data = data, ax=axes[0], palette='plasma')\n",
    "axes[0].tick_params(axis='x', rotation=90)\n",
    "axes[0].bar_label(a.containers[0], fontsize=8);\n",
    "axes[0].set_title('')\n",
    "axes[0].set_xlabel('Company')\n",
    "axes[0].set_ylabel('Count')\n",
    "\n",
    "# Plot data on the second subplot\n",
    "a = data[\"Company\"].value_counts().plot(kind= \"bar\", ax=axes[1])\n",
    "axes[1].bar_label(a.containers[0], fontsize=8);\n",
    "axes[1].set_title('Sorted according to count')\n",
    "axes[1].set_xlabel('Company')\n",
    "axes[1].set_ylabel('Count')\n",
    "\n",
    "# Adjust layout\n",
    "plt.tight_layout()"
   ]
  },
  {
   "cell_type": "markdown",
   "id": "cca87f3e",
   "metadata": {},
   "source": [
    "**Observations:-**\n",
    "- Dell, Lenovo & HP has the most number of laptop (around 300)"
   ]
  },
  {
   "cell_type": "markdown",
   "id": "a7ba0538",
   "metadata": {},
   "source": [
    "**`Company` vs. `Price`**"
   ]
  },
  {
   "cell_type": "code",
   "execution_count": 17,
   "id": "4d872a0b",
   "metadata": {},
   "outputs": [
    {
     "data": {
      "image/png": "[encoded data removed]",
      "text/plain": [
       "<Figure size 1200x500 with 2 Axes>"
      ]
     },
     "metadata": {},
     "output_type": "display_data"
    }
   ],
   "source": [
    "fig, axes = plt.subplots(nrows=1, ncols=2, figsize=(12, 5))\n",
    "\n",
    "# Plot data on the first subplot\n",
    "a = sns.scatterplot(x= \"Company\", y= \"Price\", data = data, ax=axes[0])\n",
    "axes[0].tick_params(axis='x', rotation=90)\n",
    "axes[0].set_title('Scatterplot')\n",
    "axes[0].set_xlabel('Company')\n",
    "axes[0].set_ylabel('Price')\n",
    "\n",
    "# Plot data on the second subplot\n",
    "a = sns.barplot(x= \"Company\", y= \"Price\", data = data, ax=axes[1])\n",
    "# axes[1].bar_label(a.containers[0], fontsize=8)\n",
    "axes[1].tick_params(axis='x', rotation=90)\n",
    "axes[1].set_title('Barplot')\n",
    "axes[1].set_xlabel('Company')\n",
    "axes[1].set_ylabel('Price')\n",
    "\n",
    "# Adjust layout\n",
    "plt.tight_layout()"
   ]
  },
  {
   "cell_type": "markdown",
   "id": "22cc4754",
   "metadata": {},
   "source": [
    "**Observations:-**  \n",
    "- By the above Scatterplot and Barplot we can clearly see that `Razer` Company has the highest price of the laptop\n",
    "- Price of the laptop expect Razer company are below 1,20,000 "
   ]
  },
  {
   "cell_type": "markdown",
   "id": "30c453c3",
   "metadata": {},
   "source": [
    "## TypeName (Categorical column)"
   ]
  },
  {
   "cell_type": "code",
   "execution_count": 18,
   "id": "cac3117c",
   "metadata": {},
   "outputs": [
    {
     "data": {
      "text/plain": [
       "TypeName\n",
       "Notebook              727\n",
       "Gaming                205\n",
       "Ultrabook             196\n",
       "2 in 1 Convertible    121\n",
       "Workstation            29\n",
       "Netbook                25\n",
       "Name: count, dtype: int64"
      ]
     },
     "execution_count": 18,
     "metadata": {},
     "output_type": "execute_result"
    }
   ],
   "source": [
    "data[\"TypeName\"].value_counts()"
   ]
  },
  {
   "cell_type": "code",
   "execution_count": 19,
   "id": "6e24178d",
   "metadata": {},
   "outputs": [
    {
     "data": {
      "image/png": "[encoded data removed]",
      "text/plain": [
       "<Figure size 400x400 with 1 Axes>"
      ]
     },
     "metadata": {},
     "output_type": "display_data"
    }
   ],
   "source": [
    "# Creating pie chart\n",
    "plt.figure(figsize=(4, 4))\n",
    "plt.pie(data[\"TypeName\"].value_counts().values, labels=data[\"TypeName\"].value_counts().index, textprops = {\"fontsize\":8}, autopct='%1.1f%%', startangle = 20)\n",
    "plt.axis('equal')  # Equal aspect ratio ensures that pie is drawn as a circle.\n",
    "plt.title('TypeName \\n\\n', fontdict={'fontsize': 13});"
   ]
  },
  {
   "cell_type": "markdown",
   "id": "8cdf365e",
   "metadata": {},
   "source": [
    "**Observations:-**\n",
    "- Most choosen laptop is `Notebook` around 55.8%"
   ]
  },
  {
   "cell_type": "markdown",
   "id": "1c1637a1",
   "metadata": {},
   "source": [
    "**`TypeName` vs. `Price`**"
   ]
  },
  {
   "cell_type": "code",
   "execution_count": 20,
   "id": "443e6aba",
   "metadata": {},
   "outputs": [
    {
     "data": {
      "image/png": "[encoded data removed]",
      "text/plain": [
       "<Figure size 640x480 with 1 Axes>"
      ]
     },
     "metadata": {},
     "output_type": "display_data"
    }
   ],
   "source": [
    "sns.scatterplot(x= data[\"TypeName\"], y = data[\"Price\"])\n",
    "plt.xticks(rotation = 90);"
   ]
  },
  {
   "cell_type": "markdown",
   "id": "364a808f",
   "metadata": {},
   "source": [
    "**Obseravation:-**\n",
    "- The price of Notebook is less compared to other types of laptop, might be the reason people purchase more Notebook  \n",
    "- Some of the gaming laptop has a price around 3 lakhs "
   ]
  },
  {
   "cell_type": "markdown",
   "id": "00886964",
   "metadata": {},
   "source": [
    "## Inches"
   ]
  },
  {
   "cell_type": "code",
   "execution_count": 21,
   "id": "82c77783",
   "metadata": {},
   "outputs": [
    {
     "data": {
      "text/plain": [
       "Inches\n",
       "15.6    665\n",
       "14.0    197\n",
       "13.3    164\n",
       "17.3    164\n",
       "12.5     39\n",
       "11.6     33\n",
       "13.5      6\n",
       "12.0      6\n",
       "13.9      6\n",
       "12.3      5\n",
       "10.1      4\n",
       "15.4      4\n",
       "15.0      4\n",
       "13.0      2\n",
       "18.4      1\n",
       "17.0      1\n",
       "14.1      1\n",
       "11.3      1\n",
       "Name: count, dtype: int64"
      ]
     },
     "execution_count": 21,
     "metadata": {},
     "output_type": "execute_result"
    }
   ],
   "source": [
    "data[\"Inches\"].value_counts()"
   ]
  },
  {
   "cell_type": "markdown",
   "id": "bd37acbe",
   "metadata": {},
   "source": [
    "**`Inches` vs. `Price`**"
   ]
  },
  {
   "cell_type": "code",
   "execution_count": 22,
   "id": "b3935f7f",
   "metadata": {},
   "outputs": [
    {
     "data": {
      "text/plain": [
       "<Axes: xlabel='Inches', ylabel='Price'>"
      ]
     },
     "execution_count": 22,
     "metadata": {},
     "output_type": "execute_result"
    },
    {
     "data": {
      "image/png": "[encoded data removed]",
      "text/plain": [
       "<Figure size 640x480 with 1 Axes>"
      ]
     },
     "metadata": {},
     "output_type": "display_data"
    }
   ],
   "source": [
    "sns.scatterplot(x = data[\"Inches\"] , y =data[\"Price\"])"
   ]
  },
  {
   "cell_type": "markdown",
   "id": "ce1dc710",
   "metadata": {},
   "source": [
    "**Obseravation:-**\n",
    "- As the size of laptop incresing the price is also increasing"
   ]
  },
  {
   "cell_type": "markdown",
   "id": "1e64e784",
   "metadata": {},
   "source": [
    "## ScreenResolution"
   ]
  },
  {
   "cell_type": "code",
   "execution_count": 23,
   "id": "2eed9465",
   "metadata": {
    "scrolled": false
   },
   "outputs": [
    {
     "data": {
      "text/plain": [
       "ScreenResolution\n",
       "Full HD 1920x1080                                507\n",
       "1366x768                                         281\n",
       "IPS Panel Full HD 1920x1080                      230\n",
       "IPS Panel Full HD / Touchscreen 1920x1080         53\n",
       "Full HD / Touchscreen 1920x1080                   47\n",
       "1600x900                                          23\n",
       "Touchscreen 1366x768                              16\n",
       "Quad HD+ / Touchscreen 3200x1800                  15\n",
       "IPS Panel 4K Ultra HD 3840x2160                   12\n",
       "IPS Panel 4K Ultra HD / Touchscreen 3840x2160     11\n",
       "4K Ultra HD / Touchscreen 3840x2160               10\n",
       "IPS Panel 1366x768                                 7\n",
       "Touchscreen 2560x1440                              7\n",
       "4K Ultra HD 3840x2160                              7\n",
       "IPS Panel Retina Display 2304x1440                 6\n",
       "IPS Panel Retina Display 2560x1600                 6\n",
       "Touchscreen 2256x1504                              6\n",
       "IPS Panel Quad HD+ / Touchscreen 3200x1800         6\n",
       "IPS Panel Touchscreen 2560x1440                    5\n",
       "IPS Panel Retina Display 2880x1800                 4\n",
       "1440x900                                           4\n",
       "IPS Panel Touchscreen 1920x1200                    4\n",
       "IPS Panel 2560x1440                                4\n",
       "IPS Panel Quad HD+ 2560x1440                       3\n",
       "IPS Panel Touchscreen 1366x768                     3\n",
       "Quad HD+ 3200x1800                                 3\n",
       "1920x1080                                          3\n",
       "2560x1440                                          3\n",
       "Touchscreen 2400x1600                              3\n",
       "IPS Panel Quad HD+ 3200x1800                       2\n",
       "IPS Panel Full HD 2160x1440                        2\n",
       "IPS Panel Touchscreen / 4K Ultra HD 3840x2160      2\n",
       "IPS Panel Full HD 1366x768                         1\n",
       "Touchscreen / Quad HD+ 3200x1800                   1\n",
       "IPS Panel Retina Display 2736x1824                 1\n",
       "IPS Panel Full HD 2560x1440                        1\n",
       "IPS Panel Full HD 1920x1200                        1\n",
       "Touchscreen / Full HD 1920x1080                    1\n",
       "Touchscreen / 4K Ultra HD 3840x2160                1\n",
       "IPS Panel Touchscreen 2400x1600                    1\n",
       "Name: count, dtype: int64"
      ]
     },
     "execution_count": 23,
     "metadata": {},
     "output_type": "execute_result"
    }
   ],
   "source": [
    "data.ScreenResolution.value_counts()"
   ]
  },
  {
   "cell_type": "markdown",
   "id": "e8056196",
   "metadata": {},
   "source": [
    "**Observation:-**\n",
    "- if we notice every category has some common features like(1920x1080, 2560x1440....), we can create a new column out of it\n",
    "- Also for touchscreen \n"
   ]
  },
  {
   "cell_type": "code",
   "execution_count": 24,
   "id": "d58518bf",
   "metadata": {
    "scrolled": false
   },
   "outputs": [],
   "source": [
    "# Extracting resolution from ScreenResolution and assigning those values into new columns\n",
    "data[\"Resolution\"] = data[\"ScreenResolution\"].apply(lambda x:x.split(\" \")[-1])"
   ]
  },
  {
   "cell_type": "code",
   "execution_count": 25,
   "id": "04bd942a",
   "metadata": {
    "scrolled": false
   },
   "outputs": [
    {
     "data": {
      "text/html": [
       "<div>\n",
       "<style scoped>\n",
       "    .dataframe tbody tr th:only-of-type {\n",
       "        vertical-align: middle;\n",
       "    }\n",
       "\n",
       "    .dataframe tbody tr th {\n",
       "        vertical-align: top;\n",
       "    }\n",
       "\n",
       "    .dataframe thead th {\n",
       "        text-align: right;\n",
       "    }\n",
       "</style>\n",
       "<table border=\"1\" class=\"dataframe\">\n",
       "  <thead>\n",
       "    <tr style=\"text-align: right;\">\n",
       "      <th></th>\n",
       "      <th>Company</th>\n",
       "      <th>TypeName</th>\n",
       "      <th>Inches</th>\n",
       "      <th>ScreenResolution</th>\n",
       "      <th>Cpu</th>\n",
       "      <th>Ram</th>\n",
       "      <th>Memory</th>\n",
       "      <th>Gpu</th>\n",
       "      <th>OpSys</th>\n",
       "      <th>Weight</th>\n",
       "      <th>Price</th>\n",
       "      <th>Resolution</th>\n",
       "    </tr>\n",
       "  </thead>\n",
       "  <tbody>\n",
       "    <tr>\n",
       "      <th>0</th>\n",
       "      <td>Apple</td>\n",
       "      <td>Ultrabook</td>\n",
       "      <td>13.3</td>\n",
       "      <td>IPS Panel Retina Display 2560x1600</td>\n",
       "      <td>Intel Core i5 2.3GHz</td>\n",
       "      <td>8</td>\n",
       "      <td>128GB SSD</td>\n",
       "      <td>Intel Iris Plus Graphics 640</td>\n",
       "      <td>macOS</td>\n",
       "      <td>1.37</td>\n",
       "      <td>71378.6832</td>\n",
       "      <td>2560x1600</td>\n",
       "    </tr>\n",
       "    <tr>\n",
       "      <th>1</th>\n",
       "      <td>Apple</td>\n",
       "      <td>Ultrabook</td>\n",
       "      <td>13.3</td>\n",
       "      <td>1440x900</td>\n",
       "      <td>Intel Core i5 1.8GHz</td>\n",
       "      <td>8</td>\n",
       "      <td>128GB Flash Storage</td>\n",
       "      <td>Intel HD Graphics 6000</td>\n",
       "      <td>macOS</td>\n",
       "      <td>1.34</td>\n",
       "      <td>47895.5232</td>\n",
       "      <td>1440x900</td>\n",
       "    </tr>\n",
       "  </tbody>\n",
       "</table>\n",
       "</div>"
      ],
      "text/plain": [
       "  Company   TypeName  Inches                    ScreenResolution  \\\n",
       "0   Apple  Ultrabook    13.3  IPS Panel Retina Display 2560x1600   \n",
       "1   Apple  Ultrabook    13.3                            1440x900   \n",
       "\n",
       "                    Cpu  Ram               Memory  \\\n",
       "0  Intel Core i5 2.3GHz    8            128GB SSD   \n",
       "1  Intel Core i5 1.8GHz    8  128GB Flash Storage   \n",
       "\n",
       "                            Gpu  OpSys  Weight       Price Resolution  \n",
       "0  Intel Iris Plus Graphics 640  macOS    1.37  71378.6832  2560x1600  \n",
       "1        Intel HD Graphics 6000  macOS    1.34  47895.5232   1440x900  "
      ]
     },
     "execution_count": 25,
     "metadata": {},
     "output_type": "execute_result"
    }
   ],
   "source": [
    "data.head(2)"
   ]
  },
  {
   "cell_type": "code",
   "execution_count": 26,
   "id": "f6096b9d",
   "metadata": {},
   "outputs": [],
   "source": [
    "# Creating 2 more columns X_Resolution and Y_Resolution\n",
    "data[\"X_Resolution\"] = data[\"Resolution\"].apply(lambda x:x.split(\"x\")[0]).astype(\"int\")\n",
    "data[\"Y_Resolution\"] = data[\"Resolution\"].apply(lambda x:x.split(\"x\")[1]).astype(\"int\")"
   ]
  },
  {
   "cell_type": "code",
   "execution_count": 27,
   "id": "00144cad",
   "metadata": {},
   "outputs": [
    {
     "data": {
      "text/html": [
       "<div>\n",
       "<style scoped>\n",
       "    .dataframe tbody tr th:only-of-type {\n",
       "        vertical-align: middle;\n",
       "    }\n",
       "\n",
       "    .dataframe tbody tr th {\n",
       "        vertical-align: top;\n",
       "    }\n",
       "\n",
       "    .dataframe thead th {\n",
       "        text-align: right;\n",
       "    }\n",
       "</style>\n",
       "<table border=\"1\" class=\"dataframe\">\n",
       "  <thead>\n",
       "    <tr style=\"text-align: right;\">\n",
       "      <th></th>\n",
       "      <th>Company</th>\n",
       "      <th>TypeName</th>\n",
       "      <th>Inches</th>\n",
       "      <th>ScreenResolution</th>\n",
       "      <th>Cpu</th>\n",
       "      <th>Ram</th>\n",
       "      <th>Memory</th>\n",
       "      <th>Gpu</th>\n",
       "      <th>OpSys</th>\n",
       "      <th>Weight</th>\n",
       "      <th>Price</th>\n",
       "      <th>Resolution</th>\n",
       "      <th>X_Resolution</th>\n",
       "      <th>Y_Resolution</th>\n",
       "    </tr>\n",
       "  </thead>\n",
       "  <tbody>\n",
       "    <tr>\n",
       "      <th>0</th>\n",
       "      <td>Apple</td>\n",
       "      <td>Ultrabook</td>\n",
       "      <td>13.3</td>\n",
       "      <td>IPS Panel Retina Display 2560x1600</td>\n",
       "      <td>Intel Core i5 2.3GHz</td>\n",
       "      <td>8</td>\n",
       "      <td>128GB SSD</td>\n",
       "      <td>Intel Iris Plus Graphics 640</td>\n",
       "      <td>macOS</td>\n",
       "      <td>1.37</td>\n",
       "      <td>71378.6832</td>\n",
       "      <td>2560x1600</td>\n",
       "      <td>2560</td>\n",
       "      <td>1600</td>\n",
       "    </tr>\n",
       "    <tr>\n",
       "      <th>1</th>\n",
       "      <td>Apple</td>\n",
       "      <td>Ultrabook</td>\n",
       "      <td>13.3</td>\n",
       "      <td>1440x900</td>\n",
       "      <td>Intel Core i5 1.8GHz</td>\n",
       "      <td>8</td>\n",
       "      <td>128GB Flash Storage</td>\n",
       "      <td>Intel HD Graphics 6000</td>\n",
       "      <td>macOS</td>\n",
       "      <td>1.34</td>\n",
       "      <td>47895.5232</td>\n",
       "      <td>1440x900</td>\n",
       "      <td>1440</td>\n",
       "      <td>900</td>\n",
       "    </tr>\n",
       "  </tbody>\n",
       "</table>\n",
       "</div>"
      ],
      "text/plain": [
       "  Company   TypeName  Inches                    ScreenResolution  \\\n",
       "0   Apple  Ultrabook    13.3  IPS Panel Retina Display 2560x1600   \n",
       "1   Apple  Ultrabook    13.3                            1440x900   \n",
       "\n",
       "                    Cpu  Ram               Memory  \\\n",
       "0  Intel Core i5 2.3GHz    8            128GB SSD   \n",
       "1  Intel Core i5 1.8GHz    8  128GB Flash Storage   \n",
       "\n",
       "                            Gpu  OpSys  Weight       Price Resolution  \\\n",
       "0  Intel Iris Plus Graphics 640  macOS    1.37  71378.6832  2560x1600   \n",
       "1        Intel HD Graphics 6000  macOS    1.34  47895.5232   1440x900   \n",
       "\n",
       "   X_Resolution  Y_Resolution  \n",
       "0          2560          1600  \n",
       "1          1440           900  "
      ]
     },
     "execution_count": 27,
     "metadata": {},
     "output_type": "execute_result"
    }
   ],
   "source": [
    "data.head(2)"
   ]
  },
  {
   "cell_type": "markdown",
   "id": "16c129d3",
   "metadata": {},
   "source": [
    "**Creating New column PPI**\n",
    "PPI stands for \"Pixels Per Inch.\" It is a measure of the pixel density on a display screen, typically used to describe the clarity and sharpness of an image or text. \n",
    "\n",
    "In the context of a laptop, PPI refers to the number of pixels that can be displayed per inch of the screen. A higher PPI generally indicates a sharper and clearer display, as there are more pixels packed into each inch. This can result in crisper text, more detailed images, and smoother graphics.\n",
    "\n",
    "When comparing laptops, especially those with different screen sizes, PPI can be a useful metric to consider alongside resolution to gauge the quality of the display.\n",
    "To find the Pixels Per Inch (PPI) of a laptop screen, you'll need to know two main pieces of information: the screen resolution and the physical dimensions of the screen. Once you have these details, you can use a simple formula to calculate the PPI.\n",
    "\n",
    "Here's the formula:\n",
    "\n",
    "$$ \\text{PPI} = \\sqrt{\\frac{{\\text{Horizontal Pixels}^2 + \\text{Vertical Pixels}^2}}{{\\text{Diagonal Size}^2}}} $$"
   ]
  },
  {
   "cell_type": "code",
   "execution_count": 28,
   "id": "6c77a45f",
   "metadata": {},
   "outputs": [],
   "source": [
    "data[\"PPI\"] = (((data['X_Resolution']**2) + (data['Y_Resolution']**2))**0.5/data['Inches']).astype('float')"
   ]
  },
  {
   "cell_type": "code",
   "execution_count": 29,
   "id": "0d73a48c",
   "metadata": {
    "scrolled": true
   },
   "outputs": [],
   "source": [
    "#Creating a function to check Touchscreen laptop\n",
    "def CheckScreen(obj):\n",
    "    for i in obj:\n",
    "        if \"Touchscreen\" in obj:\n",
    "            return 1\n",
    "        else:\n",
    "            return 0"
   ]
  },
  {
   "cell_type": "code",
   "execution_count": 30,
   "id": "8d65dd66",
   "metadata": {
    "scrolled": false
   },
   "outputs": [],
   "source": [
    "# Creating a new column `TouchScreen` (1 for Touchscreen and 0 for else)\n",
    "data[\"TouchScreen\"] = data[\"ScreenResolution\"].apply(CheckScreen)"
   ]
  },
  {
   "cell_type": "code",
   "execution_count": 31,
   "id": "c400a220",
   "metadata": {},
   "outputs": [
    {
     "data": {
      "text/html": [
       "<div>\n",
       "<style scoped>\n",
       "    .dataframe tbody tr th:only-of-type {\n",
       "        vertical-align: middle;\n",
       "    }\n",
       "\n",
       "    .dataframe tbody tr th {\n",
       "        vertical-align: top;\n",
       "    }\n",
       "\n",
       "    .dataframe thead th {\n",
       "        text-align: right;\n",
       "    }\n",
       "</style>\n",
       "<table border=\"1\" class=\"dataframe\">\n",
       "  <thead>\n",
       "    <tr style=\"text-align: right;\">\n",
       "      <th></th>\n",
       "      <th>Company</th>\n",
       "      <th>TypeName</th>\n",
       "      <th>Inches</th>\n",
       "      <th>ScreenResolution</th>\n",
       "      <th>Cpu</th>\n",
       "      <th>Ram</th>\n",
       "      <th>Memory</th>\n",
       "      <th>Gpu</th>\n",
       "      <th>OpSys</th>\n",
       "      <th>Weight</th>\n",
       "      <th>Price</th>\n",
       "      <th>Resolution</th>\n",
       "      <th>X_Resolution</th>\n",
       "      <th>Y_Resolution</th>\n",
       "      <th>PPI</th>\n",
       "      <th>TouchScreen</th>\n",
       "    </tr>\n",
       "  </thead>\n",
       "  <tbody>\n",
       "    <tr>\n",
       "      <th>1034</th>\n",
       "      <td>HP</td>\n",
       "      <td>Notebook</td>\n",
       "      <td>15.6</td>\n",
       "      <td>Full HD 1920x1080</td>\n",
       "      <td>Intel Core i7 6500U 2.5GHz</td>\n",
       "      <td>8</td>\n",
       "      <td>256GB SSD</td>\n",
       "      <td>Intel HD Graphics 520</td>\n",
       "      <td>Windows 10</td>\n",
       "      <td>1.84</td>\n",
       "      <td>65480.5872</td>\n",
       "      <td>1920x1080</td>\n",
       "      <td>1920</td>\n",
       "      <td>1080</td>\n",
       "      <td>141.211998</td>\n",
       "      <td>0</td>\n",
       "    </tr>\n",
       "    <tr>\n",
       "      <th>1103</th>\n",
       "      <td>HP</td>\n",
       "      <td>Workstation</td>\n",
       "      <td>17.3</td>\n",
       "      <td>IPS Panel Full HD 1920x1080</td>\n",
       "      <td>Intel Core i7 6700HQ 2.6GHz</td>\n",
       "      <td>8</td>\n",
       "      <td>1TB HDD</td>\n",
       "      <td>AMD FirePro W6150M</td>\n",
       "      <td>Windows 7</td>\n",
       "      <td>3.00</td>\n",
       "      <td>154458.7200</td>\n",
       "      <td>1920x1080</td>\n",
       "      <td>1920</td>\n",
       "      <td>1080</td>\n",
       "      <td>127.335675</td>\n",
       "      <td>0</td>\n",
       "    </tr>\n",
       "  </tbody>\n",
       "</table>\n",
       "</div>"
      ],
      "text/plain": [
       "     Company     TypeName  Inches             ScreenResolution  \\\n",
       "1034      HP     Notebook    15.6            Full HD 1920x1080   \n",
       "1103      HP  Workstation    17.3  IPS Panel Full HD 1920x1080   \n",
       "\n",
       "                              Cpu  Ram     Memory                    Gpu  \\\n",
       "1034   Intel Core i7 6500U 2.5GHz    8  256GB SSD  Intel HD Graphics 520   \n",
       "1103  Intel Core i7 6700HQ 2.6GHz    8    1TB HDD     AMD FirePro W6150M   \n",
       "\n",
       "           OpSys  Weight        Price Resolution  X_Resolution  Y_Resolution  \\\n",
       "1034  Windows 10    1.84   65480.5872  1920x1080          1920          1080   \n",
       "1103   Windows 7    3.00  154458.7200  1920x1080          1920          1080   \n",
       "\n",
       "             PPI  TouchScreen  \n",
       "1034  141.211998            0  \n",
       "1103  127.335675            0  "
      ]
     },
     "execution_count": 31,
     "metadata": {},
     "output_type": "execute_result"
    }
   ],
   "source": [
    "data.sample(2)"
   ]
  },
  {
   "cell_type": "code",
   "execution_count": 32,
   "id": "c5bbd334",
   "metadata": {},
   "outputs": [
    {
     "name": "stdout",
     "output_type": "stream",
     "text": [
      "Percentage of Touchscreen Laptop: 14.735226400613968\n",
      "Percentage of Non-Touchscreen Laptop: 85.26477359938603\n",
      "--------------------------------------------------\n"
     ]
    },
    {
     "data": {
      "image/png": "[encoded data removed]",
      "text/plain": [
       "<Figure size 500x400 with 1 Axes>"
      ]
     },
     "metadata": {},
     "output_type": "display_data"
    }
   ],
   "source": [
    "plt.figure(figsize=(5,4))\n",
    "print(f\"Percentage of Touchscreen Laptop: {(((data['TouchScreen'].value_counts())/len(data['TouchScreen']))*100)[1]}\")\n",
    "print(f\"Percentage of Non-Touchscreen Laptop: {(((data['TouchScreen'].value_counts())/len(data['TouchScreen']))*100)[0]}\")\n",
    "print(\"-\"*50)\n",
    "a = sns.countplot(x = \"TouchScreen\", data = data ,  palette='husl')\n",
    "a.bar_label(a.containers[0], fontsize=8);"
   ]
  },
  {
   "cell_type": "code",
   "execution_count": 33,
   "id": "d0fea3bb",
   "metadata": {
    "scrolled": false
   },
   "outputs": [
    {
     "data": {
      "image/png": "[encoded data removed]",
      "text/plain": [
       "<Figure size 500x400 with 1 Axes>"
      ]
     },
     "metadata": {},
     "output_type": "display_data"
    }
   ],
   "source": [
    "plt.figure(figsize=(5,4))\n",
    "sns.barplot(x= \"TouchScreen\", y= \"Price\", data = data,  palette='husl');"
   ]
  },
  {
   "cell_type": "markdown",
   "id": "6a3f46b3",
   "metadata": {},
   "source": [
    "**Observation:-**\n",
    "- From the above barplot we can clearly say that `TouchScreen` laptop has higher price  "
   ]
  },
  {
   "cell_type": "code",
   "execution_count": 34,
   "id": "cc226d67",
   "metadata": {},
   "outputs": [],
   "source": [
    "#Creating a function to check IPS Panel\n",
    "def CheckIPS(obj):\n",
    "    for i in obj:\n",
    "        if \"IPS Panel\" in obj:\n",
    "            return 1\n",
    "        else:\n",
    "            return 0"
   ]
  },
  {
   "cell_type": "code",
   "execution_count": 35,
   "id": "9adcfa74",
   "metadata": {},
   "outputs": [],
   "source": [
    "# Creating a new column `IPS` (1 for IPS Panel and 0 for else)\n",
    "data[\"IPS\"] = data[\"ScreenResolution\"].apply(CheckIPS)"
   ]
  },
  {
   "cell_type": "code",
   "execution_count": 36,
   "id": "e98c1508",
   "metadata": {},
   "outputs": [
    {
     "data": {
      "text/html": [
       "<div>\n",
       "<style scoped>\n",
       "    .dataframe tbody tr th:only-of-type {\n",
       "        vertical-align: middle;\n",
       "    }\n",
       "\n",
       "    .dataframe tbody tr th {\n",
       "        vertical-align: top;\n",
       "    }\n",
       "\n",
       "    .dataframe thead th {\n",
       "        text-align: right;\n",
       "    }\n",
       "</style>\n",
       "<table border=\"1\" class=\"dataframe\">\n",
       "  <thead>\n",
       "    <tr style=\"text-align: right;\">\n",
       "      <th></th>\n",
       "      <th>Company</th>\n",
       "      <th>TypeName</th>\n",
       "      <th>Inches</th>\n",
       "      <th>ScreenResolution</th>\n",
       "      <th>Cpu</th>\n",
       "      <th>Ram</th>\n",
       "      <th>Memory</th>\n",
       "      <th>Gpu</th>\n",
       "      <th>OpSys</th>\n",
       "      <th>Weight</th>\n",
       "      <th>Price</th>\n",
       "      <th>Resolution</th>\n",
       "      <th>X_Resolution</th>\n",
       "      <th>Y_Resolution</th>\n",
       "      <th>PPI</th>\n",
       "      <th>TouchScreen</th>\n",
       "      <th>IPS</th>\n",
       "    </tr>\n",
       "  </thead>\n",
       "  <tbody>\n",
       "    <tr>\n",
       "      <th>0</th>\n",
       "      <td>Apple</td>\n",
       "      <td>Ultrabook</td>\n",
       "      <td>13.3</td>\n",
       "      <td>IPS Panel Retina Display 2560x1600</td>\n",
       "      <td>Intel Core i5 2.3GHz</td>\n",
       "      <td>8</td>\n",
       "      <td>128GB SSD</td>\n",
       "      <td>Intel Iris Plus Graphics 640</td>\n",
       "      <td>macOS</td>\n",
       "      <td>1.37</td>\n",
       "      <td>71378.6832</td>\n",
       "      <td>2560x1600</td>\n",
       "      <td>2560</td>\n",
       "      <td>1600</td>\n",
       "      <td>226.983005</td>\n",
       "      <td>0</td>\n",
       "      <td>1</td>\n",
       "    </tr>\n",
       "    <tr>\n",
       "      <th>1</th>\n",
       "      <td>Apple</td>\n",
       "      <td>Ultrabook</td>\n",
       "      <td>13.3</td>\n",
       "      <td>1440x900</td>\n",
       "      <td>Intel Core i5 1.8GHz</td>\n",
       "      <td>8</td>\n",
       "      <td>128GB Flash Storage</td>\n",
       "      <td>Intel HD Graphics 6000</td>\n",
       "      <td>macOS</td>\n",
       "      <td>1.34</td>\n",
       "      <td>47895.5232</td>\n",
       "      <td>1440x900</td>\n",
       "      <td>1440</td>\n",
       "      <td>900</td>\n",
       "      <td>127.677940</td>\n",
       "      <td>0</td>\n",
       "      <td>0</td>\n",
       "    </tr>\n",
       "  </tbody>\n",
       "</table>\n",
       "</div>"
      ],
      "text/plain": [
       "  Company   TypeName  Inches                    ScreenResolution  \\\n",
       "0   Apple  Ultrabook    13.3  IPS Panel Retina Display 2560x1600   \n",
       "1   Apple  Ultrabook    13.3                            1440x900   \n",
       "\n",
       "                    Cpu  Ram               Memory  \\\n",
       "0  Intel Core i5 2.3GHz    8            128GB SSD   \n",
       "1  Intel Core i5 1.8GHz    8  128GB Flash Storage   \n",
       "\n",
       "                            Gpu  OpSys  Weight       Price Resolution  \\\n",
       "0  Intel Iris Plus Graphics 640  macOS    1.37  71378.6832  2560x1600   \n",
       "1        Intel HD Graphics 6000  macOS    1.34  47895.5232   1440x900   \n",
       "\n",
       "   X_Resolution  Y_Resolution         PPI  TouchScreen  IPS  \n",
       "0          2560          1600  226.983005            0    1  \n",
       "1          1440           900  127.677940            0    0  "
      ]
     },
     "execution_count": 36,
     "metadata": {},
     "output_type": "execute_result"
    }
   ],
   "source": [
    "data.head(2)"
   ]
  },
  {
   "cell_type": "code",
   "execution_count": 37,
   "id": "47bb1322",
   "metadata": {},
   "outputs": [
    {
     "name": "stdout",
     "output_type": "stream",
     "text": [
      "Percentage of IPS Panel Laptop: 28.012279355333845\n",
      "Percentage of Non-IPS Panel Laptop: 71.98772064466615\n",
      "--------------------------------------------------\n"
     ]
    },
    {
     "data": {
      "image/png": "[encoded data removed]",
      "text/plain": [
       "<Figure size 500x400 with 1 Axes>"
      ]
     },
     "metadata": {},
     "output_type": "display_data"
    }
   ],
   "source": [
    "plt.figure(figsize=(5,4))\n",
    "print(f\"Percentage of IPS Panel Laptop: {(((data['IPS'].value_counts())/len(data['IPS']))*100)[1]}\")\n",
    "print(f\"Percentage of Non-IPS Panel Laptop: {(((data['IPS'].value_counts())/len(data['IPS']))*100)[0]}\")\n",
    "print(\"-\"*50)\n",
    "a = sns.countplot(x = \"IPS\", data = data , palette = \"plasma\")\n",
    "a.bar_label(a.containers[0], fontsize=8);"
   ]
  },
  {
   "cell_type": "code",
   "execution_count": 38,
   "id": "be2e1acc",
   "metadata": {},
   "outputs": [
    {
     "data": {
      "image/png": "[encoded data removed]",
      "text/plain": [
       "<Figure size 500x400 with 1 Axes>"
      ]
     },
     "metadata": {},
     "output_type": "display_data"
    }
   ],
   "source": [
    "plt.figure(figsize=(5,4))\n",
    "sns.barplot(x= \"IPS\", y= \"Price\", data = data, palette = \"plasma\");"
   ]
  },
  {
   "cell_type": "markdown",
   "id": "c6e2c166",
   "metadata": {},
   "source": [
    "**Observation:-**\n",
    "- From the above barplot we can clearly say that `IPS Panel` laptop has higher price  "
   ]
  },
  {
   "cell_type": "code",
   "execution_count": 39,
   "id": "228264e8",
   "metadata": {},
   "outputs": [
    {
     "data": {
      "image/png": "[encoded data removed]",
      "text/plain": [
       "<Figure size 500x400 with 1 Axes>"
      ]
     },
     "metadata": {},
     "output_type": "display_data"
    }
   ],
   "source": [
    "# Laptop types which has TouchScreen\n",
    "plt.figure(figsize=(5,4))\n",
    "sns.scatterplot(x= data[\"TypeName\"], y = data[\"Price\"],hue = data[\"TouchScreen\"])\n",
    "plt.xticks(rotation = 90);"
   ]
  },
  {
   "cell_type": "markdown",
   "id": "e28e6a8b",
   "metadata": {},
   "source": [
    "**Observation:-**\n",
    "- From the above scatterplot we can clearly say that `2 in 1 Convertible` laptop types are mostly TouchSccreen\n",
    "- `Ultrabook` contain some laptops which is touchScreen\n",
    "- Rest of the laptop types are mostly Non-TouchScreen"
   ]
  },
  {
   "cell_type": "code",
   "execution_count": 41,
   "id": "5078ae19",
   "metadata": {},
   "outputs": [],
   "source": [
    "# data.corr()[\"Price\"]"
   ]
  },
  {
   "cell_type": "markdown",
   "id": "a46463d1",
   "metadata": {},
   "source": [
    "**Observation:-**\n",
    "- The correlation between (X_Resolution and Price), (Y_Resolution and Price) & (PPI and Price) are quite impressive \n",
    "- But we have made a new column `PPI` by using Inches, X_Resolution, Y_Resolution so we will drop these columns\n",
    "- we will also drop `ScreenResolution` column , cuzz we have extracted all the info from that column"
   ]
  },
  {
   "cell_type": "code",
   "execution_count": 42,
   "id": "8d4a4595",
   "metadata": {},
   "outputs": [],
   "source": [
    "# Dropping ScreenResolution, Inches, X_Resolution, Y_Resolution\n",
    "data.drop(columns = [\"Inches\",\"ScreenResolution\",\"X_Resolution\",\"Y_Resolution\"] , inplace = True)"
   ]
  },
  {
   "cell_type": "markdown",
   "id": "831c0172",
   "metadata": {},
   "source": [
    "## Cpu"
   ]
  },
  {
   "cell_type": "code",
   "execution_count": 43,
   "id": "dc00e150",
   "metadata": {
    "scrolled": false
   },
   "outputs": [],
   "source": [
    "# Extracting First three words of `Cpu` colummn\n",
    "data[\"CPU Name\"] = data[\"Cpu\"].apply(lambda x:x.split(\" \")[:3])"
   ]
  },
  {
   "cell_type": "code",
   "execution_count": 44,
   "id": "70ba42ef",
   "metadata": {},
   "outputs": [],
   "source": [
    "# converting list to string \n",
    "data[\"CPU Name\"] = data[\"CPU Name\"].apply(lambda x: \" \".join(x))"
   ]
  },
  {
   "cell_type": "code",
   "execution_count": 45,
   "id": "6c395d29",
   "metadata": {},
   "outputs": [],
   "source": [
    "# Creating a function to extract Cpu brand \n",
    "def fetch_processor(obj):\n",
    "    if obj == 'Intel Core i7' or obj == 'Intel Core i5' or obj == 'Intel Core i3':\n",
    "        return obj\n",
    "    else:\n",
    "        if obj.split()[0] == 'Intel':\n",
    "            return 'Other Intel Processor'\n",
    "        else:\n",
    "            return 'AMD Processor'"
   ]
  },
  {
   "cell_type": "code",
   "execution_count": 46,
   "id": "7cd97c11",
   "metadata": {},
   "outputs": [],
   "source": [
    "# Creating new column CPU Brand\n",
    "data[\"CPU Brand\"] = data[\"CPU Name\"].apply(fetch_processor)"
   ]
  },
  {
   "cell_type": "code",
   "execution_count": 47,
   "id": "d9e62338",
   "metadata": {
    "scrolled": false
   },
   "outputs": [],
   "source": [
    "# Creating one more new column by extracting `Cpu GHz`\n",
    "data[\"CPU GHz\"] = data[\"Cpu\"].apply(lambda x:x.split(\" \")[-1])\n",
    "\n",
    "# Removing GHz from the `CPU GHz` column\n",
    "data[\"CPU GHz\"] = (data[\"CPU GHz\"].str.replace(\"GHz\",\"\")).astype(float)"
   ]
  },
  {
   "cell_type": "code",
   "execution_count": 48,
   "id": "90e60c2b",
   "metadata": {},
   "outputs": [],
   "source": [
    "# Dropping Cpu column\n",
    "data.drop(columns = [\"Cpu\", \"CPU Name\"] , inplace = True)"
   ]
  },
  {
   "cell_type": "code",
   "execution_count": 49,
   "id": "2eaef264",
   "metadata": {},
   "outputs": [
    {
     "name": "stdout",
     "output_type": "stream",
     "text": [
      "Percentage of Intel Core i7  Laptop: 40.44512663085188\n",
      "Percentage of Intel Core i5  Laptop: 32.46354566385265\n",
      "Percentage of Other Intel Processor  Laptop: 4.834996162701458\n",
      "Percentage of Intel Core i3  Laptop: 10.437452033768228\n",
      "Percentage of AMD Processor  Laptop: 11.818879508825788\n",
      "--------------------------------------------------\n"
     ]
    },
    {
     "data": {
      "image/png": "[encoded data removed]",
      "text/plain": [
       "<Figure size 500x400 with 1 Axes>"
      ]
     },
     "metadata": {},
     "output_type": "display_data"
    }
   ],
   "source": [
    "plt.figure(figsize=(5,4))\n",
    "print(f\"Percentage of Intel Core i7  Laptop: {(((data['CPU Brand'].value_counts())/len(data['CPU Brand']))*100)[0]}\")\n",
    "print(f\"Percentage of Intel Core i5  Laptop: {(((data['CPU Brand'].value_counts())/len(data['CPU Brand']))*100)[1]}\")\n",
    "print(f\"Percentage of Other Intel Processor  Laptop: {(((data['CPU Brand'].value_counts())/len(data['CPU Brand']))*100)[4]}\")\n",
    "print(f\"Percentage of Intel Core i3  Laptop: {(((data['CPU Brand'].value_counts())/len(data['CPU Brand']))*100)[3]}\")\n",
    "print(f\"Percentage of AMD Processor  Laptop: {(((data['CPU Brand'].value_counts())/len(data['CPU Brand']))*100)[2]}\")\n",
    "print(\"-\"*50)\n",
    "a = sns.countplot(x = \"CPU Brand\", data = data ,  palette='husl')\n",
    "plt.xticks(rotation = 90)\n",
    "a.bar_label(a.containers[0], fontsize=8);"
   ]
  },
  {
   "cell_type": "markdown",
   "id": "d1972d2e",
   "metadata": {},
   "source": [
    "`CPU Brand` vs. `Price`"
   ]
  },
  {
   "cell_type": "code",
   "execution_count": 50,
   "id": "b63f22b3",
   "metadata": {},
   "outputs": [
    {
     "data": {
      "image/png": "[encoded data removed]",
      "text/plain": [
       "<Figure size 500x400 with 1 Axes>"
      ]
     },
     "metadata": {},
     "output_type": "display_data"
    }
   ],
   "source": [
    "plt.figure(figsize=(5,4))\n",
    "sns.barplot(x= \"CPU Brand\", y= \"Price\", data = data,  palette='husl')\n",
    "plt.xticks(rotation = 90);"
   ]
  },
  {
   "cell_type": "markdown",
   "id": "0fd70f00",
   "metadata": {},
   "source": [
    "**Observation:-**\n",
    "- From the above barplot we can clearly say that `Intel Core i7` laptop has the highest price\n",
    "- AMD Processor, Intel Core i3 & Other Intel Processor belongs to similar price range"
   ]
  },
  {
   "cell_type": "markdown",
   "id": "8a7b89a9",
   "metadata": {},
   "source": [
    "## Ram (Numerical column)"
   ]
  },
  {
   "cell_type": "code",
   "execution_count": 51,
   "id": "34c20f0c",
   "metadata": {},
   "outputs": [
    {
     "data": {
      "text/plain": [
       "Ram\n",
       "8     47.505756\n",
       "4     28.779739\n",
       "16    15.349194\n",
       "6      3.146585\n",
       "12     1.918649\n",
       "2      1.688411\n",
       "32     1.304682\n",
       "24     0.230238\n",
       "64     0.076746\n",
       "Name: count, dtype: float64"
      ]
     },
     "execution_count": 51,
     "metadata": {},
     "output_type": "execute_result"
    }
   ],
   "source": [
    "(((data[\"Ram\"].value_counts())/len(data[\"Ram\"]))*100)\n"
   ]
  },
  {
   "cell_type": "code",
   "execution_count": 52,
   "id": "7af1ec6b",
   "metadata": {},
   "outputs": [
    {
     "name": "stdout",
     "output_type": "stream",
     "text": [
      "Percentage of 2GB  Laptop: 1.688411358403684\n",
      "Percentage of 4GB  Laptop: 28.779739063699157\n",
      "Percentage of 6GB  Laptop: 3.1465848042977744\n",
      "Percentage of 8GB  Laptop: 47.50575594781274\n",
      "Percentage of 12GB  Laptop: 1.918649270913277\n",
      "Percentage of 16GB  Laptop: 15.349194167306216\n",
      "Percentage of 24GB  Laptop: 0.23023791250959325\n",
      "Percentage of 32GB  Laptop: 1.3046815042210285\n",
      "Percentage of 64GB  Laptop: 0.07674597083653108\n",
      "--------------------------------------------------\n"
     ]
    },
    {
     "data": {
      "image/png": "[encoded data removed]",
      "text/plain": [
       "<Figure size 1200x500 with 2 Axes>"
      ]
     },
     "metadata": {},
     "output_type": "display_data"
    }
   ],
   "source": [
    "fig, axes = plt.subplots(nrows=1, ncols=2, figsize=(12, 5))\n",
    "\n",
    "print(f\"Percentage of 2GB  Laptop: {(((data['Ram'].value_counts())/len(data['Ram']))*100)[2]}\")\n",
    "print(f\"Percentage of 4GB  Laptop: {(((data['Ram'].value_counts())/len(data['Ram']))*100)[4]}\")\n",
    "print(f\"Percentage of 6GB  Laptop: {(((data['Ram'].value_counts())/len(data['Ram']))*100)[6]}\")\n",
    "print(f\"Percentage of 8GB  Laptop: {(((data['Ram'].value_counts())/len(data['Ram']))*100)[8]}\")\n",
    "print(f\"Percentage of 12GB  Laptop: {(((data['Ram'].value_counts())/len(data['Ram']))*100)[12]}\")\n",
    "print(f\"Percentage of 16GB  Laptop: {(((data['Ram'].value_counts())/len(data['Ram']))*100)[16]}\")\n",
    "print(f\"Percentage of 24GB  Laptop: {(((data['Ram'].value_counts())/len(data['Ram']))*100)[24]}\")\n",
    "print(f\"Percentage of 32GB  Laptop: {(((data['Ram'].value_counts())/len(data['Ram']))*100)[32]}\")\n",
    "print(f\"Percentage of 64GB  Laptop: {(((data['Ram'].value_counts())/len(data['Ram']))*100)[64]}\")\n",
    "print(\"-\"*50)\n",
    "# Plot data on the first subplot\n",
    "a = sns.countplot(x= \"Ram\", data = data, ax=axes[0])\n",
    "axes[0].bar_label(a.containers[0], fontsize=8)\n",
    "axes[0].tick_params(axis='x', rotation=90)\n",
    "axes[0].set_title('Countplot')\n",
    "axes[0].set_xlabel('Ram')\n",
    "axes[0].set_ylabel('Price')\n",
    "\n",
    "# Plot data on the second subplot\n",
    "a = sns.barplot(x= \"Ram\", y= \"Price\", data = data, ax=axes[1])\n",
    "# axes[1].bar_label(a.containers[0], fontsize=8)\n",
    "axes[1].tick_params(axis='x', rotation=90)\n",
    "axes[1].set_title('Barplot')\n",
    "axes[1].set_xlabel('Ram')\n",
    "axes[1].set_ylabel('Price')\n",
    "\n",
    "# Adjust layout\n",
    "plt.tight_layout()"
   ]
  },
  {
   "cell_type": "markdown",
   "id": "e4b2ffba",
   "metadata": {},
   "source": [
    "**Observation:-**\n",
    "- Most people prefer buying 8GB laptop \n",
    "- 8GB Ram is budget friendly, might be the reason people prefer buying "
   ]
  },
  {
   "cell_type": "markdown",
   "id": "30a199f3",
   "metadata": {},
   "source": [
    "## Memory"
   ]
  },
  {
   "cell_type": "code",
   "execution_count": 53,
   "id": "e42f441a",
   "metadata": {},
   "outputs": [],
   "source": [
    "# creating function ot extract SSD\n",
    "def fetch_SSD(obj):\n",
    "    for i in obj:\n",
    "        if \"SSD\" in obj:\n",
    "            return obj.split(\" SSD\")[0].replace(\"GB\" ,\"\").replace(\"1TB\",\"1024\")\n",
    "        else:\n",
    "            return 0"
   ]
  },
  {
   "cell_type": "code",
   "execution_count": 54,
   "id": "a731b8fb",
   "metadata": {
    "scrolled": false
   },
   "outputs": [],
   "source": [
    "# Creating new column `SSD`\n",
    "data[\"SSD\"] = data[\"Memory\"].apply(fetch_SSD).astype(int)"
   ]
  },
  {
   "cell_type": "code",
   "execution_count": 55,
   "id": "585b5b09",
   "metadata": {},
   "outputs": [],
   "source": [
    "# creating function to extract HDD\n",
    "def fetch_HDD(obj):\n",
    "    for i in obj:\n",
    "        if \"HDD\" in obj:\n",
    "            a = obj.replace(\"128GB SSD +\" , \" \").replace(\"256GB SSD +\" , \" \").replace(\"512GB SSD +\" , \" \").replace(\"1TB SSD +\" , \" \").replace(\"64GB Flash Storage +\" , \" \")\n",
    "            return a.split(\"HDD\")[0].replace(\"1TB\",\"1024\").replace(\"2TB\",\"2048\").replace(\"GB\",\"\").replace(\"1.0TB\",\"1024\").replace(\" \",\"\")\n",
    "        else:\n",
    "            return 0"
   ]
  },
  {
   "cell_type": "code",
   "execution_count": 56,
   "id": "86002f58",
   "metadata": {},
   "outputs": [],
   "source": [
    "# Creating new column `HDD`\n",
    "data[\"HDD\"] = data[\"Memory\"].apply(fetch_SSD).astype(int)"
   ]
  },
  {
   "cell_type": "code",
   "execution_count": 57,
   "id": "2ade47bf",
   "metadata": {},
   "outputs": [],
   "source": [
    "# creating function to extract Flash Storage\n",
    "def fetch_FlashStorage(obj):\n",
    "    for i in obj:\n",
    "        if \"Flash Storage\" in obj:\n",
    "            return obj.split(\" Flash Storage\")[0].replace(\"GB\",\"\")\n",
    "        else:\n",
    "            return 0"
   ]
  },
  {
   "cell_type": "code",
   "execution_count": 58,
   "id": "3a534e78",
   "metadata": {},
   "outputs": [],
   "source": [
    "# Creating new column `FlashStorage`\n",
    "data[\"FlashStorage\"] = data[\"Memory\"].apply(fetch_FlashStorage).astype(int)"
   ]
  },
  {
   "cell_type": "code",
   "execution_count": 59,
   "id": "8e6f8698",
   "metadata": {},
   "outputs": [],
   "source": [
    "# creating function to extract `Hybrid`\n",
    "def fetch_Hybrid(obj):\n",
    "    for i in obj:\n",
    "        if \"Hybrid\" in obj:\n",
    "            return obj.split(\"Hybrid\")[0].replace(\"TB\",\"\").replace(\"512GB SSD +  \",\"\").replace(\"256GB SSD +  \",\"\").replace(\"GB\",\"\").replace(\"1.0\",\"1024\")\n",
    "        else:\n",
    "            return 0"
   ]
  },
  {
   "cell_type": "code",
   "execution_count": 60,
   "id": "05838640",
   "metadata": {},
   "outputs": [],
   "source": [
    "# Creating new column `Hybrid`\n",
    "data[\"Hybrid\"] = data[\"Memory\"].apply(fetch_Hybrid).astype(int)"
   ]
  },
  {
   "cell_type": "markdown",
   "id": "43438c84",
   "metadata": {},
   "source": [
    "**Dropping `Memory` column**"
   ]
  },
  {
   "cell_type": "code",
   "execution_count": 61,
   "id": "e34aa185",
   "metadata": {},
   "outputs": [],
   "source": [
    "data.drop(\"Memory\" , axis = 1 , inplace = True)"
   ]
  },
  {
   "cell_type": "code",
   "execution_count": 62,
   "id": "8046528d",
   "metadata": {},
   "outputs": [
    {
     "data": {
      "text/html": [
       "<div>\n",
       "<style scoped>\n",
       "    .dataframe tbody tr th:only-of-type {\n",
       "        vertical-align: middle;\n",
       "    }\n",
       "\n",
       "    .dataframe tbody tr th {\n",
       "        vertical-align: top;\n",
       "    }\n",
       "\n",
       "    .dataframe thead th {\n",
       "        text-align: right;\n",
       "    }\n",
       "</style>\n",
       "<table border=\"1\" class=\"dataframe\">\n",
       "  <thead>\n",
       "    <tr style=\"text-align: right;\">\n",
       "      <th></th>\n",
       "      <th>Company</th>\n",
       "      <th>TypeName</th>\n",
       "      <th>Ram</th>\n",
       "      <th>Gpu</th>\n",
       "      <th>OpSys</th>\n",
       "      <th>Weight</th>\n",
       "      <th>Price</th>\n",
       "      <th>Resolution</th>\n",
       "      <th>PPI</th>\n",
       "      <th>TouchScreen</th>\n",
       "      <th>IPS</th>\n",
       "      <th>CPU Brand</th>\n",
       "      <th>CPU GHz</th>\n",
       "      <th>SSD</th>\n",
       "      <th>HDD</th>\n",
       "      <th>FlashStorage</th>\n",
       "      <th>Hybrid</th>\n",
       "    </tr>\n",
       "  </thead>\n",
       "  <tbody>\n",
       "    <tr>\n",
       "      <th>0</th>\n",
       "      <td>Apple</td>\n",
       "      <td>Ultrabook</td>\n",
       "      <td>8</td>\n",
       "      <td>Intel Iris Plus Graphics 640</td>\n",
       "      <td>macOS</td>\n",
       "      <td>1.37</td>\n",
       "      <td>71378.6832</td>\n",
       "      <td>2560x1600</td>\n",
       "      <td>226.983005</td>\n",
       "      <td>0</td>\n",
       "      <td>1</td>\n",
       "      <td>Intel Core i5</td>\n",
       "      <td>2.3</td>\n",
       "      <td>128</td>\n",
       "      <td>128</td>\n",
       "      <td>0</td>\n",
       "      <td>0</td>\n",
       "    </tr>\n",
       "    <tr>\n",
       "      <th>1</th>\n",
       "      <td>Apple</td>\n",
       "      <td>Ultrabook</td>\n",
       "      <td>8</td>\n",
       "      <td>Intel HD Graphics 6000</td>\n",
       "      <td>macOS</td>\n",
       "      <td>1.34</td>\n",
       "      <td>47895.5232</td>\n",
       "      <td>1440x900</td>\n",
       "      <td>127.677940</td>\n",
       "      <td>0</td>\n",
       "      <td>0</td>\n",
       "      <td>Intel Core i5</td>\n",
       "      <td>1.8</td>\n",
       "      <td>0</td>\n",
       "      <td>0</td>\n",
       "      <td>128</td>\n",
       "      <td>0</td>\n",
       "    </tr>\n",
       "  </tbody>\n",
       "</table>\n",
       "</div>"
      ],
      "text/plain": [
       "  Company   TypeName  Ram                           Gpu  OpSys  Weight  \\\n",
       "0   Apple  Ultrabook    8  Intel Iris Plus Graphics 640  macOS    1.37   \n",
       "1   Apple  Ultrabook    8        Intel HD Graphics 6000  macOS    1.34   \n",
       "\n",
       "        Price Resolution         PPI  TouchScreen  IPS      CPU Brand  \\\n",
       "0  71378.6832  2560x1600  226.983005            0    1  Intel Core i5   \n",
       "1  47895.5232   1440x900  127.677940            0    0  Intel Core i5   \n",
       "\n",
       "   CPU GHz  SSD  HDD  FlashStorage  Hybrid  \n",
       "0      2.3  128  128             0       0  \n",
       "1      1.8    0    0           128       0  "
      ]
     },
     "execution_count": 62,
     "metadata": {},
     "output_type": "execute_result"
    }
   ],
   "source": [
    "data.head(2)"
   ]
  },
  {
   "cell_type": "code",
   "execution_count": 64,
   "id": "5df0d025",
   "metadata": {},
   "outputs": [],
   "source": [
    "# checking correlation \n",
    "# print(data.corr()[\"Price\"])"
   ]
  },
  {
   "cell_type": "code",
   "execution_count": 65,
   "id": "e09a7a70",
   "metadata": {},
   "outputs": [],
   "source": [
    "# Dropping `FlashStorage` & `Hybrid` as it doesn't have a good corrrelation with Price\n",
    "data.drop(columns=[\"FlashStorage\" ,\"Hybrid\"], inplace = True)"
   ]
  },
  {
   "cell_type": "code",
   "execution_count": 66,
   "id": "ec7a70b2",
   "metadata": {},
   "outputs": [
    {
     "data": {
      "text/html": [
       "<div>\n",
       "<style scoped>\n",
       "    .dataframe tbody tr th:only-of-type {\n",
       "        vertical-align: middle;\n",
       "    }\n",
       "\n",
       "    .dataframe tbody tr th {\n",
       "        vertical-align: top;\n",
       "    }\n",
       "\n",
       "    .dataframe thead th {\n",
       "        text-align: right;\n",
       "    }\n",
       "</style>\n",
       "<table border=\"1\" class=\"dataframe\">\n",
       "  <thead>\n",
       "    <tr style=\"text-align: right;\">\n",
       "      <th></th>\n",
       "      <th>Company</th>\n",
       "      <th>TypeName</th>\n",
       "      <th>Ram</th>\n",
       "      <th>Gpu</th>\n",
       "      <th>OpSys</th>\n",
       "      <th>Weight</th>\n",
       "      <th>Price</th>\n",
       "      <th>Resolution</th>\n",
       "      <th>PPI</th>\n",
       "      <th>TouchScreen</th>\n",
       "      <th>IPS</th>\n",
       "      <th>CPU Brand</th>\n",
       "      <th>CPU GHz</th>\n",
       "      <th>SSD</th>\n",
       "      <th>HDD</th>\n",
       "    </tr>\n",
       "  </thead>\n",
       "  <tbody>\n",
       "    <tr>\n",
       "      <th>0</th>\n",
       "      <td>Apple</td>\n",
       "      <td>Ultrabook</td>\n",
       "      <td>8</td>\n",
       "      <td>Intel Iris Plus Graphics 640</td>\n",
       "      <td>macOS</td>\n",
       "      <td>1.37</td>\n",
       "      <td>71378.6832</td>\n",
       "      <td>2560x1600</td>\n",
       "      <td>226.983005</td>\n",
       "      <td>0</td>\n",
       "      <td>1</td>\n",
       "      <td>Intel Core i5</td>\n",
       "      <td>2.3</td>\n",
       "      <td>128</td>\n",
       "      <td>128</td>\n",
       "    </tr>\n",
       "    <tr>\n",
       "      <th>1</th>\n",
       "      <td>Apple</td>\n",
       "      <td>Ultrabook</td>\n",
       "      <td>8</td>\n",
       "      <td>Intel HD Graphics 6000</td>\n",
       "      <td>macOS</td>\n",
       "      <td>1.34</td>\n",
       "      <td>47895.5232</td>\n",
       "      <td>1440x900</td>\n",
       "      <td>127.677940</td>\n",
       "      <td>0</td>\n",
       "      <td>0</td>\n",
       "      <td>Intel Core i5</td>\n",
       "      <td>1.8</td>\n",
       "      <td>0</td>\n",
       "      <td>0</td>\n",
       "    </tr>\n",
       "  </tbody>\n",
       "</table>\n",
       "</div>"
      ],
      "text/plain": [
       "  Company   TypeName  Ram                           Gpu  OpSys  Weight  \\\n",
       "0   Apple  Ultrabook    8  Intel Iris Plus Graphics 640  macOS    1.37   \n",
       "1   Apple  Ultrabook    8        Intel HD Graphics 6000  macOS    1.34   \n",
       "\n",
       "        Price Resolution         PPI  TouchScreen  IPS      CPU Brand  \\\n",
       "0  71378.6832  2560x1600  226.983005            0    1  Intel Core i5   \n",
       "1  47895.5232   1440x900  127.677940            0    0  Intel Core i5   \n",
       "\n",
       "   CPU GHz  SSD  HDD  \n",
       "0      2.3  128  128  \n",
       "1      1.8    0    0  "
      ]
     },
     "execution_count": 66,
     "metadata": {},
     "output_type": "execute_result"
    }
   ],
   "source": [
    "data.head(2)"
   ]
  },
  {
   "cell_type": "markdown",
   "id": "1a4ee285",
   "metadata": {},
   "source": [
    "## Gpu"
   ]
  },
  {
   "cell_type": "code",
   "execution_count": 67,
   "id": "b3e8dfd8",
   "metadata": {},
   "outputs": [
    {
     "data": {
      "text/plain": [
       "Gpu\n",
       "Intel HD Graphics 620      281\n",
       "Intel HD Graphics 520      185\n",
       "Intel UHD Graphics 620      68\n",
       "Nvidia GeForce GTX 1050     66\n",
       "Nvidia GeForce GTX 1060     48\n",
       "                          ... \n",
       "Nvidia Quadro M500M          1\n",
       "AMD Radeon R7 M360           1\n",
       "Nvidia Quadro M3000M         1\n",
       "Nvidia GeForce 960M          1\n",
       "ARM Mali T860 MP4            1\n",
       "Name: count, Length: 110, dtype: int64"
      ]
     },
     "execution_count": 67,
     "metadata": {},
     "output_type": "execute_result"
    }
   ],
   "source": [
    "data['Gpu'].value_counts()"
   ]
  },
  {
   "cell_type": "code",
   "execution_count": 68,
   "id": "a586c171",
   "metadata": {},
   "outputs": [],
   "source": [
    "data['Gpu brand'] = data['Gpu'].apply(lambda x:x.split()[0])"
   ]
  },
  {
   "cell_type": "code",
   "execution_count": 69,
   "id": "ce7cbd48",
   "metadata": {},
   "outputs": [
    {
     "data": {
      "text/html": [
       "<div>\n",
       "<style scoped>\n",
       "    .dataframe tbody tr th:only-of-type {\n",
       "        vertical-align: middle;\n",
       "    }\n",
       "\n",
       "    .dataframe tbody tr th {\n",
       "        vertical-align: top;\n",
       "    }\n",
       "\n",
       "    .dataframe thead th {\n",
       "        text-align: right;\n",
       "    }\n",
       "</style>\n",
       "<table border=\"1\" class=\"dataframe\">\n",
       "  <thead>\n",
       "    <tr style=\"text-align: right;\">\n",
       "      <th></th>\n",
       "      <th>Company</th>\n",
       "      <th>TypeName</th>\n",
       "      <th>Ram</th>\n",
       "      <th>Gpu</th>\n",
       "      <th>OpSys</th>\n",
       "      <th>Weight</th>\n",
       "      <th>Price</th>\n",
       "      <th>Resolution</th>\n",
       "      <th>PPI</th>\n",
       "      <th>TouchScreen</th>\n",
       "      <th>IPS</th>\n",
       "      <th>CPU Brand</th>\n",
       "      <th>CPU GHz</th>\n",
       "      <th>SSD</th>\n",
       "      <th>HDD</th>\n",
       "      <th>Gpu brand</th>\n",
       "    </tr>\n",
       "  </thead>\n",
       "  <tbody>\n",
       "    <tr>\n",
       "      <th>0</th>\n",
       "      <td>Apple</td>\n",
       "      <td>Ultrabook</td>\n",
       "      <td>8</td>\n",
       "      <td>Intel Iris Plus Graphics 640</td>\n",
       "      <td>macOS</td>\n",
       "      <td>1.37</td>\n",
       "      <td>71378.6832</td>\n",
       "      <td>2560x1600</td>\n",
       "      <td>226.983005</td>\n",
       "      <td>0</td>\n",
       "      <td>1</td>\n",
       "      <td>Intel Core i5</td>\n",
       "      <td>2.3</td>\n",
       "      <td>128</td>\n",
       "      <td>128</td>\n",
       "      <td>Intel</td>\n",
       "    </tr>\n",
       "    <tr>\n",
       "      <th>1</th>\n",
       "      <td>Apple</td>\n",
       "      <td>Ultrabook</td>\n",
       "      <td>8</td>\n",
       "      <td>Intel HD Graphics 6000</td>\n",
       "      <td>macOS</td>\n",
       "      <td>1.34</td>\n",
       "      <td>47895.5232</td>\n",
       "      <td>1440x900</td>\n",
       "      <td>127.677940</td>\n",
       "      <td>0</td>\n",
       "      <td>0</td>\n",
       "      <td>Intel Core i5</td>\n",
       "      <td>1.8</td>\n",
       "      <td>0</td>\n",
       "      <td>0</td>\n",
       "      <td>Intel</td>\n",
       "    </tr>\n",
       "    <tr>\n",
       "      <th>2</th>\n",
       "      <td>HP</td>\n",
       "      <td>Notebook</td>\n",
       "      <td>8</td>\n",
       "      <td>Intel HD Graphics 620</td>\n",
       "      <td>No OS</td>\n",
       "      <td>1.86</td>\n",
       "      <td>30636.0000</td>\n",
       "      <td>1920x1080</td>\n",
       "      <td>141.211998</td>\n",
       "      <td>0</td>\n",
       "      <td>0</td>\n",
       "      <td>Intel Core i5</td>\n",
       "      <td>2.5</td>\n",
       "      <td>256</td>\n",
       "      <td>256</td>\n",
       "      <td>Intel</td>\n",
       "    </tr>\n",
       "    <tr>\n",
       "      <th>3</th>\n",
       "      <td>Apple</td>\n",
       "      <td>Ultrabook</td>\n",
       "      <td>16</td>\n",
       "      <td>AMD Radeon Pro 455</td>\n",
       "      <td>macOS</td>\n",
       "      <td>1.83</td>\n",
       "      <td>135195.3360</td>\n",
       "      <td>2880x1800</td>\n",
       "      <td>220.534624</td>\n",
       "      <td>0</td>\n",
       "      <td>1</td>\n",
       "      <td>Intel Core i7</td>\n",
       "      <td>2.7</td>\n",
       "      <td>512</td>\n",
       "      <td>512</td>\n",
       "      <td>AMD</td>\n",
       "    </tr>\n",
       "    <tr>\n",
       "      <th>4</th>\n",
       "      <td>Apple</td>\n",
       "      <td>Ultrabook</td>\n",
       "      <td>8</td>\n",
       "      <td>Intel Iris Plus Graphics 650</td>\n",
       "      <td>macOS</td>\n",
       "      <td>1.37</td>\n",
       "      <td>96095.8080</td>\n",
       "      <td>2560x1600</td>\n",
       "      <td>226.983005</td>\n",
       "      <td>0</td>\n",
       "      <td>1</td>\n",
       "      <td>Intel Core i5</td>\n",
       "      <td>3.1</td>\n",
       "      <td>256</td>\n",
       "      <td>256</td>\n",
       "      <td>Intel</td>\n",
       "    </tr>\n",
       "  </tbody>\n",
       "</table>\n",
       "</div>"
      ],
      "text/plain": [
       "  Company   TypeName  Ram                           Gpu  OpSys  Weight  \\\n",
       "0   Apple  Ultrabook    8  Intel Iris Plus Graphics 640  macOS    1.37   \n",
       "1   Apple  Ultrabook    8        Intel HD Graphics 6000  macOS    1.34   \n",
       "2      HP   Notebook    8         Intel HD Graphics 620  No OS    1.86   \n",
       "3   Apple  Ultrabook   16            AMD Radeon Pro 455  macOS    1.83   \n",
       "4   Apple  Ultrabook    8  Intel Iris Plus Graphics 650  macOS    1.37   \n",
       "\n",
       "         Price Resolution         PPI  TouchScreen  IPS      CPU Brand  \\\n",
       "0   71378.6832  2560x1600  226.983005            0    1  Intel Core i5   \n",
       "1   47895.5232   1440x900  127.677940            0    0  Intel Core i5   \n",
       "2   30636.0000  1920x1080  141.211998            0    0  Intel Core i5   \n",
       "3  135195.3360  2880x1800  220.534624            0    1  Intel Core i7   \n",
       "4   96095.8080  2560x1600  226.983005            0    1  Intel Core i5   \n",
       "\n",
       "   CPU GHz  SSD  HDD Gpu brand  \n",
       "0      2.3  128  128     Intel  \n",
       "1      1.8    0    0     Intel  \n",
       "2      2.5  256  256     Intel  \n",
       "3      2.7  512  512       AMD  \n",
       "4      3.1  256  256     Intel  "
      ]
     },
     "execution_count": 69,
     "metadata": {},
     "output_type": "execute_result"
    }
   ],
   "source": [
    "data.head()"
   ]
  },
  {
   "cell_type": "code",
   "execution_count": 70,
   "id": "146be4a5",
   "metadata": {},
   "outputs": [],
   "source": [
    "data = data[data['Gpu brand'] != 'ARM']"
   ]
  },
  {
   "cell_type": "code",
   "execution_count": 71,
   "id": "693e9664",
   "metadata": {},
   "outputs": [
    {
     "data": {
      "image/png": "[encoded data removed]",
      "text/plain": [
       "<Figure size 500x400 with 1 Axes>"
      ]
     },
     "metadata": {},
     "output_type": "display_data"
    }
   ],
   "source": [
    "plt.figure(figsize=(5,4))\n",
    "a = sns.countplot(x = \"Gpu brand\", data = data ,  palette='husl')\n",
    "plt.xticks(rotation = 90)\n",
    "a.bar_label(a.containers[0], fontsize=8);"
   ]
  },
  {
   "cell_type": "markdown",
   "id": "7bdf0029",
   "metadata": {},
   "source": [
    "**`Gpu brand` vs. `Price`**"
   ]
  },
  {
   "cell_type": "code",
   "execution_count": 72,
   "id": "e7b674ff",
   "metadata": {},
   "outputs": [
    {
     "data": {
      "image/png": "[encoded data removed]",
      "text/plain": [
       "<Figure size 500x400 with 1 Axes>"
      ]
     },
     "metadata": {},
     "output_type": "display_data"
    }
   ],
   "source": [
    "plt.figure(figsize=(5,4))\n",
    "sns.barplot(x= \"Gpu brand\", y= \"Price\", data = data,  palette='husl')\n",
    "plt.xticks(rotation = 90);"
   ]
  },
  {
   "cell_type": "markdown",
   "id": "797e6b13",
   "metadata": {},
   "source": [
    "**Observation:-**\n",
    "- Nvidia processor is expensive "
   ]
  },
  {
   "cell_type": "code",
   "execution_count": 73,
   "id": "429b7ab3",
   "metadata": {},
   "outputs": [],
   "source": [
    "data.drop(columns=[\"Gpu\"], inplace = True)"
   ]
  },
  {
   "cell_type": "markdown",
   "id": "3d5cfbae",
   "metadata": {},
   "source": [
    "## OpSys"
   ]
  },
  {
   "cell_type": "code",
   "execution_count": 74,
   "id": "98e0b55c",
   "metadata": {},
   "outputs": [
    {
     "data": {
      "text/plain": [
       "OpSys\n",
       "Windows 10      1072\n",
       "No OS             66\n",
       "Linux             62\n",
       "Windows 7         45\n",
       "Chrome OS         26\n",
       "macOS             13\n",
       "Mac OS X           8\n",
       "Windows 10 S       8\n",
       "Android            2\n",
       "Name: count, dtype: int64"
      ]
     },
     "execution_count": 74,
     "metadata": {},
     "output_type": "execute_result"
    }
   ],
   "source": [
    "data['OpSys'].value_counts()"
   ]
  },
  {
   "cell_type": "code",
   "execution_count": 75,
   "id": "c083f36b",
   "metadata": {},
   "outputs": [],
   "source": [
    "def cat_os(inp):\n",
    "    if inp == 'Windows 10' or inp == 'Windows 7' or inp == 'Windows 10 S':\n",
    "        return 'Windows'\n",
    "    elif inp == 'macOS' or inp == 'Mac OS X':\n",
    "        return 'Mac'\n",
    "    else:\n",
    "        return 'Others/No OS/Linux'"
   ]
  },
  {
   "cell_type": "code",
   "execution_count": 76,
   "id": "11c1081e",
   "metadata": {},
   "outputs": [],
   "source": [
    "# Creating new column os\n",
    "data['os'] = data['OpSys'].apply(cat_os)"
   ]
  },
  {
   "cell_type": "code",
   "execution_count": 77,
   "id": "06f33128",
   "metadata": {},
   "outputs": [],
   "source": [
    "# Dropping OpSys column\n",
    "data.drop(columns=['OpSys'],inplace=True)"
   ]
  },
  {
   "cell_type": "code",
   "execution_count": 78,
   "id": "75e37d72",
   "metadata": {},
   "outputs": [],
   "source": [
    "# Dropping OpSys column\n",
    "data.drop(columns=['Resolution'],inplace=True)"
   ]
  },
  {
   "cell_type": "code",
   "execution_count": 79,
   "id": "4b9acec5",
   "metadata": {},
   "outputs": [
    {
     "data": {
      "image/png": "[encoded data removed]",
      "text/plain": [
       "<Figure size 500x400 with 1 Axes>"
      ]
     },
     "metadata": {},
     "output_type": "display_data"
    }
   ],
   "source": [
    "plt.figure(figsize=(5,4))\n",
    "sns.barplot(x=data['os'],y=data['Price'], palette=\"husl\")\n",
    "plt.xticks(rotation='vertical')\n",
    "plt.show()"
   ]
  },
  {
   "cell_type": "markdown",
   "id": "5f778e6d",
   "metadata": {},
   "source": [
    "## Weight"
   ]
  },
  {
   "cell_type": "code",
   "execution_count": 80,
   "id": "e60efd60",
   "metadata": {},
   "outputs": [
    {
     "data": {
      "text/plain": [
       "<Axes: xlabel='Weight', ylabel='Density'>"
      ]
     },
     "execution_count": 80,
     "metadata": {},
     "output_type": "execute_result"
    },
    {
     "data": {
      "image/png": "[encoded data removed]",
      "text/plain": [
       "<Figure size 500x400 with 1 Axes>"
      ]
     },
     "metadata": {},
     "output_type": "display_data"
    }
   ],
   "source": [
    "# creating distplot\n",
    "plt.figure(figsize=(5,4))\n",
    "sns.distplot(data[\"Weight\"], color='purple')"
   ]
  },
  {
   "cell_type": "code",
   "execution_count": 81,
   "id": "a0fa889a",
   "metadata": {},
   "outputs": [
    {
     "data": {
      "text/plain": [
       "<Axes: xlabel='Weight', ylabel='Price'>"
      ]
     },
     "execution_count": 81,
     "metadata": {},
     "output_type": "execute_result"
    },
    {
     "data": {
      "image/png": "[encoded data removed]",
      "text/plain": [
       "<Figure size 500x400 with 1 Axes>"
      ]
     },
     "metadata": {},
     "output_type": "display_data"
    }
   ],
   "source": [
    "#  Creating scatterplot\n",
    "plt.figure(figsize=(5,4))\n",
    "sns.scatterplot(x=data['Weight'],y=data['Price'])"
   ]
  },
  {
   "cell_type": "code",
   "execution_count": 83,
   "id": "e11f9373",
   "metadata": {},
   "outputs": [],
   "source": [
    "# data.corr()[\"Price\"]"
   ]
  },
  {
   "cell_type": "code",
   "execution_count": 81,
   "id": "66dc5b38",
   "metadata": {},
   "outputs": [
    {
     "data": {
      "text/plain": [
       "<Axes: >"
      ]
     },
     "execution_count": 81,
     "metadata": {},
     "output_type": "execute_result"
    },
    {
     "data": {
      "image/png": "[encoded data removed]",
      "text/plain": [
       "<Figure size 640x480 with 2 Axes>"
      ]
     },
     "metadata": {},
     "output_type": "display_data"
    }
   ],
   "source": [
    "#  Heatmap to see correlation between variables\n",
    "sns.heatmap(data.corr(),annot=True,cmap=\"RdYlGn\")"
   ]
  },
  {
   "cell_type": "markdown",
   "id": "e0310cd2",
   "metadata": {},
   "source": [
    "**Separating Independent Variables(X) and Dependent Variable(y)**  "
   ]
  },
  {
   "cell_type": "code",
   "execution_count": 109,
   "id": "e74edcf9",
   "metadata": {},
   "outputs": [],
   "source": [
    "X = data.drop(columns = [\"Price\"])\n",
    "y = np.log(data[\"Price\"])"
   ]
  },
  {
   "cell_type": "code",
   "execution_count": 110,
   "id": "9189c16c",
   "metadata": {},
   "outputs": [
    {
     "data": {
      "text/html": [
       "<div>\n",
       "<style scoped>\n",
       "    .dataframe tbody tr th:only-of-type {\n",
       "        vertical-align: middle;\n",
       "    }\n",
       "\n",
       "    .dataframe tbody tr th {\n",
       "        vertical-align: top;\n",
       "    }\n",
       "\n",
       "    .dataframe thead th {\n",
       "        text-align: right;\n",
       "    }\n",
       "</style>\n",
       "<table border=\"1\" class=\"dataframe\">\n",
       "  <thead>\n",
       "    <tr style=\"text-align: right;\">\n",
       "      <th></th>\n",
       "      <th>Company</th>\n",
       "      <th>TypeName</th>\n",
       "      <th>Ram</th>\n",
       "      <th>Weight</th>\n",
       "      <th>PPI</th>\n",
       "      <th>TouchScreen</th>\n",
       "      <th>IPS</th>\n",
       "      <th>CPU Brand</th>\n",
       "      <th>CPU GHz</th>\n",
       "      <th>SSD</th>\n",
       "      <th>HDD</th>\n",
       "      <th>Gpu brand</th>\n",
       "      <th>os</th>\n",
       "    </tr>\n",
       "  </thead>\n",
       "  <tbody>\n",
       "    <tr>\n",
       "      <th>0</th>\n",
       "      <td>Apple</td>\n",
       "      <td>Ultrabook</td>\n",
       "      <td>8</td>\n",
       "      <td>1.37</td>\n",
       "      <td>226.983005</td>\n",
       "      <td>0</td>\n",
       "      <td>1</td>\n",
       "      <td>Intel Core i5</td>\n",
       "      <td>2.3</td>\n",
       "      <td>128</td>\n",
       "      <td>128</td>\n",
       "      <td>Intel</td>\n",
       "      <td>Mac</td>\n",
       "    </tr>\n",
       "    <tr>\n",
       "      <th>1</th>\n",
       "      <td>Apple</td>\n",
       "      <td>Ultrabook</td>\n",
       "      <td>8</td>\n",
       "      <td>1.34</td>\n",
       "      <td>127.677940</td>\n",
       "      <td>0</td>\n",
       "      <td>0</td>\n",
       "      <td>Intel Core i5</td>\n",
       "      <td>1.8</td>\n",
       "      <td>0</td>\n",
       "      <td>0</td>\n",
       "      <td>Intel</td>\n",
       "      <td>Mac</td>\n",
       "    </tr>\n",
       "    <tr>\n",
       "      <th>2</th>\n",
       "      <td>HP</td>\n",
       "      <td>Notebook</td>\n",
       "      <td>8</td>\n",
       "      <td>1.86</td>\n",
       "      <td>141.211998</td>\n",
       "      <td>0</td>\n",
       "      <td>0</td>\n",
       "      <td>Intel Core i5</td>\n",
       "      <td>2.5</td>\n",
       "      <td>256</td>\n",
       "      <td>256</td>\n",
       "      <td>Intel</td>\n",
       "      <td>Others/No OS/Linux</td>\n",
       "    </tr>\n",
       "    <tr>\n",
       "      <th>3</th>\n",
       "      <td>Apple</td>\n",
       "      <td>Ultrabook</td>\n",
       "      <td>16</td>\n",
       "      <td>1.83</td>\n",
       "      <td>220.534624</td>\n",
       "      <td>0</td>\n",
       "      <td>1</td>\n",
       "      <td>Intel Core i7</td>\n",
       "      <td>2.7</td>\n",
       "      <td>512</td>\n",
       "      <td>512</td>\n",
       "      <td>AMD</td>\n",
       "      <td>Mac</td>\n",
       "    </tr>\n",
       "    <tr>\n",
       "      <th>4</th>\n",
       "      <td>Apple</td>\n",
       "      <td>Ultrabook</td>\n",
       "      <td>8</td>\n",
       "      <td>1.37</td>\n",
       "      <td>226.983005</td>\n",
       "      <td>0</td>\n",
       "      <td>1</td>\n",
       "      <td>Intel Core i5</td>\n",
       "      <td>3.1</td>\n",
       "      <td>256</td>\n",
       "      <td>256</td>\n",
       "      <td>Intel</td>\n",
       "      <td>Mac</td>\n",
       "    </tr>\n",
       "  </tbody>\n",
       "</table>\n",
       "</div>"
      ],
      "text/plain": [
       "  Company   TypeName  Ram  Weight         PPI  TouchScreen  IPS  \\\n",
       "0   Apple  Ultrabook    8    1.37  226.983005            0    1   \n",
       "1   Apple  Ultrabook    8    1.34  127.677940            0    0   \n",
       "2      HP   Notebook    8    1.86  141.211998            0    0   \n",
       "3   Apple  Ultrabook   16    1.83  220.534624            0    1   \n",
       "4   Apple  Ultrabook    8    1.37  226.983005            0    1   \n",
       "\n",
       "       CPU Brand  CPU GHz  SSD  HDD Gpu brand                  os  \n",
       "0  Intel Core i5      2.3  128  128     Intel                 Mac  \n",
       "1  Intel Core i5      1.8    0    0     Intel                 Mac  \n",
       "2  Intel Core i5      2.5  256  256     Intel  Others/No OS/Linux  \n",
       "3  Intel Core i7      2.7  512  512       AMD                 Mac  \n",
       "4  Intel Core i5      3.1  256  256     Intel                 Mac  "
      ]
     },
     "execution_count": 110,
     "metadata": {},
     "output_type": "execute_result"
    }
   ],
   "source": [
    "X.head()"
   ]
  },
  {
   "cell_type": "code",
   "execution_count": 111,
   "id": "4263b98a",
   "metadata": {},
   "outputs": [],
   "source": [
    "from sklearn.preprocessing import StandardScaler, LabelEncoder\n",
    "scaler = StandardScaler()\n",
    "LR = LabelEncoder()"
   ]
  },
  {
   "cell_type": "code",
   "execution_count": 112,
   "id": "ea178256",
   "metadata": {},
   "outputs": [
    {
     "data": {
      "text/html": [
       "<style>#sk-container-id-1 {\n",
       "  /* Definition of color scheme common for light and dark mode */\n",
       "  --sklearn-color-text: #000;\n",
       "  --sklearn-color-text-muted: #666;\n",
       "  --sklearn-color-line: gray;\n",
       "  /* Definition of color scheme for unfitted estimators */\n",
       "  --sklearn-color-unfitted-level-0: #fff5e6;\n",
       "  --sklearn-color-unfitted-level-1: #f6e4d2;\n",
       "  --sklearn-color-unfitted-level-2: #ffe0b3;\n",
       "  --sklearn-color-unfitted-level-3: chocolate;\n",
       "  /* Definition of color scheme for fitted estimators */\n",
       "  --sklearn-color-fitted-level-0: #f0f8ff;\n",
       "  --sklearn-color-fitted-level-1: #d4ebff;\n",
       "  --sklearn-color-fitted-level-2: #b3dbfd;\n",
       "  --sklearn-color-fitted-level-3: cornflowerblue;\n",
       "\n",
       "  /* Specific color for light theme */\n",
       "  --sklearn-color-text-on-default-background: var(--sg-text-color, var(--theme-code-foreground, var(--jp-content-font-color1, black)));\n",
       "  --sklearn-color-background: var(--sg-background-color, var(--theme-background, var(--jp-layout-color0, white)));\n",
       "  --sklearn-color-border-box: var(--sg-text-color, var(--theme-code-foreground, var(--jp-content-font-color1, black)));\n",
       "  --sklearn-color-icon: #696969;\n",
       "\n",
       "  @media (prefers-color-scheme: dark) {\n",
       "    /* Redefinition of color scheme for dark theme */\n",
       "    --sklearn-color-text-on-default-background: var(--sg-text-color, var(--theme-code-foreground, var(--jp-content-font-color1, white)));\n",
       "    --sklearn-color-background: var(--sg-background-color, var(--theme-background, var(--jp-layout-color0, #111)));\n",
       "    --sklearn-color-border-box: var(--sg-text-color, var(--theme-code-foreground, var(--jp-content-font-color1, white)));\n",
       "    --sklearn-color-icon: #878787;\n",
       "  }\n",
       "}\n",
       "\n",
       "#sk-container-id-1 {\n",
       "  color: var(--sklearn-color-text);\n",
       "}\n",
       "\n",
       "#sk-container-id-1 pre {\n",
       "  padding: 0;\n",
       "}\n",
       "\n",
       "#sk-container-id-1 input.sk-hidden--visually {\n",
       "  border: 0;\n",
       "  clip: rect(1px 1px 1px 1px);\n",
       "  clip: rect(1px, 1px, 1px, 1px);\n",
       "  height: 1px;\n",
       "  margin: -1px;\n",
       "  overflow: hidden;\n",
       "  padding: 0;\n",
       "  position: absolute;\n",
       "  width: 1px;\n",
       "}\n",
       "\n",
       "#sk-container-id-1 div.sk-dashed-wrapped {\n",
       "  border: 1px dashed var(--sklearn-color-line);\n",
       "  margin: 0 0.4em 0.5em 0.4em;\n",
       "  box-sizing: border-box;\n",
       "  padding-bottom: 0.4em;\n",
       "  background-color: var(--sklearn-color-background);\n",
       "}\n",
       "\n",
       "#sk-container-id-1 div.sk-container {\n",
       "  /* jupyter's `normalize.less` sets `[hidden] { display: none; }`\n",
       "     but bootstrap.min.css set `[hidden] { display: none !important; }`\n",
       "     so we also need the `!important` here to be able to override the\n",
       "     default hidden behavior on the sphinx rendered scikit-learn.org.\n",
       "     See: https://github.com/scikit-learn/scikit-learn/issues/21755 */\n",
       "  display: inline-block !important;\n",
       "  position: relative;\n",
       "}\n",
       "\n",
       "#sk-container-id-1 div.sk-text-repr-fallback {\n",
       "  display: none;\n",
       "}\n",
       "\n",
       "div.sk-parallel-item,\n",
       "div.sk-serial,\n",
       "div.sk-item {\n",
       "  /* draw centered vertical line to link estimators */\n",
       "  background-image: linear-gradient(var(--sklearn-color-text-on-default-background), var(--sklearn-color-text-on-default-background));\n",
       "  background-size: 2px 100%;\n",
       "  background-repeat: no-repeat;\n",
       "  background-position: center center;\n",
       "}\n",
       "\n",
       "/* Parallel-specific style estimator block */\n",
       "\n",
       "#sk-container-id-1 div.sk-parallel-item::after {\n",
       "  content: \"\";\n",
       "  width: 100%;\n",
       "  border-bottom: 2px solid var(--sklearn-color-text-on-default-background);\n",
       "  flex-grow: 1;\n",
       "}\n",
       "\n",
       "#sk-container-id-1 div.sk-parallel {\n",
       "  display: flex;\n",
       "  align-items: stretch;\n",
       "  justify-content: center;\n",
       "  background-color: var(--sklearn-color-background);\n",
       "  position: relative;\n",
       "}\n",
       "\n",
       "#sk-container-id-1 div.sk-parallel-item {\n",
       "  display: flex;\n",
       "  flex-direction: column;\n",
       "}\n",
       "\n",
       "#sk-container-id-1 div.sk-parallel-item:first-child::after {\n",
       "  align-self: flex-end;\n",
       "  width: 50%;\n",
       "}\n",
       "\n",
       "#sk-container-id-1 div.sk-parallel-item:last-child::after {\n",
       "  align-self: flex-start;\n",
       "  width: 50%;\n",
       "}\n",
       "\n",
       "#sk-container-id-1 div.sk-parallel-item:only-child::after {\n",
       "  width: 0;\n",
       "}\n",
       "\n",
       "/* Serial-specific style estimator block */\n",
       "\n",
       "#sk-container-id-1 div.sk-serial {\n",
       "  display: flex;\n",
       "  flex-direction: column;\n",
       "  align-items: center;\n",
       "  background-color: var(--sklearn-color-background);\n",
       "  padding-right: 1em;\n",
       "  padding-left: 1em;\n",
       "}\n",
       "\n",
       "\n",
       "/* Toggleable style: style used for estimator/Pipeline/ColumnTransformer box that is\n",
       "clickable and can be expanded/collapsed.\n",
       "- Pipeline and ColumnTransformer use this feature and define the default style\n",
       "- Estimators will overwrite some part of the style using the `sk-estimator` class\n",
       "*/\n",
       "\n",
       "/* Pipeline and ColumnTransformer style (default) */\n",
       "\n",
       "#sk-container-id-1 div.sk-toggleable {\n",
       "  /* Default theme specific background. It is overwritten whether we have a\n",
       "  specific estimator or a Pipeline/ColumnTransformer */\n",
       "  background-color: var(--sklearn-color-background);\n",
       "}\n",
       "\n",
       "/* Toggleable label */\n",
       "#sk-container-id-1 label.sk-toggleable__label {\n",
       "  cursor: pointer;\n",
       "  display: flex;\n",
       "  width: 100%;\n",
       "  margin-bottom: 0;\n",
       "  padding: 0.5em;\n",
       "  box-sizing: border-box;\n",
       "  text-align: center;\n",
       "  align-items: start;\n",
       "  justify-content: space-between;\n",
       "  gap: 0.5em;\n",
       "}\n",
       "\n",
       "#sk-container-id-1 label.sk-toggleable__label .caption {\n",
       "  font-size: 0.6rem;\n",
       "  font-weight: lighter;\n",
       "  color: var(--sklearn-color-text-muted);\n",
       "}\n",
       "\n",
       "#sk-container-id-1 label.sk-toggleable__label-arrow:before {\n",
       "  /* Arrow on the left of the label */\n",
       "  content: \"▸\";\n",
       "  float: left;\n",
       "  margin-right: 0.25em;\n",
       "  color: var(--sklearn-color-icon);\n",
       "}\n",
       "\n",
       "#sk-container-id-1 label.sk-toggleable__label-arrow:hover:before {\n",
       "  color: var(--sklearn-color-text);\n",
       "}\n",
       "\n",
       "/* Toggleable content - dropdown */\n",
       "\n",
       "#sk-container-id-1 div.sk-toggleable__content {\n",
       "  max-height: 0;\n",
       "  max-width: 0;\n",
       "  overflow: hidden;\n",
       "  text-align: left;\n",
       "  /* unfitted */\n",
       "  background-color: var(--sklearn-color-unfitted-level-0);\n",
       "}\n",
       "\n",
       "#sk-container-id-1 div.sk-toggleable__content.fitted {\n",
       "  /* fitted */\n",
       "  background-color: var(--sklearn-color-fitted-level-0);\n",
       "}\n",
       "\n",
       "#sk-container-id-1 div.sk-toggleable__content pre {\n",
       "  margin: 0.2em;\n",
       "  border-radius: 0.25em;\n",
       "  color: var(--sklearn-color-text);\n",
       "  /* unfitted */\n",
       "  background-color: var(--sklearn-color-unfitted-level-0);\n",
       "}\n",
       "\n",
       "#sk-container-id-1 div.sk-toggleable__content.fitted pre {\n",
       "  /* unfitted */\n",
       "  background-color: var(--sklearn-color-fitted-level-0);\n",
       "}\n",
       "\n",
       "#sk-container-id-1 input.sk-toggleable__control:checked~div.sk-toggleable__content {\n",
       "  /* Expand drop-down */\n",
       "  max-height: 200px;\n",
       "  max-width: 100%;\n",
       "  overflow: auto;\n",
       "}\n",
       "\n",
       "#sk-container-id-1 input.sk-toggleable__control:checked~label.sk-toggleable__label-arrow:before {\n",
       "  content: \"▾\";\n",
       "}\n",
       "\n",
       "/* Pipeline/ColumnTransformer-specific style */\n",
       "\n",
       "#sk-container-id-1 div.sk-label input.sk-toggleable__control:checked~label.sk-toggleable__label {\n",
       "  color: var(--sklearn-color-text);\n",
       "  background-color: var(--sklearn-color-unfitted-level-2);\n",
       "}\n",
       "\n",
       "#sk-container-id-1 div.sk-label.fitted input.sk-toggleable__control:checked~label.sk-toggleable__label {\n",
       "  background-color: var(--sklearn-color-fitted-level-2);\n",
       "}\n",
       "\n",
       "/* Estimator-specific style */\n",
       "\n",
       "/* Colorize estimator box */\n",
       "#sk-container-id-1 div.sk-estimator input.sk-toggleable__control:checked~label.sk-toggleable__label {\n",
       "  /* unfitted */\n",
       "  background-color: var(--sklearn-color-unfitted-level-2);\n",
       "}\n",
       "\n",
       "#sk-container-id-1 div.sk-estimator.fitted input.sk-toggleable__control:checked~label.sk-toggleable__label {\n",
       "  /* fitted */\n",
       "  background-color: var(--sklearn-color-fitted-level-2);\n",
       "}\n",
       "\n",
       "#sk-container-id-1 div.sk-label label.sk-toggleable__label,\n",
       "#sk-container-id-1 div.sk-label label {\n",
       "  /* The background is the default theme color */\n",
       "  color: var(--sklearn-color-text-on-default-background);\n",
       "}\n",
       "\n",
       "/* On hover, darken the color of the background */\n",
       "#sk-container-id-1 div.sk-label:hover label.sk-toggleable__label {\n",
       "  color: var(--sklearn-color-text);\n",
       "  background-color: var(--sklearn-color-unfitted-level-2);\n",
       "}\n",
       "\n",
       "/* Label box, darken color on hover, fitted */\n",
       "#sk-container-id-1 div.sk-label.fitted:hover label.sk-toggleable__label.fitted {\n",
       "  color: var(--sklearn-color-text);\n",
       "  background-color: var(--sklearn-color-fitted-level-2);\n",
       "}\n",
       "\n",
       "/* Estimator label */\n",
       "\n",
       "#sk-container-id-1 div.sk-label label {\n",
       "  font-family: monospace;\n",
       "  font-weight: bold;\n",
       "  display: inline-block;\n",
       "  line-height: 1.2em;\n",
       "}\n",
       "\n",
       "#sk-container-id-1 div.sk-label-container {\n",
       "  text-align: center;\n",
       "}\n",
       "\n",
       "/* Estimator-specific */\n",
       "#sk-container-id-1 div.sk-estimator {\n",
       "  font-family: monospace;\n",
       "  border: 1px dotted var(--sklearn-color-border-box);\n",
       "  border-radius: 0.25em;\n",
       "  box-sizing: border-box;\n",
       "  margin-bottom: 0.5em;\n",
       "  /* unfitted */\n",
       "  background-color: var(--sklearn-color-unfitted-level-0);\n",
       "}\n",
       "\n",
       "#sk-container-id-1 div.sk-estimator.fitted {\n",
       "  /* fitted */\n",
       "  background-color: var(--sklearn-color-fitted-level-0);\n",
       "}\n",
       "\n",
       "/* on hover */\n",
       "#sk-container-id-1 div.sk-estimator:hover {\n",
       "  /* unfitted */\n",
       "  background-color: var(--sklearn-color-unfitted-level-2);\n",
       "}\n",
       "\n",
       "#sk-container-id-1 div.sk-estimator.fitted:hover {\n",
       "  /* fitted */\n",
       "  background-color: var(--sklearn-color-fitted-level-2);\n",
       "}\n",
       "\n",
       "/* Specification for estimator info (e.g. \"i\" and \"?\") */\n",
       "\n",
       "/* Common style for \"i\" and \"?\" */\n",
       "\n",
       ".sk-estimator-doc-link,\n",
       "a:link.sk-estimator-doc-link,\n",
       "a:visited.sk-estimator-doc-link {\n",
       "  float: right;\n",
       "  font-size: smaller;\n",
       "  line-height: 1em;\n",
       "  font-family: monospace;\n",
       "  background-color: var(--sklearn-color-background);\n",
       "  border-radius: 1em;\n",
       "  height: 1em;\n",
       "  width: 1em;\n",
       "  text-decoration: none !important;\n",
       "  margin-left: 0.5em;\n",
       "  text-align: center;\n",
       "  /* unfitted */\n",
       "  border: var(--sklearn-color-unfitted-level-1) 1pt solid;\n",
       "  color: var(--sklearn-color-unfitted-level-1);\n",
       "}\n",
       "\n",
       ".sk-estimator-doc-link.fitted,\n",
       "a:link.sk-estimator-doc-link.fitted,\n",
       "a:visited.sk-estimator-doc-link.fitted {\n",
       "  /* fitted */\n",
       "  border: var(--sklearn-color-fitted-level-1) 1pt solid;\n",
       "  color: var(--sklearn-color-fitted-level-1);\n",
       "}\n",
       "\n",
       "/* On hover */\n",
       "div.sk-estimator:hover .sk-estimator-doc-link:hover,\n",
       ".sk-estimator-doc-link:hover,\n",
       "div.sk-label-container:hover .sk-estimator-doc-link:hover,\n",
       ".sk-estimator-doc-link:hover {\n",
       "  /* unfitted */\n",
       "  background-color: var(--sklearn-color-unfitted-level-3);\n",
       "  color: var(--sklearn-color-background);\n",
       "  text-decoration: none;\n",
       "}\n",
       "\n",
       "div.sk-estimator.fitted:hover .sk-estimator-doc-link.fitted:hover,\n",
       ".sk-estimator-doc-link.fitted:hover,\n",
       "div.sk-label-container:hover .sk-estimator-doc-link.fitted:hover,\n",
       ".sk-estimator-doc-link.fitted:hover {\n",
       "  /* fitted */\n",
       "  background-color: var(--sklearn-color-fitted-level-3);\n",
       "  color: var(--sklearn-color-background);\n",
       "  text-decoration: none;\n",
       "}\n",
       "\n",
       "/* Span, style for the box shown on hovering the info icon */\n",
       ".sk-estimator-doc-link span {\n",
       "  display: none;\n",
       "  z-index: 9999;\n",
       "  position: relative;\n",
       "  font-weight: normal;\n",
       "  right: .2ex;\n",
       "  padding: .5ex;\n",
       "  margin: .5ex;\n",
       "  width: min-content;\n",
       "  min-width: 20ex;\n",
       "  max-width: 50ex;\n",
       "  color: var(--sklearn-color-text);\n",
       "  box-shadow: 2pt 2pt 4pt #999;\n",
       "  /* unfitted */\n",
       "  background: var(--sklearn-color-unfitted-level-0);\n",
       "  border: .5pt solid var(--sklearn-color-unfitted-level-3);\n",
       "}\n",
       "\n",
       ".sk-estimator-doc-link.fitted span {\n",
       "  /* fitted */\n",
       "  background: var(--sklearn-color-fitted-level-0);\n",
       "  border: var(--sklearn-color-fitted-level-3);\n",
       "}\n",
       "\n",
       ".sk-estimator-doc-link:hover span {\n",
       "  display: block;\n",
       "}\n",
       "\n",
       "/* \"?\"-specific style due to the `<a>` HTML tag */\n",
       "\n",
       "#sk-container-id-1 a.estimator_doc_link {\n",
       "  float: right;\n",
       "  font-size: 1rem;\n",
       "  line-height: 1em;\n",
       "  font-family: monospace;\n",
       "  background-color: var(--sklearn-color-background);\n",
       "  border-radius: 1rem;\n",
       "  height: 1rem;\n",
       "  width: 1rem;\n",
       "  text-decoration: none;\n",
       "  /* unfitted */\n",
       "  color: var(--sklearn-color-unfitted-level-1);\n",
       "  border: var(--sklearn-color-unfitted-level-1) 1pt solid;\n",
       "}\n",
       "\n",
       "#sk-container-id-1 a.estimator_doc_link.fitted {\n",
       "  /* fitted */\n",
       "  border: var(--sklearn-color-fitted-level-1) 1pt solid;\n",
       "  color: var(--sklearn-color-fitted-level-1);\n",
       "}\n",
       "\n",
       "/* On hover */\n",
       "#sk-container-id-1 a.estimator_doc_link:hover {\n",
       "  /* unfitted */\n",
       "  background-color: var(--sklearn-color-unfitted-level-3);\n",
       "  color: var(--sklearn-color-background);\n",
       "  text-decoration: none;\n",
       "}\n",
       "\n",
       "#sk-container-id-1 a.estimator_doc_link.fitted:hover {\n",
       "  /* fitted */\n",
       "  background-color: var(--sklearn-color-fitted-level-3);\n",
       "}\n",
       "</style><div id=\"sk-container-id-1\" class=\"sk-top-container\"><div class=\"sk-text-repr-fallback\"><pre>OneHotEncoder()</pre><b>In a Jupyter environment, please rerun this cell to show the HTML representation or trust the notebook. <br />On GitHub, the HTML representation is unable to render, please try loading this page with nbviewer.org.</b></div><div class=\"sk-container\" hidden><div class=\"sk-item\"><div class=\"sk-estimator fitted sk-toggleable\"><input class=\"sk-toggleable__control sk-hidden--visually\" id=\"sk-estimator-id-1\" type=\"checkbox\" checked><label for=\"sk-estimator-id-1\" class=\"sk-toggleable__label fitted sk-toggleable__label-arrow\"><div><div>OneHotEncoder</div></div><div><a class=\"sk-estimator-doc-link fitted\" rel=\"noreferrer\" target=\"_blank\" href=\"https://scikit-learn.org/1.6/modules/generated/sklearn.preprocessing.OneHotEncoder.html\">?<span>Documentation for OneHotEncoder</span></a><span class=\"sk-estimator-doc-link fitted\">i<span>Fitted</span></span></div></label><div class=\"sk-toggleable__content fitted\"><pre>OneHotEncoder()</pre></div> </div></div></div></div>"
      ],
      "text/plain": [
       "OneHotEncoder()"
      ]
     },
     "execution_count": 112,
     "metadata": {},
     "output_type": "execute_result"
    }
   ],
   "source": [
    "# Using OneHotEncoder\n",
    "from sklearn.preprocessing import OneHotEncoder\n",
    "from sklearn.compose import ColumnTransformer\n",
    "\n",
    "col = [\"Company\", \"TypeName\", \"CPU Brand\",\"Gpu brand\",\"os\"]\n",
    "kk  = OneHotEncoder()\n",
    "kk.fit(X[[\"Company\", \"TypeName\", \"CPU Brand\",\"Gpu brand\",\"os\"]])"
   ]
  },
  {
   "cell_type": "code",
   "execution_count": 113,
   "id": "76ccdfb0",
   "metadata": {},
   "outputs": [
    {
     "data": {
      "text/plain": [
       "[array(['Acer', 'Apple', 'Asus', 'Chuwi', 'Dell', 'Fujitsu', 'Google',\n",
       "        'HP', 'Huawei', 'LG', 'Lenovo', 'MSI', 'Mediacom', 'Microsoft',\n",
       "        'Razer', 'Samsung', 'Toshiba', 'Vero', 'Xiaomi'], dtype=object),\n",
       " array(['2 in 1 Convertible', 'Gaming', 'Netbook', 'Notebook', 'Ultrabook',\n",
       "        'Workstation'], dtype=object),\n",
       " array(['AMD Processor', 'Intel Core i3', 'Intel Core i5', 'Intel Core i7',\n",
       "        'Other Intel Processor'], dtype=object),\n",
       " array(['AMD', 'Intel', 'Nvidia'], dtype=object),\n",
       " array(['Mac', 'Others/No OS/Linux', 'Windows'], dtype=object)]"
      ]
     },
     "execution_count": 113,
     "metadata": {},
     "output_type": "execute_result"
    }
   ],
   "source": [
    "kk.categories_"
   ]
  },
  {
   "cell_type": "code",
   "execution_count": 116,
   "id": "eda4b5a4",
   "metadata": {},
   "outputs": [],
   "source": [
    "#  Importing libraries \n",
    "from sklearn.linear_model import LinearRegression,Ridge,Lasso\n",
    "from sklearn.neighbors import KNeighborsRegressor\n",
    "from sklearn.tree import DecisionTreeRegressor\n",
    "from sklearn.ensemble import RandomForestRegressor,GradientBoostingRegressor,AdaBoostRegressor,ExtraTreesRegressor\n",
    "from sklearn.svm import SVR\n",
    "from xgboost import XGBRegressor\n",
    "\n",
    "from sklearn.metrics import mean_absolute_error\n",
    "from sklearn.metrics import mean_squared_error, r2_score\n",
    "from sklearn.pipeline import Pipeline\n",
    "\n",
    "from sklearn.model_selection import train_test_split\n",
    "X_train, X_test, y_train, y_test = train_test_split(X,y, test_size=0.20, random_state=42)"
   ]
  },
  {
   "cell_type": "code",
   "execution_count": 117,
   "id": "61f5b8cd",
   "metadata": {},
   "outputs": [],
   "source": [
    "OHE = OneHotEncoder(drop = \"first\", categories=kk.categories_)\n",
    "step1 = ColumnTransformer([(\"one_hot\", OHE , col)], remainder = \"passthrough\")"
   ]
  },
  {
   "cell_type": "markdown",
   "id": "8c4731f0",
   "metadata": {},
   "source": [
    "## LinearRegression"
   ]
  },
  {
   "cell_type": "code",
   "execution_count": 118,
   "id": "6b1b376c",
   "metadata": {},
   "outputs": [
    {
     "name": "stdout",
     "output_type": "stream",
     "text": [
      "Mean Squared Error: 0.06963631657216819\n",
      "R-squared Score: 0.8192643114630428\n"
     ]
    }
   ],
   "source": [
    "step2 = LinearRegression()\n",
    "\n",
    "pipe = Pipeline([(\"step1\",step1),(\"step2\",step2)])\n",
    "pipe.fit(X_train, y_train)\n",
    "\n",
    "predictions = pipe.predict(X_test)\n",
    "\n",
    "mse = mean_squared_error(y_test, predictions)\n",
    "print(\"Mean Squared Error:\", mse)\n",
    "r2 = r2_score(y_test, predictions)\n",
    "print(\"R-squared Score:\", r2)"
   ]
  },
  {
   "cell_type": "markdown",
   "id": "9082a8dd",
   "metadata": {},
   "source": [
    "## Ridge Regression"
   ]
  },
  {
   "cell_type": "code",
   "execution_count": 119,
   "id": "72e3b81e",
   "metadata": {},
   "outputs": [
    {
     "name": "stdout",
     "output_type": "stream",
     "text": [
      "Mean Squared Error: 0.07218183587291688\n",
      "R-squared Score: 0.8126576124566682\n"
     ]
    }
   ],
   "source": [
    "step2 = Ridge(alpha=10)\n",
    "\n",
    "pipe = Pipeline([(\"step1\",step1),(\"step2\",step2)])\n",
    "pipe.fit(X_train, y_train)\n",
    "\n",
    "predictions = pipe.predict(X_test)\n",
    "\n",
    "mse = mean_squared_error(y_test, predictions)\n",
    "print(\"Mean Squared Error:\", mse)\n",
    "r2 = r2_score(y_test, predictions)\n",
    "print(\"R-squared Score:\", r2)"
   ]
  },
  {
   "cell_type": "markdown",
   "id": "2611ae5b",
   "metadata": {},
   "source": [
    "## Lasso Regression"
   ]
  },
  {
   "cell_type": "code",
   "execution_count": 120,
   "id": "d260545e",
   "metadata": {},
   "outputs": [
    {
     "name": "stdout",
     "output_type": "stream",
     "text": [
      "Mean Squared Error: 0.07042436534214282\n",
      "R-squared Score: 0.8172189916636468\n"
     ]
    }
   ],
   "source": [
    "step2 = Lasso(alpha=0.001)\n",
    "\n",
    "pipe = Pipeline([(\"step1\",step1),(\"step2\",step2)])\n",
    "pipe.fit(X_train, y_train)\n",
    "\n",
    "predictions = pipe.predict(X_test)\n",
    "\n",
    "mse = mean_squared_error(y_test, predictions)\n",
    "print(\"Mean Squared Error:\", mse)\n",
    "r2 = r2_score(y_test, predictions)\n",
    "print(\"R-squared Score:\", r2)"
   ]
  },
  {
   "cell_type": "markdown",
   "id": "6e1bd70d",
   "metadata": {},
   "source": [
    "## KNeighbors Regressor"
   ]
  },
  {
   "cell_type": "code",
   "execution_count": 121,
   "id": "08cc2069",
   "metadata": {},
   "outputs": [
    {
     "name": "stdout",
     "output_type": "stream",
     "text": [
      "Mean Squared Error: 0.0809569061861965\n",
      "R-squared Score: 0.7898825942894283\n"
     ]
    }
   ],
   "source": [
    "step2 = KNeighborsRegressor(n_neighbors=3)\n",
    "\n",
    "pipe = Pipeline([(\"step1\",step1),(\"step2\",step2)])\n",
    "pipe.fit(X_train, y_train)\n",
    "\n",
    "predictions = pipe.predict(X_test)\n",
    "\n",
    "mse = mean_squared_error(y_test, predictions)\n",
    "print(\"Mean Squared Error:\", mse)\n",
    "r2 = r2_score(y_test, predictions)\n",
    "print(\"R-squared Score:\", r2)"
   ]
  },
  {
   "cell_type": "markdown",
   "id": "b071a6f4",
   "metadata": {},
   "source": [
    "## DecisionTreeRegressor"
   ]
  },
  {
   "cell_type": "code",
   "execution_count": 122,
   "id": "0d1135d8",
   "metadata": {},
   "outputs": [
    {
     "name": "stdout",
     "output_type": "stream",
     "text": [
      "Mean Squared Error: 0.0655330723564472\n",
      "R-squared Score: 0.8299139653371826\n"
     ]
    }
   ],
   "source": [
    "step2 = DecisionTreeRegressor(max_depth=8)\n",
    "\n",
    "pipe = Pipeline([(\"step1\",step1),(\"step2\",step2)])\n",
    "pipe.fit(X_train, y_train)\n",
    "\n",
    "predictions = pipe.predict(X_test)\n",
    "\n",
    "mse = mean_squared_error(y_test, predictions)\n",
    "print(\"Mean Squared Error:\", mse)\n",
    "r2 = r2_score(y_test, predictions)\n",
    "print(\"R-squared Score:\", r2)"
   ]
  },
  {
   "cell_type": "markdown",
   "id": "64545404",
   "metadata": {},
   "source": [
    "## RandomForestRegressor"
   ]
  },
  {
   "cell_type": "code",
   "execution_count": 123,
   "id": "c7d219dc",
   "metadata": {},
   "outputs": [
    {
     "name": "stdout",
     "output_type": "stream",
     "text": [
      "Mean Squared Error: 0.040915792595389626\n",
      "R-squared Score: 0.8938062161989964\n"
     ]
    }
   ],
   "source": [
    "step2 = RandomForestRegressor()\n",
    "\n",
    "pipe = Pipeline([(\"step1\",step1),(\"step2\",step2)])\n",
    "pipe.fit(X_train, y_train)\n",
    "\n",
    "predictions = pipe.predict(X_test)\n",
    "\n",
    "mse = mean_squared_error(y_test, predictions)\n",
    "print(\"Mean Squared Error:\", mse)\n",
    "r2 = r2_score(y_test, predictions)\n",
    "print(\"R-squared Score:\", r2)"
   ]
  },
  {
   "cell_type": "markdown",
   "id": "e3ea3325",
   "metadata": {},
   "source": [
    "## Ada Boost"
   ]
  },
  {
   "cell_type": "code",
   "execution_count": 128,
   "id": "7e68a94a",
   "metadata": {},
   "outputs": [
    {
     "name": "stdout",
     "output_type": "stream",
     "text": [
      "Mean Squared Error: 0.07889861324463074\n",
      "R-squared Score: 0.7952247348608514\n"
     ]
    }
   ],
   "source": [
    "from sklearn.impute import SimpleImputer\n",
    "\n",
    "# Create AdaBoost regressor\n",
    "step2 = AdaBoostRegressor()\n",
    "\n",
    "pipe = Pipeline([(\"step1\",step1),(\"step2\",step2)])\n",
    "pipe.fit(X_train, y_train)\n",
    "\n",
    "predictions = pipe.predict(X_test)\n",
    "\n",
    "mse = mean_squared_error(y_test, predictions)\n",
    "print(\"Mean Squared Error:\", mse)\n",
    "r2 = r2_score(y_test, predictions)\n",
    "print(\"R-squared Score:\", r2)"
   ]
  },
  {
   "cell_type": "markdown",
   "id": "3e8dc826",
   "metadata": {},
   "source": [
    "## Xg Boost"
   ]
  },
  {
   "cell_type": "code",
   "execution_count": 129,
   "id": "cb755d1c",
   "metadata": {},
   "outputs": [
    {
     "name": "stdout",
     "output_type": "stream",
     "text": [
      "Mean Squared Error: 0.03618994225331254\n",
      "R-squared Score: 0.9060717962517943\n"
     ]
    }
   ],
   "source": [
    "# Importing necessary libraries\n",
    "import xgboost as xgb\n",
    "\n",
    "step2 = xgb.XGBRegressor(params = {\n",
    "    'objective': 'reg:squarederror',  # objective function for regression\n",
    "    'eta': 0.1,  # learning rate\n",
    "    'max_depth': 5,  # maximum depth of the tree\n",
    "    'min_child_weight': 1,  # minimum sum of instance weight needed in a child\n",
    "    'subsample': 0.7,  # subsample ratio of the training instance\n",
    "    'colsample_bytree': 0.7,  # subsample ratio of columns when constructing each tree\n",
    "    'seed': 42  # random seed\n",
    "})\n",
    "\n",
    "pipe1 = Pipeline([(\"step1\",step1),(\"step2\",step2)])\n",
    "pipe1.fit(X_train, y_train)\n",
    "\n",
    "predictions = pipe1.predict(X_test)\n",
    "\n",
    "mse = mean_squared_error(y_test, predictions)\n",
    "print(\"Mean Squared Error:\", mse)\n",
    "r2 = r2_score(y_test, predictions)\n",
    "print(\"R-squared Score:\", r2)"
   ]
  },
  {
   "cell_type": "markdown",
   "id": "7e7f2792",
   "metadata": {},
   "source": [
    "## GradientBoostingRegressor"
   ]
  },
  {
   "cell_type": "code",
   "execution_count": 127,
   "id": "59ea0781",
   "metadata": {},
   "outputs": [
    {
     "name": "stdout",
     "output_type": "stream",
     "text": [
      "Mean Squared Error: 0.04094065943616872\n",
      "R-squared Score: 0.8937416762317612\n"
     ]
    }
   ],
   "source": [
    "from sklearn.ensemble import GradientBoostingRegressor\n",
    "\n",
    "# Creating a Gradient Boosting regressor\n",
    "step2 = GradientBoostingRegressor(n_estimators=100, learning_rate=0.1, max_depth=5, random_state=42)\n",
    "\n",
    "pipe = Pipeline([(\"step1\",step1),(\"step2\",step2)])\n",
    "pipe.fit(X_train, y_train)\n",
    "\n",
    "predictions = pipe.predict(X_test)\n",
    "\n",
    "mse = mean_squared_error(y_test, predictions)\n",
    "print(\"Mean Squared Error:\", mse)\n",
    "r2 = r2_score(y_test, predictions)\n",
    "print(\"R-squared Score:\", r2)"
   ]
  },
  {
   "cell_type": "markdown",
   "id": "d65ed16e",
   "metadata": {},
   "source": [
    "## Final Conclusion\n",
    "**I have tried several models in which XGboost gives the best Accuracy of around 90% \n",
    "so, I will be taking XGboost as my final model as it gives the best result compare to \n",
    "other machine learning models**"
   ]
  },
  {
   "cell_type": "markdown",
   "id": "0677aa86",
   "metadata": {},
   "source": [
    "Expoting the file"
   ]
  },
  {
   "cell_type": "code",
   "execution_count": 103,
   "id": "655cb78a",
   "metadata": {},
   "outputs": [],
   "source": [
    "import pickle"
   ]
  },
  {
   "cell_type": "code",
   "execution_count": 104,
   "id": "d262bbee",
   "metadata": {},
   "outputs": [],
   "source": [
    "pickle.dump(data,open(\"data.pkl\" ,\"wb\") )"
   ]
  },
  {
   "cell_type": "code",
   "execution_count": 130,
   "id": "085a1cf7",
   "metadata": {},
   "outputs": [],
   "source": [
    "pickle.dump(pipe1,open(\"model2.pkl\" ,\"wb\") )"
   ]
  },
  {
   "cell_type": "code",
   "execution_count": null,
   "id": "8a7e0155",
   "metadata": {},
   "outputs": [],
   "source": []
  }
 ],
 "metadata": {
  "kernelspec": {
   "display_name": "venv",
   "language": "python",
   "name": "python3"
  },
  "language_info": {
   "codemirror_mode": {
    "name": "ipython",
    "version": 3
   },
   "file_extension": ".py",
   "mimetype": "text/x-python",
   "name": "python",
   "nbconvert_exporter": "python",
   "pygments_lexer": "ipython3",
   "version": "3.11.9"
  }
 },
 "nbformat": 4,
 "nbformat_minor": 5
}
